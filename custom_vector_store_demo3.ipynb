{
 "cells": [
  {
   "cell_type": "markdown",
   "id": "9c0e01ec-9c28-49df-b0c5-7e90bf6abe0e",
   "metadata": {},
   "source": [
    "### Oracle Vector DB wrapped as a llama-index custom Vector Store\n",
    "\n",
    "* ispired by: https://docs.llamaindex.ai/en/stable/examples/low_level/vector_store.html\n",
    "* adding **reranker** after retrieval from Vector Store\n",
    "\n",
    "This demo shows how, **adding a reranker** after the retrieval from Vector Store, we can improve the list of documents retrieved.\n",
    "\n",
    "In this way, we can also reduce the Context size.\n",
    "\n",
    "In this demo we use **Cohere Reranker**."
   ]
  },
  {
   "cell_type": "code",
   "execution_count": 1,
   "id": "885d648a-548b-4f1e-930f-2d102f7d8f16",
   "metadata": {},
   "outputs": [
    {
     "name": "stderr",
     "output_type": "stream",
     "text": [
      "/Users/lsaetta/miniforge3/envs/rag_env01/lib/python3.9/site-packages/tqdm/auto.py:21: TqdmWarning: IProgress not found. Please update jupyter and ipywidgets. See https://ipywidgets.readthedocs.io/en/stable/user_install.html\n",
      "  from .autonotebook import tqdm as notebook_tqdm\n"
     ]
    }
   ],
   "source": [
    "import logging\n",
    "import sys\n",
    "\n",
    "from typing import List, Any, Optional, Dict, Tuple\n",
    "from llama_index.vector_stores.types import (\n",
    "    VectorStore,\n",
    "    VectorStoreQuery,\n",
    "    VectorStoreQueryResult,\n",
    ")\n",
    "from llama_index import StorageContext, VectorStoreIndex, ServiceContext\n",
    "from llama_index.schema import TextNode, BaseNode, Document\n",
    "from llama_index.postprocessor.cohere_rerank import CohereRerank\n",
    "\n",
    "import oci\n",
    "import ads\n",
    "\n",
    "# only\n",
    "import oracledb\n",
    "from oci_utils import load_oci_config\n",
    "from ads.llm import GenerativeAIEmbeddings, GenerativeAI\n",
    "from oracle_vector_db import OracleVectorStore\n",
    "\n",
    "from config import EMBED_MODEL\n",
    "from config_private import COMPARTMENT_OCID, ENDPOINT, COHERE_API_KEY"
   ]
  },
  {
   "cell_type": "code",
   "execution_count": 2,
   "id": "3504c89a-fe91-40bd-b453-29d9ab2ed2ef",
   "metadata": {},
   "outputs": [
    {
     "name": "stdout",
     "output_type": "stream",
     "text": [
      "oracledb version: 2.0.0.dev20231121\n",
      "oci version: 2.119.1\n"
     ]
    }
   ],
   "source": [
    "# version I'm using\n",
    "print(f\"oracledb version: {oracledb.__version__}\")\n",
    "print(f\"oci version: {oci.__version__}\")"
   ]
  },
  {
   "cell_type": "code",
   "execution_count": 3,
   "id": "3cf2241f-f99c-4ce0-b3f5-cb176858840f",
   "metadata": {},
   "outputs": [],
   "source": [
    "# for debugging\n",
    "# logging.basicConfig(stream=sys.stdout, level=logging.DEBUG)\n",
    "# logging.getLogger().addHandler(logging.StreamHandler(stream=sys.stdout))"
   ]
  },
  {
   "cell_type": "code",
   "execution_count": 4,
   "id": "77816119-932c-4e18-8011-1e3b02503120",
   "metadata": {},
   "outputs": [],
   "source": [
    "# setup\n",
    "oci_config = load_oci_config()\n",
    "\n",
    "# need to do this way\n",
    "api_keys_config = ads.auth.api_keys(oci_config)\n",
    "\n",
    "# english, or for other language use: multilingual\n",
    "# EMBED_MODEL  from config\n",
    "\n",
    "embed_model = GenerativeAIEmbeddings(\n",
    "    compartment_id=COMPARTMENT_OCID,\n",
    "    model=EMBED_MODEL,\n",
    "    auth=ads.auth.api_keys(oci_config),\n",
    "    # Optionally you can specify keyword arguments for the OCI client, e.g. service_endpoint.\n",
    "    client_kwargs={\"service_endpoint\": ENDPOINT},\n",
    ")\n",
    "\n",
    "# adding Cohere reranker\n",
    "cohere_rerank = CohereRerank(api_key=COHERE_API_KEY, top_n=4)"
   ]
  },
  {
   "cell_type": "code",
   "execution_count": 5,
   "id": "de838d89-9c3c-4e93-8712-5219aac1d22c",
   "metadata": {},
   "outputs": [],
   "source": [
    "llm_oci = GenerativeAI(\n",
    "    compartment_id=COMPARTMENT_OCID,\n",
    "    max_tokens=1024,\n",
    "    # Optionally you can specify keyword arguments for the OCI client, e.g. service_endpoint.\n",
    "    client_kwargs={\"service_endpoint\": ENDPOINT},\n",
    ")"
   ]
  },
  {
   "cell_type": "code",
   "execution_count": 6,
   "id": "674633ec-639c-424d-b8f6-c9f42d4335d4",
   "metadata": {},
   "outputs": [],
   "source": [
    "v_store = OracleVectorStore(verbose=True)"
   ]
  },
  {
   "cell_type": "code",
   "execution_count": 7,
   "id": "55530b62-3421-4e88-9115-229e7a2775cf",
   "metadata": {},
   "outputs": [],
   "source": [
    "service_context = ServiceContext.from_defaults(llm=llm_oci, embed_model=embed_model)"
   ]
  },
  {
   "cell_type": "code",
   "execution_count": 8,
   "id": "9df12098-ac7c-457a-8671-2a274c721cad",
   "metadata": {},
   "outputs": [],
   "source": [
    "index = VectorStoreIndex.from_vector_store(\n",
    "    vector_store=v_store, service_context=service_context\n",
    ")"
   ]
  },
  {
   "cell_type": "code",
   "execution_count": 9,
   "id": "56669eda-fd5f-45f7-9791-5e5d55e5b038",
   "metadata": {},
   "outputs": [],
   "source": [
    "# added reranker to the chain\n",
    "query_engine = index.as_query_engine(\n",
    "    similarity_top_k=6,\n",
    "    # after the query on the Vector Store we do reranking\n",
    "    node_postprocessors=[cohere_rerank],\n",
    ")"
   ]
  },
  {
   "cell_type": "markdown",
   "id": "98531d22-fc7d-4575-965a-8b6685bdc7f2",
   "metadata": {},
   "source": [
    "#### Using the wrapper for the DB Vector Store"
   ]
  },
  {
   "cell_type": "code",
   "execution_count": 10,
   "id": "a113f279-17d2-48f4-b8b5-22cf383908fd",
   "metadata": {},
   "outputs": [],
   "source": [
    "question = \"What are the symptoms of Long Covid? Make a list.\""
   ]
  },
  {
   "cell_type": "code",
   "execution_count": 11,
   "id": "47efc350-857f-42dd-b5ee-8a1ccfbfff4c",
   "metadata": {},
   "outputs": [],
   "source": [
    "# embed the query using OCI GenAI\n",
    "query_embedding = embed_model.embed_documents([question])[0]\n",
    "\n",
    "#  wrap in llama-index\n",
    "query_obj = VectorStoreQuery(query_embedding=query_embedding, similarity_top_k=6)"
   ]
  },
  {
   "cell_type": "markdown",
   "id": "48309d0a-c4cc-404c-802f-0ee66f9df319",
   "metadata": {},
   "source": [
    "#### Use our Vector Store DB"
   ]
  },
  {
   "cell_type": "code",
   "execution_count": 12,
   "id": "dddc851e-3f74-4ad2-8c41-78a1aa2e8781",
   "metadata": {},
   "outputs": [
    {
     "name": "stderr",
     "output_type": "stream",
     "text": [
      "2024-02-02 11:13:43,893 - INFO - ---> Calling query on DB\n",
      "2024-02-02 11:13:44,134 - INFO - select: select V.id, C.CHUNK, C.PAGE_NUM, \n",
      "                            ROUND(VECTOR_DISTANCE(V.VEC, :1, DOT), 3) as d,\n",
      "                            B.NAME \n",
      "                            from VECTORS V, CHUNKS C, BOOKS B\n",
      "                            where C.ID = V.ID and\n",
      "                            C.BOOK_ID = B.ID\n",
      "                            order by d\n",
      "                            FETCH FIRST 6 ROWS ONLY\n",
      "2024-02-02 11:13:44,478 - INFO - Query duration: 0.6 sec.\n"
     ]
    },
    {
     "name": "stdout",
     "output_type": "stream",
     "text": [
      "CPU times: user 23.8 ms, sys: 9.92 ms, total: 33.8 ms\n",
      "Wall time: 587 ms\n"
     ]
    }
   ],
   "source": [
    "%%time\n",
    "\n",
    "q_result = v_store.query(query_obj)"
   ]
  },
  {
   "cell_type": "code",
   "execution_count": 13,
   "id": "7331d22c-0555-4a51-ac01-a2b595a15c5a",
   "metadata": {},
   "outputs": [
    {
     "name": "stdout",
     "output_type": "stream",
     "text": [
      "Dod. id: 77c85b21c1a77b9d03e2b141ed9b563824981f58d0f88f9c204cc9f12c26e288\n",
      "Similarity: 0.586\n",
      "COVID-19 Treatment Guidelines 88nlm.nih.gov/pubmed/32730233 . 69. Zimmermann P, Pittet LF, Curtis N. How common is long COVID in children and adolescents? Pediatr Infect Dis J . 2021;40(12):e482-e487. Available at: https://www.ncbi.nlm.nih.gov/pubmed/34870392 . 70. Zimmermann P, Pittet LF, Curtis N. Long COVID in children and adolescents. BMJ . 2022;376:o143. Available at: https://www.ncbi.nlm.nih.gov/pubmed/35058281 . 71. Molteni E, Sudre CH, Canas LS, et al. Illness duration and symptom profile in symptomatic UK school-aged children tested for SARS-CoV-2. Lancet Child Adolesc Health . 2021;5(10):708-718. Available at: https://www.ncbi.nlm.nih.gov/pubmed/34358472 . 72. Zheng YB, Zeng N, Yuan K, et al. Prevalence and risk factor for long COVID in children and adolescents: a meta-analysis and systematic review. J Infect Public Health . 2023;16(5):660-672. Available at: https://pubmed.ncbi.nlm.nih.gov/36931142/ . 73. Pinto Pereira SM, Mensah A, Nugawela MD, et al. Long COVID in children and youth after injection or reinfection with the Omicron variant: a prospective observational study. J Pediatr . 2023;Published online ahead of print. Available at: https://pubmed.ncbi.nlm.nih.gov/37172813/ . 74. Fainardi V , Meoli A, Chiopris G, et al. Long COVID in children and adolescents. Life (Basel) . 2022;12(2):285. Available at: https://www.ncbi.nlm.nih.gov/pubmed/35207572 . Downloaded from on 1/4/2024 https://www.covid19treatmentguidelines.nih.gov/\n",
      "\n",
      "Dod. id: ff33a2be7b0c5219dba8466875f0006e4b4c889d326ac8111dc1edd7129f1848\n",
      "Similarity: 0.534\n",
      "Index 571 Chronic obstructive pulmonary disease (COPD), 10, 48 Chronic pancreatitis, 73Chronic pelvic pain, 453Chronic serous otitis media, 535Chronic tubulointerstitial nephritis, 331 Chronic urate nephropathy, 349Chronic venous insufﬁciency, 18Chronic viral hepatitis, 100Churg-Strauss vasculitis, 154Chvostek’s sign, 189 in hypocalcemia, 315in respiratory alkalosis, 323 CIN, 292Cirrhosis general discussion of, 101primary biliary, 105 Classic migraine, 360Clear cell type renal cell carcinoma, 305 Clostridial myonecrosis, 211Clostridium botulinum, 205 Clostridium difﬁcile colitis, 74 Clostridium perfringens, 211 Clostridium tetani, 237 CMV disease, 270CNS lymphoma, 290Cocaine poisoning, 541Coccidioides immitis, 242 Coccidioidomycosis, 241Coccidiosis, 259Cold, common, 539Colic, 483Colitis Clostridium difﬁcile, 74 ischemic, 477pseudomembranous, 74ulcerative, 89 Colonic pseudo-obstruction, acute, 67 Colorado tick fever, 269Colorectal carcinoma, 293Colorectal polyps, 88Coma hyperosmotic nonketotic diabetic, 185 myxedema, 179 Combined system disease, 353Comedones, 400Common cold, 539Common migraine, 360Common pattern baldness, 404Common warts, 409Completed abortion, 465Complex regional pain syndrome, 169 Compulsions, 390Conductive hearing loss, 376Condyloma lata, 235Condylomata acuminata, 421Congenital adrenal hyperplasia, hirsutism and virilizationfrom, 183 Congenital nevi, 431Congestive heart failure, 15Conjunctivitis, acute, 509Conn’s syndrome, 196Constipation in adults, 372in children, 484 Constrictive pericarditis, 16Contact dermatitis, allergic, 402Contact lens intolerance, 512Conversion disorder, 397Copper-transporting enzyme defect, 508 Corneal ulceration, 515Cor pulmonale, 17Corrigan’s pulse, 7Cortisol, high, 184Corynebacterium diphtheriae, 212 Cough, chronic, 46Coxiella burnetii, 266 Crabs, 434CREST syndrome, 174Crohn’s disease arthritis with, 150general discussion of, 75 Croup, 485Cryoglobulinemia, 155Cryptococcosis, 243Cryptococcus neoformans, 243 Cryptogenic organizing pneumonia (COP), 49 Cryptosporidium, 259 Cushing’s syndrome, 184Cushing’s syndrome, ACTH–dependent hirsutism and virilization from, 183 hypercortisolism in, 184 Cutaneous candidiasis, 410Cutaneous Kaposi’s sarcoma, 411\n",
      "\n",
      "Dod. id: bd2d104b3530c57a4da01d7c47290f99fec80626d206fbab838f8ecb243001e1\n",
      "Similarity: 0.534\n",
      "COVID-19 Treatment Guidelines 33References 1. Centers for Disease Control and Prevention. Underlying medical conditions associated with higher risk for severe COVID-19: information for healthcare professionals. 2023. Available at: https://www.cdc.gov/ coronavirus/2019-ncov/hcp/clinical-care/underlyingconditions.html . Accessed October 17, 2023. 2. Rosenthal N, Cao Z, Gundrum J, Sianis J, Safo S. Risk factors associated with in-hospital mortality in a U.S. national sample of patients with COVID-19. JAMA Netw Open . 2020;3(12):e2029058. Available at: https:// www.ncbi.nlm.nih.gov/pubmed/33301018 . Downloaded from on 1/4/2024 https://www.covid19treatmentguidelines.nih.gov/\n",
      "\n",
      "Dod. id: f392692152edc879edc745ce81e58d1d554a2f4255983fde9e95330507fe5325\n",
      "Similarity: 0.52\n",
      "COVID-19 Treatment Guidelines 384metformin. A secondary endpoint in the COVID-OUT trial assessed the impact of metformin on the development of long COVID. Since there is no standardized definition for long COVID, the endpoint was based on whether the patient had been given this diagnosis by a health care provider during the 10 months of follow-up. The study reported lower rates of long COVID in the metformin arm than in the control arm.10 However, providing treatment options for long COVID is beyond the scope of the Guidelines. Although a secondary analysis of the COVID-OUT trial data demonstrated a benefit of metformin in patients with COVID-19, the results of the TOGETHER and COVID-OUT trials did not show a consistent benefit of metformin in these patients. Therefore, the Panel believes there is insufficient evidence to recommend either for or against the use of metformin for the treatment of COVID-19 in nonhospitalized patients. For more information on these trials, see Table 7c . References 1. Karam BS, Morris RS, Bramante CT, et al. mTOR inhibition in COVID-19: a commentary and review of efficacy in RNA viruses. J Med Virol . 2021;93(4):1843-1846. Available at: https://www.ncbi.nlm.nih.gov/ pubmed/33314219 . 2. Del Campo JA, García-Valdecasas M, Gil-Gómez A, et al. Simvastatin and metformin inhibit cell growth in hepatitis C virus infected cells via mTOR increasing PTEN and autophagy. PLoS One . 2018;13(1):e0191805. Available at: https://www.ncbi.nlm.nih.gov/pubmed/29385181 . 3. Postler TS, Peng V , Bhatt DM, Ghosh S. Metformin selectively dampens the acute inflammatory response through an AMPK-dependent mechanism. Sci Rep . 2021;11(1):18721. Available at: https://www.ncbi.nlm.nih.gov/pubmed/34548527 . 4. Xin G, Wei Z, Ji C, et al. Metformin uniquely prevents thrombosis by inhibiting platelet activation and mtDNA release. Sci Rep . 2016;6:36222. Available at: https://www.ncbi.nlm.nih.gov/pubmed/27805009 . 5. Li Y , Yang X, Yan P, Sun T, Zeng Z, Li S. Metformin in patients with COVID-19: a systematic review and meta-analysis. Front Med (Lausanne) . 2021;8:704666. Available at: https://www.ncbi.nlm.nih.gov/pubmed/34490296 . 6. Bramante CT, Buse J, Tamaritz L, et al. Outpatient metformin use is associated with reduced severity of COVID-19 disease in adults with overweight or obesity. J Med Virol . 2021;93(7):4273-4279. Available at: https://www.ncbi.nlm.nih.gov/pubmed/33580540 . 7. Luo P, Qiu L, Liu Y , et al. Metformin treatment was associated with decreased mortality in COVID-19 patients with diabetes in a retrospective analysis. Am J Trop Med Hyg . 2020;103(1):69-72. Available at: https://www.ncbi.nlm.nih.gov/pubmed/32446312 . 8. Reis G, Dos Santos Moreira Silva EA, Medeiros Silva DC, et al. Effect of early treatment with metformin on risk of emergency care and hospitalization among patients with COVID-19: the TOGETHER randomized platform clinical trial. Lancet Reg Health Am . 2022;6:100142. Available at: https://www.ncbi.nlm.nih.gov/pubmed/34927127 . 9. Bramante CT, Huling JD, Tignanelli CJ, et al. Randomized trial of metformin, ivermectin, and fluvoxamine for COVID-19. N Engl J Med . 2022;387(7):599-610. Available at: https://www.ncbi.nlm.nih.gov/pubmed/36070710 . 10. Bramante CT, Buse JB, Liebovitz DM, et al. Outpatient treatment of COVID-19 and incidence of postCOVID-19 condition over 10 months (COVID-OUT): a multicentre, randomised, quadruple-blind, parallel-group, Phase 3 trial. Lancet Infect Dis . 2023;23(10):1119-1129. Available at: https://www.ncbi.nlm. nih.gov/pubmed/37302406 . Downloaded from on 1/4/2024 https://www.covid19treatmentguidelines.nih.gov/\n",
      "\n",
      "Dod. id: 9058809f22cb9964b1bca0e88267302df509787865493dc2aad19ba718ed27b5\n",
      "Similarity: 0.509\n",
      "Index 593 Viral infections (Cont.): human immunodeﬁciency virus (HIV), 273 infectious mononucleosis, 274inﬂuenza, 275lymphocytic choriomeningitis, 276 measles, 277mumps, 278poliomyelitis, 279rabies, 280rhinitis, 539rubella, 281smallpox, 282varicella, 283yellow fever, 285 Virilizing diseases of women, 183Visceral leishmaniasis, 264Visuospatial problems, 374Vitamin B 6, 555 Vitamin B12deﬁciency, 144, 353 Vitiligo, 448von Recklinghausen’s disease, 507von Willebrand’s disease, 145Vulvar cancer, 308WWaldenström’s macroglobulinemia, 146 Warts common, 409genital, 421Wegener’s granulomatosis, 177Weight loss, involuntary, 380Whipple’s disease, 90Whisper test, 376Wickham’s striae, 425Wilms’ tumor, 499Wilson’s disease, 508Withdrawal alcohol, 382nicotine, 389opioid, 391 Withdrawal syndromes, 546Wolff-Parkinson-White syndrome, atrial ﬁbrillation in, 9 XXanthelasma, hyperlipidemia and, 521 Xanthomas, hyperlipidemia and, 521 YYellow fever, 285Yersinia pestis, 224 ZZenker’s diverticulum, 479Zollinger-Ellison syndrome duodenal ulcer from, 78general discussion of, 91 Zoster, 283, 449\n",
      "\n",
      "Dod. id: 61d662a5a8f6c9e559d49ff0dd89d32b068b288ec02a6fdb6bc523b397672eb8\n",
      "Similarity: 0.507\n",
      "568 Index Bacterial infections, 202-240 actinomycosis, 202anthrax, 203bacillary dysentery, 204botulism, 205brucellosis, 206campylobacter enteritis, 207cat-scratch disease, 208chancroid, 209cholera, 210clostridial myonecrosis, 211diphtheria, 212enteric fever, 213gonorrhea, 214granuloma inguinale, 215Legionnaires’ disease, 216leprosy, 217leptospirosis, 218Lyme disease, 219lymphogranuloma venereum, 220meningococcal meningitis, 221nocardiosis, 222pertussis, 223plague, 224pneumococcal infections, 225psittacosis, 226rat-bite fever, 227relapsing fever, 228Salmonella gastroenteritis, 229 staphylococcal soft tissue/skin infections, 230 Staphylococcus aureus –associated toxic shock syndrome, 231 streptococcal pharyngitis, 232streptococcal skin infection, 233syphilis primary, 234secondary, 235tertiary (late), 236 tetanus, 237tuberculosis, 238tuberculous meningitis, 239tularemia, 240 Bacterial meningitis, 482Bacterial prostatitis, 325Bacteriuria, asymptomatic, 336Bagassosis, 52Baldness, common pattern, 404Barrett’s esophagus, 70Bartonella henselae, 208 Basal cell carcinoma, 406Basilar migraine, 360Bed sores, 379Beef tapeworm, 254Behçet’s syndrome, 151Bell’s palsy, 351Benign intracranial hypertension, 367Benign nephrosclerosis, 340Benign paroxysmal positional vertigo, 534 Benign prostatic hyperplasia, 326Benign stricture of esophagus, 71Benzodiazepine poisoning, 546Berger’s disease, 341Berry aneurysm, 358Beta amyloid in Down’s patients, 486general discussion of, 148 β-human chorionic gonadotropin (β-hCG), in gestationaltrophoblastic neoplasia, 297 Beta-blocker poisoning, 547Beta-glucocerebrosidase deﬁciency, 503 Beta-thalassemia minor, 115Bilharziasis, 252Biliary cirrhosis, primary, 105Biliary tract malignant tumors, 286 Binge eating, 385Bipolar disorder, 384Bird fancier’s lung, 52Black cartilage, 501Bladder cancer, 287Bleeding abnormal uterine, 450subarachnoid hemorrhage, 358subconjunctival hemorrhage, 527variceal hemorrhage, 108 Blepharitis, 512Blood sugar high, 200, 201low, 188 Body dysmorphic disorder, 397Body lice, 434Boerhaave’s syndrome, 79Borderline personality disorder, 393 Bordetella pertussis, 223 Borrelia burgdorferi, 219 Borrelia recurrentis, 228 Botulism, 205Brain abscess, 352Breakbone fever, 271\n",
      "\n"
     ]
    }
   ],
   "source": [
    "for n, id, sim in zip(q_result.nodes, q_result.ids, q_result.similarities):\n",
    "    print(f\"Dod. id: {id}\")\n",
    "    print(f\"Similarity: {-sim}\")\n",
    "    print(n.text)\n",
    "    print(\"\")"
   ]
  },
  {
   "cell_type": "markdown",
   "id": "e811a520-bef5-4070-acaa-f5e4cf45d989",
   "metadata": {},
   "source": [
    "#### Integrate in the bigger RAG picture"
   ]
  },
  {
   "cell_type": "code",
   "execution_count": 14,
   "id": "bab5a533-2d39-4b9a-9347-e23823a8925b",
   "metadata": {},
   "outputs": [
    {
     "name": "stderr",
     "output_type": "stream",
     "text": [
      "2024-02-02 11:13:51,367 - INFO - ---> Calling query on DB\n",
      "2024-02-02 11:13:51,551 - INFO - select: select V.id, C.CHUNK, C.PAGE_NUM, \n",
      "                            ROUND(VECTOR_DISTANCE(V.VEC, :1, DOT), 3) as d,\n",
      "                            B.NAME \n",
      "                            from VECTORS V, CHUNKS C, BOOKS B\n",
      "                            where C.ID = V.ID and\n",
      "                            C.BOOK_ID = B.ID\n",
      "                            order by d\n",
      "                            FETCH FIRST 6 ROWS ONLY\n",
      "2024-02-02 11:13:51,883 - INFO - Query duration: 0.5 sec.\n",
      "2024-02-02 11:13:52,671 - WARNING - /Users/lsaetta/miniforge3/envs/rag_env01/lib/python3.9/site-packages/langchain_core/_api/deprecation.py:117: LangChainDeprecationWarning: The function `predict` was deprecated in LangChain 0.1.7 and will be removed in 0.2.0. Use invoke instead.\n",
      "  warn_deprecated(\n",
      "\n"
     ]
    },
    {
     "name": "stdout",
     "output_type": "stream",
     "text": [
      "Question: What are the symptoms of Long Covid? Make a list.\n",
      "According to the provided context, long COVID is a condition in children and adolescents that lasts longer than four weeks and is often characterized by symptoms such as fatigue, shortness of breath, and chest pain. Below is a list of common symptoms of long COVID based on the information provided: \n",
      "\n",
      "- Fatigue\n",
      "- Shortness of breath\n",
      "- Chest pain\n",
      "- Joint pain\n",
      "- Headache\n",
      "- Dizziness\n",
      "- Brain fog\n",
      "- Insomnia\n",
      "- Gastrointestinal issues\n",
      "\n",
      "Would you like to know more about any of these symptoms? \n",
      "\n",
      "CPU times: user 278 ms, sys: 97.7 ms, total: 376 ms\n",
      "Wall time: 7.93 s\n"
     ]
    }
   ],
   "source": [
    "%%time\n",
    "\n",
    "response = query_engine.query(question)\n",
    "\n",
    "print(f\"Question: {question}\")\n",
    "print(response.response)\n",
    "print(\"\")"
   ]
  },
  {
   "cell_type": "markdown",
   "id": "1b61027b-1244-41d6-ab7c-1819e587f9b4",
   "metadata": {},
   "source": [
    "#### pages with metadata (page_num)"
   ]
  },
  {
   "cell_type": "code",
   "execution_count": 15,
   "id": "0472406f-5479-4691-8bbc-a5d488cdb8c1",
   "metadata": {},
   "outputs": [
    {
     "name": "stdout",
     "output_type": "stream",
     "text": [
      "COVID-19 Treatment Guidelines 88nlm.nih.gov/pubmed/32730233 . 69. Zimmermann P, Pittet LF, Curtis N. How common is long COVID in children and adolescents? Pediatr Infect Dis J . 2021;40(12):e482-e487. Available at: https://www.ncbi.nlm.nih.gov/pubmed/34870392 . 70. Zimmermann P, Pittet LF, Curtis N. Long COVID in children and adolescents. BMJ . 2022;376:o143. Available at: https://www.ncbi.nlm.nih.gov/pubmed/35058281 . 71. Molteni E, Sudre CH, Canas LS, et al. Illness duration and symptom profile in symptomatic UK school-aged children tested for SARS-CoV-2. Lancet Child Adolesc Health . 2021;5(10):708-718. Available at: https://www.ncbi.nlm.nih.gov/pubmed/34358472 . 72. Zheng YB, Zeng N, Yuan K, et al. Prevalence and risk factor for long COVID in children and adolescents: a meta-analysis and systematic review. J Infect Public Health . 2023;16(5):660-672. Available at: https://pubmed.ncbi.nlm.nih.gov/36931142/ . 73. Pinto Pereira SM, Mensah A, Nugawela MD, et al. Long COVID in children and youth after injection or reinfection with the Omicron variant: a prospective observational study. J Pediatr . 2023;Published online ahead of print. Available at: https://pubmed.ncbi.nlm.nih.gov/37172813/ . 74. Fainardi V , Meoli A, Chiopris G, et al. Long COVID in children and adolescents. Life (Basel) . 2022;12(2):285. Available at: https://www.ncbi.nlm.nih.gov/pubmed/35207572 . Downloaded from on 1/4/2024 https://www.covid19treatmentguidelines.nih.gov/\n",
      "pag:88\n",
      "\n",
      "COVID-19 Treatment Guidelines 384metformin. A secondary endpoint in the COVID-OUT trial assessed the impact of metformin on the development of long COVID. Since there is no standardized definition for long COVID, the endpoint was based on whether the patient had been given this diagnosis by a health care provider during the 10 months of follow-up. The study reported lower rates of long COVID in the metformin arm than in the control arm.10 However, providing treatment options for long COVID is beyond the scope of the Guidelines. Although a secondary analysis of the COVID-OUT trial data demonstrated a benefit of metformin in patients with COVID-19, the results of the TOGETHER and COVID-OUT trials did not show a consistent benefit of metformin in these patients. Therefore, the Panel believes there is insufficient evidence to recommend either for or against the use of metformin for the treatment of COVID-19 in nonhospitalized patients. For more information on these trials, see Table 7c . References 1. Karam BS, Morris RS, Bramante CT, et al. mTOR inhibition in COVID-19: a commentary and review of efficacy in RNA viruses. J Med Virol . 2021;93(4):1843-1846. Available at: https://www.ncbi.nlm.nih.gov/ pubmed/33314219 . 2. Del Campo JA, García-Valdecasas M, Gil-Gómez A, et al. Simvastatin and metformin inhibit cell growth in hepatitis C virus infected cells via mTOR increasing PTEN and autophagy. PLoS One . 2018;13(1):e0191805. Available at: https://www.ncbi.nlm.nih.gov/pubmed/29385181 . 3. Postler TS, Peng V , Bhatt DM, Ghosh S. Metformin selectively dampens the acute inflammatory response through an AMPK-dependent mechanism. Sci Rep . 2021;11(1):18721. Available at: https://www.ncbi.nlm.nih.gov/pubmed/34548527 . 4. Xin G, Wei Z, Ji C, et al. Metformin uniquely prevents thrombosis by inhibiting platelet activation and mtDNA release. Sci Rep . 2016;6:36222. Available at: https://www.ncbi.nlm.nih.gov/pubmed/27805009 . 5. Li Y , Yang X, Yan P, Sun T, Zeng Z, Li S. Metformin in patients with COVID-19: a systematic review and meta-analysis. Front Med (Lausanne) . 2021;8:704666. Available at: https://www.ncbi.nlm.nih.gov/pubmed/34490296 . 6. Bramante CT, Buse J, Tamaritz L, et al. Outpatient metformin use is associated with reduced severity of COVID-19 disease in adults with overweight or obesity. J Med Virol . 2021;93(7):4273-4279. Available at: https://www.ncbi.nlm.nih.gov/pubmed/33580540 . 7. Luo P, Qiu L, Liu Y , et al. Metformin treatment was associated with decreased mortality in COVID-19 patients with diabetes in a retrospective analysis. Am J Trop Med Hyg . 2020;103(1):69-72. Available at: https://www.ncbi.nlm.nih.gov/pubmed/32446312 . 8. Reis G, Dos Santos Moreira Silva EA, Medeiros Silva DC, et al. Effect of early treatment with metformin on risk of emergency care and hospitalization among patients with COVID-19: the TOGETHER randomized platform clinical trial. Lancet Reg Health Am . 2022;6:100142. Available at: https://www.ncbi.nlm.nih.gov/pubmed/34927127 . 9. Bramante CT, Huling JD, Tignanelli CJ, et al. Randomized trial of metformin, ivermectin, and fluvoxamine for COVID-19. N Engl J Med . 2022;387(7):599-610. Available at: https://www.ncbi.nlm.nih.gov/pubmed/36070710 . 10. Bramante CT, Buse JB, Liebovitz DM, et al. Outpatient treatment of COVID-19 and incidence of postCOVID-19 condition over 10 months (COVID-OUT): a multicentre, randomised, quadruple-blind, parallel-group, Phase 3 trial. Lancet Infect Dis . 2023;23(10):1119-1129. Available at: https://www.ncbi.nlm. nih.gov/pubmed/37302406 . Downloaded from on 1/4/2024 https://www.covid19treatmentguidelines.nih.gov/\n",
      "pag:384\n",
      "\n",
      "COVID-19 Treatment Guidelines 33References 1. Centers for Disease Control and Prevention. Underlying medical conditions associated with higher risk for severe COVID-19: information for healthcare professionals. 2023. Available at: https://www.cdc.gov/ coronavirus/2019-ncov/hcp/clinical-care/underlyingconditions.html . Accessed October 17, 2023. 2. Rosenthal N, Cao Z, Gundrum J, Sianis J, Safo S. Risk factors associated with in-hospital mortality in a U.S. national sample of patients with COVID-19. JAMA Netw Open . 2020;3(12):e2029058. Available at: https:// www.ncbi.nlm.nih.gov/pubmed/33301018 . Downloaded from on 1/4/2024 https://www.covid19treatmentguidelines.nih.gov/\n",
      "pag:33\n",
      "\n",
      "568 Index Bacterial infections, 202-240 actinomycosis, 202anthrax, 203bacillary dysentery, 204botulism, 205brucellosis, 206campylobacter enteritis, 207cat-scratch disease, 208chancroid, 209cholera, 210clostridial myonecrosis, 211diphtheria, 212enteric fever, 213gonorrhea, 214granuloma inguinale, 215Legionnaires’ disease, 216leprosy, 217leptospirosis, 218Lyme disease, 219lymphogranuloma venereum, 220meningococcal meningitis, 221nocardiosis, 222pertussis, 223plague, 224pneumococcal infections, 225psittacosis, 226rat-bite fever, 227relapsing fever, 228Salmonella gastroenteritis, 229 staphylococcal soft tissue/skin infections, 230 Staphylococcus aureus –associated toxic shock syndrome, 231 streptococcal pharyngitis, 232streptococcal skin infection, 233syphilis primary, 234secondary, 235tertiary (late), 236 tetanus, 237tuberculosis, 238tuberculous meningitis, 239tularemia, 240 Bacterial meningitis, 482Bacterial prostatitis, 325Bacteriuria, asymptomatic, 336Bagassosis, 52Baldness, common pattern, 404Barrett’s esophagus, 70Bartonella henselae, 208 Basal cell carcinoma, 406Basilar migraine, 360Bed sores, 379Beef tapeworm, 254Behçet’s syndrome, 151Bell’s palsy, 351Benign intracranial hypertension, 367Benign nephrosclerosis, 340Benign paroxysmal positional vertigo, 534 Benign prostatic hyperplasia, 326Benign stricture of esophagus, 71Benzodiazepine poisoning, 546Berger’s disease, 341Berry aneurysm, 358Beta amyloid in Down’s patients, 486general discussion of, 148 β-human chorionic gonadotropin (β-hCG), in gestationaltrophoblastic neoplasia, 297 Beta-blocker poisoning, 547Beta-glucocerebrosidase deﬁciency, 503 Beta-thalassemia minor, 115Bilharziasis, 252Biliary cirrhosis, primary, 105Biliary tract malignant tumors, 286 Binge eating, 385Bipolar disorder, 384Bird fancier’s lung, 52Black cartilage, 501Bladder cancer, 287Bleeding abnormal uterine, 450subarachnoid hemorrhage, 358subconjunctival hemorrhage, 527variceal hemorrhage, 108 Blepharitis, 512Blood sugar high, 200, 201low, 188 Body dysmorphic disorder, 397Body lice, 434Boerhaave’s syndrome, 79Borderline personality disorder, 393 Bordetella pertussis, 223 Borrelia burgdorferi, 219 Borrelia recurrentis, 228 Botulism, 205Brain abscess, 352Breakbone fever, 271\n",
      "pag:568\n",
      "\n"
     ]
    }
   ],
   "source": [
    "for node in response.source_nodes:\n",
    "    print(f\"{node.text}\\npag:{node.metadata['page_label']}\\n\")"
   ]
  },
  {
   "cell_type": "code",
   "execution_count": null,
   "id": "713ecb04-77eb-4c3c-8449-468401df54e0",
   "metadata": {},
   "outputs": [],
   "source": []
  }
 ],
 "metadata": {
  "kernelspec": {
   "display_name": "Python 3 (ipykernel)",
   "language": "python",
   "name": "python3"
  },
  "language_info": {
   "codemirror_mode": {
    "name": "ipython",
    "version": 3
   },
   "file_extension": ".py",
   "mimetype": "text/x-python",
   "name": "python",
   "nbconvert_exporter": "python",
   "pygments_lexer": "ipython3",
   "version": "3.9.18"
  }
 },
 "nbformat": 4,
 "nbformat_minor": 5
}
