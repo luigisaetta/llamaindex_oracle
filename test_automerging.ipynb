{
 "cells": [
  {
   "cell_type": "code",
   "execution_count": 2,
   "id": "e038a38d-a638-49ff-8648-20033259762e",
   "metadata": {},
   "outputs": [],
   "source": [
    "import logging\n",
    "import sys\n",
    "\n",
    "from typing import List, Any, Optional, Dict, Tuple\n",
    "from llama_index.vector_stores.types import (\n",
    "    VectorStore,\n",
    "    VectorStoreQuery,\n",
    "    VectorStoreQueryResult,\n",
    ")\n",
    "from llama_index.node_parser import (\n",
    "    HierarchicalNodeParser,\n",
    "    SentenceSplitter,\n",
    ")\n",
    "\n",
    "from llama_index import StorageContext, VectorStoreIndex, ServiceContext\n",
    "from llama_index.storage.docstore import SimpleDocumentStore\n",
    "from llama_index.schema import TextNode, BaseNode, Document\n",
    "from llama_index import SimpleDirectoryReader\n",
    "from llama_index.retrievers.auto_merging_retriever import AutoMergingRetriever\n",
    "from llama_index.query_engine import RetrieverQueryEngine\n",
    "from llama_index.node_parser import get_leaf_nodes, get_root_nodes\n",
    "from llama_index.response.notebook_utils import display_source_node\n",
    "\n",
    "import oci\n",
    "import ads\n",
    "from ads.llm import GenerativeAIEmbeddings, GenerativeAI\n",
    "import oracledb\n",
    "\n",
    "from config import INPUT_FILES\n",
    "from config_private import COMPARTMENT_OCID, ENDPOINT\n",
    "\n",
    "from oci_utils import load_oci_config\n",
    "\n",
    "#this is the class realized for the integration with Llama-index\n",
    "from oracle_vector_db import OracleVectorStore"
   ]
  },
  {
   "cell_type": "code",
   "execution_count": 3,
   "id": "2b097ece-da4e-400f-87c4-91aaa90472ae",
   "metadata": {},
   "outputs": [],
   "source": [
    "# setup\n",
    "oci_config = load_oci_config()\n",
    "\n",
    "# need to do this way\n",
    "api_keys_config = ads.auth.api_keys(oci_config)\n",
    "\n",
    "# english, or for other language use: multilingual\n",
    "MODEL_NAME = \"cohere.embed-english-v3.0\"\n",
    "\n",
    "embed_model = GenerativeAIEmbeddings(\n",
    "    compartment_id=COMPARTMENT_OCID,\n",
    "    model=MODEL_NAME,\n",
    "    auth=ads.auth.api_keys(oci_config),\n",
    "    # Optionally you can specify keyword arguments for the OCI client, e.g. service_endpoint.\n",
    "    client_kwargs={\n",
    "        \"service_endpoint\": ENDPOINT\n",
    "    },\n",
    ")"
   ]
  },
  {
   "cell_type": "code",
   "execution_count": 4,
   "id": "e08baa41-eb9a-4c1d-a464-52a1baec2f97",
   "metadata": {},
   "outputs": [],
   "source": [
    "pages = SimpleDirectoryReader(input_files=[\"./oracle-database-23c-new-features-guide.pdf\"]).load_data()"
   ]
  },
  {
   "cell_type": "code",
   "execution_count": 5,
   "id": "ae27af67-eeb7-44ce-aa6e-f06a4a197e57",
   "metadata": {},
   "outputs": [],
   "source": [
    "doc_text = \"\\n\\n\".join([d.get_content() for d in pages])\n",
    "docs = [Document(text=doc_text)]"
   ]
  },
  {
   "cell_type": "code",
   "execution_count": 6,
   "id": "5e67a7a6-6b60-400c-ab07-b55fb0bb675c",
   "metadata": {},
   "outputs": [],
   "source": [
    "chunk_sizes = [2048, 512, 256]\n",
    "\n",
    "node_parser = HierarchicalNodeParser.from_defaults(chunk_sizes)\n",
    "nodes = node_parser.get_nodes_from_documents(docs)"
   ]
  },
  {
   "cell_type": "code",
   "execution_count": 7,
   "id": "2a3b6503-8a2a-4ba0-8e3f-51e0fb18be1e",
   "metadata": {},
   "outputs": [
    {
     "data": {
      "text/plain": [
       "319"
      ]
     },
     "execution_count": 7,
     "metadata": {},
     "output_type": "execute_result"
    }
   ],
   "source": [
    "len(nodes)"
   ]
  },
  {
   "cell_type": "code",
   "execution_count": 8,
   "id": "6a62754a-acf8-4d15-a96a-e63f4b812f6f",
   "metadata": {},
   "outputs": [
    {
     "data": {
      "text/plain": [
       "208"
      ]
     },
     "execution_count": 8,
     "metadata": {},
     "output_type": "execute_result"
    }
   ],
   "source": [
    "leaf_nodes = get_leaf_nodes(nodes)\n",
    "\n",
    "len(leaf_nodes)"
   ]
  },
  {
   "cell_type": "code",
   "execution_count": 9,
   "id": "47275ae6-8393-4039-a05e-3fb199a0bfc5",
   "metadata": {},
   "outputs": [],
   "source": [
    "v_store = OracleVectorStore(verbose=True)"
   ]
  },
  {
   "cell_type": "code",
   "execution_count": 10,
   "id": "954d3073-0895-4408-8520-eebd8b48e4e0",
   "metadata": {},
   "outputs": [],
   "source": [
    "llm_oci = GenerativeAI(\n",
    "    compartment_id=COMPARTMENT_OCID,\n",
    "    max_tokens=1024,\n",
    "    # Optionally you can specify keyword arguments for the OCI client, e.g. service_endpoint.\n",
    "    client_kwargs={\n",
    "        \"service_endpoint\": ENDPOINT\n",
    "    },\n",
    ")"
   ]
  },
  {
   "cell_type": "code",
   "execution_count": 11,
   "id": "a2b384fc-0568-4f78-8321-3b7cef3af9f6",
   "metadata": {},
   "outputs": [],
   "source": [
    "service_context = ServiceContext.from_defaults(llm=llm_oci, embed_model=embed_model)\n",
    "storage_context = StorageContext.from_defaults(vector_store=v_store)\n",
    "storage_context.docstore.add_documents(nodes)"
   ]
  },
  {
   "cell_type": "code",
   "execution_count": 12,
   "id": "978ffd09-9fdc-4f4a-afa9-d42e551eb7c7",
   "metadata": {},
   "outputs": [
    {
     "data": {
      "application/vnd.jupyter.widget-view+json": {
       "model_id": "c3f67c789ad847dfabb003c1ddd2a29e",
       "version_major": 2,
       "version_minor": 0
      },
      "text/plain": [
       "Generating embeddings:   0%|          | 0/208 [00:00<?, ?it/s]"
      ]
     },
     "metadata": {},
     "output_type": "display_data"
    }
   ],
   "source": [
    "base_index = VectorStoreIndex(leaf_nodes,\n",
    "    storage_context=storage_context,\n",
    "    service_context=service_context,\n",
    "    show_progress=True\n",
    ")"
   ]
  },
  {
   "cell_type": "code",
   "execution_count": 17,
   "id": "84df1697-047a-4365-a0f6-ebd29a0b5c24",
   "metadata": {},
   "outputs": [
    {
     "name": "stderr",
     "output_type": "stream",
     "text": [
      "2023-12-19 15:37:29,864 - INFO - Persisting to DB...\n",
      "2023-12-19 15:37:30,163 - INFO - Saving embeddings to DB...\n",
      "100%|██████████████████████████████████████████████████████████████████████████████████████████████████████████████████| 208/208 [00:18<00:00, 11.21it/s]\n",
      "2023-12-19 15:37:48,732 - INFO - Saving texts to DB...\n",
      "100%|██████████████████████████████████████████████████████████████████████████████████████████████████████████████████| 208/208 [00:30<00:00,  6.81it/s]\n"
     ]
    }
   ],
   "source": [
    "# before query, we need this\n",
    "base_index.vector_store.persist()"
   ]
  },
  {
   "cell_type": "code",
   "execution_count": 18,
   "id": "9b483ec9-3e97-461f-90c6-5623e679eba3",
   "metadata": {},
   "outputs": [],
   "source": [
    "base_retriever = base_index.as_retriever(similarity_top_k=10, verbose=True)\n",
    "\n",
    "retriever = AutoMergingRetriever(base_retriever, storage_context, verbose=True)"
   ]
  },
  {
   "cell_type": "code",
   "execution_count": 19,
   "id": "49cfb564-6453-4a97-a07e-ada3cb62fd38",
   "metadata": {},
   "outputs": [],
   "source": [
    "query_engine = RetrieverQueryEngine.from_args(retriever, service_context=service_context)"
   ]
  },
  {
   "cell_type": "code",
   "execution_count": 21,
   "id": "43e30a23-b91d-46e2-9162-f78afaded820",
   "metadata": {},
   "outputs": [
    {
     "name": "stderr",
     "output_type": "stream",
     "text": [
      "2023-12-19 15:39:20,056 - INFO - ---> Calling query on DB\n"
     ]
    },
    {
     "name": "stdout",
     "output_type": "stream",
     "text": [
      "select: select V.id, C.CHUNK, ROUND(VECTOR_DISTANCE(V.VEC, :1, DOT), 3)\n",
      "                            as d from VECTORS V, CHUNKS C\n",
      "                            where C.ID = V.ID\n",
      "                            order by d\n",
      "                            FETCH FIRST 10 ROWS ONLY\n"
     ]
    },
    {
     "name": "stderr",
     "output_type": "stream",
     "text": [
      "2023-12-19 15:39:21,002 - INFO - Query duration: 0.9 sec.\n"
     ]
    },
    {
     "name": "stdout",
     "output_type": "stream",
     "text": [
      "Question: Write an email where you highlight advantage coming from the adoption of Data Guard for Disaster Recovery?\n",
      "Dear [Insert Name],\n",
      "\n",
      "I would like to bring to your attention the advantages of using Data Guard for disaster recovery. Data Guard is an essential component of any enterprise-level database management system, particularly for Oracle databases. Here are some key benefits of adopting Data Guard:\n",
      "\n",
      "1. Increases Fault Tolerance and High Availability: Implementing Data Guard ensures that your database can continue operating even in the event of a failure. It provides a reliable backup system that enables continuous data availability and minimizes downtime. With Data Guard, your database can withstand failures such as server crashes, network issues, or even data corruption.\n",
      "\n",
      "2. Enhances Scalability: Data Guard facilitates the distribution of data across multiple databases, a process known as sharding. This feature improves scalability by allowing databases to handle increased data volumes efficiently. It divides the workload across multiple databases, preventing any single database from becoming overwhelmed and ensuring optimal performance even as your data grows.\n",
      "\n",
      "3. Provides a Robust Security Framework: Data Guard offers enhanced security features that protect your data from various threats. It employs industry-standard encryption mechanisms to secure data during transmission and storage. Additionally, it includes features like SQL injection protection, access control, and credential management, thereby minimizing the risk of unauthorized data access and ensuring compliance with privacy and security regulations.\n",
      "\n",
      "4. Facilitates Easy Data Loading: When using Data Guard, you can effortlessly load substantial amounts of data into your database columns, particularly those of the JSON type. This feature simplifies the process of data ingestion and updates, eliminating the need for complex coding or additional tools.\n",
      "\n",
      "5. Enables Reliable XA Transactions: Data Guard ensures the consistency and integrity of your data by supporting reliable XA transactions in sharded databases. With this feature, you can perform complex transactions across multiple databases while maintaining data accuracy and coherence.\n",
      "\n",
      "By adopting Data Guard, you can leverage these advantages to build a robust and resilient database architecture. Data Guard's enterprise-grade capabilities enhance both security and performance, making it an essential component for ensuring data integrity, high availability, and scalability in your database operations.\n",
      "\n",
      "If you have any questions or would like to discuss this further, please do not hesitate to contact me.\n",
      "\n",
      "Best regards,\n",
      "\n",
      "[Your Name]\n",
      "\n",
      "Is there anything else I can help you with? \n",
      "\n",
      "CPU times: user 108 ms, sys: 14.4 ms, total: 123 ms\n",
      "Wall time: 17.7 s\n"
     ]
    }
   ],
   "source": [
    "%%time\n",
    "\n",
    "question = \"Write an email where you highlight advantage coming from the adoption of Data Guard for Disaster Recovery?\"\n",
    "\n",
    "response = query_engine.query(question)\n",
    "\n",
    "print(f\"Question: {question}\") \n",
    "print(response.response)\n",
    "print(\"\")"
   ]
  },
  {
   "cell_type": "code",
   "execution_count": null,
   "id": "cc5d6d36-4981-443b-9f23-5f6eee1db27a",
   "metadata": {},
   "outputs": [],
   "source": []
  }
 ],
 "metadata": {
  "kernelspec": {
   "display_name": "Python 3 (ipykernel)",
   "language": "python",
   "name": "python3"
  },
  "language_info": {
   "codemirror_mode": {
    "name": "ipython",
    "version": 3
   },
   "file_extension": ".py",
   "mimetype": "text/x-python",
   "name": "python",
   "nbconvert_exporter": "python",
   "pygments_lexer": "ipython3",
   "version": "3.9.0"
  }
 },
 "nbformat": 4,
 "nbformat_minor": 5
}
