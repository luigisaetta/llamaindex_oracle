{
 "cells": [
  {
   "cell_type": "markdown",
   "id": "894512d7-0509-470d-98af-569eeb86babc",
   "metadata": {},
   "source": [
    "### Reranker from OCI Model Deployment\n",
    "* https://github.com/run-llama/llama_index/blob/main/llama_index/postprocessor/cohere_rerank.py"
   ]
  },
  {
   "cell_type": "code",
   "execution_count": 1,
   "id": "da55f0ee-dfd1-4de5-952c-4dc9041fc1f3",
   "metadata": {},
   "outputs": [],
   "source": [
    "import ads\n",
    "\n",
    "from oci_utils import load_oci_config\n",
    "\n",
    "from llama_index.schema import NodeWithScore, TextNode, QueryBundle\n",
    "\n",
    "from oci_baai_reranker import OCIBAAIReranker\n",
    "from config import RERANKER_ID"
   ]
  },
  {
   "cell_type": "code",
   "execution_count": 2,
   "id": "8bdc43ee-d50e-4d5a-b3c5-7e3854291c83",
   "metadata": {},
   "outputs": [],
   "source": [
    "# this is the ID of the Model deployment\n",
    "ID = RERANKER_ID"
   ]
  },
  {
   "cell_type": "code",
   "execution_count": 3,
   "id": "976f0aa7-2f19-4a35-8331-d01c33d556c6",
   "metadata": {},
   "outputs": [],
   "source": [
    "# load API keys from my config\n",
    "oci_config = load_oci_config()\n",
    "\n",
    "# need to do this way\n",
    "api_keys_config = ads.auth.api_keys(oci_config)"
   ]
  },
  {
   "cell_type": "code",
   "execution_count": 4,
   "id": "368e3ca2-adcb-4cfe-ae99-3c137e03e6e5",
   "metadata": {},
   "outputs": [
    {
     "name": "stderr",
     "output_type": "stream",
     "text": [
      "2024-01-02 10:58:56,496 - INFO - Created OCI reranker client...\n",
      "2024-01-02 10:58:56,497 - INFO - Region: eu-frankfurt-1...\n",
      "2024-01-02 10:58:56,497 - INFO - Deployment id: ocid1.datasciencemodeldeployment.oc1.eu-frankfurt-1.amaaaaaangencdyaokm6zawt3akgu3lr7u4hm4o4zrr64emfr3vi2qmzw2xa...\n"
     ]
    }
   ],
   "source": [
    "reranker = OCIBAAIReranker(\n",
    "    auth=api_keys_config, deployment_id=ID, region=\"eu-frankfurt-1\"\n",
    ")"
   ]
  },
  {
   "cell_type": "markdown",
   "id": "f86f253a-98df-4312-922b-b789b1efc398",
   "metadata": {},
   "source": [
    "#### test the interface"
   ]
  },
  {
   "cell_type": "code",
   "execution_count": 5,
   "id": "69b2bfab-4c2e-4609-97fb-95dc7b2c44e9",
   "metadata": {},
   "outputs": [],
   "source": [
    "query = \"what is a panda?\"\n",
    "\n",
    "texts = [\n",
    "    \"World president\",\n",
    "    \"The giant panda is a bear species endemic to China.\",\n",
    "    \"It is a black and white animal endemic to China\",\n",
    "]"
   ]
  },
  {
   "cell_type": "code",
   "execution_count": 6,
   "id": "bb54f922-72ac-4a65-b343-09d08a83afdb",
   "metadata": {},
   "outputs": [
    {
     "name": "stdout",
     "output_type": "stream",
     "text": [
      "CPU times: user 20.6 ms, sys: 4.47 ms, total: 25 ms\n",
      "Wall time: 494 ms\n"
     ]
    }
   ],
   "source": [
    "%%time\n",
    "\n",
    "# evaluate texts against the query\n",
    "response = reranker.rerank(query, texts)"
   ]
  },
  {
   "cell_type": "code",
   "execution_count": 7,
   "id": "e704031b-9878-4307-abb9-c1c7c4191f79",
   "metadata": {},
   "outputs": [
    {
     "data": {
      "text/plain": [
       "[{'text': 'The giant panda is a bear species endemic to China.',\n",
       "  'index': 1,\n",
       "  'relevance_score': 4.247812747955322},\n",
       " {'text': 'It is a black and white animal endemic to China',\n",
       "  'index': 2,\n",
       "  'relevance_score': 1.590875506401062}]"
      ]
     },
     "execution_count": 7,
     "metadata": {},
     "output_type": "execute_result"
    }
   ],
   "source": [
    "response"
   ]
  },
  {
   "cell_type": "markdown",
   "id": "80bce352-b80f-43e4-b55b-42703d40f0fb",
   "metadata": {},
   "source": [
    "* the first text is removed (top_n=2)\n",
    "* strings are returned in decreasing relevance"
   ]
  },
  {
   "cell_type": "markdown",
   "id": "a6f5732f-872a-4a96-86cd-71884f86faee",
   "metadata": {},
   "source": [
    "#### Test compute_score"
   ]
  },
  {
   "cell_type": "code",
   "execution_count": 8,
   "id": "0c10ad2c-bc3a-4c26-b665-4cc9d85e19e6",
   "metadata": {},
   "outputs": [],
   "source": [
    "x = [[query, text] for text in texts]"
   ]
  },
  {
   "cell_type": "code",
   "execution_count": 9,
   "id": "2513d6f0-81ac-4895-beaf-930f692b45b3",
   "metadata": {},
   "outputs": [
    {
     "data": {
      "text/plain": [
       "{'prediction': [-9.481059074401855, 4.247812747955322, 1.590875506401062]}"
      ]
     },
     "execution_count": 9,
     "metadata": {},
     "output_type": "execute_result"
    }
   ],
   "source": [
    "reranker._compute_score(x)"
   ]
  },
  {
   "cell_type": "markdown",
   "id": "4f9e5386-8f12-4b2b-a8cd-844c3c37d4b9",
   "metadata": {},
   "source": [
    "#### Test the interface for llama_index"
   ]
  },
  {
   "cell_type": "code",
   "execution_count": 10,
   "id": "6b01bd81-2468-4c95-9a8d-3413ac0f8a9f",
   "metadata": {},
   "outputs": [],
   "source": [
    "from oci_llama_reranker import OCILLamaReranker"
   ]
  },
  {
   "cell_type": "code",
   "execution_count": 11,
   "id": "4400c4e4-b8f6-4a75-b232-6e61607a07d7",
   "metadata": {},
   "outputs": [],
   "source": [
    "llama_reranker = OCILLamaReranker(oci_reranker=reranker, top_n=2)"
   ]
  },
  {
   "cell_type": "code",
   "execution_count": 12,
   "id": "4c082033-be41-4b4c-8a10-9e3e7fb762e0",
   "metadata": {},
   "outputs": [
    {
     "data": {
      "text/plain": [
       "[{'text': 'The giant panda is a bear species endemic to China.',\n",
       "  'index': 1,\n",
       "  'relevance_score': 4.247812747955322},\n",
       " {'text': 'It is a black and white animal endemic to China',\n",
       "  'index': 2,\n",
       "  'relevance_score': 1.590875506401062},\n",
       " {'text': 'World president',\n",
       "  'index': 0,\n",
       "  'relevance_score': -9.481059074401855}]"
      ]
     },
     "execution_count": 12,
     "metadata": {},
     "output_type": "execute_result"
    }
   ],
   "source": [
    "llama_reranker._rerank(query, texts, top_n=3)"
   ]
  },
  {
   "cell_type": "code",
   "execution_count": 13,
   "id": "1ab80f88-7098-471d-93a0-ef2b6928dde6",
   "metadata": {},
   "outputs": [],
   "source": [
    "qb = QueryBundle(query_str=query)\n",
    "\n",
    "list_nodes = [NodeWithScore(node=TextNode(text=text)) for text in texts]"
   ]
  },
  {
   "cell_type": "code",
   "execution_count": 14,
   "id": "7e2da5e5-0c57-4ff4-92be-cb9ec8b19fc3",
   "metadata": {},
   "outputs": [
    {
     "data": {
      "text/plain": [
       "[NodeWithScore(node=TextNode(id_='972233ab-2bc3-40d3-8270-442110709496', embedding=None, metadata={}, excluded_embed_metadata_keys=[], excluded_llm_metadata_keys=[], relationships={}, hash='70045ac159f0f7146cbee52f9d7820c871954e19264fbc4cda958cbb1bba1efe', text='The giant panda is a bear species endemic to China.', start_char_idx=None, end_char_idx=None, text_template='{metadata_str}\\n\\n{content}', metadata_template='{key}: {value}', metadata_seperator='\\n'), score=4.247812747955322),\n",
       " NodeWithScore(node=TextNode(id_='00ce9c76-f961-4bd1-b955-934a9f4e04d3', embedding=None, metadata={}, excluded_embed_metadata_keys=[], excluded_llm_metadata_keys=[], relationships={}, hash='f32780c5b1e3206ac96c670b9512b36c8d7ccfe77c1e79cb62c17e14c41c324d', text='It is a black and white animal endemic to China', start_char_idx=None, end_char_idx=None, text_template='{metadata_str}\\n\\n{content}', metadata_template='{key}: {value}', metadata_seperator='\\n'), score=1.590875506401062)]"
      ]
     },
     "execution_count": 14,
     "metadata": {},
     "output_type": "execute_result"
    }
   ],
   "source": [
    "llama_reranker.postprocess_nodes(nodes=list_nodes, query_bundle=qb)"
   ]
  },
  {
   "cell_type": "code",
   "execution_count": null,
   "id": "4c96888e-09d8-4165-aa73-b8ca57cfde62",
   "metadata": {},
   "outputs": [],
   "source": []
  }
 ],
 "metadata": {
  "kernelspec": {
   "display_name": "Python 3 (ipykernel)",
   "language": "python",
   "name": "python3"
  },
  "language_info": {
   "codemirror_mode": {
    "name": "ipython",
    "version": 3
   },
   "file_extension": ".py",
   "mimetype": "text/x-python",
   "name": "python",
   "nbconvert_exporter": "python",
   "pygments_lexer": "ipython3",
   "version": "3.9.0"
  }
 },
 "nbformat": 4,
 "nbformat_minor": 5
}
