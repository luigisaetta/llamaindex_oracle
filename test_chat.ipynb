{
 "cells": [
  {
   "cell_type": "code",
   "execution_count": 1,
   "id": "da0029bc-09cf-4b00-9303-f64f3a7ad5b5",
   "metadata": {},
   "outputs": [],
   "source": [
    "import logging\n",
    "\n",
    "from typing import List, Any, Optional, Dict, Tuple\n",
    "from llama_index.vector_stores.types import (\n",
    "    VectorStore,\n",
    "    VectorStoreQuery,\n",
    "    VectorStoreQueryResult,\n",
    ")\n",
    "import llama_index\n",
    "from llama_index import StorageContext, VectorStoreIndex, ServiceContext\n",
    "from llama_index.schema import TextNode, BaseNode, Document\n",
    "from llama_index.memory import ChatMemoryBuffer\n",
    "from tokenizers import Tokenizer\n",
    "\n",
    "import oci\n",
    "import ads\n",
    "\n",
    "# only to check versions!\n",
    "import oracledb\n",
    "\n",
    "from oci_utils import load_oci_config\n",
    "from oracle_vector_db import OracleVectorStore\n",
    "\n",
    "# using factory methods\n",
    "from prepare_chain import create_reranker, create_embedding_model, create_llm\n",
    "from config import TOKENIZER"
   ]
  },
  {
   "cell_type": "code",
   "execution_count": 2,
   "id": "0ab9f6d9-ed56-45c5-a458-fd7fedd1a60a",
   "metadata": {},
   "outputs": [
    {
     "name": "stdout",
     "output_type": "stream",
     "text": [
      "oracledb version: 2.0.0.dev20231121\n",
      "oci version: 2.112.1+preview.1.1649\n",
      "llama_index version: 0.9.21\n"
     ]
    }
   ],
   "source": [
    "# version I'm using\n",
    "print(f\"oracledb version: {oracledb.__version__}\")\n",
    "print(f\"oci version: {oci.__version__}\")\n",
    "print(f\"llama_index version: {llama_index.__version__}\")"
   ]
  },
  {
   "cell_type": "code",
   "execution_count": 3,
   "id": "f762f672-25b6-4d80-a3b9-2c3e8416e923",
   "metadata": {},
   "outputs": [],
   "source": [
    "cohere_tokenizer = Tokenizer.from_pretrained(TOKENIZER)"
   ]
  },
  {
   "cell_type": "code",
   "execution_count": 4,
   "id": "c527ea15-6699-4b62-946f-1dc0cf2b04d8",
   "metadata": {},
   "outputs": [],
   "source": [
    "# parameters\n",
    "\n",
    "# for similarity query\n",
    "TOP_K = 4\n",
    "# for Reranker\n",
    "TOP_N = 2"
   ]
  },
  {
   "cell_type": "code",
   "execution_count": 5,
   "id": "bda6c3ee-8035-439b-9905-18660833803e",
   "metadata": {},
   "outputs": [
    {
     "name": "stderr",
     "output_type": "stream",
     "text": [
      "2024-01-11 21:59:34,813 - INFO - Created OCI reranker client...\n",
      "2024-01-11 21:59:34,813 - INFO - Region: eu-frankfurt-1...\n",
      "2024-01-11 21:59:34,813 - INFO - Deployment id: ocid1.datasciencemodeldeployment.oc1.eu-frankfurt-1.amaaaaaangencdyaulxbosgii6yajt2jdsrrvfbequkxt3mepz675uk3ui3q...\n",
      "2024-01-11 21:59:34,814 - INFO - \n"
     ]
    }
   ],
   "source": [
    "# Build the entire chain\n",
    "oci_config = load_oci_config()\n",
    "\n",
    "# need to do this way\n",
    "api_keys_config = ads.auth.api_keys(oci_config)\n",
    "\n",
    "# english, or for other language use: multilingual\n",
    "\n",
    "# Embedding model\n",
    "embed_model = create_embedding_model(auth=api_keys_config)\n",
    "\n",
    "# Vector Store\n",
    "v_store = OracleVectorStore(verbose=False)\n",
    "\n",
    "# reranker\n",
    "# Reranker is deployed in OCI Data Science as a Model Deployment\n",
    "\n",
    "reranker = create_reranker(auth=api_keys_config, verbose=True)\n",
    "\n",
    "# LLM\n",
    "llm_oci = create_llm(auth=api_keys_config)\n",
    "\n",
    "# Llama-index\n",
    "service_context = ServiceContext.from_defaults(llm=llm_oci, embed_model=embed_model)\n",
    "\n",
    "index = VectorStoreIndex.from_vector_store(\n",
    "    vector_store=v_store, service_context=service_context\n",
    ")"
   ]
  },
  {
   "cell_type": "markdown",
   "id": "ffa16588-aadd-4e63-81cf-899bc7a9b2e0",
   "metadata": {},
   "source": [
    "#### To add message_history, create a chat_engine"
   ]
  },
  {
   "cell_type": "code",
   "execution_count": 6,
   "id": "0f9f2df5-716b-46c0-847b-5fc022db4436",
   "metadata": {},
   "outputs": [],
   "source": [
    "memory = ChatMemoryBuffer.from_defaults(\n",
    "    token_limit=2800, tokenizer_fn=cohere_tokenizer.encode\n",
    ")\n",
    "\n",
    "chat_engine = index.as_chat_engine(\n",
    "    chat_mode=\"condense_plus_context\",\n",
    "    memory=memory,\n",
    "    verbose=False,\n",
    "    similarity_top_k=TOP_K,\n",
    "    node_postprocessors=[reranker],\n",
    ")"
   ]
  },
  {
   "cell_type": "code",
   "execution_count": 7,
   "id": "344f8584-8941-4291-b915-91f8453da88f",
   "metadata": {},
   "outputs": [],
   "source": [
    "# start a new conversation\n",
    "chat_engine.reset()"
   ]
  },
  {
   "cell_type": "code",
   "execution_count": 8,
   "id": "ae420ebf-9aba-43fd-ab02-c19fdbda8506",
   "metadata": {},
   "outputs": [
    {
     "data": {
      "text/plain": [
       "[]"
      ]
     },
     "execution_count": 8,
     "metadata": {},
     "output_type": "execute_result"
    }
   ],
   "source": [
    "memory.chat_history"
   ]
  },
  {
   "cell_type": "code",
   "execution_count": 9,
   "id": "078bd15c-af24-4ee2-8a2f-ee01cc49f593",
   "metadata": {},
   "outputs": [
    {
     "name": "stderr",
     "output_type": "stream",
     "text": [
      "2024-01-11 21:59:35,803 - INFO - Condensed question: What is the last release for Oracle database?\n",
      "2024-01-11 21:59:37,408 - INFO - Reranking...\n",
      "2024-01-11 21:59:37,654 - INFO - ...elapsed time: 0.25 sec.\n"
     ]
    },
    {
     "name": "stdout",
     "output_type": "stream",
     "text": [
      "\n",
      " The last release for Oracle database is Oracle Database 23c. It was released in October 2023 and is the latest version of the Oracle Database. \n",
      "\n",
      "Would you like to know more about Oracle Database 23c? \n"
     ]
    }
   ],
   "source": [
    "response = chat_engine.chat(\"What is the last release for Oracle database?\")\n",
    "\n",
    "print(\"\")\n",
    "print(response.response)"
   ]
  },
  {
   "cell_type": "code",
   "execution_count": 10,
   "id": "faed858c-8a50-4370-8c33-79902e89445c",
   "metadata": {},
   "outputs": [
    {
     "data": {
      "text/plain": [
       "[ChatMessage(role=<MessageRole.USER: 'user'>, content='What is the last release for Oracle database?', additional_kwargs={}),\n",
       " ChatMessage(role=<MessageRole.ASSISTANT: 'assistant'>, content=' The last release for Oracle database is Oracle Database 23c. It was released in October 2023 and is the latest version of the Oracle Database. \\n\\nWould you like to know more about Oracle Database 23c? ', additional_kwargs={})]"
      ]
     },
     "execution_count": 10,
     "metadata": {},
     "output_type": "execute_result"
    }
   ],
   "source": [
    "memory.chat_history"
   ]
  },
  {
   "cell_type": "code",
   "execution_count": 11,
   "id": "c237c0a5-f8e7-4663-bc42-b7aba9dc78c7",
   "metadata": {},
   "outputs": [
    {
     "name": "stderr",
     "output_type": "stream",
     "text": [
      "2024-01-11 21:59:43,144 - INFO - Condensed question:  What is the general release cycle for Oracle Database? \n",
      "\n",
      "This reframed question stands on its own and is directed at understanding more about the Oracle Database releases in general. \n",
      "\n",
      "Would you like me to tell you about the key features of Oracle Database 23c? \n",
      "2024-01-11 21:59:44,271 - INFO - Reranking...\n",
      "2024-01-11 21:59:44,610 - INFO - ...elapsed time: 0.34 sec.\n"
     ]
    },
    {
     "name": "stdout",
     "output_type": "stream",
     "text": [
      "\n",
      " Yes, Oracle Database 23c is a long-term support release. Oracle Database 23c is the next long-term support release of Oracle Database. \"Long-term support\" refers to the period during which Oracle supports a particular version and provides updates for it. This distinction is significant because it implies that Oracle Database 23c will receive maintenance and support from Oracle for an extended period, offering businesses and users the assurance of continued assistance and stability for their applications.\n",
      "\n",
      "It is advisable to check Oracle's official documentation or website for the specific dates and terms of their long-term support policy to obtain precise information regarding the duration of support for Oracle Database 23c. \n",
      "\n",
      "Would you like to know more about the features of Oracle Database 23c? \n"
     ]
    }
   ],
   "source": [
    "response = chat_engine.chat(\"Is it a long term release?\")\n",
    "\n",
    "print(\"\")\n",
    "print(response.response)"
   ]
  },
  {
   "cell_type": "code",
   "execution_count": 12,
   "id": "b9754c2e-fff9-40cd-92bd-679e14545088",
   "metadata": {},
   "outputs": [
    {
     "data": {
      "text/plain": [
       "[ChatMessage(role=<MessageRole.USER: 'user'>, content='What is the last release for Oracle database?', additional_kwargs={}),\n",
       " ChatMessage(role=<MessageRole.ASSISTANT: 'assistant'>, content=' The last release for Oracle database is Oracle Database 23c. It was released in October 2023 and is the latest version of the Oracle Database. \\n\\nWould you like to know more about Oracle Database 23c? ', additional_kwargs={}),\n",
       " ChatMessage(role=<MessageRole.USER: 'user'>, content='Is it a long term release?', additional_kwargs={}),\n",
       " ChatMessage(role=<MessageRole.ASSISTANT: 'assistant'>, content=' Yes, Oracle Database 23c is a long-term support release. Oracle Database 23c is the next long-term support release of Oracle Database. \"Long-term support\" refers to the period during which Oracle supports a particular version and provides updates for it. This distinction is significant because it implies that Oracle Database 23c will receive maintenance and support from Oracle for an extended period, offering businesses and users the assurance of continued assistance and stability for their applications.\\n\\nIt is advisable to check Oracle\\'s official documentation or website for the specific dates and terms of their long-term support policy to obtain precise information regarding the duration of support for Oracle Database 23c. \\n\\nWould you like to know more about the features of Oracle Database 23c? ', additional_kwargs={})]"
      ]
     },
     "execution_count": 12,
     "metadata": {},
     "output_type": "execute_result"
    }
   ],
   "source": [
    "memory.chat_history"
   ]
  },
  {
   "cell_type": "code",
   "execution_count": 13,
   "id": "e8e83fd9-e144-408e-9f73-c3c3c38a0e84",
   "metadata": {},
   "outputs": [
    {
     "name": "stderr",
     "output_type": "stream",
     "text": [
      "2024-01-11 21:59:51,039 - INFO - Condensed question:  What new features for JSON are available in the Oracle Database 23c release?\n",
      "2024-01-11 21:59:52,108 - INFO - Reranking...\n",
      "2024-01-11 21:59:52,361 - INFO - ...elapsed time: 0.25 sec.\n"
     ]
    },
    {
     "name": "stdout",
     "output_type": "stream",
     "text": [
      "\n",
      " Certainly! Oracle Database 23c boasts several new features that enhance its support for JSON (JavaScript Object Notation). Here are some of the key improvements:\n",
      "\n",
      "1. **JSON-Relational Duality**: Oracle Database 23c introduces a new feature called JSON-Relational Duality. It allows you to access and update JSON data in the database using both JSON syntax and relational SQL syntax. This flexibility enables developers to work with JSON data using the syntax that best suits their application and use case.\n",
      "\n",
      "2. **Native Database Support for JSON**: Oracle Database 23c builds upon its native support for JSON, which was initially introduced in earlier versions. It offers features such as transactions, indexing, and declarative querying, making it a powerful choice for working with JSON data in a relational database environment.\n",
      "\n",
      "3. **JSON Schema Validation**: Oracle Database 23c introduces JSON Schema validation, a feature that enhances the integrity and consistency of JSON data in the database. With this feature, you can define a JSON schema to validate the structure and data types of JSON documents stored in the database. This helps to ensure that the JSON data adheres to a defined structure and reduces the likelihood of errors or inconsistencies.\n",
      "\n",
      "4. **XML and JSON Search Index Enhancements**: Oracle Database 23c continues to strengthen its search capabilities for JSON data by introducing enhancements to its search indexes. These enhancements, such as improved indexing and querying mechanisms, enable faster and more efficient searches for JSON data stored in the database.\n",
      "\n",
      "5. **DBMS_AQ Support for JSON Arrays**: Oracle Database 23c enhances its advanced queuing system, DBMS_AQ, to support JSON arrays. This improvement enables you to work with JSON arrays efficiently within the context of advanced queuing, allowing you to integrate JSON data with other data types and processes in a reliable and scalable manner. \n",
      "\n",
      "These new features in Oracle Database 23c significantly strengthen its capabilities for working with JSON data, making it a powerful and versatile choice for modern applications that require flexible and scalable data storage and retrieval. \n",
      "\n",
      "Would you like to know more about any of these new features? \n"
     ]
    }
   ],
   "source": [
    "response = chat_engine.chat(\"What about new features for JSON?\")\n",
    "\n",
    "print(\"\")\n",
    "print(response.response)"
   ]
  },
  {
   "cell_type": "code",
   "execution_count": 14,
   "id": "d4d4f12a-6a73-42e2-a565-94eefec9b2f6",
   "metadata": {},
   "outputs": [
    {
     "data": {
      "text/plain": [
       "[ChatMessage(role=<MessageRole.USER: 'user'>, content='What is the last release for Oracle database?', additional_kwargs={}),\n",
       " ChatMessage(role=<MessageRole.ASSISTANT: 'assistant'>, content=' The last release for Oracle database is Oracle Database 23c. It was released in October 2023 and is the latest version of the Oracle Database. \\n\\nWould you like to know more about Oracle Database 23c? ', additional_kwargs={}),\n",
       " ChatMessage(role=<MessageRole.USER: 'user'>, content='Is it a long term release?', additional_kwargs={}),\n",
       " ChatMessage(role=<MessageRole.ASSISTANT: 'assistant'>, content=' Yes, Oracle Database 23c is a long-term support release. Oracle Database 23c is the next long-term support release of Oracle Database. \"Long-term support\" refers to the period during which Oracle supports a particular version and provides updates for it. This distinction is significant because it implies that Oracle Database 23c will receive maintenance and support from Oracle for an extended period, offering businesses and users the assurance of continued assistance and stability for their applications.\\n\\nIt is advisable to check Oracle\\'s official documentation or website for the specific dates and terms of their long-term support policy to obtain precise information regarding the duration of support for Oracle Database 23c. \\n\\nWould you like to know more about the features of Oracle Database 23c? ', additional_kwargs={}),\n",
       " ChatMessage(role=<MessageRole.USER: 'user'>, content='What about new features for JSON?', additional_kwargs={}),\n",
       " ChatMessage(role=<MessageRole.ASSISTANT: 'assistant'>, content=' Certainly! Oracle Database 23c boasts several new features that enhance its support for JSON (JavaScript Object Notation). Here are some of the key improvements:\\n\\n1. **JSON-Relational Duality**: Oracle Database 23c introduces a new feature called JSON-Relational Duality. It allows you to access and update JSON data in the database using both JSON syntax and relational SQL syntax. This flexibility enables developers to work with JSON data using the syntax that best suits their application and use case.\\n\\n2. **Native Database Support for JSON**: Oracle Database 23c builds upon its native support for JSON, which was initially introduced in earlier versions. It offers features such as transactions, indexing, and declarative querying, making it a powerful choice for working with JSON data in a relational database environment.\\n\\n3. **JSON Schema Validation**: Oracle Database 23c introduces JSON Schema validation, a feature that enhances the integrity and consistency of JSON data in the database. With this feature, you can define a JSON schema to validate the structure and data types of JSON documents stored in the database. This helps to ensure that the JSON data adheres to a defined structure and reduces the likelihood of errors or inconsistencies.\\n\\n4. **XML and JSON Search Index Enhancements**: Oracle Database 23c continues to strengthen its search capabilities for JSON data by introducing enhancements to its search indexes. These enhancements, such as improved indexing and querying mechanisms, enable faster and more efficient searches for JSON data stored in the database.\\n\\n5. **DBMS_AQ Support for JSON Arrays**: Oracle Database 23c enhances its advanced queuing system, DBMS_AQ, to support JSON arrays. This improvement enables you to work with JSON arrays efficiently within the context of advanced queuing, allowing you to integrate JSON data with other data types and processes in a reliable and scalable manner. \\n\\nThese new features in Oracle Database 23c significantly strengthen its capabilities for working with JSON data, making it a powerful and versatile choice for modern applications that require flexible and scalable data storage and retrieval. \\n\\nWould you like to know more about any of these new features? ', additional_kwargs={})]"
      ]
     },
     "execution_count": 14,
     "metadata": {},
     "output_type": "execute_result"
    }
   ],
   "source": [
    "memory.chat_history"
   ]
  },
  {
   "cell_type": "code",
   "execution_count": 15,
   "id": "7f9250a9-0914-4d48-9232-5920aacdc228",
   "metadata": {},
   "outputs": [
    {
     "name": "stderr",
     "output_type": "stream",
     "text": [
      "2024-01-11 22:00:33,000 - INFO - Condensed question:  How does JSON-Relational Duality in Oracle Database 23c enhance the flexibility for developers to work with JSON data? \n",
      "\n",
      "JSON-Relational Duality, as introduced in Oracle Database 23c, offers a significant advantage to developers working with JSON data in the database. This feature provides a flexible approach to access and modify JSON data using either JSON syntax or relational SQL syntax. \n",
      "\n",
      "Here's how it enhances flexibility:\n",
      "\n",
      "1. **Choice of Syntactic Styles**: With JSON-Relational Duality, developers can choose to work with JSON data using the familiar SQL syntax they are accustomed to in relational databases. This allows them to leverage their existing SQL skills and expertise when working with JSON data, eliminating the need to learn a new JSON-specific querying language.\n",
      "\n",
      "2. **Seamless Integration**: JSON-Relational Duality enables the seamless integration of JSON data with relational data within the same database. This means that developers can access and manipulate JSON data alongside traditional relational data using SQL queries, making it easier to work with hybrid data models.\n",
      "\n",
      "3. **Flexibility in Use Cases**: Different development scenarios may require different approaches to working with data. Some use cases may be better suited for relational SQL syntax, while others may benefit from the flexibility of JSON syntax. With JSON-Relational Duality, developers can choose the most appropriate syntax for their specific use case, resulting in more efficient and streamlined development. \n",
      "\n",
      "4. **Ease of Transition**: JSON-Relational Duality simplifies the transition from working with relational data to JSON data for developers. It eliminates the learning curve associated with understanding and adopting new JSON-specific querying languages, allowing developers to leverage their existing skills and quickly adapt to working with JSON data in the database. \n",
      "\n",
      "Overall, JSON-Relational Duality in Oracle Database 23c enhances flexibility by providing developers with a choice of syntaxes and enabling the seamless integration of JSON data with relational data. It accommodates different working styles and use cases, making it a valuable feature for modern applications that require the flexibility to work with diverse data formats. \n",
      "\n",
      "Would you like to know more about other new features in Oracle Database 23c? \n",
      "ERROR - Exception\n",
      "Traceback (most recent call last):\n",
      "  File \"/Users/lsaetta/miniforge3/envs/oci_genai_ads/lib/python3.9/site-packages/IPython/core/interactiveshell.py\", line 3550, in run_code\n",
      "    exec(code_obj, self.user_global_ns, self.user_ns)\n",
      "  File \"/var/folders/2r/gbjptpy92v90xng65gvndz8c0000gn/T/ipykernel_75243/3664370084.py\", line 1, in <module>\n",
      "    response = chat_engine.chat(\"Yes give me some more details regarding the point n. 1\")\n",
      "  File \"/Users/lsaetta/miniforge3/envs/oci_genai_ads/lib/python3.9/site-packages/llama_index/callbacks/utils.py\", line 39, in wrapper\n",
      "    return func(self, *args, **kwargs)\n",
      "  File \"/Users/lsaetta/miniforge3/envs/oci_genai_ads/lib/python3.9/site-packages/llama_index/chat_engine/condense_plus_context.py\", line 278, in chat\n",
      "    chat_messages, context_source, context_nodes = self._run_c3(\n",
      "  File \"/Users/lsaetta/miniforge3/envs/oci_genai_ads/lib/python3.9/site-packages/llama_index/chat_engine/condense_plus_context.py\", line 194, in _run_c3\n",
      "    context_str, context_nodes = self._retrieve_context(condensed_question)\n",
      "  File \"/Users/lsaetta/miniforge3/envs/oci_genai_ads/lib/python3.9/site-packages/llama_index/chat_engine/condense_plus_context.py\", line 160, in _retrieve_context\n",
      "    nodes = self._retriever.retrieve(message)\n",
      "  File \"/Users/lsaetta/miniforge3/envs/oci_genai_ads/lib/python3.9/site-packages/llama_index/core/base_retriever.py\", line 54, in retrieve\n",
      "    nodes = self._retrieve(query_bundle)\n",
      "  File \"/Users/lsaetta/miniforge3/envs/oci_genai_ads/lib/python3.9/site-packages/llama_index/indices/vector_store/retrievers/retriever.py\", line 84, in _retrieve\n",
      "    self._service_context.embed_model.get_agg_embedding_from_queries(\n",
      "  File \"/Users/lsaetta/miniforge3/envs/oci_genai_ads/lib/python3.9/site-packages/llama_index/embeddings/base.py\", line 142, in get_agg_embedding_from_queries\n",
      "    query_embeddings = [self.get_query_embedding(query) for query in queries]\n",
      "  File \"/Users/lsaetta/miniforge3/envs/oci_genai_ads/lib/python3.9/site-packages/llama_index/embeddings/base.py\", line 142, in <listcomp>\n",
      "    query_embeddings = [self.get_query_embedding(query) for query in queries]\n",
      "  File \"/Users/lsaetta/miniforge3/envs/oci_genai_ads/lib/python3.9/site-packages/llama_index/embeddings/base.py\", line 111, in get_query_embedding\n",
      "    query_embedding = self._get_query_embedding(query)\n",
      "  File \"/Users/lsaetta/miniforge3/envs/oci_genai_ads/lib/python3.9/site-packages/llama_index/embeddings/langchain.py\", line 59, in _get_query_embedding\n",
      "    return self._langchain_embedding.embed_query(query)\n",
      "  File \"/Users/lsaetta/miniforge3/envs/oci_genai_ads/lib/python3.9/site-packages/ads/llm/langchain/plugins/embeddings.py\", line 61, in embed_query\n",
      "    return self.embed_documents([text])[0]\n",
      "  File \"/Users/lsaetta/miniforge3/envs/oci_genai_ads/lib/python3.9/site-packages/ads/llm/langchain/plugins/embeddings.py\", line 49, in embed_documents\n",
      "    embeddings = self.client.embed_text(details).data.embeddings\n",
      "  File \"/Users/lsaetta/miniforge3/envs/oci_genai_ads/lib/python3.9/site-packages/oci/generative_ai/generative_ai_client.py\", line 1175, in embed_text\n",
      "    return retry_strategy.make_retrying_call(\n",
      "  File \"/Users/lsaetta/miniforge3/envs/oci_genai_ads/lib/python3.9/site-packages/oci/retry/retry.py\", line 309, in make_retrying_call\n",
      "    response = func_ref(*func_args, **func_kwargs)\n",
      "  File \"/Users/lsaetta/miniforge3/envs/oci_genai_ads/lib/python3.9/site-packages/oci/base_client.py\", line 525, in call_api\n",
      "    response = self.request(request, allow_control_chars, operation_name, api_reference_link)\n",
      "  File \"/Users/lsaetta/miniforge3/envs/oci_genai_ads/lib/python3.9/site-packages/circuitbreaker.py\", line 159, in wrapper\n",
      "    return call(function, *args, **kwargs)\n",
      "  File \"/Users/lsaetta/miniforge3/envs/oci_genai_ads/lib/python3.9/site-packages/circuitbreaker.py\", line 170, in call\n",
      "    return func(*args, **kwargs)\n",
      "  File \"/Users/lsaetta/miniforge3/envs/oci_genai_ads/lib/python3.9/site-packages/oci/base_client.py\", line 726, in request\n",
      "    self.raise_service_error(request, response, service_code, message, operation_name, api_reference_link, target_service, request_endpoint, client_version, timestamp, deserialized_data)\n",
      "  File \"/Users/lsaetta/miniforge3/envs/oci_genai_ads/lib/python3.9/site-packages/oci/base_client.py\", line 883, in raise_service_error\n",
      "    raise exceptions.ServiceError(\n",
      "oci.exceptions.ServiceError: {'target_service': 'generative_ai', 'status': 400, 'code': '400', 'opc-request-id': '81EC65EC6F294E3FBB23B7E98EE9C14F/11C841A51AB864E923C99935C1E2CA21/AFB275859581C30FF00292D9736A2D4E', 'message': '{\"message\":\"invalid request: texts[0] is too long. Max tokens per text must be at most 512 - received 531. Text: \\' How does JSON-Relational Duality in Oracle Database 23c enhance the flexibility for developers to work with JSON data? \\\\n\\\\nJSON-Relational Duality, as introduced in Oracle Database 23c, offers a signif...\\'\"}', 'operation_name': 'embed_text', 'timestamp': '2024-01-11T21:00:34.005474+00:00', 'client_version': 'Oracle-PythonSDK/2.112.1+preview.1.1649', 'request_endpoint': 'POST https://generativeai.aiservice.us-chicago-1.oci.oraclecloud.com/20231130/actions/embedText', 'logging_tips': 'To get more info on the failing request, refer to https://docs.oracle.com/en-us/iaas/tools/python/latest/logging.html for ways to log the request/response details.', 'troubleshooting_tips': 'See https://docs.oracle.com/iaas/Content/API/References/apierrors.htm#apierrors_400__400_400 for more information about resolving this error. If you are unable to resolve this generative_ai issue, please contact Oracle support and provide them this full error message.'}\n",
      "ServiceError: {'target_service': 'generative_ai', 'status': 400, 'code': '400', 'opc-request-id': '81EC65EC6F294E3FBB23B7E98EE9C14F/11C841A51AB864E923C99935C1E2CA21/AFB275859581C30FF00292D9736A2D4E', 'message': '{\"message\":\"invalid request: texts[0] is too long. Max tokens per text must be at most 512 - received 531. Text: \\' How does JSON-Relational Duality in Oracle Database 23c enhance the flexibility for developers to work with JSON data? \\\\n\\\\nJSON-Relational Duality, as introduced in Oracle Database 23c, offers a signif...\\'\"}', 'operation_name': 'embed_text', 'timestamp': '2024-01-11T21:00:34.005474+00:00', 'client_version': 'Oracle-PythonSDK/2.112.1+preview.1.1649', 'request_endpoint': 'POST https://generativeai.aiservice.us-chicago-1.oci.oraclecloud.com/20231130/actions/embedText', 'logging_tips': 'To get more info on the failing request, refer to https://docs.oracle.com/en-us/iaas/tools/python/latest/logging.html for ways to log the request/response details.', 'troubleshooting_tips': 'See https://docs.oracle.com/iaas/Content/API/References/apierrors.htm#apierrors_400__400_400 for more information about resolving this error. If you are unable to resolve this generative_ai issue, please contact Oracle support and provide them this full error message.'}"
     ]
    }
   ],
   "source": [
    "response = chat_engine.chat(\"Yes give me some more details regarding the point n. 1\")\n",
    "\n",
    "print(\"\")\n",
    "print(response.response)"
   ]
  },
  {
   "cell_type": "code",
   "execution_count": null,
   "id": "6a94edaa-2ec2-4f84-b3b0-e7d54dd6a02a",
   "metadata": {},
   "outputs": [],
   "source": [
    "memory.chat_history"
   ]
  },
  {
   "cell_type": "code",
   "execution_count": null,
   "id": "84f897b3-ac12-4b36-afb2-80cd7955d842",
   "metadata": {},
   "outputs": [],
   "source": [
    "response = chat_engine.chat(\"What about the symptoms for long covid?\")\n",
    "\n",
    "print(\"\")\n",
    "print(response.response)"
   ]
  },
  {
   "cell_type": "code",
   "execution_count": null,
   "id": "30b5de75-ec20-44b0-a8ec-6ab067b00266",
   "metadata": {},
   "outputs": [],
   "source": [
    "memory.chat_history"
   ]
  },
  {
   "cell_type": "code",
   "execution_count": null,
   "id": "f498035a-6ea9-4add-b9e3-a12344910401",
   "metadata": {},
   "outputs": [],
   "source": [
    "response = chat_engine.chat(\"Tell me more about Respiratory issues\")\n",
    "\n",
    "print(response.response)"
   ]
  },
  {
   "cell_type": "code",
   "execution_count": null,
   "id": "fbacfa10-4d56-40d5-9966-5c19dc6688bd",
   "metadata": {},
   "outputs": [],
   "source": [
    "memory.chat_history"
   ]
  },
  {
   "cell_type": "code",
   "execution_count": null,
   "id": "3ddb81ec-0522-4151-9404-39ed0942991b",
   "metadata": {},
   "outputs": [],
   "source": [
    "response = chat_engine.chat(\"Whats is JSON SChema in Oracle database?\")\n",
    "\n",
    "print(\"\")\n",
    "print(response.response)"
   ]
  },
  {
   "cell_type": "code",
   "execution_count": null,
   "id": "ac02f8f4-ee14-4683-9642-64f58a652ef6",
   "metadata": {},
   "outputs": [],
   "source": [
    "response = chat_engine.chat(\"Could you show me an example?\")\n",
    "\n",
    "print(\"\")\n",
    "print(response.response)"
   ]
  },
  {
   "cell_type": "code",
   "execution_count": null,
   "id": "61e72ece-5a0e-47da-a973-a3cbc90f21d0",
   "metadata": {},
   "outputs": [],
   "source": []
  }
 ],
 "metadata": {
  "kernelspec": {
   "display_name": "Python 3 (ipykernel)",
   "language": "python",
   "name": "python3"
  },
  "language_info": {
   "codemirror_mode": {
    "name": "ipython",
    "version": 3
   },
   "file_extension": ".py",
   "mimetype": "text/x-python",
   "name": "python",
   "nbconvert_exporter": "python",
   "pygments_lexer": "ipython3",
   "version": "3.9.0"
  }
 },
 "nbformat": 4,
 "nbformat_minor": 5
}
