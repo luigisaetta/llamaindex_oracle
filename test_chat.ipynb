{
 "cells": [
  {
   "cell_type": "code",
   "execution_count": 5,
   "id": "da0029bc-09cf-4b00-9303-f64f3a7ad5b5",
   "metadata": {},
   "outputs": [],
   "source": [
    "import logging\n",
    "\n",
    "from typing import List, Any, Optional, Dict, Tuple\n",
    "from llama_index.vector_stores.types import (\n",
    "    VectorStore,\n",
    "    VectorStoreQuery,\n",
    "    VectorStoreQueryResult,\n",
    ")\n",
    "import llama_index\n",
    "from llama_index import StorageContext, VectorStoreIndex, ServiceContext\n",
    "from llama_index.schema import TextNode, BaseNode, Document\n",
    "from llama_index.memory import ChatMemoryBuffer\n",
    "from tokenizers import Tokenizer\n",
    "\n",
    "import oci\n",
    "import ads\n",
    "\n",
    "# only to check versions!\n",
    "import oracledb\n",
    "\n",
    "from oci_utils import load_oci_config\n",
    "from oracle_vector_db import OracleVectorStore\n",
    "\n",
    "# using factory methods\n",
    "from prepare_chain import create_reranker, create_embedding_model, create_llm\n",
    "from config import TOKENIZER"
   ]
  },
  {
   "cell_type": "code",
   "execution_count": 6,
   "id": "0ab9f6d9-ed56-45c5-a458-fd7fedd1a60a",
   "metadata": {},
   "outputs": [
    {
     "name": "stdout",
     "output_type": "stream",
     "text": [
      "oracledb version: 2.0.0.dev20231121\n",
      "oci version: 2.112.1+preview.1.1649\n",
      "llama_index version: 0.9.21\n"
     ]
    }
   ],
   "source": [
    "# version I'm using\n",
    "print(f\"oracledb version: {oracledb.__version__}\")\n",
    "print(f\"oci version: {oci.__version__}\")\n",
    "print(f\"llama_index version: {llama_index.__version__}\")"
   ]
  },
  {
   "cell_type": "code",
   "execution_count": 7,
   "id": "f762f672-25b6-4d80-a3b9-2c3e8416e923",
   "metadata": {},
   "outputs": [],
   "source": [
    "cohere_tokenizer = Tokenizer.from_pretrained(TOKENIZER)"
   ]
  },
  {
   "cell_type": "code",
   "execution_count": 8,
   "id": "c527ea15-6699-4b62-946f-1dc0cf2b04d8",
   "metadata": {},
   "outputs": [],
   "source": [
    "# parameters\n",
    "\n",
    "# for similarity query\n",
    "TOP_K = 4\n",
    "# for Reranker\n",
    "TOP_N = 2"
   ]
  },
  {
   "cell_type": "code",
   "execution_count": 10,
   "id": "bda6c3ee-8035-439b-9905-18660833803e",
   "metadata": {},
   "outputs": [
    {
     "name": "stderr",
     "output_type": "stream",
     "text": [
      "2024-01-04 18:33:06,278 - INFO - Created OCI reranker client...\n",
      "2024-01-04 18:33:06,279 - INFO - Region: eu-frankfurt-1...\n",
      "2024-01-04 18:33:06,279 - INFO - Deployment id: ocid1.datasciencemodeldeployment.oc1.eu-frankfurt-1.amaaaaaangencdyaulxbosgii6yajt2jdsrrvfbequkxt3mepz675uk3ui3q...\n",
      "2024-01-04 18:33:06,279 - INFO - \n"
     ]
    }
   ],
   "source": [
    "# Build the entire chain\n",
    "oci_config = load_oci_config()\n",
    "\n",
    "# need to do this way\n",
    "api_keys_config = ads.auth.api_keys(oci_config)\n",
    "\n",
    "# english, or for other language use: multilingual\n",
    "\n",
    "# Embedding model\n",
    "embed_model = create_embedding_model(\n",
    "    auth=api_keys_config\n",
    ")\n",
    "\n",
    "# Vector Store\n",
    "v_store = OracleVectorStore(verbose=False)\n",
    "\n",
    "# reranker\n",
    "# Reranker is deployed in OCI Data Science as a Model Deployment\n",
    "\n",
    "reranker = create_reranker(auth=api_keys_config, verbose=True)\n",
    "\n",
    "# LLM\n",
    "llm_oci = create_llm(auth=api_keys_config)\n",
    "\n",
    "# Llama-index\n",
    "service_context = ServiceContext.from_defaults(llm=llm_oci, embed_model=embed_model)\n",
    "\n",
    "index = VectorStoreIndex.from_vector_store(\n",
    "    vector_store=v_store, service_context=service_context\n",
    ")"
   ]
  },
  {
   "cell_type": "markdown",
   "id": "ffa16588-aadd-4e63-81cf-899bc7a9b2e0",
   "metadata": {},
   "source": [
    "#### To add message_history, create a chat_engine"
   ]
  },
  {
   "cell_type": "code",
   "execution_count": 11,
   "id": "0f9f2df5-716b-46c0-847b-5fc022db4436",
   "metadata": {},
   "outputs": [],
   "source": [
    "memory = ChatMemoryBuffer.from_defaults(\n",
    "    token_limit=2800, tokenizer_fn=cohere_tokenizer.encode\n",
    ")\n",
    "\n",
    "chat_engine = index.as_chat_engine(\n",
    "    chat_mode=\"context\",\n",
    "    memory=memory,\n",
    "    verbose=True,\n",
    "    similarity_top_k=TOP_K,\n",
    "    node_postprocessors=[reranker],\n",
    ")"
   ]
  },
  {
   "cell_type": "code",
   "execution_count": 12,
   "id": "344f8584-8941-4291-b915-91f8453da88f",
   "metadata": {},
   "outputs": [],
   "source": [
    "# start a new conversation\n",
    "chat_engine.reset()"
   ]
  },
  {
   "cell_type": "code",
   "execution_count": 13,
   "id": "ae420ebf-9aba-43fd-ab02-c19fdbda8506",
   "metadata": {},
   "outputs": [
    {
     "data": {
      "text/plain": [
       "[]"
      ]
     },
     "execution_count": 13,
     "metadata": {},
     "output_type": "execute_result"
    }
   ],
   "source": [
    "memory.chat_history"
   ]
  },
  {
   "cell_type": "code",
   "execution_count": 14,
   "id": "078bd15c-af24-4ee2-8a2f-ee01cc49f593",
   "metadata": {},
   "outputs": [
    {
     "name": "stderr",
     "output_type": "stream",
     "text": [
      "2024-01-04 18:33:13,149 - INFO - Reranking...\n",
      "2024-01-04 18:33:13,484 - INFO - ...elapsed time: 0.34 sec.\n"
     ]
    },
    {
     "name": "stdout",
     "output_type": "stream",
     "text": [
      " The last release for Oracle Database that I could find is Oracle Database Release 23c dated October 2023. \n",
      "\n",
      "Would you like to know more about this release?  I can list some new features that it includes if you'd like. \n",
      "Alternatively, I can search for more recent updates or releases if you provide more information or direct me to a specific source for my search. \n"
     ]
    }
   ],
   "source": [
    "response = chat_engine.chat(\"What is the last release for Oracle database?\")\n",
    "\n",
    "print(response.response)"
   ]
  },
  {
   "cell_type": "code",
   "execution_count": 15,
   "id": "faed858c-8a50-4370-8c33-79902e89445c",
   "metadata": {},
   "outputs": [
    {
     "data": {
      "text/plain": [
       "[ChatMessage(role=<MessageRole.USER: 'user'>, content='What is the last release for Oracle database?', additional_kwargs={}),\n",
       " ChatMessage(role=<MessageRole.ASSISTANT: 'assistant'>, content=\" The last release for Oracle Database that I could find is Oracle Database Release 23c dated October 2023. \\n\\nWould you like to know more about this release?  I can list some new features that it includes if you'd like. \\nAlternatively, I can search for more recent updates or releases if you provide more information or direct me to a specific source for my search. \", additional_kwargs={})]"
      ]
     },
     "execution_count": 15,
     "metadata": {},
     "output_type": "execute_result"
    }
   ],
   "source": [
    "memory.chat_history"
   ]
  },
  {
   "cell_type": "code",
   "execution_count": 16,
   "id": "c237c0a5-f8e7-4663-bc42-b7aba9dc78c7",
   "metadata": {},
   "outputs": [
    {
     "name": "stderr",
     "output_type": "stream",
     "text": [
      "2024-01-04 18:33:18,937 - INFO - Reranking...\n",
      "2024-01-04 18:33:19,170 - INFO - ...elapsed time: 0.23 sec.\n"
     ]
    },
    {
     "name": "stdout",
     "output_type": "stream",
     "text": [
      " Yes, Oracle Database Release 23c is a long-term support release.\n",
      "\n",
      "Oracle Database Release 19c was the first long-term support release and it was released in December 2019. Oracle Database Release 21c was made available in April 2021 and Release 22c was released in September 2022. Now, Release 23c has been released in October 2023 and it will be fully supported for an extended period of time, offering customers a stable and reliable platform for their databases. \n",
      "\n",
      "Would you like to know more about the long-term release strategy of Oracle Database? I can provide more details on the benefits or implications of choosing a long-term release compared to more recent releases. \n"
     ]
    }
   ],
   "source": [
    "response = chat_engine.chat(\"Is it a long term release?\")\n",
    "\n",
    "print(response.response)"
   ]
  },
  {
   "cell_type": "code",
   "execution_count": 17,
   "id": "b9754c2e-fff9-40cd-92bd-679e14545088",
   "metadata": {},
   "outputs": [
    {
     "data": {
      "text/plain": [
       "[ChatMessage(role=<MessageRole.USER: 'user'>, content='What is the last release for Oracle database?', additional_kwargs={}),\n",
       " ChatMessage(role=<MessageRole.ASSISTANT: 'assistant'>, content=\" The last release for Oracle Database that I could find is Oracle Database Release 23c dated October 2023. \\n\\nWould you like to know more about this release?  I can list some new features that it includes if you'd like. \\nAlternatively, I can search for more recent updates or releases if you provide more information or direct me to a specific source for my search. \", additional_kwargs={}),\n",
       " ChatMessage(role=<MessageRole.USER: 'user'>, content='Is it a long term release?', additional_kwargs={}),\n",
       " ChatMessage(role=<MessageRole.ASSISTANT: 'assistant'>, content=' Yes, Oracle Database Release 23c is a long-term support release.\\n\\nOracle Database Release 19c was the first long-term support release and it was released in December 2019. Oracle Database Release 21c was made available in April 2021 and Release 22c was released in September 2022. Now, Release 23c has been released in October 2023 and it will be fully supported for an extended period of time, offering customers a stable and reliable platform for their databases. \\n\\nWould you like to know more about the long-term release strategy of Oracle Database? I can provide more details on the benefits or implications of choosing a long-term release compared to more recent releases. ', additional_kwargs={})]"
      ]
     },
     "execution_count": 17,
     "metadata": {},
     "output_type": "execute_result"
    }
   ],
   "source": [
    "memory.chat_history"
   ]
  },
  {
   "cell_type": "code",
   "execution_count": 18,
   "id": "e8e83fd9-e144-408e-9f73-c3c3c38a0e84",
   "metadata": {},
   "outputs": [
    {
     "name": "stderr",
     "output_type": "stream",
     "text": [
      "2024-01-04 18:33:39,699 - INFO - Reranking...\n",
      "2024-01-04 18:33:40,385 - INFO - ...elapsed time: 0.69 sec.\n"
     ]
    },
    {
     "name": "stdout",
     "output_type": "stream",
     "text": [
      " Certainly! Oracle Database Release 23c includes several new features and enhancements for JSON support. Here are some of the key improvements:\n",
      "\n",
      "1. **JSON-Relational Duality Views**: Customers can now create fully updatable JSON views over relational data. This feature provides flexibility by allowing data to be accessed in the form of JSON documents while still being stored in highly efficient relational tables.\n",
      "\n",
      "2. **JSON Schema Validation**: JSON Schema-based validation is now supported. Customers can define a JSON schema document that specifies the allowed properties and data types for their JSON data, ensuring consistent structures and data typing.\n",
      "\n",
      "3. **Consistent XML and JSON Search Index Syntax**: The syntax for creating and using search indexes on XML and JSON data is now consistent, which simplifies productivity for developers working with both data formats. Additionally, the performance of JSON and XML search indexes has been improved.\n",
      "\n",
      "4. **Native Database Support for JSON**: Oracle Database continues to support JSON natively, offering features such as transactions, indexing, declarative querying, and views. Customers can access JSON data stored in the database using various methods such as OCI, .NET, and JDBC.\n",
      "\n",
      "5. **JSON Data Type**: The preferred way to store JSON data is still using the JSON data type, a proprietary binary format optimized for query and DML processing. It can be used in most places where a SQL data type is allowed.\n",
      "\n",
      "6. **SQL Functions for JSON**: Customers can leverage SQL functions such as `json_object` and `json_array` to generate JSON documents from relational data, and `json_table` to project JSON data into a relational format. Additionally, the `json_query` and `json_value` functions can now accept an Oracle JSON path expression as an argument.\n",
      "\n",
      "These new features and enhancements demonstrate Oracle's ongoing commitment to improving JSON support in its database platform. \n",
      "\n",
      "Would you like me to provide more details on any of these improvements? \n"
     ]
    }
   ],
   "source": [
    "response = chat_engine.chat(\"What about new features for JSON?\")\n",
    "\n",
    "print(response.response)"
   ]
  },
  {
   "cell_type": "code",
   "execution_count": null,
   "id": "d4d4f12a-6a73-42e2-a565-94eefec9b2f6",
   "metadata": {},
   "outputs": [],
   "source": [
    "memory.chat_history"
   ]
  },
  {
   "cell_type": "code",
   "execution_count": null,
   "id": "7f9250a9-0914-4d48-9232-5920aacdc228",
   "metadata": {},
   "outputs": [],
   "source": [
    "response = chat_engine.chat(\"Yes give me some more details regarding the point n. 1\")\n",
    "\n",
    "print(response.response)"
   ]
  },
  {
   "cell_type": "code",
   "execution_count": null,
   "id": "6a94edaa-2ec2-4f84-b3b0-e7d54dd6a02a",
   "metadata": {},
   "outputs": [],
   "source": [
    "memory.chat_history"
   ]
  },
  {
   "cell_type": "code",
   "execution_count": null,
   "id": "84f897b3-ac12-4b36-afb2-80cd7955d842",
   "metadata": {},
   "outputs": [],
   "source": [
    "response = chat_engine.chat(\"What about the symptoms for long covid?\")\n",
    "\n",
    "print(response.response)"
   ]
  },
  {
   "cell_type": "code",
   "execution_count": null,
   "id": "30b5de75-ec20-44b0-a8ec-6ab067b00266",
   "metadata": {},
   "outputs": [],
   "source": [
    "memory.chat_history"
   ]
  },
  {
   "cell_type": "code",
   "execution_count": null,
   "id": "f498035a-6ea9-4add-b9e3-a12344910401",
   "metadata": {},
   "outputs": [],
   "source": [
    "response = chat_engine.chat(\"Tell me more about Respiratory issues\")\n",
    "\n",
    "print(response.response)"
   ]
  },
  {
   "cell_type": "code",
   "execution_count": null,
   "id": "fbacfa10-4d56-40d5-9966-5c19dc6688bd",
   "metadata": {},
   "outputs": [],
   "source": [
    "memory.chat_history"
   ]
  }
 ],
 "metadata": {
  "kernelspec": {
   "display_name": "Python 3 (ipykernel)",
   "language": "python",
   "name": "python3"
  },
  "language_info": {
   "codemirror_mode": {
    "name": "ipython",
    "version": 3
   },
   "file_extension": ".py",
   "mimetype": "text/x-python",
   "name": "python",
   "nbconvert_exporter": "python",
   "pygments_lexer": "ipython3",
   "version": "3.9.0"
  }
 },
 "nbformat": 4,
 "nbformat_minor": 5
}
