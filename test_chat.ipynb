{
 "cells": [
  {
   "cell_type": "code",
   "execution_count": 40,
   "id": "da0029bc-09cf-4b00-9303-f64f3a7ad5b5",
   "metadata": {},
   "outputs": [],
   "source": [
    "import logging\n",
    "\n",
    "from typing import List, Any, Optional, Dict, Tuple\n",
    "from llama_index.vector_stores.types import (\n",
    "    VectorStore,\n",
    "    VectorStoreQuery,\n",
    "    VectorStoreQueryResult,\n",
    ")\n",
    "import llama_index\n",
    "from llama_index import StorageContext, VectorStoreIndex, ServiceContext\n",
    "from llama_index.schema import TextNode, BaseNode, Document\n",
    "from llama_index.memory import ChatMemoryBuffer\n",
    "\n",
    "import oci\n",
    "import ads\n",
    "\n",
    "# only to check versions!\n",
    "import oracledb\n",
    "\n",
    "from oci_utils import load_oci_config\n",
    "from ads.llm import GenerativeAIEmbeddings, GenerativeAI\n",
    "from oracle_vector_db import OracleVectorStore\n",
    "from oci_baai_reranker import OCIBAAIReranker\n",
    "from oci_llama_reranker import OCILLamaReranker\n",
    "from tokenizers import Tokenizer\n",
    "\n",
    "from config import EMBED_MODEL, RERANKER_ID, TOKENIZER\n",
    "from config_private import COMPARTMENT_OCID, ENDPOINT"
   ]
  },
  {
   "cell_type": "code",
   "execution_count": 41,
   "id": "0ab9f6d9-ed56-45c5-a458-fd7fedd1a60a",
   "metadata": {},
   "outputs": [
    {
     "name": "stdout",
     "output_type": "stream",
     "text": [
      "oracledb version: 2.0.0.dev20231121\n",
      "oci version: 2.112.1+preview.1.1649\n",
      "llama_index version: 0.9.21\n"
     ]
    }
   ],
   "source": [
    "# version I'm using\n",
    "print(f\"oracledb version: {oracledb.__version__}\")\n",
    "print(f\"oci version: {oci.__version__}\")\n",
    "print(f\"llama_index version: {llama_index.__version__}\")"
   ]
  },
  {
   "cell_type": "code",
   "execution_count": 42,
   "id": "f762f672-25b6-4d80-a3b9-2c3e8416e923",
   "metadata": {},
   "outputs": [],
   "source": [
    "cohere_tokenizer = Tokenizer.from_pretrained(TOKENIZER)"
   ]
  },
  {
   "cell_type": "code",
   "execution_count": 43,
   "id": "c527ea15-6699-4b62-946f-1dc0cf2b04d8",
   "metadata": {},
   "outputs": [],
   "source": [
    "# parameters\n",
    "\n",
    "# for similarity query\n",
    "TOP_K = 4\n",
    "# for Reranker\n",
    "TOP_N = 2"
   ]
  },
  {
   "cell_type": "code",
   "execution_count": 44,
   "id": "bda6c3ee-8035-439b-9905-18660833803e",
   "metadata": {},
   "outputs": [
    {
     "name": "stderr",
     "output_type": "stream",
     "text": [
      "2024-01-04 13:50:49,069 - INFO - Created OCI reranker client...\n",
      "2024-01-04 13:50:49,069 - INFO - Region: eu-frankfurt-1...\n",
      "2024-01-04 13:50:49,070 - INFO - Deployment id: ocid1.datasciencemodeldeployment.oc1.eu-frankfurt-1.amaaaaaangencdyaulxbosgii6yajt2jdsrrvfbequkxt3mepz675uk3ui3q...\n",
      "2024-01-04 13:50:49,070 - INFO - \n"
     ]
    }
   ],
   "source": [
    "# Build the entire chain\n",
    "oci_config = load_oci_config()\n",
    "\n",
    "# need to do this way\n",
    "api_keys_config = ads.auth.api_keys(oci_config)\n",
    "\n",
    "# english, or for other language use: multilingual\n",
    "\n",
    "# Embedding model\n",
    "embed_model = GenerativeAIEmbeddings(\n",
    "    compartment_id=COMPARTMENT_OCID,\n",
    "    model=EMBED_MODEL,\n",
    "    auth=ads.auth.api_keys(oci_config),\n",
    "    # Optionally you can specify keyword arguments for the OCI client, e.g. service_endpoint.\n",
    "    client_kwargs={\"service_endpoint\": ENDPOINT},\n",
    ")\n",
    "\n",
    "# Vector Store\n",
    "v_store = OracleVectorStore(verbose=True)\n",
    "\n",
    "# reranker\n",
    "# Reranker is deployed in OCI Data Science as a Model Deployment\n",
    "\n",
    "baai_reranker = OCIBAAIReranker(\n",
    "    auth=api_keys_config,\n",
    "    # OCID of the Model Deployment used\n",
    "    deployment_id=RERANKER_ID,\n",
    "    region=\"eu-frankfurt-1\",\n",
    ")\n",
    "\n",
    "reranker = OCILLamaReranker(oci_reranker=baai_reranker, top_n=TOP_N)\n",
    "\n",
    "# LLM\n",
    "llm_oci = GenerativeAI(\n",
    "    auth=ads.auth.api_keys(oci_config),\n",
    "    compartment_id=COMPARTMENT_OCID,\n",
    "    max_tokens=1024,\n",
    "    # Optionally you can specify keyword arguments for the OCI client, e.g. service_endpoint.\n",
    "    client_kwargs={\"service_endpoint\": ENDPOINT},\n",
    ")\n",
    "\n",
    "# Llama-index\n",
    "service_context = ServiceContext.from_defaults(llm=llm_oci, embed_model=embed_model)\n",
    "\n",
    "index = VectorStoreIndex.from_vector_store(\n",
    "    vector_store=v_store, service_context=service_context\n",
    ")"
   ]
  },
  {
   "cell_type": "markdown",
   "id": "ffa16588-aadd-4e63-81cf-899bc7a9b2e0",
   "metadata": {},
   "source": [
    "#### To add message_history, create a chat_engine"
   ]
  },
  {
   "cell_type": "code",
   "execution_count": 47,
   "id": "0f9f2df5-716b-46c0-847b-5fc022db4436",
   "metadata": {},
   "outputs": [],
   "source": [
    "memory = ChatMemoryBuffer.from_defaults(\n",
    "    token_limit=2200, tokenizer_fn=cohere_tokenizer.encode\n",
    ")\n",
    "\n",
    "chat_engine = index.as_chat_engine(\n",
    "    chat_mode=\"context\",\n",
    "    memory=memory,\n",
    "    verbose=True,\n",
    "    similarity_top_k=TOP_K,\n",
    "    node_postprocessors=[reranker],\n",
    ")"
   ]
  },
  {
   "cell_type": "code",
   "execution_count": 48,
   "id": "344f8584-8941-4291-b915-91f8453da88f",
   "metadata": {},
   "outputs": [],
   "source": [
    "# start a new conversation\n",
    "chat_engine.reset()"
   ]
  },
  {
   "cell_type": "code",
   "execution_count": 49,
   "id": "ae420ebf-9aba-43fd-ab02-c19fdbda8506",
   "metadata": {},
   "outputs": [
    {
     "data": {
      "text/plain": [
       "[]"
      ]
     },
     "execution_count": 49,
     "metadata": {},
     "output_type": "execute_result"
    }
   ],
   "source": [
    "memory.chat_history"
   ]
  },
  {
   "cell_type": "code",
   "execution_count": 50,
   "id": "078bd15c-af24-4ee2-8a2f-ee01cc49f593",
   "metadata": {},
   "outputs": [
    {
     "name": "stderr",
     "output_type": "stream",
     "text": [
      "2024-01-04 13:52:15,441 - INFO - ---> Calling query on DB\n",
      "2024-01-04 13:52:15,608 - INFO - select: select V.id, C.CHUNK, C.PAGE_NUM, \n",
      "                            ROUND(VECTOR_DISTANCE(V.VEC, :1, DOT), 3) as d,\n",
      "                            NAME \n",
      "                            from VECTORS V, CHUNKS C, BOOKS B\n",
      "                            where C.ID = V.ID and\n",
      "                            C.BOOK_ID = B.ID\n",
      "                            order by d\n",
      "                            FETCH FIRST 4 ROWS ONLY\n",
      "2024-01-04 13:52:15,957 - INFO - Query duration: 0.5 sec.\n",
      "2024-01-04 13:52:15,959 - INFO - Reranking...\n"
     ]
    },
    {
     "name": "stdout",
     "output_type": "stream",
     "text": [
      " The last release for Oracle Database that I could find is Oracle Database 23c, released in October 2023. \n",
      "\n",
      "It's important to note that releases are constantly updated and changed, so this may not be the latest information. Would you like to know more about this release? \n"
     ]
    }
   ],
   "source": [
    "response = chat_engine.chat(\"What is the last release for Oracle database?\")\n",
    "\n",
    "print(response.response)"
   ]
  },
  {
   "cell_type": "code",
   "execution_count": 51,
   "id": "faed858c-8a50-4370-8c33-79902e89445c",
   "metadata": {},
   "outputs": [
    {
     "data": {
      "text/plain": [
       "[ChatMessage(role=<MessageRole.USER: 'user'>, content='What is the last release for Oracle database?', additional_kwargs={}),\n",
       " ChatMessage(role=<MessageRole.ASSISTANT: 'assistant'>, content=\" The last release for Oracle Database that I could find is Oracle Database 23c, released in October 2023. \\n\\nIt's important to note that releases are constantly updated and changed, so this may not be the latest information. Would you like to know more about this release? \", additional_kwargs={})]"
      ]
     },
     "execution_count": 51,
     "metadata": {},
     "output_type": "execute_result"
    }
   ],
   "source": [
    "memory.chat_history"
   ]
  },
  {
   "cell_type": "code",
   "execution_count": 52,
   "id": "c237c0a5-f8e7-4663-bc42-b7aba9dc78c7",
   "metadata": {},
   "outputs": [
    {
     "name": "stderr",
     "output_type": "stream",
     "text": [
      "2024-01-04 13:52:29,590 - INFO - ---> Calling query on DB\n",
      "2024-01-04 13:52:29,797 - INFO - select: select V.id, C.CHUNK, C.PAGE_NUM, \n",
      "                            ROUND(VECTOR_DISTANCE(V.VEC, :1, DOT), 3) as d,\n",
      "                            NAME \n",
      "                            from VECTORS V, CHUNKS C, BOOKS B\n",
      "                            where C.ID = V.ID and\n",
      "                            C.BOOK_ID = B.ID\n",
      "                            order by d\n",
      "                            FETCH FIRST 4 ROWS ONLY\n",
      "2024-01-04 13:52:30,161 - INFO - Query duration: 0.6 sec.\n",
      "2024-01-04 13:52:30,164 - INFO - Reranking...\n"
     ]
    },
    {
     "name": "stdout",
     "output_type": "stream",
     "text": [
      " Yes, Oracle Database 23c is a long-term support release. \n",
      "\n",
      "Oracle Database Releases 19c and 21c were also designated Long Term Support Releases (LTSR) and received updates for extended periods compared to non-LTSRs. However, Oracle Database 23c is the latest LTSR and will remain supported for many years to come, \n",
      "but oracle has not yet specified exactly how many years. \n",
      "\n",
      "Oracle announces new versions and releases every year, so it is likely that a newer version may come out in the future. Would you like to know more about Oracle Database releases? \n"
     ]
    }
   ],
   "source": [
    "response = chat_engine.chat(\"Is it a long term release?\")\n",
    "\n",
    "print(response.response)"
   ]
  },
  {
   "cell_type": "code",
   "execution_count": 53,
   "id": "b9754c2e-fff9-40cd-92bd-679e14545088",
   "metadata": {},
   "outputs": [
    {
     "data": {
      "text/plain": [
       "[ChatMessage(role=<MessageRole.USER: 'user'>, content='What is the last release for Oracle database?', additional_kwargs={}),\n",
       " ChatMessage(role=<MessageRole.ASSISTANT: 'assistant'>, content=\" The last release for Oracle Database that I could find is Oracle Database 23c, released in October 2023. \\n\\nIt's important to note that releases are constantly updated and changed, so this may not be the latest information. Would you like to know more about this release? \", additional_kwargs={}),\n",
       " ChatMessage(role=<MessageRole.USER: 'user'>, content='Is it a long term release?', additional_kwargs={}),\n",
       " ChatMessage(role=<MessageRole.ASSISTANT: 'assistant'>, content=' Yes, Oracle Database 23c is a long-term support release. \\n\\nOracle Database Releases 19c and 21c were also designated Long Term Support Releases (LTSR) and received updates for extended periods compared to non-LTSRs. However, Oracle Database 23c is the latest LTSR and will remain supported for many years to come, \\nbut oracle has not yet specified exactly how many years. \\n\\nOracle announces new versions and releases every year, so it is likely that a newer version may come out in the future. Would you like to know more about Oracle Database releases? ', additional_kwargs={})]"
      ]
     },
     "execution_count": 53,
     "metadata": {},
     "output_type": "execute_result"
    }
   ],
   "source": [
    "memory.chat_history"
   ]
  },
  {
   "cell_type": "code",
   "execution_count": 54,
   "id": "e8e83fd9-e144-408e-9f73-c3c3c38a0e84",
   "metadata": {},
   "outputs": [
    {
     "name": "stderr",
     "output_type": "stream",
     "text": [
      "2024-01-04 13:52:48,027 - INFO - ---> Calling query on DB\n",
      "2024-01-04 13:52:48,215 - INFO - select: select V.id, C.CHUNK, C.PAGE_NUM, \n",
      "                            ROUND(VECTOR_DISTANCE(V.VEC, :1, DOT), 3) as d,\n",
      "                            NAME \n",
      "                            from VECTORS V, CHUNKS C, BOOKS B\n",
      "                            where C.ID = V.ID and\n",
      "                            C.BOOK_ID = B.ID\n",
      "                            order by d\n",
      "                            FETCH FIRST 4 ROWS ONLY\n",
      "2024-01-04 13:52:48,632 - INFO - Query duration: 0.6 sec.\n",
      "2024-01-04 13:52:48,635 - INFO - Reranking...\n"
     ]
    },
    {
     "name": "stdout",
     "output_type": "stream",
     "text": [
      " Oracle Database 23c has continued to improve and add features for JSON support. Here are some of the enhanced features:\n",
      "\n",
      "1. **JSON-Relational Duality Views**: Duality views are a game-changing feature that allows you to store data in a normalized, efficient format in relational tables while providing JSON documents as an interface for applications to access the data. This simplifies the process of working with both relational and document models.\n",
      "\n",
      "2. **JSON Schema Validation**: While JSON is typically schemaless, providing flexibility, JSON Schema Validation allows you to enforce mandatory fixed structures and typing on your JSON data. This can be useful for ensuring consistency in your data.\n",
      "\n",
      "3. **Consistent XML and JSON Search Index Syntax**: The syntax for creating and working with XML and JSON search indexes is now consistent, which increases productivity. Additionally, the performance of these search indexes has been improved.\n",
      "\n",
      "It's important to note that these are just a few of the new features specific to JSON in Oracle Database 23c. There are also other improvements and features related to security, performance, and more. \n",
      "\n",
      "It's a good idea to refer to the latest documentation from Oracle for more detailed information on new features and updates, as this information may be outdated shortly. \n",
      "\n",
      "Would you like to know more about these features? \n"
     ]
    }
   ],
   "source": [
    "response = chat_engine.chat(\"What about new features for JSON?\")\n",
    "\n",
    "print(response.response)"
   ]
  },
  {
   "cell_type": "code",
   "execution_count": 55,
   "id": "d4d4f12a-6a73-42e2-a565-94eefec9b2f6",
   "metadata": {},
   "outputs": [
    {
     "data": {
      "text/plain": [
       "[ChatMessage(role=<MessageRole.USER: 'user'>, content='What is the last release for Oracle database?', additional_kwargs={}),\n",
       " ChatMessage(role=<MessageRole.ASSISTANT: 'assistant'>, content=\" The last release for Oracle Database that I could find is Oracle Database 23c, released in October 2023. \\n\\nIt's important to note that releases are constantly updated and changed, so this may not be the latest information. Would you like to know more about this release? \", additional_kwargs={}),\n",
       " ChatMessage(role=<MessageRole.USER: 'user'>, content='Is it a long term release?', additional_kwargs={}),\n",
       " ChatMessage(role=<MessageRole.ASSISTANT: 'assistant'>, content=' Yes, Oracle Database 23c is a long-term support release. \\n\\nOracle Database Releases 19c and 21c were also designated Long Term Support Releases (LTSR) and received updates for extended periods compared to non-LTSRs. However, Oracle Database 23c is the latest LTSR and will remain supported for many years to come, \\nbut oracle has not yet specified exactly how many years. \\n\\nOracle announces new versions and releases every year, so it is likely that a newer version may come out in the future. Would you like to know more about Oracle Database releases? ', additional_kwargs={}),\n",
       " ChatMessage(role=<MessageRole.USER: 'user'>, content='What about new features for JSON?', additional_kwargs={}),\n",
       " ChatMessage(role=<MessageRole.ASSISTANT: 'assistant'>, content=\" Oracle Database 23c has continued to improve and add features for JSON support. Here are some of the enhanced features:\\n\\n1. **JSON-Relational Duality Views**: Duality views are a game-changing feature that allows you to store data in a normalized, efficient format in relational tables while providing JSON documents as an interface for applications to access the data. This simplifies the process of working with both relational and document models.\\n\\n2. **JSON Schema Validation**: While JSON is typically schemaless, providing flexibility, JSON Schema Validation allows you to enforce mandatory fixed structures and typing on your JSON data. This can be useful for ensuring consistency in your data.\\n\\n3. **Consistent XML and JSON Search Index Syntax**: The syntax for creating and working with XML and JSON search indexes is now consistent, which increases productivity. Additionally, the performance of these search indexes has been improved.\\n\\nIt's important to note that these are just a few of the new features specific to JSON in Oracle Database 23c. There are also other improvements and features related to security, performance, and more. \\n\\nIt's a good idea to refer to the latest documentation from Oracle for more detailed information on new features and updates, as this information may be outdated shortly. \\n\\nWould you like to know more about these features? \", additional_kwargs={})]"
      ]
     },
     "execution_count": 55,
     "metadata": {},
     "output_type": "execute_result"
    }
   ],
   "source": [
    "memory.chat_history"
   ]
  },
  {
   "cell_type": "code",
   "execution_count": 56,
   "id": "7f9250a9-0914-4d48-9232-5920aacdc228",
   "metadata": {},
   "outputs": [
    {
     "name": "stderr",
     "output_type": "stream",
     "text": [
      "2024-01-04 13:53:07,866 - INFO - ---> Calling query on DB\n",
      "2024-01-04 13:53:08,064 - INFO - select: select V.id, C.CHUNK, C.PAGE_NUM, \n",
      "                            ROUND(VECTOR_DISTANCE(V.VEC, :1, DOT), 3) as d,\n",
      "                            NAME \n",
      "                            from VECTORS V, CHUNKS C, BOOKS B\n",
      "                            where C.ID = V.ID and\n",
      "                            C.BOOK_ID = B.ID\n",
      "                            order by d\n",
      "                            FETCH FIRST 4 ROWS ONLY\n",
      "2024-01-04 13:53:08,509 - INFO - Query duration: 0.6 sec.\n",
      "2024-01-04 13:53:08,512 - INFO - Reranking...\n"
     ]
    },
    {
     "name": "stdout",
     "output_type": "stream",
     "text": [
      " Sure, here are some more details regarding the first feature mentioned, JSON-Relational Duality Views. \n",
      "\n",
      "Duality views are a powerful tool for integrating relational and document data models in Oracle Database 23c. They allow you to store data in a structured, relational format while providing a JSON interface for applications to access the same data. This approach offers several advantages.\n",
      "\n",
      "1. **Data Consistency**: With duality views, you can ensure that your data is consistent across both the relational and document models. Any changes made to the data through one interface will be automatically reflected in the other, eliminating the risk of data inconsistency. \n",
      "\n",
      "2. **Ease of Use**: Relational databases are well-established and provide a familiar interface for working with structured data. On the other hand, JSON is widely used for handling unstructured or semi-structured data. Duality views bridge this gap, allowing you to work with JSON data using the same querying and manipulation techniques you're used to with relational databases. \n",
      "\n",
      "3. **Flexibility**: Duality views enable you to take advantage of the best features of both data models. You can use relational databases for their ACID properties, data integrity, and structured queries, while also leveraging JSON's flexibility for handling diverse data structures and ease of integration with modern applications. \n",
      "\n",
      "4. **Performance**: Oracle Database 23c optimizes the performance of duality views by leveraging its built-in indexing and querying capabilities. This ensures that you can work with JSON data efficiently, even when dealing with large datasets. \n",
      "\n",
      "Using duality views offers a practical and powerful approach to seamlessly work with both relational and JSON data in Oracle Database 23c, providing flexibility, ease of use, and performance. \n",
      "\n",
      "Would you like to know more about any of these points, or would you like to continue with another feature? \n"
     ]
    }
   ],
   "source": [
    "response = chat_engine.chat(\"Yes give me some more details regarding the n. 1\")\n",
    "\n",
    "print(response.response)"
   ]
  },
  {
   "cell_type": "code",
   "execution_count": 58,
   "id": "6a94edaa-2ec2-4f84-b3b0-e7d54dd6a02a",
   "metadata": {},
   "outputs": [
    {
     "data": {
      "text/plain": [
       "[ChatMessage(role=<MessageRole.USER: 'user'>, content='What is the last release for Oracle database?', additional_kwargs={}),\n",
       " ChatMessage(role=<MessageRole.ASSISTANT: 'assistant'>, content=\" The last release for Oracle Database that I could find is Oracle Database 23c, released in October 2023. \\n\\nIt's important to note that releases are constantly updated and changed, so this may not be the latest information. Would you like to know more about this release? \", additional_kwargs={}),\n",
       " ChatMessage(role=<MessageRole.USER: 'user'>, content='Is it a long term release?', additional_kwargs={}),\n",
       " ChatMessage(role=<MessageRole.ASSISTANT: 'assistant'>, content=' Yes, Oracle Database 23c is a long-term support release. \\n\\nOracle Database Releases 19c and 21c were also designated Long Term Support Releases (LTSR) and received updates for extended periods compared to non-LTSRs. However, Oracle Database 23c is the latest LTSR and will remain supported for many years to come, \\nbut oracle has not yet specified exactly how many years. \\n\\nOracle announces new versions and releases every year, so it is likely that a newer version may come out in the future. Would you like to know more about Oracle Database releases? ', additional_kwargs={}),\n",
       " ChatMessage(role=<MessageRole.USER: 'user'>, content='What about new features for JSON?', additional_kwargs={}),\n",
       " ChatMessage(role=<MessageRole.ASSISTANT: 'assistant'>, content=\" Oracle Database 23c has continued to improve and add features for JSON support. Here are some of the enhanced features:\\n\\n1. **JSON-Relational Duality Views**: Duality views are a game-changing feature that allows you to store data in a normalized, efficient format in relational tables while providing JSON documents as an interface for applications to access the data. This simplifies the process of working with both relational and document models.\\n\\n2. **JSON Schema Validation**: While JSON is typically schemaless, providing flexibility, JSON Schema Validation allows you to enforce mandatory fixed structures and typing on your JSON data. This can be useful for ensuring consistency in your data.\\n\\n3. **Consistent XML and JSON Search Index Syntax**: The syntax for creating and working with XML and JSON search indexes is now consistent, which increases productivity. Additionally, the performance of these search indexes has been improved.\\n\\nIt's important to note that these are just a few of the new features specific to JSON in Oracle Database 23c. There are also other improvements and features related to security, performance, and more. \\n\\nIt's a good idea to refer to the latest documentation from Oracle for more detailed information on new features and updates, as this information may be outdated shortly. \\n\\nWould you like to know more about these features? \", additional_kwargs={}),\n",
       " ChatMessage(role=<MessageRole.USER: 'user'>, content='Yes give me some more details regarding the n. 1', additional_kwargs={}),\n",
       " ChatMessage(role=<MessageRole.ASSISTANT: 'assistant'>, content=\" Sure, here are some more details regarding the first feature mentioned, JSON-Relational Duality Views. \\n\\nDuality views are a powerful tool for integrating relational and document data models in Oracle Database 23c. They allow you to store data in a structured, relational format while providing a JSON interface for applications to access the same data. This approach offers several advantages.\\n\\n1. **Data Consistency**: With duality views, you can ensure that your data is consistent across both the relational and document models. Any changes made to the data through one interface will be automatically reflected in the other, eliminating the risk of data inconsistency. \\n\\n2. **Ease of Use**: Relational databases are well-established and provide a familiar interface for working with structured data. On the other hand, JSON is widely used for handling unstructured or semi-structured data. Duality views bridge this gap, allowing you to work with JSON data using the same querying and manipulation techniques you're used to with relational databases. \\n\\n3. **Flexibility**: Duality views enable you to take advantage of the best features of both data models. You can use relational databases for their ACID properties, data integrity, and structured queries, while also leveraging JSON's flexibility for handling diverse data structures and ease of integration with modern applications. \\n\\n4. **Performance**: Oracle Database 23c optimizes the performance of duality views by leveraging its built-in indexing and querying capabilities. This ensures that you can work with JSON data efficiently, even when dealing with large datasets. \\n\\nUsing duality views offers a practical and powerful approach to seamlessly work with both relational and JSON data in Oracle Database 23c, providing flexibility, ease of use, and performance. \\n\\nWould you like to know more about any of these points, or would you like to continue with another feature? \", additional_kwargs={})]"
      ]
     },
     "execution_count": 58,
     "metadata": {},
     "output_type": "execute_result"
    }
   ],
   "source": [
    "memory.chat_history"
   ]
  },
  {
   "cell_type": "code",
   "execution_count": 67,
   "id": "84f897b3-ac12-4b36-afb2-80cd7955d842",
   "metadata": {},
   "outputs": [
    {
     "name": "stderr",
     "output_type": "stream",
     "text": [
      "2024-01-04 14:30:07,603 - INFO - ---> Calling query on DB\n",
      "2024-01-04 14:30:07,780 - INFO - select: select V.id, C.CHUNK, C.PAGE_NUM, \n",
      "                            ROUND(VECTOR_DISTANCE(V.VEC, :1, DOT), 3) as d,\n",
      "                            NAME \n",
      "                            from VECTORS V, CHUNKS C, BOOKS B\n",
      "                            where C.ID = V.ID and\n",
      "                            C.BOOK_ID = B.ID\n",
      "                            order by d\n",
      "                            FETCH FIRST 4 ROWS ONLY\n",
      "2024-01-04 14:30:08,129 - INFO - Query duration: 0.5 sec.\n",
      "2024-01-04 14:30:08,132 - INFO - Reranking...\n"
     ]
    },
    {
     "name": "stdout",
     "output_type": "stream",
     "text": [
      " Long COVID is an umbrella term for a range of new or ongoing symptoms and medical conditions that can occur four or more weeks after a COVID-19 infection. While long COVID manifests differently in each patient, common symptoms include:\n",
      "\n",
      "1. Cardiopulmonary symptoms: These are symptoms that affect the heart and lungs, such as shortness of breath, fatigue, chest pain, palpitations, and fever. \n",
      "\n",
      "2. Neurocognitive symptoms: These are symptoms that affect the brain and nervous system, such as brain fog, difficulty with memory and concentration, headaches, and dizziness. \n",
      "\n",
      "3. Gastrointestinal symptoms: These are symptoms that affect the stomach and intestines, such as nausea, vomiting, diarrhea, constipation, and altered sense of smell or taste.\n",
      "\n",
      "4. Musculoskeletal symptoms: These are symptoms that affect the muscles, bones, and joints, such as myalgia, arthralgia, and arthritis.\n",
      "\n",
      "5. Psychiatric symptoms: These are symptoms that affect the mind and emotions, such as depression, anxiety, insomnia, and panic attacks. \n",
      "\n",
      "It's important to note that long COVID is a complex condition affecting many different systems in the body. If you are experiencing any of these symptoms and suspect you may have long COVID, it is important to consult with a medical professional who can provide an accurate diagnosis and appropriate treatment. \n",
      "\n",
      "Would you like me to go into more detail on any of the above symptoms? \n"
     ]
    }
   ],
   "source": [
    "response = chat_engine.chat(\"What about the symptoms for long covid?\")\n",
    "\n",
    "print(response.response)"
   ]
  },
  {
   "cell_type": "code",
   "execution_count": 63,
   "id": "30b5de75-ec20-44b0-a8ec-6ab067b00266",
   "metadata": {},
   "outputs": [
    {
     "data": {
      "text/plain": [
       "[ChatMessage(role=<MessageRole.USER: 'user'>, content='What is the last release for Oracle database?', additional_kwargs={}),\n",
       " ChatMessage(role=<MessageRole.ASSISTANT: 'assistant'>, content=\" The last release for Oracle Database that I could find is Oracle Database 23c, released in October 2023. \\n\\nIt's important to note that releases are constantly updated and changed, so this may not be the latest information. Would you like to know more about this release? \", additional_kwargs={}),\n",
       " ChatMessage(role=<MessageRole.USER: 'user'>, content='Is it a long term release?', additional_kwargs={}),\n",
       " ChatMessage(role=<MessageRole.ASSISTANT: 'assistant'>, content=' Yes, Oracle Database 23c is a long-term support release. \\n\\nOracle Database Releases 19c and 21c were also designated Long Term Support Releases (LTSR) and received updates for extended periods compared to non-LTSRs. However, Oracle Database 23c is the latest LTSR and will remain supported for many years to come, \\nbut oracle has not yet specified exactly how many years. \\n\\nOracle announces new versions and releases every year, so it is likely that a newer version may come out in the future. Would you like to know more about Oracle Database releases? ', additional_kwargs={}),\n",
       " ChatMessage(role=<MessageRole.USER: 'user'>, content='What about new features for JSON?', additional_kwargs={}),\n",
       " ChatMessage(role=<MessageRole.ASSISTANT: 'assistant'>, content=\" Oracle Database 23c has continued to improve and add features for JSON support. Here are some of the enhanced features:\\n\\n1. **JSON-Relational Duality Views**: Duality views are a game-changing feature that allows you to store data in a normalized, efficient format in relational tables while providing JSON documents as an interface for applications to access the data. This simplifies the process of working with both relational and document models.\\n\\n2. **JSON Schema Validation**: While JSON is typically schemaless, providing flexibility, JSON Schema Validation allows you to enforce mandatory fixed structures and typing on your JSON data. This can be useful for ensuring consistency in your data.\\n\\n3. **Consistent XML and JSON Search Index Syntax**: The syntax for creating and working with XML and JSON search indexes is now consistent, which increases productivity. Additionally, the performance of these search indexes has been improved.\\n\\nIt's important to note that these are just a few of the new features specific to JSON in Oracle Database 23c. There are also other improvements and features related to security, performance, and more. \\n\\nIt's a good idea to refer to the latest documentation from Oracle for more detailed information on new features and updates, as this information may be outdated shortly. \\n\\nWould you like to know more about these features? \", additional_kwargs={}),\n",
       " ChatMessage(role=<MessageRole.USER: 'user'>, content='Yes give me some more details regarding the n. 1', additional_kwargs={}),\n",
       " ChatMessage(role=<MessageRole.ASSISTANT: 'assistant'>, content=\" Sure, here are some more details regarding the first feature mentioned, JSON-Relational Duality Views. \\n\\nDuality views are a powerful tool for integrating relational and document data models in Oracle Database 23c. They allow you to store data in a structured, relational format while providing a JSON interface for applications to access the same data. This approach offers several advantages.\\n\\n1. **Data Consistency**: With duality views, you can ensure that your data is consistent across both the relational and document models. Any changes made to the data through one interface will be automatically reflected in the other, eliminating the risk of data inconsistency. \\n\\n2. **Ease of Use**: Relational databases are well-established and provide a familiar interface for working with structured data. On the other hand, JSON is widely used for handling unstructured or semi-structured data. Duality views bridge this gap, allowing you to work with JSON data using the same querying and manipulation techniques you're used to with relational databases. \\n\\n3. **Flexibility**: Duality views enable you to take advantage of the best features of both data models. You can use relational databases for their ACID properties, data integrity, and structured queries, while also leveraging JSON's flexibility for handling diverse data structures and ease of integration with modern applications. \\n\\n4. **Performance**: Oracle Database 23c optimizes the performance of duality views by leveraging its built-in indexing and querying capabilities. This ensures that you can work with JSON data efficiently, even when dealing with large datasets. \\n\\nUsing duality views offers a practical and powerful approach to seamlessly work with both relational and JSON data in Oracle Database 23c, providing flexibility, ease of use, and performance. \\n\\nWould you like to know more about any of these points, or would you like to continue with another feature? \", additional_kwargs={}),\n",
       " ChatMessage(role=<MessageRole.USER: 'user'>, content='What about the symptoms for long covid?', additional_kwargs={}),\n",
       " ChatMessage(role=<MessageRole.ASSISTANT: 'assistant'>, content=\" Long COVID, also known as post-COVID conditions, is a phenomenon where individuals experience persistent, new, or recurring symptoms and conditions more than four weeks after the initial infection from SARS-CoV-2, the virus that causes COVID-19. The following are some common symptoms associated with long COVID:\\n\\n1. Fatigue and exhaustion: Feeling extremely tired and lacking energy is common, and it may be difficult to engage in regular activities.\\n\\n2. Respiratory issues: Long COVID patients may experience symptoms such as cough, shortness of breath, and difficulty breathing. These symptoms may persist or recur, even after the initial COVID-19 infection has resolved.\\n\\n3. Neurocognitive impairment: Difficulties with thinking, concentration, memory, and other cognitive functions have been reported.\\n\\n4. Cardiopulmonary injury: Long COVID patients may experience heart-related symptoms such as chest pain, palpitations, and arrhythmias. They may also experience symptoms related to lung damage, such as chronic coughing and pulmonary function abnormalities.\\n\\n5. New-onset diabetes: Developing diabetes after an initial COVID-19 infection is another potential symptom of long COVID. \\n\\nIt's important to note that long COVID is a multifaceted condition, and the symptoms can vary widely from person to person. While some individuals may experience a few specific symptoms, others may have a wide range of symptoms affecting different systems of the body.\\n\\nIf you or someone you know is experiencing symptoms that may be related to long COVID, it is important to consult with a healthcare professional for proper diagnosis and treatment. \\n\\nWould you like to know more about any of these symptoms or require more information on long COVID? \", additional_kwargs={}),\n",
       " ChatMessage(role=<MessageRole.USER: 'user'>, content='Tell me more about the point n. 2', additional_kwargs={})]"
      ]
     },
     "execution_count": 63,
     "metadata": {},
     "output_type": "execute_result"
    }
   ],
   "source": [
    "memory.chat_history"
   ]
  },
  {
   "cell_type": "code",
   "execution_count": 64,
   "id": "4a4c14e7-195e-41e5-b801-4fc240ecbcea",
   "metadata": {},
   "outputs": [
    {
     "data": {
      "text/plain": [
       "[]"
      ]
     },
     "execution_count": 64,
     "metadata": {},
     "output_type": "execute_result"
    }
   ],
   "source": [
    "memory.reset()\n",
    "\n",
    "memory.chat_history"
   ]
  },
  {
   "cell_type": "code",
   "execution_count": 65,
   "id": "f498035a-6ea9-4add-b9e3-a12344910401",
   "metadata": {},
   "outputs": [
    {
     "name": "stderr",
     "output_type": "stream",
     "text": [
      "2024-01-04 14:00:08,899 - INFO - ---> Calling query on DB\n",
      "2024-01-04 14:00:09,157 - INFO - select: select V.id, C.CHUNK, C.PAGE_NUM, \n",
      "                            ROUND(VECTOR_DISTANCE(V.VEC, :1, DOT), 3) as d,\n",
      "                            NAME \n",
      "                            from VECTORS V, CHUNKS C, BOOKS B\n",
      "                            where C.ID = V.ID and\n",
      "                            C.BOOK_ID = B.ID\n",
      "                            order by d\n",
      "                            FETCH FIRST 4 ROWS ONLY\n",
      "2024-01-04 14:00:09,472 - INFO - Query duration: 0.6 sec.\n",
      "2024-01-04 14:00:09,474 - INFO - Reranking...\n"
     ]
    },
    {
     "name": "stdout",
     "output_type": "stream",
     "text": [
      " Long COVID is an umbrella term for a wide range of new, returning or ongoing health problems people can experience four or more weeks after first being infected with SARS-CoV-2, the virus that causes COVID-19. \n",
      "\n",
      "Symptoms of long COVID may also include respiratory issues such as coughing, shortness of breath, and fatigue. Other symptoms include insomnia, changes in smell and/or taste, gastrointestinal symptoms, headaches, anxiety and depression, myalgia and arthralgia, and neurological symptoms. In addition, reproductive symptoms including menstrual disorders and abortive infertility have also been reported. \n",
      "\n",
      "The onset of long COVID can be gradual, with symptoms appearing or worsening over time. Long COVID may last for months or years, depending on the individual. In some cases, symptoms may never fully resolve. \n",
      "\n",
      "It is important to note that long COVID is a complex and dynamic condition, and research is still ongoing to understand its causes and potential treatments. If you are experiencing long-COVID symptoms it is best to consult with a medical professional to determine the best treatment plan for you. \n",
      "\n",
      "Would you like me to go into more detail on any of the aforementioned symptoms? \n"
     ]
    }
   ],
   "source": [
    "response = chat_engine.chat(\"Tell me more about Respiratory issues in long covid\")\n",
    "\n",
    "print(response.response)"
   ]
  },
  {
   "cell_type": "code",
   "execution_count": 66,
   "id": "fbacfa10-4d56-40d5-9966-5c19dc6688bd",
   "metadata": {},
   "outputs": [
    {
     "data": {
      "text/plain": [
       "[ChatMessage(role=<MessageRole.USER: 'user'>, content='Tell me more about Respiratory issues in long covid', additional_kwargs={}),\n",
       " ChatMessage(role=<MessageRole.ASSISTANT: 'assistant'>, content=' Long COVID is an umbrella term for a wide range of new, returning or ongoing health problems people can experience four or more weeks after first being infected with SARS-CoV-2, the virus that causes COVID-19. \\n\\nSymptoms of long COVID may also include respiratory issues such as coughing, shortness of breath, and fatigue. Other symptoms include insomnia, changes in smell and/or taste, gastrointestinal symptoms, headaches, anxiety and depression, myalgia and arthralgia, and neurological symptoms. In addition, reproductive symptoms including menstrual disorders and abortive infertility have also been reported. \\n\\nThe onset of long COVID can be gradual, with symptoms appearing or worsening over time. Long COVID may last for months or years, depending on the individual. In some cases, symptoms may never fully resolve. \\n\\nIt is important to note that long COVID is a complex and dynamic condition, and research is still ongoing to understand its causes and potential treatments. If you are experiencing long-COVID symptoms it is best to consult with a medical professional to determine the best treatment plan for you. \\n\\nWould you like me to go into more detail on any of the aforementioned symptoms? ', additional_kwargs={})]"
      ]
     },
     "execution_count": 66,
     "metadata": {},
     "output_type": "execute_result"
    }
   ],
   "source": [
    "memory.chat_history"
   ]
  },
  {
   "cell_type": "code",
   "execution_count": null,
   "id": "c534d223-33b6-42eb-9346-74ff8c9eb303",
   "metadata": {},
   "outputs": [],
   "source": [
    "memory."
   ]
  }
 ],
 "metadata": {
  "kernelspec": {
   "display_name": "Python 3 (ipykernel)",
   "language": "python",
   "name": "python3"
  },
  "language_info": {
   "codemirror_mode": {
    "name": "ipython",
    "version": 3
   },
   "file_extension": ".py",
   "mimetype": "text/x-python",
   "name": "python",
   "nbconvert_exporter": "python",
   "pygments_lexer": "ipython3",
   "version": "3.9.0"
  }
 },
 "nbformat": 4,
 "nbformat_minor": 5
}
