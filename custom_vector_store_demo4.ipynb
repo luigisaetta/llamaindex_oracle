{
 "cells": [
  {
   "cell_type": "markdown",
   "id": "9c0e01ec-9c28-49df-b0c5-7e90bf6abe0e",
   "metadata": {},
   "source": [
    "### Oracle Vector DB wrapped as a llama-index custom Vector Store\n",
    "\n",
    "* ispired by: https://docs.llamaindex.ai/en/stable/examples/low_level/vector_store.html\n",
    "* effects of **reranking**"
   ]
  },
  {
   "cell_type": "code",
   "execution_count": 1,
   "id": "885d648a-548b-4f1e-930f-2d102f7d8f16",
   "metadata": {},
   "outputs": [],
   "source": [
    "import logging\n",
    "import sys\n",
    "\n",
    "from typing import List, Any, Optional, Dict, Tuple\n",
    "from llama_index.vector_stores.types import (\n",
    "    VectorStore,\n",
    "    VectorStoreQuery,\n",
    "    VectorStoreQueryResult,\n",
    ")\n",
    "import llama_index\n",
    "from llama_index import StorageContext, VectorStoreIndex, ServiceContext\n",
    "from llama_index.schema import TextNode, BaseNode, Document\n",
    "from llama_index.postprocessor.cohere_rerank import CohereRerank\n",
    "from llama_index.postprocessor import FlagEmbeddingReranker\n",
    "\n",
    "import oci\n",
    "import ads\n",
    "\n",
    "# only\n",
    "import oracledb\n",
    "from oci_utils import load_oci_config\n",
    "from ads.llm import GenerativeAIEmbeddings, GenerativeAI\n",
    "from oracle_vector_db import OracleVectorStore\n",
    "\n",
    "from config import EMBED_MODEL\n",
    "from config_private import COMPARTMENT_OCID, ENDPOINT, COHERE_API_KEY"
   ]
  },
  {
   "cell_type": "code",
   "execution_count": 2,
   "id": "3504c89a-fe91-40bd-b453-29d9ab2ed2ef",
   "metadata": {},
   "outputs": [
    {
     "name": "stdout",
     "output_type": "stream",
     "text": [
      "oracledb version: 2.0.0.dev20231121\n",
      "oci version: 2.112.1+preview.1.1649\n",
      "llama_index version: 0.9.21\n"
     ]
    }
   ],
   "source": [
    "# version I'm using\n",
    "print(f\"oracledb version: {oracledb.__version__}\")\n",
    "print(f\"oci version: {oci.__version__}\")\n",
    "print(f\"llama_index version: {llama_index.__version__}\")"
   ]
  },
  {
   "cell_type": "code",
   "execution_count": 3,
   "id": "3cf2241f-f99c-4ce0-b3f5-cb176858840f",
   "metadata": {},
   "outputs": [],
   "source": [
    "# for debugging\n",
    "# logging.basicConfig(stream=sys.stdout, level=logging.DEBUG)\n",
    "# logging.getLogger().addHandler(logging.StreamHandler(stream=sys.stdout))"
   ]
  },
  {
   "cell_type": "code",
   "execution_count": 4,
   "id": "77816119-932c-4e18-8011-1e3b02503120",
   "metadata": {},
   "outputs": [],
   "source": [
    "# setup\n",
    "oci_config = load_oci_config()\n",
    "\n",
    "# need to do this way\n",
    "api_keys_config = ads.auth.api_keys(oci_config)\n",
    "\n",
    "# english, or for other language use: multilingual\n",
    "\n",
    "embed_model = GenerativeAIEmbeddings(\n",
    "    compartment_id=COMPARTMENT_OCID,\n",
    "    model=EMBED_MODEL,\n",
    "    auth=ads.auth.api_keys(oci_config),\n",
    "    # Optionally you can specify keyword arguments for the OCI client, e.g. service_endpoint.\n",
    "    client_kwargs={\"service_endpoint\": ENDPOINT},\n",
    ")"
   ]
  },
  {
   "cell_type": "markdown",
   "id": "98531d22-fc7d-4575-965a-8b6685bdc7f2",
   "metadata": {},
   "source": [
    "#### Using the wrapper for the DB Vector Store"
   ]
  },
  {
   "cell_type": "code",
   "execution_count": 5,
   "id": "d0ce2a88-8950-4c7a-ab67-6bca8d1ac431",
   "metadata": {},
   "outputs": [],
   "source": [
    "v_store = OracleVectorStore(verbose=False)"
   ]
  },
  {
   "cell_type": "code",
   "execution_count": 6,
   "id": "a113f279-17d2-48f4-b8b5-22cf383908fd",
   "metadata": {},
   "outputs": [],
   "source": [
    "question = (\n",
    "    \"What is JSON Relational Duality in Oracle Database 23c? Explain with details\"\n",
    ")"
   ]
  },
  {
   "cell_type": "code",
   "execution_count": 7,
   "id": "47efc350-857f-42dd-b5ee-8a1ccfbfff4c",
   "metadata": {},
   "outputs": [],
   "source": [
    "# embed the query using OCI GenAI\n",
    "query_embedding = embed_model.embed_documents([question])[0]\n",
    "\n",
    "#  wrap in llama-index\n",
    "query_obj = VectorStoreQuery(query_embedding=query_embedding, similarity_top_k=5)"
   ]
  },
  {
   "cell_type": "markdown",
   "id": "48309d0a-c4cc-404c-802f-0ee66f9df319",
   "metadata": {},
   "source": [
    "#### Use our Vector Store DB"
   ]
  },
  {
   "cell_type": "code",
   "execution_count": 8,
   "id": "dddc851e-3f74-4ad2-8c41-78a1aa2e8781",
   "metadata": {},
   "outputs": [
    {
     "name": "stdout",
     "output_type": "stream",
     "text": [
      "CPU times: user 22.1 ms, sys: 5.38 ms, total: 27.5 ms\n",
      "Wall time: 769 ms\n"
     ]
    }
   ],
   "source": [
    "%%time\n",
    "\n",
    "q_result = v_store.query(query_obj)"
   ]
  },
  {
   "cell_type": "code",
   "execution_count": 9,
   "id": "7331d22c-0555-4a51-ac01-a2b595a15c5a",
   "metadata": {},
   "outputs": [
    {
     "name": "stdout",
     "output_type": "stream",
     "text": [
      "Dod. id: bfbaa15634643a2aac6e77b85a4f8a335eba697d741aaaa3646bdfb07fa3ba22\n",
      "Similarity: 0.696\n",
      "2 Application Development JSON JSON-Relational Duality JSON Relational Duality Views are fully updatable JSON views over relational data. Data is still stored in relational tables in a highly efficient normalized format but can be accessed by applications in the form of JSON documents. Duality views provide you with game-changing flexibility and simplicity by overcoming the historical challenges developers have faced when building applications using relational or document models. Related Resources View Documentation JSON Schema JSON Schema-based validation is allowed with the SQL condition IS JSON and with a PL/SQL utility function. A JSON schema is a JSON document that specifies allowed properties (field names) and the corresponding allowed data types, and whether they are optional or mandatory. By default, JSON data is schemaless, providing flexibility. However, you may want to ensure that your JSON data contains particular mandatory fixed structures and typing, besides other optional and flexible components, which can be done via JSON Schema validation. Related Resources View Documentation XML and JSON Search Index Enhancements The Oracle Text XML search index syntax and JSON search index syntax are now consistent. Additionally, the performance of JSON and XML search indexes has been improved. Using the same syntax for XML or JSON search indexes and better performance increase productivity. Related Resources View Documentation 2-1\n",
      "\n",
      "Dod. id: 85da167cce74f13dc9ab3e3ed9583936debe305d130e3855bf843e132d68e79e\n",
      "Similarity: 0.649\n",
      "1 Introduction Oracle Database 23c is the next long term support release of Oracle Database. Oracle Database 23c, code named “App Simple,” accelerates Oracle's mission to make it simple to develop and run all data-driven applications. It's the sum of all the features from the Oracle Database 21c innovation release plus over 300 new features and enhancements. Key focus areas include JSON, graph, microservices, and developer productivity. Note: For information about desupported features, see Oracle Database Changes, Desupports, and Deprecations. JSON Relational Duality Data can be transparently accessed and updated as either JSON documents or relational tables. Developers benefit from the strengths of both, which are simpler and more powerful than Object Relational Mapping (ORM). See JSON-Relational Duality . Operational Property Graphs in SQL Developers can now build real-time graph analysis applications against operational data directly in the Oracle Database, utilizing its industry leading security, high availability and performance capabilities. See Support for the ISO/IEC SQL Property Graph Queries (SQL/PGQ) Standard . Microservice Support Alongside Oracle’s already comprehensive support for microservices, new functionality makes it simpler to implement cross-service transactions. See Microservices . Lock-Free Column Value Reservations Lock-free column value reservations allow applications to reserve part of a value in a column without locking the row; for example, reserve part of a bank account balance or reserve an item in inventory without locking out all other operations on the bank account or item. See Lock-Free Reservations . 1-1\n",
      "\n",
      "Dod. id: abc7952c8991ff8be803eb97c2b1d5ba29e07996592b4fb31ebaa1bbdcf81e0f\n",
      "Similarity: 0.633\n",
      "Oracle® Database Oracle Database New Features Release 23c F48428-15 October 2023 \n",
      "\n",
      "Dod. id: 6cc50f780af736086562da9d06af34e00c0563d43fdd5dc1313167d3672a53e5\n",
      "Similarity: 0.629\n",
      "See Also: •Oracle XML DB Developer’s Guide •Oracle XML Developer's Kit Programmer's Guide Overview of JSON in Oracle Database Oracle Database provides native support for JavaScript Object Notation (JSON) data, including querying and indexing. This section contains the following topics: •What Is JSON? •JSON and XML •Native Database Support for JSON •What Is JSON? JavaScript Object Notation (JSON) is a language-independent, text-based data format that can represent objects, arrays, and scalar data. A variety of programming languages can parse and generate JSON data. •JSON and XML Both JSON and XML are commonly used as data-interchange languages. Unlike relational data, both JSON data and XML data can be stored, indexed, and queried in the database without any schema that defines the data. •Native Database Support for JSON JSON is widely stored in noSQL databases that lack relational database features. In contrast, Oracle Database supports JSON natively with features such as transactions, indexing, declarative querying, and views. What Is JSON? JavaScript Object Notation (JSON) is a language-independent, text-based data format that can represent objects, arrays, and scalar data. A variety of programming languages can parse and generate JSON data. JSON commonly serves as a data-interchange language. It is often used for serializing structured data and exchanging it over a network, typically between a server and web applications. JSON is the dominant data format in web browsers that run applications written in HTML-embedded JavaScript. A JavaScript object is an associative array of zero or more pairs of property names and associated JSON values. A JSON object is a JavaScript object literal, which is written as a property list enclosed in braces, with name-value pairs separated by commas, and with the name and value of each pair separated by a colon. An object property is sometimes called a key. An object property name-value pair is sometimes called an object member .Chapter 22 Topics for Database Developers 22-17\n",
      "\n",
      "Dod. id: dfdc96afaab93a7f6a82251096130684ce2da8dec83c3d2b4e04046dad4eaa03\n",
      "Similarity: 0.613\n",
      "Contents 1 Introduction 2 Application Development JSON 2-1 JSON-Relational Duality 2-1 JSON Schema 2-1 XML and JSON Search Index Enhancements 2-1 Changes for JSON Search Index and Data Guide 2-2 DBMS_AQ Support for JSON Arrays 2-2 Enhancement to JSON_TRANSFORM 2-2 JSON Type Support for External Tables 2-3 JSON/JSON_VALUE will Convert PL/SQL Aggregate Type to/from JSON 2-3 JSON_ARRAY Constructor by Query 2-3 JSON_EXPRESSION_CHECK Parameter 2-3 New JSON Data Dictionary Views 2-4 ORDERED in JSON_SERIALIZE 2-4 Precheckable Constraints using JSON SCHEMA 2-4 Predicates for JSON_VALUE and JSON_QUERY 2-4 Tools to Migrate JSON Text Storage to JSON Type Storages 2-5 SQL 2-5 Application Usage Annotations 2-5 Direct Joins for UPDATE and DELETE Statements 2-5 IF [NOT] EXISTS Syntax Support 2-5 New Database Role for Application Developers 2-6 Aggregation over INTERVAL Data Types 2-6 Application Usage Domains 2-6 Automatic PL/SQL to SQL Transpiler 2-6 Client Describe Call Support for Tag Options 2-7 DEFAULT ON NULL for UPDATE Statements 2-7 DESCRIBE Now Supports Column Annotations 2-7 Error Improvement 2-7 Extended CASE Controls 2-8 iii\n",
      "\n"
     ]
    }
   ],
   "source": [
    "for n, id, sim in zip(q_result.nodes, q_result.ids, q_result.similarities):\n",
    "    print(f\"Dod. id: {id}\")\n",
    "    print(f\"Similarity: {-sim}\")\n",
    "    print(n.text)\n",
    "    print(\"\")"
   ]
  },
  {
   "cell_type": "markdown",
   "id": "bd07c08e-2a88-4ab9-b84b-ea9b3f7a40f5",
   "metadata": {},
   "source": [
    "#### Apply a reranker to the (question, text) pairs"
   ]
  },
  {
   "cell_type": "code",
   "execution_count": 10,
   "id": "ebc32777-1a2f-4bb0-b0f2-b85428a3064f",
   "metadata": {},
   "outputs": [],
   "source": [
    "# rerank = CohereRerank(api_key=COHERE_API_KEY, top_n=2)"
   ]
  },
  {
   "cell_type": "code",
   "execution_count": 11,
   "id": "43e64a19-e362-4516-9353-c2c04685f592",
   "metadata": {},
   "outputs": [],
   "source": [
    "rerank = FlagEmbeddingReranker(top_n=2, use_fp16=True)"
   ]
  },
  {
   "cell_type": "code",
   "execution_count": 12,
   "id": "23e07c5e-c6c3-4314-becc-ab91d1a721d0",
   "metadata": {},
   "outputs": [
    {
     "data": {
      "text/plain": [
       "'BAAI/bge-reranker-large'"
      ]
     },
     "execution_count": 12,
     "metadata": {},
     "output_type": "execute_result"
    }
   ],
   "source": [
    "rerank.model"
   ]
  },
  {
   "cell_type": "markdown",
   "id": "e811a520-bef5-4070-acaa-f5e4cf45d989",
   "metadata": {},
   "source": [
    "#### Integrate in the bigger RAG picture"
   ]
  },
  {
   "cell_type": "code",
   "execution_count": 13,
   "id": "bf6b6e81-aaaa-4449-9108-60dae04986d2",
   "metadata": {},
   "outputs": [],
   "source": [
    "llm_oci = GenerativeAI(\n",
    "    compartment_id=COMPARTMENT_OCID,\n",
    "    max_tokens=1024,\n",
    "    # Optionally you can specify keyword arguments for the OCI client, e.g. service_endpoint.\n",
    "    client_kwargs={\"service_endpoint\": ENDPOINT},\n",
    ")"
   ]
  },
  {
   "cell_type": "code",
   "execution_count": 14,
   "id": "436f3ed2-5968-4ec5-ad97-c7ad3578e92a",
   "metadata": {},
   "outputs": [],
   "source": [
    "service_context = ServiceContext.from_defaults(llm=llm_oci, embed_model=embed_model)"
   ]
  },
  {
   "cell_type": "code",
   "execution_count": 15,
   "id": "32afd90b-67d7-417e-9d0a-d83e445a3d36",
   "metadata": {},
   "outputs": [],
   "source": [
    "index = VectorStoreIndex.from_vector_store(\n",
    "    vector_store=v_store, service_context=service_context\n",
    ")"
   ]
  },
  {
   "cell_type": "code",
   "execution_count": 16,
   "id": "88375ce0-16b1-44b6-80ee-3ca17c2a5332",
   "metadata": {},
   "outputs": [],
   "source": [
    "query_engine = index.as_query_engine(\n",
    "    similarity_top_k=5,\n",
    "    node_postprocessors=[rerank],\n",
    ")"
   ]
  },
  {
   "cell_type": "code",
   "execution_count": 17,
   "id": "bab5a533-2d39-4b9a-9347-e23823a8925b",
   "metadata": {},
   "outputs": [
    {
     "name": "stdout",
     "output_type": "stream",
     "text": [
      "Question: What is JSON Relational Duality in Oracle Database 23c? Explain with details\n",
      "JSON Relational Duality is a feature in Oracle Database 23c that allows developers to access and update data in both JSON documents and relational tables. This capability is particularly useful for those who want to work with data in a flexible schema format while still being able to enforce stricter data structures when necessary. Here's a more detailed explanation:\n",
      "\n",
      "With JSON Relational Duality, you can store your data in highly efficient relational tables while simultaneously presenting a JSON document view of the same data to applications. This is particularly beneficial for scenarios where you might have applications that require JSON documents to interact with other services or systems, while the underlying data is best stored and managed in a relational manner.\n",
      "\n",
      "Duality views, which are fully updatable JSON views over relational data, enable this functionality. These views present the data as JSON documents, simplifying development for applications that require JSON data. At the same time, the data is stored efficiently in relational tables, taking advantage of the power and performance of the relational database engine.\n",
      "\n",
      "If you have used Oracle Database before, you may be aware that JSON data is typically schemaless, providing flexibility in how you store and access data. However, with JSON Schema validation, you can enforce specific data structures and data types on your JSON data. This ensures that while you enjoy the flexibility of JSON, you can also ensure that certain aspects of your data adhere to predefined constraints.\n",
      "\n",
      "Using JSON Relational Duality, you can unlock a new level of flexibility and simplicity in application development. You can take advantage of the strengths of both the relational and document models, without being constrained by them. This flexibility is particularly valuable in today's landscape, where applications often need to interact with various data sources and APIs, and compatibility is key.\n",
      "\n",
      "If you're interested in exploring more about JSON Relational Duality, the provided PDF mentions relevant resources you can refer to for further details and documentation. \n",
      "\n",
      "I hope this answers your question! Let me know if you'd like me to clarify anything or provide additional information. \n",
      "\n",
      "CPU times: user 269 ms, sys: 307 ms, total: 576 ms\n",
      "Wall time: 17 s\n"
     ]
    }
   ],
   "source": [
    "%%time\n",
    "\n",
    "response = query_engine.query(question)\n",
    "\n",
    "print(f\"Question: {question}\")\n",
    "print(response.response)\n",
    "print(\"\")"
   ]
  },
  {
   "cell_type": "markdown",
   "id": "bc61dbc5-49c4-4aa5-9e8a-c402134c9854",
   "metadata": {},
   "source": [
    "#### Analyze response"
   ]
  },
  {
   "cell_type": "code",
   "execution_count": 18,
   "id": "0472406f-5479-4691-8bbc-a5d488cdb8c1",
   "metadata": {},
   "outputs": [
    {
     "name": "stdout",
     "output_type": "stream",
     "text": [
      "1 Introduction Oracle Database 23c is the next long term support release of Oracle Database. Oracle Database 23c, code named “App Simple,” accelerates Oracle's mission to make it simple to develop and run all data-driven applications. It's the sum of all the features from the Oracle Database 21c innovation release plus over 300 new features and enhancements. Key focus areas include JSON, graph, microservices, and developer productivity. Note: For information about desupported features, see Oracle Database Changes, Desupports, and Deprecations. JSON Relational Duality Data can be transparently accessed and updated as either JSON documents or relational tables. Developers benefit from the strengths of both, which are simpler and more powerful than Object Relational Mapping (ORM). See JSON-Relational Duality . Operational Property Graphs in SQL Developers can now build real-time graph analysis applications against operational data directly in the Oracle Database, utilizing its industry leading security, high availability and performance capabilities. See Support for the ISO/IEC SQL Property Graph Queries (SQL/PGQ) Standard . Microservice Support Alongside Oracle’s already comprehensive support for microservices, new functionality makes it simpler to implement cross-service transactions. See Microservices . Lock-Free Column Value Reservations Lock-free column value reservations allow applications to reserve part of a value in a column without locking the row; for example, reserve part of a bank account balance or reserve an item in inventory without locking out all other operations on the bank account or item. See Lock-Free Reservations . 1-1\n",
      "pag:1-1\n",
      "score:4.046875\n",
      "2 Application Development JSON JSON-Relational Duality JSON Relational Duality Views are fully updatable JSON views over relational data. Data is still stored in relational tables in a highly efficient normalized format but can be accessed by applications in the form of JSON documents. Duality views provide you with game-changing flexibility and simplicity by overcoming the historical challenges developers have faced when building applications using relational or document models. Related Resources View Documentation JSON Schema JSON Schema-based validation is allowed with the SQL condition IS JSON and with a PL/SQL utility function. A JSON schema is a JSON document that specifies allowed properties (field names) and the corresponding allowed data types, and whether they are optional or mandatory. By default, JSON data is schemaless, providing flexibility. However, you may want to ensure that your JSON data contains particular mandatory fixed structures and typing, besides other optional and flexible components, which can be done via JSON Schema validation. Related Resources View Documentation XML and JSON Search Index Enhancements The Oracle Text XML search index syntax and JSON search index syntax are now consistent. Additionally, the performance of JSON and XML search indexes has been improved. Using the same syntax for XML or JSON search indexes and better performance increase productivity. Related Resources View Documentation 2-1\n",
      "pag:2-1\n",
      "score:3.7578125\n"
     ]
    }
   ],
   "source": [
    "for node in response.source_nodes:\n",
    "    print(f\"{node.text}\\npag:{node.metadata['page_label']}\\nscore:{node.score}\")"
   ]
  },
  {
   "cell_type": "code",
   "execution_count": null,
   "id": "165c8ac0-a724-4cfa-929d-a29e983bf74b",
   "metadata": {},
   "outputs": [],
   "source": []
  }
 ],
 "metadata": {
  "kernelspec": {
   "display_name": "Python 3 (ipykernel)",
   "language": "python",
   "name": "python3"
  },
  "language_info": {
   "codemirror_mode": {
    "name": "ipython",
    "version": 3
   },
   "file_extension": ".py",
   "mimetype": "text/x-python",
   "name": "python",
   "nbconvert_exporter": "python",
   "pygments_lexer": "ipython3",
   "version": "3.9.0"
  }
 },
 "nbformat": 4,
 "nbformat_minor": 5
}
