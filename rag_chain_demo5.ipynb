{
 "cells": [
  {
   "cell_type": "markdown",
   "id": "9c0e01ec-9c28-49df-b0c5-7e90bf6abe0e",
   "metadata": {},
   "source": [
    "### Complete RAG Chain: OCI Embeddings, Oracle DB Vector Store, OCI Reraker and OCI GenAI\n",
    "\n",
    "* ispired by: https://docs.llamaindex.ai/en/stable/examples/low_level/vector_store.html\n",
    "* added **reranker** deployed ss OCI DS Model Deployment\n",
    "* simplified using **factory methods**(create_xxx) from **prepare_chain** module"
   ]
  },
  {
   "cell_type": "code",
   "execution_count": 1,
   "id": "885d648a-548b-4f1e-930f-2d102f7d8f16",
   "metadata": {},
   "outputs": [],
   "source": [
    "import logging\n",
    "\n",
    "from typing import List, Any, Optional, Dict, Tuple\n",
    "from llama_index.vector_stores.types import (\n",
    "    VectorStoreQuery,\n",
    ")\n",
    "import llama_index\n",
    "from llama_index import VectorStoreIndex, ServiceContext\n",
    "\n",
    "import oci\n",
    "import ads\n",
    "\n",
    "# only to check versions!\n",
    "import oracledb\n",
    "\n",
    "from oci_utils import load_oci_config\n",
    "from oracle_vector_db import OracleVectorStore\n",
    "\n",
    "# using factory methods\n",
    "from prepare_chain import create_reranker, create_embedding_model, create_llm"
   ]
  },
  {
   "cell_type": "code",
   "execution_count": 2,
   "id": "3504c89a-fe91-40bd-b453-29d9ab2ed2ef",
   "metadata": {},
   "outputs": [
    {
     "name": "stdout",
     "output_type": "stream",
     "text": [
      "oracledb version: 2.0.0.dev20231121\n",
      "oci version: 2.112.1+preview.1.1649\n",
      "llama_index version: 0.9.21\n"
     ]
    }
   ],
   "source": [
    "# version I'm using\n",
    "print(f\"oracledb version: {oracledb.__version__}\")\n",
    "print(f\"oci version: {oci.__version__}\")\n",
    "print(f\"llama_index version: {llama_index.__version__}\")"
   ]
  },
  {
   "cell_type": "code",
   "execution_count": 3,
   "id": "5f963f96-cc3f-4dd8-9134-73f712cac56f",
   "metadata": {},
   "outputs": [],
   "source": [
    "# parameters\n",
    "\n",
    "# for similarity query\n",
    "TOP_K = 10\n",
    "# for Reranker\n",
    "TOP_N = 4"
   ]
  },
  {
   "cell_type": "code",
   "execution_count": 4,
   "id": "3cf2241f-f99c-4ce0-b3f5-cb176858840f",
   "metadata": {},
   "outputs": [],
   "source": [
    "# for debugging\n",
    "# logging.basicConfig(stream=sys.stdout, level=logging.DEBUG)\n",
    "# logging.getLogger().addHandler(logging.StreamHandler(stream=sys.stdout))"
   ]
  },
  {
   "cell_type": "markdown",
   "id": "e4311612-5037-4687-8959-0dd394f53e91",
   "metadata": {},
   "source": [
    "#### The request for our RAG chain"
   ]
  },
  {
   "cell_type": "code",
   "execution_count": 5,
   "id": "2c3d9556-c938-437b-b4b2-f013ff9c711f",
   "metadata": {},
   "outputs": [],
   "source": [
    "question = \"Write an e-mail, to a customer called Luigi, explaining what is JSON Relational Duality in Oracle Database 23c. Explain with details.\""
   ]
  },
  {
   "cell_type": "markdown",
   "id": "6d62dc27-3e26-4c1a-87f6-dc7a942c7993",
   "metadata": {},
   "source": [
    "#### Embeddings"
   ]
  },
  {
   "cell_type": "code",
   "execution_count": 6,
   "id": "77816119-932c-4e18-8011-1e3b02503120",
   "metadata": {},
   "outputs": [],
   "source": [
    "# setup\n",
    "oci_config = load_oci_config()\n",
    "\n",
    "# need to do this way\n",
    "api_keys_config = ads.auth.api_keys(oci_config)\n",
    "\n",
    "# english, or for other language use: multilingual\n",
    "\n",
    "embed_model = create_embedding_model(auth=api_keys_config)"
   ]
  },
  {
   "cell_type": "code",
   "execution_count": 7,
   "id": "653bcb3b-c7b6-4b26-a489-2700b7604e99",
   "metadata": {},
   "outputs": [],
   "source": [
    "# embed the query using OCI GenAI\n",
    "query_embedding = embed_model.embed_documents([question])[0]\n",
    "\n",
    "#  wrap in llama-index\n",
    "query_obj = VectorStoreQuery(query_embedding=query_embedding, similarity_top_k=TOP_K)"
   ]
  },
  {
   "cell_type": "markdown",
   "id": "98531d22-fc7d-4575-965a-8b6685bdc7f2",
   "metadata": {},
   "source": [
    "#### Oracle DB Vector Store"
   ]
  },
  {
   "cell_type": "code",
   "execution_count": 8,
   "id": "d0ce2a88-8950-4c7a-ab67-6bca8d1ac431",
   "metadata": {},
   "outputs": [],
   "source": [
    "v_store = OracleVectorStore(verbose=False)"
   ]
  },
  {
   "cell_type": "markdown",
   "id": "48309d0a-c4cc-404c-802f-0ee66f9df319",
   "metadata": {},
   "source": [
    "#### Documents retrieved using only Oracle Vector Store DB"
   ]
  },
  {
   "cell_type": "code",
   "execution_count": 9,
   "id": "dddc851e-3f74-4ad2-8c41-78a1aa2e8781",
   "metadata": {},
   "outputs": [
    {
     "name": "stdout",
     "output_type": "stream",
     "text": [
      "CPU times: user 20.5 ms, sys: 5.68 ms, total: 26.2 ms\n",
      "Wall time: 950 ms\n"
     ]
    }
   ],
   "source": [
    "%%time\n",
    "\n",
    "q_result = v_store.query(query_obj)"
   ]
  },
  {
   "cell_type": "code",
   "execution_count": 10,
   "id": "7331d22c-0555-4a51-ac01-a2b595a15c5a",
   "metadata": {},
   "outputs": [
    {
     "name": "stdout",
     "output_type": "stream",
     "text": [
      "Doc. id: bfbaa15634643a2aac6e77b85a4f8a335eba697d741aaaa3646bdfb07fa3ba22\n",
      "Similarity: 0.69\n",
      "2 Application Development JSON JSON-Relational Duality JSON Relational Duality Views are fully updatable JSON views over relational data. Data is still stored in relational tables in a highly efficient normalized format but can be accessed by applications in the form of JSON documents. Duality views provide you with game-changing flexibility and simplicity by overcoming the historical challenges developers have faced when building applications using relational or document models. Related Resources View Documentation JSON Schema JSON Schema-based validation is allowed with the SQL condition IS JSON and with a PL/SQL utility function. A JSON schema is a JSON document that specifies allowed properties (field names) and the corresponding allowed data types, and whether they are optional or mandatory. By default, JSON data is schemaless, providing flexibility. However, you may want to ensure that your JSON data contains particular mandatory fixed structures and typing, besides other optional and flexible components, which can be done via JSON Schema validation. Related Resources View Documentation XML and JSON Search Index Enhancements The Oracle Text XML search index syntax and JSON search index syntax are now consistent. Additionally, the performance of JSON and XML search indexes has been improved. Using the same syntax for XML or JSON search indexes and better performance increase productivity. Related Resources View Documentation 2-1\n",
      "\n",
      "Doc. id: 6cc50f780af736086562da9d06af34e00c0563d43fdd5dc1313167d3672a53e5\n",
      "Similarity: 0.624\n",
      "See Also: •Oracle XML DB Developer’s Guide •Oracle XML Developer's Kit Programmer's Guide Overview of JSON in Oracle Database Oracle Database provides native support for JavaScript Object Notation (JSON) data, including querying and indexing. This section contains the following topics: •What Is JSON? •JSON and XML •Native Database Support for JSON •What Is JSON? JavaScript Object Notation (JSON) is a language-independent, text-based data format that can represent objects, arrays, and scalar data. A variety of programming languages can parse and generate JSON data. •JSON and XML Both JSON and XML are commonly used as data-interchange languages. Unlike relational data, both JSON data and XML data can be stored, indexed, and queried in the database without any schema that defines the data. •Native Database Support for JSON JSON is widely stored in noSQL databases that lack relational database features. In contrast, Oracle Database supports JSON natively with features such as transactions, indexing, declarative querying, and views. What Is JSON? JavaScript Object Notation (JSON) is a language-independent, text-based data format that can represent objects, arrays, and scalar data. A variety of programming languages can parse and generate JSON data. JSON commonly serves as a data-interchange language. It is often used for serializing structured data and exchanging it over a network, typically between a server and web applications. JSON is the dominant data format in web browsers that run applications written in HTML-embedded JavaScript. A JavaScript object is an associative array of zero or more pairs of property names and associated JSON values. A JSON object is a JavaScript object literal, which is written as a property list enclosed in braces, with name-value pairs separated by commas, and with the name and value of each pair separated by a colon. An object property is sometimes called a key. An object property name-value pair is sometimes called an object member .Chapter 22 Topics for Database Developers 22-17\n",
      "\n",
      "Doc. id: 85da167cce74f13dc9ab3e3ed9583936debe305d130e3855bf843e132d68e79e\n",
      "Similarity: 0.585\n",
      "1 Introduction Oracle Database 23c is the next long term support release of Oracle Database. Oracle Database 23c, code named “App Simple,” accelerates Oracle's mission to make it simple to develop and run all data-driven applications. It's the sum of all the features from the Oracle Database 21c innovation release plus over 300 new features and enhancements. Key focus areas include JSON, graph, microservices, and developer productivity. Note: For information about desupported features, see Oracle Database Changes, Desupports, and Deprecations. JSON Relational Duality Data can be transparently accessed and updated as either JSON documents or relational tables. Developers benefit from the strengths of both, which are simpler and more powerful than Object Relational Mapping (ORM). See JSON-Relational Duality . Operational Property Graphs in SQL Developers can now build real-time graph analysis applications against operational data directly in the Oracle Database, utilizing its industry leading security, high availability and performance capabilities. See Support for the ISO/IEC SQL Property Graph Queries (SQL/PGQ) Standard . Microservice Support Alongside Oracle’s already comprehensive support for microservices, new functionality makes it simpler to implement cross-service transactions. See Microservices . Lock-Free Column Value Reservations Lock-free column value reservations allow applications to reserve part of a value in a column without locking the row; for example, reserve part of a bank account balance or reserve an item in inventory without locking out all other operations on the bank account or item. See Lock-Free Reservations . 1-1\n",
      "\n",
      "Doc. id: 73907407cf501508e11ebda8d4c2c18258567b57a2954ae4111beb7c440ddea4\n",
      "Similarity: 0.562\n",
      "learn and to use. The following table describes further differences between JSON and XML. Table 22-2 Differences Between JSON and XML Feature JSON XML Useful for simple, structured data Yes Yes, but also supports semistructured data and complex structured data Useful for mixed content No Yes Lacks attributes, namespaces, inheritance, and substitutionYes No Places importance on ordering No Yes Primarily intended for documents rather than data No Yes Includes a date data type No Yes Note: Oracle Database JSON Developer’s Guide for a more comprehensive comparison of XML and JSON Native Database Support for JSON JSON is widely stored in noSQL databases that lack relational database features. In contrast, Oracle Database supports JSON natively with features such as transactions, indexing, declarative querying, and views. You can access JSON data stored in the database the same way you access other database data, including using OCI, .NET, and JDBC. The preferred way to store JSON data is using the JSON data type, which is a proprietary binary format optimized for query and DML processing. You can use the JSON data type in most places where a SQL data type is allowed, including a column type or parameter type for a PL/SQL program unit. By using Oracle SQL, you can perform the operations such as the following on JSON data: •Join JSON data with non-JSON relational data. •Generate JSON document from relational data using SQL functions json_object and json_array . •Project JSON data into a relational format by using the SQL function json_table . •Create a check constraint with is_json to enforce JSON data in a column. The database uses the check constraint to confirm that the column is JSON for JSON-specific operations such as simplified syntax. •Manipulate JSON documents as PL/SQL objects. •Use SQL functions json_query and json_value to accept an Oracle JSON path expression as an argument and match it against the target JSON data. •Index JSON data. •Query JSON data stored in an external table. •Replicate tables with columns containing JSON data using Oracle GoldenGate.Chapter 22 Topics for Database Developers 22-19\n",
      "\n",
      "Doc. id: dfdc96afaab93a7f6a82251096130684ce2da8dec83c3d2b4e04046dad4eaa03\n",
      "Similarity: 0.56\n",
      "Contents 1 Introduction 2 Application Development JSON 2-1 JSON-Relational Duality 2-1 JSON Schema 2-1 XML and JSON Search Index Enhancements 2-1 Changes for JSON Search Index and Data Guide 2-2 DBMS_AQ Support for JSON Arrays 2-2 Enhancement to JSON_TRANSFORM 2-2 JSON Type Support for External Tables 2-3 JSON/JSON_VALUE will Convert PL/SQL Aggregate Type to/from JSON 2-3 JSON_ARRAY Constructor by Query 2-3 JSON_EXPRESSION_CHECK Parameter 2-3 New JSON Data Dictionary Views 2-4 ORDERED in JSON_SERIALIZE 2-4 Precheckable Constraints using JSON SCHEMA 2-4 Predicates for JSON_VALUE and JSON_QUERY 2-4 Tools to Migrate JSON Text Storage to JSON Type Storages 2-5 SQL 2-5 Application Usage Annotations 2-5 Direct Joins for UPDATE and DELETE Statements 2-5 IF [NOT] EXISTS Syntax Support 2-5 New Database Role for Application Developers 2-6 Aggregation over INTERVAL Data Types 2-6 Application Usage Domains 2-6 Automatic PL/SQL to SQL Transpiler 2-6 Client Describe Call Support for Tag Options 2-7 DEFAULT ON NULL for UPDATE Statements 2-7 DESCRIBE Now Supports Column Annotations 2-7 Error Improvement 2-7 Extended CASE Controls 2-8 iii\n",
      "\n",
      "Doc. id: e251501a693958c0fb681e21c3fe9c5cf5f21d6de5b4e1e735ca87ecdf97fd38\n",
      "Similarity: 0.554\n",
      "Part III Oracle Data Access Structured Query Language (SQL) is the high-level declarative computer language with which all programs and users access data in an Oracle database. PL/SQL and Java , which are server-side procedural languages, enable you to store data logic in the database itself. •SQL This chapter provides an overview of the Structured Query Language (SQL) and how Oracle Database processes SQL statements. •Server-Side Programming: PL/SQL, Java, and JavaScript SQL explains the Structured Query Language (SQL) language and how the database processes SQL statements. This chapter explains how Procedural Language/SQL (PL/ SQL) or Java programs stored in the database can use SQL. \n",
      "\n",
      "Doc. id: fe036f82288fa16221c21ba603e60ad35ae556abfa3d35bed5fe1d360ee4786d\n",
      "Similarity: 0.535\n",
      "Contents Preface Audience xxiii Documentation Accessibility xxiii Related Documentation xxiv Conventions xxiv 1 Introduction to Oracle Database About Relational Databases 1-1 Database Management System (DBMS) 1-2 Relational Model 1-2 Relational Database Management System (RDBMS) 1-3 Brief History of Oracle Database 1-3 Schema Objects 1-5 Tables 1-5 Indexes 1-6 Data Access 1-6 Structured Query Language (SQL) 1-6 PL/SQL, Java, and JavaScript 1-7 Transaction Management 1-8 Transactions 1-8 Data Concurrency 1-8 Data Consistency 1-9 Oracle Database Architecture 1-9 Database and Instance 1-10 Multitenant Architecture 1-10 Sharding Architecture 1-14 Database Storage Structures 1-15 Physical Storage Structures 1-15 Logical Storage Structures 1-16 Database Instance Structures 1-17 Oracle Database Processes 1-17 Instance Memory Structures 1-18 iii\n",
      "\n",
      "Doc. id: f2484fd0eb62c923ac9afcacc5569521edaf8a9127de9e2cdc4a7cafca9aa9d1\n",
      "Similarity: 0.533\n",
      "22 Concepts for Database Developers Duties of Database Developers 22-1 Tools for Database Developers 22-2 SQL Developer 22-2 Oracle Application Express 22-3 Oracle JDeveloper 22-3 Oracle Developer Tools for Visual Studio .NET 22-4 Topics for Database Developers 22-4 Principles of Application Design and Tuning 22-4 Client-Side Database Programming 22-6 Embedded SQL 22-6 Client-Side APIs 22-9 Globalization Support 22-11 Globalization Support Environment 22-12 Oracle Globalization Development Kit 22-15 Unstructured Data 22-15 Overview of XML in Oracle Database 22-16 Overview of JSON in Oracle Database 22-17 Overview of LOBs 22-20 Overview of Oracle Text 22-22 Overview of Oracle Spatial and Graph 22-23 Overview of SQL Property Graphs 22-23 Glossary Index xxii\n",
      "\n",
      "Doc. id: c623d5f705bf149f4d94619d996cae4ccb105f10ef2279d4d8f17a71a5b58f8e\n",
      "Similarity: 0.532\n",
      "These views: •Refer to the user's private environment in the database, including metadata about schema objects created by the user, grants made by the user, and so on •Display only rows pertinent to the user, returning a subset of the information in the ALL_ views •Has columns identical to the other views, except that the column OWNER is implied •Can have abbreviated PUBLIC synonyms for convenience For example, the following query returns all the objects contained in your schema: SELECT OBJECT_NAME, OBJECT_TYPE FROM USER_OBJECTS ORDER BY OBJECT_NAME; The DUAL Table DUAL is a small table in the data dictionary that Oracle Database and user-written programs can reference to guarantee a known result. The dual table is useful when a value must be returned only once, for example, the current date and time. All database users have access to DUAL. The DUAL table has one column called DUMMY and one row containing the value X. The following example queries DUAL to perform an arithmetical operation: SQL> SELECT ((3*4)+5)/3 FROM DUAL; ((3*4)+5)/3 ---------- 5.66666667 See Also: Oracle Database SQL Language Reference for more information about the DUAL table How the Data Dictionary Works The Oracle Database user account SYS owns all base tables and user-accessible views of the data dictionary. During database operation, Oracle Database reads the data dictionary to ascertain that schema objects exist and that users have proper access to them. Oracle Database updates the data dictionary continuously to reflect changes in database structures, auditing, grants, and data. For example, if user hr creates a table named interns , then the database adds new rows to the data dictionary that reflect the new table, columns, segment, extents, and the privilegesChapter 9 Overview of the Data Dictionary 9-9\n",
      "\n",
      "Doc. id: 82d89678339cb22664264d7dcfd59b86cba41d426c5adedc30cb9675914ae27d\n",
      "Similarity: 0.53\n",
      "The JDBC standard enables individual providers to implement and extend the standard with their own JDBC drivers. Oracle provides the following JDBC drivers for client-side programming: •JDBC thin driver This pure Java driver resides on the client side without an Oracle client installation. It is platform-independent and usable with both applets and applications. •JDBC OCI driver This driver resides on the client-side with an Oracle client installation. It is usable only with applications. The JDBC OCI driver, which is written in both C and Java, converts JDBC calls to OCI calls. The following snippets are from a Java program that uses the JDBC OCI driver to create a Statement object and query the dual table: // Create a statement Statement stmt = conn.createStatement(); // Query dual table ResultSet rset = stmt.executeQuery(\"SELECT 'Hello World' FROM DUAL\"); See Also: Oracle Database Development Guide and Oracle Database 2 Day + Java Developer's Guide to learn more about JDBC Globalization Support Oracle Database globalization support enables you to store, process, and retrieve data in native languages. Globalization support enables you to develop multilingual applications and software that can be accessed and run from anywhere in the world simultaneously. Developers who write globalized database application must do the following: •Understand the Oracle Database globalization support architecture, including the properties of the different character sets, territories, languages, and linguistic sort definitions •Understand the globalization functionality of their middle-tier programming environment, including how it can interact and synchronize with the locale model of the database •Design and write code capable of simultaneously supporting multiple clients running on different operating systems, with different character sets and locale requirements For example, an application may be required to render content of the user interface and process data in languages and locale preferences of native users. For example, the application must process multibyte Kanji data, display messages and dates in the proper regional format, and process 7-bit ASCII data without requiring users to change settings.Chapter 22 Topics for Database Developers 22-11\n",
      "\n"
     ]
    }
   ],
   "source": [
    "for n, id, sim in zip(q_result.nodes, q_result.ids, q_result.similarities):\n",
    "    print(f\"Doc. id: {id}\")\n",
    "    # -sim, caus dot compute the negated dot product (see vector store docs)\n",
    "    print(f\"Similarity: {-sim}\")\n",
    "    print(n.text)\n",
    "    print(\"\")"
   ]
  },
  {
   "cell_type": "markdown",
   "id": "bd07c08e-2a88-4ab9-b84b-ea9b3f7a40f5",
   "metadata": {},
   "source": [
    "#### Apply a reranker to the (question, text) pairs"
   ]
  },
  {
   "cell_type": "code",
   "execution_count": 11,
   "id": "ebc32777-1a2f-4bb0-b0f2-b85428a3064f",
   "metadata": {},
   "outputs": [
    {
     "name": "stderr",
     "output_type": "stream",
     "text": [
      "2024-01-11 21:58:28,638 - INFO - Created OCI reranker client...\n",
      "2024-01-11 21:58:28,639 - INFO - Region: eu-frankfurt-1...\n",
      "2024-01-11 21:58:28,639 - INFO - Deployment id: ocid1.datasciencemodeldeployment.oc1.eu-frankfurt-1.amaaaaaangencdyaulxbosgii6yajt2jdsrrvfbequkxt3mepz675uk3ui3q...\n",
      "2024-01-11 21:58:28,640 - INFO - \n"
     ]
    }
   ],
   "source": [
    "# Reranker is deployed in OCI Data Science as a Model Deployment\n",
    "\n",
    "reranker = create_reranker(auth=api_keys_config, verbose=True)"
   ]
  },
  {
   "cell_type": "markdown",
   "id": "e811a520-bef5-4070-acaa-f5e4cf45d989",
   "metadata": {},
   "source": [
    "#### Integrate in the bigger RAG picture\n",
    "#### OCI GenAI"
   ]
  },
  {
   "cell_type": "code",
   "execution_count": 12,
   "id": "bf6b6e81-aaaa-4449-9108-60dae04986d2",
   "metadata": {},
   "outputs": [],
   "source": [
    "llm_oci = create_llm(auth=api_keys_config)"
   ]
  },
  {
   "cell_type": "code",
   "execution_count": 13,
   "id": "436f3ed2-5968-4ec5-ad97-c7ad3578e92a",
   "metadata": {},
   "outputs": [],
   "source": [
    "service_context = ServiceContext.from_defaults(llm=llm_oci, embed_model=embed_model)"
   ]
  },
  {
   "cell_type": "code",
   "execution_count": 14,
   "id": "32afd90b-67d7-417e-9d0a-d83e445a3d36",
   "metadata": {},
   "outputs": [],
   "source": [
    "index = VectorStoreIndex.from_vector_store(\n",
    "    vector_store=v_store, service_context=service_context\n",
    ")"
   ]
  },
  {
   "cell_type": "markdown",
   "id": "09893ed4-51cd-4b3b-b225-19c1d36136c7",
   "metadata": {},
   "source": [
    "#### The entry point for the entire RAG chain"
   ]
  },
  {
   "cell_type": "code",
   "execution_count": 15,
   "id": "88375ce0-16b1-44b6-80ee-3ca17c2a5332",
   "metadata": {},
   "outputs": [],
   "source": [
    "query_engine = index.as_query_engine(\n",
    "    similarity_top_k=TOP_K,\n",
    "    node_postprocessors=[reranker],\n",
    ")"
   ]
  },
  {
   "cell_type": "markdown",
   "id": "4b2e33be-7ee8-4621-bd98-fe656bebc42c",
   "metadata": {},
   "source": [
    "#### Generating the answer"
   ]
  },
  {
   "cell_type": "code",
   "execution_count": 16,
   "id": "bab5a533-2d39-4b9a-9347-e23823a8925b",
   "metadata": {},
   "outputs": [
    {
     "name": "stderr",
     "output_type": "stream",
     "text": [
      "2024-01-11 21:58:33,070 - INFO - Reranking...\n",
      "2024-01-11 21:58:41,175 - INFO - ...elapsed time: 8.1 sec.\n"
     ]
    },
    {
     "name": "stdout",
     "output_type": "stream",
     "text": [
      "Question: Write an e-mail, to a customer called Luigi, explaining what is JSON Relational Duality in Oracle Database 23c. Explain with details.\n",
      "\n",
      "Dear Luigi,\n",
      "\n",
      "I would like to inform you about Oracle Database 23c's JSON Relational Duality feature. This feature allows you to access and update data in your database as either JSON documents or relational tables. \n",
      "\n",
      "With JSON Relational Duality, you can benefit from the strengths of both data formats without having to use complex Object Relational Mapping (ORM) tools. Here's a more detailed explanation:\n",
      "\n",
      "JSON Relational Duality introduces \"Duality Views\". These are fully updatable JSON views over your relational data. Even though the data is still stored in relational tables in a highly efficient normalized format, your applications can access it in the form of JSON documents. \n",
      "\n",
      "This approach provides great flexibility and simplicity by overcoming the challenges that developers often face when working with relational or document models. You can access your data using a single syntax, and you can perform queries and updates on your data in a more intuitive manner. \n",
      "\n",
      "Using this feature, you can take advantage of the power and flexibility of JSON documents while still benefiting from the security, high availability, and performance capabilities of the Oracle Database. \n",
      "\n",
      "If you have any further questions or would like more information about Oracle Database 23c, please do not hesitate to contact me. \n",
      "\n",
      "Best regards,\n",
      "[Your Name]\n",
      "\n",
      "Is there anything else I can help you with? \n",
      "\n",
      "CPU times: user 106 ms, sys: 9.75 ms, total: 116 ms\n",
      "Wall time: 22.3 s\n"
     ]
    }
   ],
   "source": [
    "%%time\n",
    "\n",
    "response = query_engine.query(question)\n",
    "\n",
    "print(f\"Question: {question}\")\n",
    "print(\"\")\n",
    "print(response.response)\n",
    "print(\"\")"
   ]
  },
  {
   "cell_type": "markdown",
   "id": "bc61dbc5-49c4-4aa5-9e8a-c402134c9854",
   "metadata": {},
   "source": [
    "#### Analyze response: documents used for the Context after addition of the reranker"
   ]
  },
  {
   "cell_type": "code",
   "execution_count": 17,
   "id": "0472406f-5479-4691-8bbc-a5d488cdb8c1",
   "metadata": {},
   "outputs": [
    {
     "name": "stdout",
     "output_type": "stream",
     "text": [
      "Doc. id: 85da167cce74f13dc9ab3e3ed9583936debe305d130e3855bf843e132d68e79e\n",
      "1 Introduction Oracle Database 23c is the next long term support release of Oracle Database. Oracle Database 23c, code named “App Simple,” accelerates Oracle's mission to make it simple to develop and run all data-driven applications. It's the sum of all the features from the Oracle Database 21c innovation release plus over 300 new features and enhancements. Key focus areas include JSON, graph, microservices, and developer productivity. Note: For information about desupported features, see Oracle Database Changes, Desupports, and Deprecations. JSON Relational Duality Data can be transparently accessed and updated as either JSON documents or relational tables. Developers benefit from the strengths of both, which are simpler and more powerful than Object Relational Mapping (ORM). See JSON-Relational Duality . Operational Property Graphs in SQL Developers can now build real-time graph analysis applications against operational data directly in the Oracle Database, utilizing its industry leading security, high availability and performance capabilities. See Support for the ISO/IEC SQL Property Graph Queries (SQL/PGQ) Standard . Microservice Support Alongside Oracle’s already comprehensive support for microservices, new functionality makes it simpler to implement cross-service transactions. See Microservices . Lock-Free Column Value Reservations Lock-free column value reservations allow applications to reserve part of a value in a column without locking the row; for example, reserve part of a bank account balance or reserve an item in inventory without locking out all other operations on the bank account or item. See Lock-Free Reservations . 1-1\n",
      "pag: 1-1\n",
      "score: 1.9912\n",
      "\n",
      "Doc. id: bfbaa15634643a2aac6e77b85a4f8a335eba697d741aaaa3646bdfb07fa3ba22\n",
      "2 Application Development JSON JSON-Relational Duality JSON Relational Duality Views are fully updatable JSON views over relational data. Data is still stored in relational tables in a highly efficient normalized format but can be accessed by applications in the form of JSON documents. Duality views provide you with game-changing flexibility and simplicity by overcoming the historical challenges developers have faced when building applications using relational or document models. Related Resources View Documentation JSON Schema JSON Schema-based validation is allowed with the SQL condition IS JSON and with a PL/SQL utility function. A JSON schema is a JSON document that specifies allowed properties (field names) and the corresponding allowed data types, and whether they are optional or mandatory. By default, JSON data is schemaless, providing flexibility. However, you may want to ensure that your JSON data contains particular mandatory fixed structures and typing, besides other optional and flexible components, which can be done via JSON Schema validation. Related Resources View Documentation XML and JSON Search Index Enhancements The Oracle Text XML search index syntax and JSON search index syntax are now consistent. Additionally, the performance of JSON and XML search indexes has been improved. Using the same syntax for XML or JSON search indexes and better performance increase productivity. Related Resources View Documentation 2-1\n",
      "pag: 2-1\n",
      "score: -1.8877\n",
      "\n",
      "Doc. id: 6cc50f780af736086562da9d06af34e00c0563d43fdd5dc1313167d3672a53e5\n",
      "See Also: •Oracle XML DB Developer’s Guide •Oracle XML Developer's Kit Programmer's Guide Overview of JSON in Oracle Database Oracle Database provides native support for JavaScript Object Notation (JSON) data, including querying and indexing. This section contains the following topics: •What Is JSON? •JSON and XML •Native Database Support for JSON •What Is JSON? JavaScript Object Notation (JSON) is a language-independent, text-based data format that can represent objects, arrays, and scalar data. A variety of programming languages can parse and generate JSON data. •JSON and XML Both JSON and XML are commonly used as data-interchange languages. Unlike relational data, both JSON data and XML data can be stored, indexed, and queried in the database without any schema that defines the data. •Native Database Support for JSON JSON is widely stored in noSQL databases that lack relational database features. In contrast, Oracle Database supports JSON natively with features such as transactions, indexing, declarative querying, and views. What Is JSON? JavaScript Object Notation (JSON) is a language-independent, text-based data format that can represent objects, arrays, and scalar data. A variety of programming languages can parse and generate JSON data. JSON commonly serves as a data-interchange language. It is often used for serializing structured data and exchanging it over a network, typically between a server and web applications. JSON is the dominant data format in web browsers that run applications written in HTML-embedded JavaScript. A JavaScript object is an associative array of zero or more pairs of property names and associated JSON values. A JSON object is a JavaScript object literal, which is written as a property list enclosed in braces, with name-value pairs separated by commas, and with the name and value of each pair separated by a colon. An object property is sometimes called a key. An object property name-value pair is sometimes called an object member .Chapter 22 Topics for Database Developers 22-17\n",
      "pag: 22-17\n",
      "score: -4.0352\n",
      "\n",
      "Doc. id: dfdc96afaab93a7f6a82251096130684ce2da8dec83c3d2b4e04046dad4eaa03\n",
      "Contents 1 Introduction 2 Application Development JSON 2-1 JSON-Relational Duality 2-1 JSON Schema 2-1 XML and JSON Search Index Enhancements 2-1 Changes for JSON Search Index and Data Guide 2-2 DBMS_AQ Support for JSON Arrays 2-2 Enhancement to JSON_TRANSFORM 2-2 JSON Type Support for External Tables 2-3 JSON/JSON_VALUE will Convert PL/SQL Aggregate Type to/from JSON 2-3 JSON_ARRAY Constructor by Query 2-3 JSON_EXPRESSION_CHECK Parameter 2-3 New JSON Data Dictionary Views 2-4 ORDERED in JSON_SERIALIZE 2-4 Precheckable Constraints using JSON SCHEMA 2-4 Predicates for JSON_VALUE and JSON_QUERY 2-4 Tools to Migrate JSON Text Storage to JSON Type Storages 2-5 SQL 2-5 Application Usage Annotations 2-5 Direct Joins for UPDATE and DELETE Statements 2-5 IF [NOT] EXISTS Syntax Support 2-5 New Database Role for Application Developers 2-6 Aggregation over INTERVAL Data Types 2-6 Application Usage Domains 2-6 Automatic PL/SQL to SQL Transpiler 2-6 Client Describe Call Support for Tag Options 2-7 DEFAULT ON NULL for UPDATE Statements 2-7 DESCRIBE Now Supports Column Annotations 2-7 Error Improvement 2-7 Extended CASE Controls 2-8 iii\n",
      "pag: iii\n",
      "score: -4.2461\n",
      "\n"
     ]
    }
   ],
   "source": [
    "for node in response.source_nodes:\n",
    "    print(\n",
    "        f\"Doc. id: {node.id_}\\n{node.text}\\npag: {node.metadata['page_label']}\\nscore: {round(node.score, 4)}\\n\"\n",
    "    )"
   ]
  },
  {
   "cell_type": "markdown",
   "id": "94fde3bb-c9bc-4672-8c44-70c8900e41f9",
   "metadata": {},
   "source": [
    "#### Analysis: \n",
    "\n",
    "If you compare with the results of the retrieval made by the Vector Store you can see that:\n",
    "* some documents have been removed\n",
    "* page 2-1 is higher in the list. It has more relevance to answer to the request\n",
    "* all documents retained have relevance to answer to the given query"
   ]
  },
  {
   "cell_type": "code",
   "execution_count": null,
   "id": "eae6d4b3-ff4b-47cb-88b2-65863b6b6b42",
   "metadata": {},
   "outputs": [],
   "source": []
  }
 ],
 "metadata": {
  "kernelspec": {
   "display_name": "Python 3 (ipykernel)",
   "language": "python",
   "name": "python3"
  },
  "language_info": {
   "codemirror_mode": {
    "name": "ipython",
    "version": 3
   },
   "file_extension": ".py",
   "mimetype": "text/x-python",
   "name": "python",
   "nbconvert_exporter": "python",
   "pygments_lexer": "ipython3",
   "version": "3.9.0"
  }
 },
 "nbformat": 4,
 "nbformat_minor": 5
}
