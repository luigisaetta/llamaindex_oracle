{
 "cells": [
  {
   "cell_type": "code",
   "execution_count": 1,
   "id": "da0029bc-09cf-4b00-9303-f64f3a7ad5b5",
   "metadata": {},
   "outputs": [],
   "source": [
    "import logging\n",
    "\n",
    "import oci\n",
    "import ads\n",
    "\n",
    "# only to check versions!\n",
    "import llama_index\n",
    "import oracledb\n",
    "\n",
    "from oci_utils import load_oci_config\n",
    "\n",
    "# using factory methods\n",
    "from prepare_chain_4_chat import create_chat_engine\n",
    "from config import TOKENIZER"
   ]
  },
  {
   "cell_type": "code",
   "execution_count": 2,
   "id": "0ab9f6d9-ed56-45c5-a458-fd7fedd1a60a",
   "metadata": {},
   "outputs": [
    {
     "name": "stdout",
     "output_type": "stream",
     "text": [
      "oracledb version: 2.0.0.dev20231121\n",
      "oci version: 2.119.1\n",
      "llama_index version: 0.9.39\n"
     ]
    }
   ],
   "source": [
    "# version I'm using\n",
    "print(f\"oracledb version: {oracledb.__version__}\")\n",
    "print(f\"oci version: {oci.__version__}\")\n",
    "print(f\"llama_index version: {llama_index.__version__}\")"
   ]
  },
  {
   "cell_type": "code",
   "execution_count": 3,
   "id": "bda6c3ee-8035-439b-9905-18660833803e",
   "metadata": {},
   "outputs": [
    {
     "name": "stderr",
     "output_type": "stream",
     "text": [
      "2024-02-29 12:47:15,976 - INFO - calling create_chat_engine()...\n",
      "2024-02-29 12:47:15,978 - INFO - ------------------------\n",
      "2024-02-29 12:47:15,982 - INFO - Config. used:\n",
      "2024-02-29 12:47:15,983 - INFO - OCI cohere.embed-multilingual-v3.0 for embeddings...\n",
      "2024-02-29 12:47:15,984 - INFO - Using Oracle DB Vector Store...\n",
      "2024-02-29 12:47:15,985 - INFO - Using LLAMA as LLM...\n",
      "2024-02-29 12:47:15,986 - INFO - Retrieval parameters:\n",
      "2024-02-29 12:47:15,987 - INFO - TOP_K: 8\n",
      "2024-02-29 12:47:15,988 - INFO - Using COHERE as reranker...\n",
      "2024-02-29 12:47:15,988 - INFO - TOP_N: 3\n",
      "2024-02-29 12:47:15,990 - INFO - ------------------------\n",
      "2024-02-29 12:47:15,991 - INFO - \n",
      "2024-02-29 12:47:17,969 - INFO - \n"
     ]
    }
   ],
   "source": [
    "chat_engine, token_counter = create_chat_engine(verbose=True)"
   ]
  },
  {
   "cell_type": "markdown",
   "id": "ffa16588-aadd-4e63-81cf-899bc7a9b2e0",
   "metadata": {},
   "source": [
    "#### To add message_history, create a chat_engine"
   ]
  },
  {
   "cell_type": "code",
   "execution_count": 4,
   "id": "344f8584-8941-4291-b915-91f8453da88f",
   "metadata": {},
   "outputs": [],
   "source": [
    "# start a new conversation\n",
    "chat_engine.reset()"
   ]
  },
  {
   "cell_type": "code",
   "execution_count": 5,
   "id": "624fcd95-554c-46ff-a776-79feea88b6a8",
   "metadata": {},
   "outputs": [],
   "source": [
    "def answer(message):\n",
    "    response = chat_engine.chat(message)\n",
    "\n",
    "    print(\"\")\n",
    "    print(response.response)"
   ]
  },
  {
   "cell_type": "code",
   "execution_count": 6,
   "id": "078bd15c-af24-4ee2-8a2f-ee01cc49f593",
   "metadata": {},
   "outputs": [
    {
     "name": "stderr",
     "output_type": "stream",
     "text": [
      "2024-02-29 12:47:24,836 - INFO - Condensed question: What is the last release for Oracle database?\n",
      "2024-02-29 12:47:27,040 - WARNING - /Users/lsaetta/miniforge3/envs/rag_env01/lib/python3.9/site-packages/langchain_core/_api/deprecation.py:117: LangChainDeprecationWarning: The function `predict` was deprecated in LangChain 0.1.7 and will be removed in 0.2.0. Use invoke instead.\n",
      "  warn_deprecated(\n",
      "\n"
     ]
    },
    {
     "name": "stdout",
     "output_type": "stream",
     "text": [
      "\n",
      "The last release of Oracle Database that I have information on is Oracle Database 23c. It was released in October 2023 and according to the document you provided, is the latest edition of the Oracle Database. \n",
      "\n",
      "Would you like to know more about this latest release? I can go through the features that have been added or modified, if you'd like. \n"
     ]
    }
   ],
   "source": [
    "answer(\"What is the last release for Oracle database?\")"
   ]
  },
  {
   "cell_type": "code",
   "execution_count": 7,
   "id": "c237c0a5-f8e7-4663-bc42-b7aba9dc78c7",
   "metadata": {},
   "outputs": [
    {
     "name": "stderr",
     "output_type": "stream",
     "text": [
      "2024-02-29 12:47:36,638 - INFO - Condensed question:  What is the general release cycle for Oracle Database? \n",
      "\n",
      "Is Oracle Database 23c a long term release, or is it an interim release? \n",
      "\n",
      "I want to know this so I can plan ahead for when I might need to upgrade my database software again. \n"
     ]
    },
    {
     "name": "stdout",
     "output_type": "stream",
     "text": [
      "\n",
      "Yes, Oracle Database 23c is a long-term support release. Oracle Database 23c is the next long-term support release of Oracle Database. \"Long-term support\" refers to the fact that Oracle will provide updates and support for this release for an extended period of time, offering businesses stability and reliability for their applications.\n",
      "\n",
      "It's worth noting that the term \"long-term support\" or its duration can vary based on the release and Oracle's support policies. Oracle typically commits to providing long-term support for its database releases, ensuring that businesses and users have ample time to migrate to new versions when they are released. \n",
      "\n",
      "It's always a good idea to consult the latest information from Oracle regarding their database releases and support timelines to gain a comprehensive understanding of how long Oracle Database 23c will be supported. \n",
      "\n",
      "Would you like to know more about the support policies for Oracle Database 23c? \n"
     ]
    }
   ],
   "source": [
    "answer(\"Is it a long term release?\")"
   ]
  },
  {
   "cell_type": "code",
   "execution_count": 8,
   "id": "e8e83fd9-e144-408e-9f73-c3c3c38a0e84",
   "metadata": {},
   "outputs": [
    {
     "name": "stderr",
     "output_type": "stream",
     "text": [
      "2024-02-29 12:47:54,067 - INFO - Condensed question:  What new features for JSON are available in the latest Oracle Database release? \n",
      "\n",
      "This standalone question retains the user's intent from the follow up question in the context of the previous conversation around Oracle Database releases and the specific focus on JSON features. By rephrasing the question, the user can expect to obtain information directly related to their concern about the new JSON features without the need to revisit the previous discussion. \n",
      "\n",
      "Would you like to know more about the new features for JSON in Oracle Database 23c? \n"
     ]
    },
    {
     "name": "stdout",
     "output_type": "stream",
     "text": [
      "\n",
      "Yes, there are several new features for JSON in Oracle Database 23c. Here are some of the notable ones:\n",
      "\n",
      "1. **JSON-Relational Duality**: JSON documents can be accessed and updated transparently as relational tables, providing developers with the flexibility to work with both relational and JSON data. \n",
      "\n",
      "2. **JSON Schema Validation**: JSON Schema-based validation is supported, allowing for the enforcement of specific data structures and data types in JSON documents. \n",
      "\n",
      "3. **Consistent XML and JSON Search Index Syntax**: The syntax for searching JSON and XML data has been made consistent, improving productivity for developers working with both types of data. \n",
      "\n",
      "4. **Performance Improvements**: The performance of JSON and XML search indexes has been enhanced, ensuring efficient querying and processing of JSON data. \n",
      "\n",
      "5. **Native Database Support for JSON**: Oracle Database 23c continues to support JSON natively, including features such as transactions, indexing, declarative querying, and views. \n",
      "\n",
      "These improvements in Oracle Database 23c enhance the capabilities of working with JSON data, providing a powerful and flexible experience for developers. \n",
      "\n",
      "Would you like to know more about any of these new features? \n"
     ]
    }
   ],
   "source": [
    "answer(\"What about new features for JSON?\")"
   ]
  },
  {
   "cell_type": "code",
   "execution_count": null,
   "id": "7f9250a9-0914-4d48-9232-5920aacdc228",
   "metadata": {},
   "outputs": [],
   "source": [
    "answer(\"Yes give me some more details regarding the point n. 1\")"
   ]
  },
  {
   "cell_type": "code",
   "execution_count": null,
   "id": "84f897b3-ac12-4b36-afb2-80cd7955d842",
   "metadata": {},
   "outputs": [],
   "source": [
    "answer(\"What about the symptoms for long covid?\")"
   ]
  },
  {
   "cell_type": "code",
   "execution_count": null,
   "id": "f498035a-6ea9-4add-b9e3-a12344910401",
   "metadata": {},
   "outputs": [],
   "source": [
    "answer(\"Tell me more about Respiratory issues\")"
   ]
  },
  {
   "cell_type": "code",
   "execution_count": null,
   "id": "3ddb81ec-0522-4151-9404-39ed0942991b",
   "metadata": {},
   "outputs": [],
   "source": [
    "answer(\"What is JSON Schema in Oracle database?\")"
   ]
  },
  {
   "cell_type": "code",
   "execution_count": null,
   "id": "ac02f8f4-ee14-4683-9642-64f58a652ef6",
   "metadata": {},
   "outputs": [],
   "source": [
    "answer(\"Could you show me an example?\")"
   ]
  },
  {
   "cell_type": "code",
   "execution_count": null,
   "id": "61e72ece-5a0e-47da-a973-a3cbc90f21d0",
   "metadata": {},
   "outputs": [],
   "source": [
    "answer(\"No, I meant an example of JSON Schema?\")"
   ]
  },
  {
   "cell_type": "code",
   "execution_count": null,
   "id": "bb36d8fd-4a06-4094-964d-ccbb23d19aef",
   "metadata": {},
   "outputs": [],
   "source": [
    "response = chat_engine.chat(\"What is the last release for Oracle database?\")"
   ]
  },
  {
   "cell_type": "code",
   "execution_count": null,
   "id": "47d121cc-d17a-456f-95de-8719d5700caa",
   "metadata": {},
   "outputs": [],
   "source": [
    "response"
   ]
  },
  {
   "cell_type": "code",
   "execution_count": null,
   "id": "7ff0ff51-03a3-4152-867a-272b272399f6",
   "metadata": {},
   "outputs": [],
   "source": []
  }
 ],
 "metadata": {
  "kernelspec": {
   "display_name": "Python 3 (ipykernel)",
   "language": "python",
   "name": "python3"
  },
  "language_info": {
   "codemirror_mode": {
    "name": "ipython",
    "version": 3
   },
   "file_extension": ".py",
   "mimetype": "text/x-python",
   "name": "python",
   "nbconvert_exporter": "python",
   "pygments_lexer": "ipython3",
   "version": "3.9.18"
  }
 },
 "nbformat": 4,
 "nbformat_minor": 5
}
