{
 "cells": [
  {
   "cell_type": "code",
   "execution_count": 1,
   "id": "da0029bc-09cf-4b00-9303-f64f3a7ad5b5",
   "metadata": {},
   "outputs": [],
   "source": [
    "import logging\n",
    "\n",
    "from typing import List, Any, Optional, Dict, Tuple\n",
    "from llama_index.vector_stores.types import (\n",
    "    VectorStore,\n",
    "    VectorStoreQuery,\n",
    "    VectorStoreQueryResult,\n",
    ")\n",
    "import llama_index\n",
    "from llama_index import StorageContext, VectorStoreIndex, ServiceContext\n",
    "from llama_index.schema import TextNode, BaseNode, Document\n",
    "from llama_index.memory import ChatMemoryBuffer\n",
    "from tokenizers import Tokenizer\n",
    "\n",
    "import oci\n",
    "import ads\n",
    "\n",
    "# only to check versions!\n",
    "import oracledb\n",
    "\n",
    "from oci_utils import load_oci_config\n",
    "\n",
    "# using factory methods\n",
    "from prepare_chain_4_chat import create_chat_engine\n",
    "from config import TOKENIZER"
   ]
  },
  {
   "cell_type": "code",
   "execution_count": 2,
   "id": "0ab9f6d9-ed56-45c5-a458-fd7fedd1a60a",
   "metadata": {},
   "outputs": [
    {
     "name": "stdout",
     "output_type": "stream",
     "text": [
      "oracledb version: 2.0.0.dev20231121\n",
      "oci version: 2.112.1+preview.1.1649\n",
      "llama_index version: 0.9.21\n"
     ]
    }
   ],
   "source": [
    "# version I'm using\n",
    "print(f\"oracledb version: {oracledb.__version__}\")\n",
    "print(f\"oci version: {oci.__version__}\")\n",
    "print(f\"llama_index version: {llama_index.__version__}\")"
   ]
  },
  {
   "cell_type": "code",
   "execution_count": 3,
   "id": "bda6c3ee-8035-439b-9905-18660833803e",
   "metadata": {},
   "outputs": [
    {
     "name": "stderr",
     "output_type": "stream",
     "text": [
      "2024-01-11 22:16:28,222 - INFO - calling create_chat_engine()...\n",
      "2024-01-11 22:16:28,223 - INFO - ------------------------\n",
      "2024-01-11 22:16:28,224 - INFO - Config. used:\n",
      "2024-01-11 22:16:28,225 - INFO - OCI cohere.embed-multilingual-v3.0 for embeddings...\n",
      "2024-01-11 22:16:28,225 - INFO - Using Oracle DB Vector Store...\n",
      "2024-01-11 22:16:28,226 - INFO - Using OCI as LLM...\n",
      "2024-01-11 22:16:28,227 - INFO - Retrieval parameters:\n",
      "2024-01-11 22:16:28,227 - INFO - TOP_K: 8\n",
      "2024-01-11 22:16:28,227 - INFO - Using OCI_BAAI as reranker...\n",
      "2024-01-11 22:16:28,227 - INFO - TOP_N: 3\n",
      "2024-01-11 22:16:28,228 - INFO - ------------------------\n",
      "2024-01-11 22:16:28,228 - INFO - \n",
      "2024-01-11 22:16:31,220 - INFO - Created OCI reranker client...\n",
      "2024-01-11 22:16:31,220 - INFO - Region: eu-frankfurt-1...\n",
      "2024-01-11 22:16:31,220 - INFO - Deployment id: ocid1.datasciencemodeldeployment.oc1.eu-frankfurt-1.amaaaaaangencdyaulxbosgii6yajt2jdsrrvfbequkxt3mepz675uk3ui3q...\n",
      "2024-01-11 22:16:31,221 - INFO - \n",
      "2024-01-11 22:16:31,267 - INFO - \n"
     ]
    }
   ],
   "source": [
    "chat_engine, token_counter = create_chat_engine(verbose=True)"
   ]
  },
  {
   "cell_type": "markdown",
   "id": "ffa16588-aadd-4e63-81cf-899bc7a9b2e0",
   "metadata": {},
   "source": [
    "#### To add message_history, create a chat_engine"
   ]
  },
  {
   "cell_type": "code",
   "execution_count": 4,
   "id": "344f8584-8941-4291-b915-91f8453da88f",
   "metadata": {},
   "outputs": [],
   "source": [
    "# start a new conversation\n",
    "chat_engine.reset()"
   ]
  },
  {
   "cell_type": "code",
   "execution_count": 5,
   "id": "624fcd95-554c-46ff-a776-79feea88b6a8",
   "metadata": {},
   "outputs": [],
   "source": [
    "def answer(message):\n",
    "    response = chat_engine.chat(message)\n",
    "\n",
    "    print(\"\")\n",
    "    print(response.response)"
   ]
  },
  {
   "cell_type": "code",
   "execution_count": 6,
   "id": "078bd15c-af24-4ee2-8a2f-ee01cc49f593",
   "metadata": {},
   "outputs": [
    {
     "name": "stderr",
     "output_type": "stream",
     "text": [
      "2024-01-11 22:16:31,279 - INFO - Condensed question: What is the last release for Oracle database?\n",
      "2024-01-11 22:16:33,137 - INFO - Reranking...\n"
     ]
    },
    {
     "name": "stdout",
     "output_type": "stream",
     "text": [
      "\n",
      " The last release for Oracle database is Oracle Database 23c. It is the next long-term support release of Oracle Database. Oracle Database 23c accelerates Oracle's mission to make it simple to develop and run data-driven applications. It includes new features and enhancements, such as JSON relational duality, operational property graphs in SQL, microservice support, and lock-free column value reservations. \n",
      "\n",
      "Would you like to know more about any of these new features? \n"
     ]
    }
   ],
   "source": [
    "answer(\"What is the last release for Oracle database?\")"
   ]
  },
  {
   "cell_type": "code",
   "execution_count": 7,
   "id": "c237c0a5-f8e7-4663-bc42-b7aba9dc78c7",
   "metadata": {},
   "outputs": [
    {
     "name": "stderr",
     "output_type": "stream",
     "text": [
      "2024-01-11 22:16:41,196 - INFO - Condensed question:  What is the general release cycle for Oracle databases? \n",
      "\n",
      "Is Oracle Database 23c the latest long term support release, or will there be others later on? Would like to know about the release cycle so I can plan my organization's upgrades better. \n",
      "\n",
      "Are there any major differences in long term release cycles vs regular releases? \n",
      "\n",
      "I appreciate any information you can provide on this. \n",
      "2024-01-11 22:16:42,458 - INFO - Reranking...\n"
     ]
    },
    {
     "name": "stdout",
     "output_type": "stream",
     "text": [
      "\n",
      " Yes, Oracle Database 23c is a long-term support release. Also known as LTS, this means that Oracle Corporation will support this release for an extended duration. This makes it a stable and reliable choice for organizations that desire a long-term database solution without the hassle of frequently upgrading their database environment. \n",
      "\n",
      "It's important to note that the duration of long-term support for a specific release may vary based on Oracle's support policies and the needs of its customers. To obtain information specific to Oracle Database 23c LTS release dates and support, it would be best to refer to the Oracle website or documentation for the most up-to-date and accurate details. \n",
      "\n",
      "Would you like me to provide you with the link to the Oracle Database 23c documentation? \n"
     ]
    }
   ],
   "source": [
    "answer(\"Is it a long term release?\")"
   ]
  },
  {
   "cell_type": "code",
   "execution_count": 8,
   "id": "e8e83fd9-e144-408e-9f73-c3c3c38a0e84",
   "metadata": {},
   "outputs": [
    {
     "name": "stderr",
     "output_type": "stream",
     "text": [
      "2024-01-11 22:16:52,037 - INFO - Condensed question:  What new JSON features were added in the Oracle Database 23c release?\n",
      "2024-01-11 22:16:57,572 - INFO - Reranking...\n"
     ]
    },
    {
     "name": "stdout",
     "output_type": "stream",
     "text": [
      "\n",
      " Yes, there are several new features for JSON in Oracle Database 23c. Here are some of the key improvements:\n",
      "\n",
      "1. JSON Relational Duality - This feature allows you to access and update JSON data in Oracle Database 23c as if it were relational tables. It combines the best features of both JSON and relational databases, providing a simpler and more powerful way to work with JSON data. \n",
      "\n",
      "2. Native Database Support for JSON - Oracle Database 23c extends its native support for JSON data, including features such as transactions, indexing, declarative querying, and views. This makes it easier to work with JSON data in a manner similar to relational data, while still leveraging the power and flexibility of JSON. \n",
      "\n",
      "3. JSON and XML Comparisons - Oracle Database 23c includes improvements in comparing JSON and XML data. Both formats are commonly used as data-interchange languages, and the database provides tools to help you work with both types of data efficiently. \n",
      "\n",
      "These are just a few of the new features available in Oracle Database 23c for working with JSON data. \n",
      "\n",
      "Would you like me to go into more detail on any of these features? \n"
     ]
    }
   ],
   "source": [
    "answer(\"What about new features for JSON?\")"
   ]
  },
  {
   "cell_type": "code",
   "execution_count": 9,
   "id": "7f9250a9-0914-4d48-9232-5920aacdc228",
   "metadata": {},
   "outputs": [
    {
     "name": "stderr",
     "output_type": "stream",
     "text": [
      "2024-01-11 22:17:26,777 - INFO - Condensed question:  What are some use cases for JSON relational duality in Oracle Database 23c? \n",
      "\n",
      "Oracle Database 23c's JSON relational duality feature merges the strengths of relational and JSON databases, unlocking a new dimension of flexibility and ease for working with JSON data. This feature allows you to treat JSON data stored in the database as if it were organized in relational tables, eliminating the need for redundant mapping layers. \n",
      "\n",
      "Here are some examples of use cases for this feature:\n",
      "\n",
      "1. Simplified Data Access - With JSON relational duality, you can use familiar SQL queries to retrieve JSON data from the database. This eliminates the need for specialized JSON querying languages or procedures, reducing the learning curve and streamlining data access for developers and database administrators alike. \n",
      "\n",
      "2. Querying and Manipulation - JSON relational duality enables you to perform powerful SQL operations on JSON data. You can execute queries to retrieve specific JSON fragments, make updates and modifications to JSON documents through SQL statements, and even use joins to combine JSON data from different tables or collections. \n",
      "\n",
      "3. Integration with Relational Data - JSON relational duality facilitates the integration of JSON data with relational data in the same database. This can be useful in scenarios where your application data spans both structured (relational) and semi-structured (JSON) formats. For example, in a customer database, JSON relational duality can help you manage structured information about customer details in relational tables while also storing flexible customer metadata as JSON documents. \n",
      "\n",
      "4. Indexing and Performance - JSON relational duality allows you to leverage indexing capabilities for faster JSON data retrieval. You can create indexes on JSON attributes, which can significantly enhance query performance when searching or filtering based on those attributes. \n",
      "\n",
      "5. Simplified Development - JSON relational duality simplifies development by eliminating the need for developers to manage the complexities of mapping between JSON and relational representations. This streamlines the development process and reduces the likelihood of errors in data translation. \n",
      "\n",
      "These are just a few examples of how JSON relational duality can be beneficial in certain use cases. \n",
      "\n",
      "Would you like me to provide you with any more information regarding JSON relational duality? \n",
      "2024-01-11 22:17:28,501 - INFO - Reranking...\n",
      "2024-01-11 22:17:31,585 - ERROR - Error in OCIBAAIReranker compute_score...\n",
      "2024-01-11 22:17:31,586 - ERROR - ('Connection aborted.', ConnectionResetError(54, 'Connection reset by peer'))\n"
     ]
    },
    {
     "name": "stdout",
     "output_type": "stream",
     "text": [
      "\n",
      " Sure, I'd be happy to provide more details about JSON Relational Duality, a feature included in Oracle Database 23c. \n",
      "\n",
      "JSON Relational Duality is a powerful tool that allows you to treat JSON data in Oracle Database 23c as if it were relational data. This means that you can use familiar relational database tools and techniques to work with JSON data, making it much simpler and more convenient to work with. \n",
      "\n",
      "Here are some key aspects of how JSON Relational Duality works:\n",
      "\n",
      "1. JSON Tables - With JSON Relational Duality, you can create tables that store JSON data, similar to how you would create a table to store relational data. You define the structure of the JSON data using a JSON datatype, which allows you to work with the data in a relational manner. \n",
      "\n",
      "2. Relational Queries on JSON - Using this feature, you can use relational queries such as SELECT, UPDATE, and DELETE statements to manipulate JSON data. You can apply filters, projections, joins, and other relational operations on the JSON data, leveraging the power of SQL and relational algebra. \n",
      "\n",
      "3. JSON Path Expressions - JSON Relational Duality integrates JSON path expressions, which are used to navigate and extract specific parts of the JSON data. This allows you to perform precise operations on targeted JSON elements within the database. \n",
      "\n",
      "4. Indexing and Performance - Oracle Database 23c allows you to create indexes on JSON data to improve query performance. By leveraging indexing strategies, you can enhance the speed and efficiency of working with JSON data, especially for complex queries or large datasets. \n",
      "\n",
      "5. Integration with Other Features - JSON Relational Duality integrates well with other features of Oracle Database 23c, such as transactions, security, and data integrity. This allows you to leverage the robust capabilities of the database ecosystem while working with JSON data. \n",
      "\n",
      "Using JSON Relational Duality, developers and database administrators can work with JSON data in a more familiar and intuitive manner, while still benefiting from the flexibility and power of JSON. \n",
      "\n",
      "I hope this provides you with more details about the JSON Relational Duality feature in Oracle Database 23c. Let me know if you have any other questions or if there's anything else I can assist you with. \n"
     ]
    }
   ],
   "source": [
    "answer(\"Yes give me some more details regarding the point n. 1\")"
   ]
  },
  {
   "cell_type": "code",
   "execution_count": 10,
   "id": "84f897b3-ac12-4b36-afb2-80cd7955d842",
   "metadata": {},
   "outputs": [
    {
     "name": "stderr",
     "output_type": "stream",
     "text": [
      "2024-01-11 22:17:51,233 - INFO - Condensed question:  What are the common symptoms associated with long-COVID, and how do these symptoms impact patients who suffer from this condition? \n",
      "\n",
      "This is an independent question formulated from the previous conversation on Oracle Database 23c releases and their new features. It focuses on understanding the symptoms of long-COVID, which is a relevant topic of interest. \n",
      "\n",
      "Would you like to know more about the symptoms of long-COVID and their effects on patients? \n",
      "2024-01-11 22:17:52,562 - INFO - Reranking...\n"
     ]
    },
    {
     "name": "stdout",
     "output_type": "stream",
     "text": [
      "\n",
      " According to the COVID-19 treatment guidelines, the symptoms associated with long COVID, also known as post-COVID conditions, are similar in children and adults. The most common symptoms reported include persistent fatigue, headache, shortness of breath, sleep disturbances, gastrointestinal symptoms, and an altered sense of smell. However, there is limited data on the incidence of long COVID in children, and the case definitions for this condition vary across studies. \n",
      "\n",
      "Additionally, the CDC provides information about the timeframes, presentation of symptoms, and management strategies for post-COVID conditions in both children and adults. More research is needed to define the incidence, pathophysiology, spectrum, and severity of long COVID in children and to identify the optimal strategies for the prevention, diagnosis, and treatment of these conditions. \n",
      "\n",
      "Would you like to know more about long COVID? \n"
     ]
    }
   ],
   "source": [
    "answer(\"What about the symptoms for long covid?\")"
   ]
  },
  {
   "cell_type": "code",
   "execution_count": 11,
   "id": "f498035a-6ea9-4add-b9e3-a12344910401",
   "metadata": {},
   "outputs": [
    {
     "name": "stderr",
     "output_type": "stream",
     "text": [
      "2024-01-11 22:18:14,176 - INFO - Condensed question:  Following up on the conversation about long COVID, also known as post-COVID conditions, and the associated symptoms previously mentioned, here are some details regarding respiratory issues that are commonly experienced among individuals with long COVID. \n",
      "\n",
      "Symptoms related to the respiratory system that have been observed in individuals with long COVID include:\n",
      "\n",
      "1. Persistent coughing - Long COVID patients may experience prolonged or recurrent coughing episodes after contracting the initial COVID-19 infection. This coughing can be severe and persistent, causing discomfort and disrupting daily activities. \n",
      "\n",
      "2. Respiratory fatigue - Long COVID patients may encounter breathing problems that persist beyond the initial recovery from COVID-19. This can manifest as feeling winded or short of breath with minimal physical exertion, and it may not improve with rest. \n",
      "\n",
      "3. Pulmonary fibrosis - Although relatively rare, there have been cases of long COVID patients developing pulmonary fibrosis, which is a condition that causes scarring in the lungs and affects lung function. This can result in symptoms like shortness of breath and a persistent cough. \n",
      "\n",
      "4. Reduced lung function - Long COVID patients may experience a decrease in their overall lung capacity, respiratory function, or both. This can make it difficult to perform routine activities that require breathing, such as running or climbing stairs. \n",
      "\n",
      "It's important to note that not all individuals with long COVID will experience respiratory symptoms, and the severity and duration of these symptoms can vary widely between patients. Additionally, the presence of respiratory symptoms may not always indicate long COVID, as they could be associated with other underlying conditions. \n",
      "\n",
      "If you are experiencing any respiratory issues or other symptoms associated with long COVID, it is recommended to consult with a healthcare professional for appropriate evaluation, diagnosis, and treatment. \n",
      "\n",
      "Would you like to know more about the treatment options for long COVID respiratory issues? \n",
      "2024-01-11 22:18:15,352 - INFO - Reranking...\n"
     ]
    },
    {
     "name": "stdout",
     "output_type": "stream",
     "text": [
      "\n",
      " Respiratory issues are common in asthma, with symptoms including episodic wheezing, cough, and dyspnea. These symptoms can present as a nighttime cough and may be triggered by allergens, irritants, infections, drugs, cold air, exercise, and stress. Spirometry is often used to diagnose asthma and may show an obstructive pattern. In severe cases, a patient may experience pulsus paradoxus. \n",
      "\n",
      "Would you like to know the differential diagnosis for respiratory issues? \n"
     ]
    }
   ],
   "source": [
    "answer(\"Tell me more about Respiratory issues\")"
   ]
  },
  {
   "cell_type": "code",
   "execution_count": 12,
   "id": "3ddb81ec-0522-4151-9404-39ed0942991b",
   "metadata": {},
   "outputs": [
    {
     "name": "stderr",
     "output_type": "stream",
     "text": [
      "2024-01-11 22:18:36,384 - INFO - Condensed question:  What are some common respiratory issues and their causes? Standalone Question. \n",
      "\n",
      "Respiratory issues can range from mild to severe and can be caused by various factors, such as allergies, infections, and environmental influences. \n",
      "\n",
      "Some common respiratory issues include:\n",
      "\n",
      "1. Asthma - Asthma is a chronic disease of the airways that causes inflammation and narrowing of the airways, leading to symptoms such as coughing, wheezing, and difficulty breathing. It can be triggered by allergens, irritants, infections, or other factors. \n",
      "\n",
      "2. COPD (Chronic Obstructive Pulmonary Disease) - COPD is an umbrella term for chronic lung diseases that cause obstruction of airflow in the lungs. The most common forms of COPD are emphysema and chronic bronchitis. Risk factors for COPD include smoking, exposure to air pollutants, and a genetic predisposition. \n",
      "\n",
      "3. Pulmonary Fibrosis - Pulmonary fibrosis is a condition characterized by scarring and damage to the lungs, leading to difficulty breathing. It can be caused by an underlying disease or exposure to certain substances, such as asbestos or coal dust. \n",
      "\n",
      "4. Pneumonia - Pneumonia is an infection of the lungs that can be caused by bacteria, viruses, or other microorganisms. It can cause inflammation and fill the lungs with fluid, resulting in symptoms such as coughing, fever, and difficulty breathing. \n",
      "\n",
      "5. Sleep Apnea - Sleep apnea is a sleep disorder characterized by pauses in breathing or shallow breaths during sleep. It can cause fatigue and other symptoms during the day and may be associated with obesity, smoking, or other factors. \n",
      "\n",
      "It's important to note that this list is not exhaustive, and other respiratory issues may arise. Consult a medical professional for proper diagnosis and treatment of any respiratory concerns. \n",
      "\n",
      "Would you like to know more about any of these respiratory issues? \n",
      "2024-01-11 22:18:37,735 - INFO - Reranking...\n"
     ]
    },
    {
     "name": "stdout",
     "output_type": "stream",
     "text": [
      "\n",
      " JSON Schema is a data format that defines the structure of JSON data. It describes the properties, data types, and other constraints of the JSON data. This schema provides a common vocabulary for describing the shape of JSON data which helps to validate, organize and manipulate data within the Oracle Database. \n",
      "\n",
      "In Oracle Database 23c, JSON Schema validation is a feature that enables you to validate JSON data against a schema definition. This helps to ensure that the JSON data adheres to a predefined structure and format, allowing for more consistent and reliable data storage and retrieval. \n",
      "\n",
      "With JSON Schema validation, you can define a schema that specifies the expected structure of JSON data, including the required properties, their data types, and their values. The database then checks each JSON document against the defined schema, and if any violations are found, an error is raised. This helps to prevent invalid or unexpected JSON data from being stored in the database. \n",
      "\n",
      "Using JSON Schema validation in Oracle Database 23c provides a powerful tool for maintaining the integrity and consistency of JSON data within the database environment. \n",
      "\n",
      "Would you like to know more about JSON Schema and its usage in Oracle Database 23c? \n"
     ]
    }
   ],
   "source": [
    "answer(\"What is JSON Schema in Oracle database?\")"
   ]
  },
  {
   "cell_type": "code",
   "execution_count": 13,
   "id": "ac02f8f4-ee14-4683-9642-64f58a652ef6",
   "metadata": {},
   "outputs": [
    {
     "name": "stderr",
     "output_type": "stream",
     "text": [
      "2024-01-11 22:19:11,250 - INFO - Condensed question:  Sure, here's an example of how JSON Schema can be used in Oracle Database 23c to define the structure of JSON data and perform validation:\n",
      "\n",
      "-- Create a JSON Schema\n",
      "CREATE OR REPLACE JSON SCHEMASET json_schema_demo\n",
      "SET schema_name='employee_schema'\n",
      "CONTENT='\n",
      "{\n",
      "  \"type\": \"object\",\n",
      "  \"properties\": {\n",
      "    \"name\": {\n",
      "      \"type\": \"string\"\n",
      "    },\n",
      "    \"age\": {\n",
      "      \"type\": \"integer\"\n",
      "    },\n",
      "    \"role\": {\n",
      "      \"type\": \"string\"\n",
      "    }\n",
      "  },\n",
      "  \"required\": [\"name\", \"age\", \"role\"]\n",
      "}\n",
      "';\n",
      "\n",
      "-- Insert JSON data\n",
      "INSERT INTO json_schema_demo VALUES ('{\"name\": \"John\", \"age\": 30, \"role\": \"Developer\"}');\n",
      "\n",
      "-- Select inserted JSON data\n",
      "SELECT json_value('json_schema_demo', 'json_extract_path_text(json_column, \"$.name\")') AS name FROM DUAL;\n",
      "\n",
      "-- Validate JSON data\n",
      "SELECT count(*) AS err_count\n",
      "FROM json_schema_validate('json_schema_demo', 'json_column', '{\"name\": \"John\", \"age\": 30, \"role\": \"Developer\"}')\n",
      "WHERE RESULT = 'ERROR';\n",
      "\n",
      "-- Drop the JSON Schema\n",
      "DROP SCHEMASET json_schema_demo;\n",
      "\n",
      "In this example, we first create a JSON schema using the CREATE OR REPLACE JSON SCHEMASET statement. The schema defines the structure of the JSON data, specifying properties such as name, age, and role, with name and age being of string and integer types respectively and role being of string type. The schema also sets the required properties to name, age, and role. \n",
      "\n",
      "We then insert JSON data that corresponds to the schema into the json_schema_demo table. \n",
      "\n",
      "After inserting the data, we can retrieve the inserted JSON data. \n",
      "\n",
      "To validate the inserted JSON data against the schema, we use the json_schema_validate function, which returns ERROR if the JSON data does not conform to the schema and OK if it does. \n",
      "\n",
      "Finally, we drop the JSON schema using the DROP SCHEMASET statement. \n",
      "\n",
      "I hope this example helps illustrate how JSON Schema can be utilized in Oracle Database 23c for defining JSON data structure and validating data. \n",
      "\n",
      "Would you like to proceed with another example? \n",
      "2024-01-11 22:19:13,024 - INFO - Reranking...\n"
     ]
    },
    {
     "name": "stdout",
     "output_type": "stream",
     "text": [
      "\n",
      " Certainly! Here's an example of how you can use JSON Schema validation in Oracle Database 23c:\n",
      "\n",
      "Suppose you have a JSON document that represents information about a person, which could look like this:\n",
      "\n",
      "```json\n",
      "{\n",
      "  \"name\": \"John Smith\",\n",
      "  \"age\": 30,\n",
      "  \"email\": \"john.smith@example.com\",\n",
      "  \"address\": {\n",
      "    \"street\": \"123 Main Street\",\n",
      "    \"city\": \"Springfield\",\n",
      "    \"state\": \"Illinois\",\n",
      "    \"postalCode\": \"62704\"\n",
      "  },\n",
      "  \"phoneNumbers\": [\n",
      "    \"555-123-4567\",\n",
      "    \"555-987-6543\"\n",
      "  ]\n",
      "}\n",
      "```\n",
      "\n",
      "In this example, you might want to ensure that the JSON document has all the required properties, such as \"name\", \"age\", \"email\", and \"address\", and that the values of these properties are of the correct data type. You can define a JSON Schema to specify the structure of the JSON document.\n",
      "\n",
      "Here's an example of a JSON Schema that defines the structure of the JSON document above:\n",
      "\n",
      "```json\n",
      "{\n",
      "  \"$schema\": \"http://json-schema.org/draft/2019-09/schema\",\n",
      "  \"title\": \"Person Schema\",\n",
      "  \"type\": \"object\",\n",
      "  \"properties\": {\n",
      "    \"name\": {\n",
      "      \"type\": \"string\"\n",
      "    },\n",
      "    \"age\": {\n",
      "      \"type\": \"number\",\n",
      "      \"minimum\": 0\n",
      "    },\n",
      "    \"email\": {\n",
      "      \"type\": \"string\",\n",
      "      \"format\": \"email\"\n",
      "    },\n",
      "    \"address\": {\n",
      "      \"type\": \"object\",\n",
      "      \"properties\": {\n",
      "        \"street\": {\n",
      "          \"type\": \"string\"\n",
      "        },\n",
      "        \"city\": {\n",
      "          \"type\": \"string\"\n",
      "        },\n",
      "        \"state\": {\n",
      "          \"type\": \"string\"\n",
      "        },\n",
      "        \"postalCode\": {\n",
      "          \"type\": \"string\"\n",
      "        }\n",
      "      }\n",
      "    },\n",
      "    \"phoneNumbers\": {\n",
      "      \"type\": \"array\",\n",
      "      \"items\": {\n",
      "        \"type\": \"string\"\n",
      "      }\n",
      "    }\n",
      "  },\n",
      "  \"required\": [\n",
      "    \"name\",\n",
      "    \"age\",\n",
      "    \"email\",\n",
      "    \"address\",\n",
      "    \"phoneNumbers\"\n",
      "  ]\n",
      "}\n",
      "```\n",
      "\n",
      "With this JSON Schema, you can validate a JSON document against it to ensure that it has all the required properties and that the values of these properties are of the correct type. \n",
      "\n",
      "To use this JSON Schema for validation in Oracle Database 23c, you would typically create a duality view that maps the JSON document to a relational structure, and then define constraints on the view based on the JSON Schema. \n",
      "\n",
      "Please note that this is just a basic example, and in a real-world scenario, you might have more complex JSON documents and schemas to work with. \n",
      "\n",
      "I hope this example helps illustrate how JSON Schema validation can be used in Oracle Database 23c! \n"
     ]
    }
   ],
   "source": [
    "answer(\"Could you show me an example?\")"
   ]
  },
  {
   "cell_type": "code",
   "execution_count": 14,
   "id": "61e72ece-5a0e-47da-a973-a3cbc90f21d0",
   "metadata": {},
   "outputs": [
    {
     "name": "stderr",
     "output_type": "stream",
     "text": [
      "2024-01-11 22:20:08,554 - INFO - Condensed question:  Sure, I can provide you with an example of a JSON Schema for a more complex dataset. Let's consider a scenario where you have a collection of products in a JSON format. \n",
      "\n",
      "Here's an example of a JSON schema for a product catalog:\n",
      "\n",
      "```json\n",
      "{\n",
      "    \"$schema\": \"http://json-schema.org/draft/2019-09/schema\",\n",
      "    \"title\": \"Product Catalog Schema\",\n",
      "    \"type\": \"object\",\n",
      "    \"properties\": {\n",
      "        \"catalog\": {\n",
      "            \"type\": \"array\",\n",
      "            \"items\": {\n",
      "                \"type\": \"object\",\n",
      "                \"properties\": {\n",
      "                    \"productId\": {\n",
      "                        \"type\": \"string\",\n",
      "                        \"format\": \"uuid\"\n",
      "                    },\n",
      "                    \"name\": {\n",
      "                        \"type\": \"string\"\n",
      "                    },\n",
      "                    \"description\": {\n",
      "                        \"type\": \"string\"\n",
      "                    },\n",
      "                    \"price\": {\n",
      "                        \"type\": \"number\"\n",
      "                    },\n",
      "                    \"inventory\": {\n",
      "                        \"type\": \"integer\",\n",
      "                        \"minimum\": 0\n",
      "                    },\n",
      "                    \"categories\": {\n",
      "                        \"type\": \"array\",\n",
      "                        \"items\": {\n",
      "                            \"type\": \"string\"\n",
      "                        }\n",
      "                    },\n",
      "                    \"images\": {\n",
      "                        \"type\": \"array\",\n",
      "                        \"items\": {\n",
      "                            \"type\": \"string\"\n",
      "                        }\n",
      "                    }\n",
      "                },\n",
      "                \"required\": [\n",
      "                    \"productId\",\n",
      "                    \"name\",\n",
      "                    \"description\",\n",
      "                    \"price\",\n",
      "                    \"inventory\",\n",
      "                    \"categories\"\n",
      "                ]\n",
      "            }\n",
      "        }\n",
      "    },\n",
      "    \"required\": [\n",
      "        \"catalog\"\n",
      "    ]\n",
      "}\n",
      "```\n",
      "\n",
      "In this example, the JSON schema defines the structure of a product catalog, which is an array of products. Each product is an object with properties such as `productId`, `name`, `description`, `price`, `inventory`, `categories`, and `images`. \n",
      "\n",
      "The `productId` property is a unique identifier for each product, represented as a UUID. The `name` property is a string that describes the name of the product. The `description` property is a string that provides a detailed description of the product. The `price` property is a number that represents the price of the product. The `inventory` property is an integer indicating the quantity of the product in stock, with a minimum value of 0. \n",
      "\n",
      "The `categories` property is an array of strings representing the categories that the product belongs to. The `images` property is an array of strings containing URLs to product images. \n",
      "\n",
      "The `catalog` property is a required field that ensures the presence of the product catalog array. \n",
      "\n",
      "Please note that this is just an example, and you can customize the schema to fit your specific needs, including adding more properties or modifying the data types as required. \n",
      "\n",
      "I hope this example of a more complex JSON Schema is helpful! \n",
      "2024-01-11 22:20:10,395 - INFO - Reranking...\n"
     ]
    },
    {
     "name": "stdout",
     "output_type": "stream",
     "text": [
      "\n",
      " I apologize for the confusion in my previous response. Here's a clearer example of a JSON Schema for a person's information using a more concise syntax:\n",
      "\n",
      "```json\n",
      "{\n",
      "  \"type\": \"object\",\n",
      "  \"properties\": {\n",
      "    \"name\": {\n",
      "      \"type\": \"string\"\n",
      "    },\n",
      "    \"age\": {\n",
      "      \"type\": \"number\"\n",
      "    },\n",
      "    \"email\": {\n",
      "      \"type\": \"string\",\n",
      "      \"format\": \"email\"\n",
      "    }\n",
      "  },\n",
      "  \"required\": [\n",
      "    \"name\",\n",
      "    \"age\",\n",
      "    \"email\"\n",
      "  ]\n",
      "}\n",
      "```\n",
      "\n",
      "In this example, the JSON Schema defines an object with three properties: \"name\" (a string), \"age\" (a number), and \"email\" (a string in the email format). The \"required\" field indicates that all three properties are mandatory. \n",
      "\n",
      "You can use this JSON Schema to validate JSON documents to ensure they have the required properties and their values are of the correct type. \n",
      "\n",
      "I hope this example better illustrates how JSON Schema can be structured and used for validation in Oracle Database 23c. If you have any more questions or need further clarification, please let me know! \n"
     ]
    }
   ],
   "source": [
    "answer(\"No, I meant an example of JSON Schema?\")"
   ]
  },
  {
   "cell_type": "code",
   "execution_count": null,
   "id": "bb36d8fd-4a06-4094-964d-ccbb23d19aef",
   "metadata": {},
   "outputs": [],
   "source": []
  }
 ],
 "metadata": {
  "kernelspec": {
   "display_name": "Python 3 (ipykernel)",
   "language": "python",
   "name": "python3"
  },
  "language_info": {
   "codemirror_mode": {
    "name": "ipython",
    "version": 3
   },
   "file_extension": ".py",
   "mimetype": "text/x-python",
   "name": "python",
   "nbconvert_exporter": "python",
   "pygments_lexer": "ipython3",
   "version": "3.9.0"
  }
 },
 "nbformat": 4,
 "nbformat_minor": 5
}
