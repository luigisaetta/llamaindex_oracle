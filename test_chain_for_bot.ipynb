{
 "cells": [
  {
   "cell_type": "markdown",
   "id": "0364e58a-75e3-476d-9ebd-97d8c02e3471",
   "metadata": {},
   "source": [
    "### To quickly test the interface used by oracle_bot"
   ]
  },
  {
   "cell_type": "code",
   "execution_count": 1,
   "id": "c57acec6-38ff-4e35-9514-ed851518665b",
   "metadata": {},
   "outputs": [],
   "source": [
    "import prepare_chain"
   ]
  },
  {
   "cell_type": "code",
   "execution_count": 2,
   "id": "fd306b93-90fc-4348-aede-114944fdcc97",
   "metadata": {},
   "outputs": [
    {
     "name": "stderr",
     "output_type": "stream",
     "text": [
      "2024-01-04 15:27:39,616 - INFO - calling create_query_engine()...\n",
      "2024-01-04 15:27:39,616 - INFO - using OCI cohere.embed-multilingual-v3.0 for embeddings...\n",
      "2024-01-04 15:27:39,616 - INFO - using OCI as LLM...\n",
      "2024-01-04 15:27:39,617 - INFO - using OCI_BAAI as reranker...\n",
      "2024-01-04 15:27:39,701 - INFO - Using Oracle DB Vector Store...\n",
      "2024-01-04 15:27:41,137 - INFO - Created OCI reranker client...\n",
      "2024-01-04 15:27:41,137 - INFO - Region: eu-frankfurt-1...\n",
      "2024-01-04 15:27:41,137 - INFO - Deployment id: ocid1.datasciencemodeldeployment.oc1.eu-frankfurt-1.amaaaaaangencdyaulxbosgii6yajt2jdsrrvfbequkxt3mepz675uk3ui3q...\n",
      "2024-01-04 15:27:41,137 - INFO - \n",
      "2024-01-04 15:27:41,179 - INFO - \n"
     ]
    }
   ],
   "source": [
    "query_engine, token_counter = prepare_chain.create_query_engine(verbose=True)"
   ]
  },
  {
   "cell_type": "code",
   "execution_count": 3,
   "id": "5e36b61d-ed10-4bdc-9c68-bc9692f56a83",
   "metadata": {},
   "outputs": [
    {
     "name": "stderr",
     "output_type": "stream",
     "text": [
      "2024-01-04 15:27:43,197 - INFO - Reranking...\n"
     ]
    }
   ],
   "source": [
    "response = query_engine.query(\n",
    "    \"List new features in Oracle Database 23c for JSON. Make a list. Limit to only 10 items.\"\n",
    ")"
   ]
  },
  {
   "cell_type": "code",
   "execution_count": 11,
   "id": "9fdaaa04-80a5-43fb-b8d4-c6712169dd6f",
   "metadata": {},
   "outputs": [],
   "source": [
    "def format_output(response):\n",
    "    output = response.response\n",
    "\n",
    "    if len(response.source_nodes) > 0:\n",
    "        output += \"\\n\\n Reference:\\n\"\n",
    "\n",
    "        for node in response.source_nodes:\n",
    "            output += str(node.metadata).replace(\"{\", \"\").replace(\"}\", \"\") + \"\\n\"\n",
    "\n",
    "    return output"
   ]
  },
  {
   "cell_type": "code",
   "execution_count": 12,
   "id": "a9ca40a0-ea20-40f5-94ed-e257125a0afb",
   "metadata": {},
   "outputs": [
    {
     "name": "stdout",
     "output_type": "stream",
     "text": [
      "Certainly! Here is a list of ten new features in Oracle Database 23c that are related to JSON:\n",
      "\n",
      "1. JSON Relational Duality: Data can be accessed and updated as either JSON documents or relational tables, providing developers with the benefits of both.\n",
      "\n",
      "2. Native Database Support for JSON: Oracle Database offers native support for JSON data, including transactions, indexing, declarative querying, and views. \n",
      "\n",
      "3. JSON and XML: Both JSON data and XML data can be stored, indexed, and queried in the database without any schema that defines the data. \n",
      "\n",
      "4. JSON Querying: Oracle Database supports a range of JSON querying capabilities, such as querying JSON data using SQL and indexing JSON data for faster queries. \n",
      "\n",
      "5. JSON Functions: Oracle Database includes a set of functions and operators for working with JSON data, such as extracting and manipulating JSON values. \n",
      "\n",
      "6. JSON Views: Oracle Database allows you to create views that represent JSON data in a relational format, making it easier to work with and query the data. \n",
      "\n",
      "7. JSON Indexing: Oracle Database supports indexing for JSON data, enabling faster queries and improving the performance of working with JSON. \n",
      "\n",
      "8. JSON Functions in SQL: Oracle Database allows you to use SQL functions on JSON data, such as extracting JSON values or comparing JSON data. \n",
      "\n",
      "9. JSON Support in PL/SQL: Oracle Database provides support for working with JSON data in PL/SQL, including functions and procedures for manipulating JSON values. \n",
      "\n",
      "10. JSON Transactions: Oracle Database supports transactions for JSON data, ensuring the reliability and consistency of JSON data operations. \n",
      "\n",
      "Please note that this list is limited to ten items and is not exhaustive. There are additional new features in Oracle Database 23c related to JSON and other aspects of the database. \n",
      "\n",
      "Would you like to know more about any of these features? \n",
      "\n",
      " Reference:\n",
      "'file_name': 'oracle-database-23c-new-features-guide.pdf', 'page_label': '1-1'\n",
      "'file_name': 'oracle-database-23c-new-features-guide.pdf', 'page_label': '1'\n",
      "'file_name': 'oracle-database-23c-new-features-guide.pdf', 'page_label': '2'\n",
      "'file_name': 'database-concepts.pdf', 'page_label': '22-17'\n",
      "\n"
     ]
    }
   ],
   "source": [
    "print(format_output(response))"
   ]
  },
  {
   "cell_type": "code",
   "execution_count": null,
   "id": "df30de39-36ec-4f7e-8722-e67becc39b2a",
   "metadata": {},
   "outputs": [],
   "source": []
  }
 ],
 "metadata": {
  "kernelspec": {
   "display_name": "Python 3 (ipykernel)",
   "language": "python",
   "name": "python3"
  },
  "language_info": {
   "codemirror_mode": {
    "name": "ipython",
    "version": 3
   },
   "file_extension": ".py",
   "mimetype": "text/x-python",
   "name": "python",
   "nbconvert_exporter": "python",
   "pygments_lexer": "ipython3",
   "version": "3.9.0"
  }
 },
 "nbformat": 4,
 "nbformat_minor": 5
}
