{
 "cells": [
  {
   "cell_type": "markdown",
   "id": "0364e58a-75e3-476d-9ebd-97d8c02e3471",
   "metadata": {},
   "source": [
    "### To quickly test the interface used by oracle_bot"
   ]
  },
  {
   "cell_type": "code",
   "execution_count": 1,
   "id": "c57acec6-38ff-4e35-9514-ed851518665b",
   "metadata": {},
   "outputs": [],
   "source": [
    "import prepare_chain"
   ]
  },
  {
   "cell_type": "code",
   "execution_count": 2,
   "id": "fd306b93-90fc-4348-aede-114944fdcc97",
   "metadata": {},
   "outputs": [
    {
     "name": "stderr",
     "output_type": "stream",
     "text": [
      "2023-12-29 11:47:28,782 - INFO - calling create_query_engine()...\n",
      "2023-12-29 11:47:28,785 - INFO - using cohere.embed-multilingual-v3.0 for embeddings...\n",
      "2023-12-29 11:47:28,789 - INFO - using MISTRAL as LLM...\n"
     ]
    }
   ],
   "source": [
    "query_engine, token_counter = prepare_chain.create_query_engine(verbose=True)"
   ]
  },
  {
   "cell_type": "code",
   "execution_count": 3,
   "id": "5e36b61d-ed10-4bdc-9c68-bc9692f56a83",
   "metadata": {},
   "outputs": [],
   "source": [
    "response = query_engine.query(\"Cosa è LGWR?\")"
   ]
  },
  {
   "cell_type": "code",
   "execution_count": 4,
   "id": "6c74f16d-bb60-4b78-9059-653936087dc8",
   "metadata": {},
   "outputs": [
    {
     "name": "stdout",
     "output_type": "stream",
     "text": [
      "LGWR, in the context provided, refers to a background process in Oracle Database responsible for redo log buffer management. It writes the redo log buffer to the online redo log, including all redo entries that have been copied into the buffer since the last time it wrote. This process is triggered under certain circumstances, such as a user committing a transaction, an online redo log switch occurring, or when specific thresholds of time or buffer occupancy are met. The purpose of LGWR is to ensure that changes made to data are recorded and persisted correctly, supporting the overall integrity and reliability of the database system.\n"
     ]
    }
   ],
   "source": [
    "print(response)"
   ]
  },
  {
   "cell_type": "code",
   "execution_count": 5,
   "id": "2da54367-387f-4fae-a178-f3de53687294",
   "metadata": {},
   "outputs": [
    {
     "name": "stdout",
     "output_type": "stream",
     "text": [
      "{'file_name': 'ai-4-italy.pdf', 'page_label': '9'}\n",
      "{'file_name': 'database-concepts.pdf', 'page_label': '39'}\n",
      "{'file_name': 'ai-4-italy.pdf', 'page_label': '60'}\n",
      "{'file_name': 'database-concepts.pdf', 'page_label': '18-18'}\n",
      "{'file_name': 'ai-4-italy.pdf', 'page_label': '22'}\n",
      "{'file_name': 'ai-4-italy.pdf', 'page_label': '105'}\n"
     ]
    }
   ],
   "source": [
    "for node in response.source_nodes:\n",
    "    print(node.metadata)"
   ]
  },
  {
   "cell_type": "code",
   "execution_count": null,
   "id": "a9ca40a0-ea20-40f5-94ed-e257125a0afb",
   "metadata": {},
   "outputs": [],
   "source": []
  }
 ],
 "metadata": {
  "kernelspec": {
   "display_name": "Python 3 (ipykernel)",
   "language": "python",
   "name": "python3"
  },
  "language_info": {
   "codemirror_mode": {
    "name": "ipython",
    "version": 3
   },
   "file_extension": ".py",
   "mimetype": "text/x-python",
   "name": "python",
   "nbconvert_exporter": "python",
   "pygments_lexer": "ipython3",
   "version": "3.9.0"
  }
 },
 "nbformat": 4,
 "nbformat_minor": 5
}
