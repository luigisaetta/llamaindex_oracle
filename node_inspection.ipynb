{
 "cells": [
  {
   "cell_type": "code",
   "execution_count": 33,
   "id": "e038a38d-a638-49ff-8648-20033259762e",
   "metadata": {},
   "outputs": [],
   "source": [
    "import logging\n",
    "import sys\n",
    "\n",
    "from typing import List, Any, Optional, Dict, Tuple\n",
    "from llama_index.vector_stores.types import (\n",
    "    VectorStore,\n",
    "    VectorStoreQuery,\n",
    "    VectorStoreQueryResult,\n",
    ")\n",
    "from llama_index.node_parser import (\n",
    "    HierarchicalNodeParser,\n",
    "    SentenceSplitter,\n",
    ")\n",
    "\n",
    "from llama_index import StorageContext, VectorStoreIndex, ServiceContext\n",
    "from llama_index.storage.docstore import SimpleDocumentStore\n",
    "from llama_index.schema import TextNode, BaseNode, Document, NodeRelationship\n",
    "from llama_index import SimpleDirectoryReader\n",
    "from llama_index.retrievers.auto_merging_retriever import AutoMergingRetriever\n",
    "from llama_index.query_engine import RetrieverQueryEngine\n",
    "from llama_index.node_parser import get_leaf_nodes, get_root_nodes\n",
    "from llama_index.response.notebook_utils import display_source_node\n",
    "\n",
    "import oci\n",
    "import ads\n",
    "from ads.llm import GenerativeAIEmbeddings, GenerativeAI\n",
    "import oracledb\n",
    "\n",
    "from config import INPUT_FILES\n",
    "from config_private import COMPARTMENT_OCID, ENDPOINT\n",
    "\n",
    "from oci_utils import load_oci_config\n",
    "\n",
    "# this is the class realized for the integration with Llama-index\n",
    "from oracle_vector_db import OracleVectorStore"
   ]
  },
  {
   "cell_type": "code",
   "execution_count": 2,
   "id": "2b097ece-da4e-400f-87c4-91aaa90472ae",
   "metadata": {},
   "outputs": [],
   "source": [
    "# setup\n",
    "oci_config = load_oci_config()\n",
    "\n",
    "# need to do this way\n",
    "api_keys_config = ads.auth.api_keys(oci_config)\n",
    "\n",
    "# english, or for other language use: multilingual\n",
    "MODEL_NAME = \"cohere.embed-english-v3.0\"\n",
    "\n",
    "embed_model = GenerativeAIEmbeddings(\n",
    "    compartment_id=COMPARTMENT_OCID,\n",
    "    model=MODEL_NAME,\n",
    "    auth=ads.auth.api_keys(oci_config),\n",
    "    # Optionally you can specify keyword arguments for the OCI client, e.g. service_endpoint.\n",
    "    client_kwargs={\"service_endpoint\": ENDPOINT},\n",
    ")"
   ]
  },
  {
   "cell_type": "code",
   "execution_count": 3,
   "id": "e08baa41-eb9a-4c1d-a464-52a1baec2f97",
   "metadata": {},
   "outputs": [],
   "source": [
    "pages = SimpleDirectoryReader(\n",
    "    input_files=[\"./oracle-database-23c-new-features-guide.pdf\"]\n",
    ").load_data()"
   ]
  },
  {
   "cell_type": "code",
   "execution_count": 4,
   "id": "ae27af67-eeb7-44ce-aa6e-f06a4a197e57",
   "metadata": {},
   "outputs": [],
   "source": [
    "doc_text = \"\\n\\n\".join([d.get_content() for d in pages])\n",
    "docs = [Document(text=doc_text)]"
   ]
  },
  {
   "cell_type": "code",
   "execution_count": 5,
   "id": "5e67a7a6-6b60-400c-ab07-b55fb0bb675c",
   "metadata": {},
   "outputs": [],
   "source": [
    "chunk_sizes = [2048, 512, 256]\n",
    "\n",
    "node_parser = HierarchicalNodeParser.from_defaults(chunk_sizes)\n",
    "nodes = node_parser.get_nodes_from_documents(docs)"
   ]
  },
  {
   "cell_type": "code",
   "execution_count": 6,
   "id": "2a3b6503-8a2a-4ba0-8e3f-51e0fb18be1e",
   "metadata": {},
   "outputs": [
    {
     "data": {
      "text/plain": [
       "319"
      ]
     },
     "execution_count": 6,
     "metadata": {},
     "output_type": "execute_result"
    }
   ],
   "source": [
    "len(nodes)"
   ]
  },
  {
   "cell_type": "code",
   "execution_count": 7,
   "id": "0ef8ca44-7248-4609-9083-ef8762dbfa92",
   "metadata": {},
   "outputs": [
    {
     "data": {
      "text/plain": [
       "TextNode(id_='5856c646-d92e-41ff-a632-599d3ddf717b', embedding=None, metadata={}, excluded_embed_metadata_keys=[], excluded_llm_metadata_keys=[], relationships={<NodeRelationship.SOURCE: '1'>: RelatedNodeInfo(node_id='abad93b4-4cef-40bd-86d1-25c5709f8e0e', node_type=<ObjectType.DOCUMENT: '4'>, metadata={}, hash='b6a01ee6acd5b2346caee0a25f4a5ef83e9cfa20eeeedc0728f3f0176bf5e72d'), <NodeRelationship.NEXT: '3'>: RelatedNodeInfo(node_id='4f4e7c07-a5ce-489f-a648-8306436030a3', node_type=<ObjectType.TEXT: '1'>, metadata={}, hash='2ee2b9fbfa585a3f05e4370aac3df369e66c184cdf328320c07bf5f42fef9fb3'), <NodeRelationship.CHILD: '5'>: [RelatedNodeInfo(node_id='3aafc0d1-7d04-41ff-bab1-9ebf674d385f', node_type=<ObjectType.TEXT: '1'>, metadata={}, hash='3a586e9a0ec6052ef464abbfd1797afe0b8900ae8d1781ef3662f1b2fa5eeb45'), RelatedNodeInfo(node_id='61315c34-a4c1-464e-bb04-94db081e1657', node_type=<ObjectType.TEXT: '1'>, metadata={}, hash='396a3403315b83b92d024bf1f8163d3890f68dd423112b053d7e66709bc18ffd'), RelatedNodeInfo(node_id='7f008aed-47d3-41ce-acbc-b5142c502be9', node_type=<ObjectType.TEXT: '1'>, metadata={}, hash='45f0d67c5cda0c20c0205e20cca101b086626fe5d1a8a8ac4d738da4ceee8e34'), RelatedNodeInfo(node_id='415bed66-eca5-44d5-b75f-b634fcc535e8', node_type=<ObjectType.TEXT: '1'>, metadata={}, hash='b7c120a458ec0f229fd78ce1ac052b533632d84db462b8fdb45906aed2f6b889'), RelatedNodeInfo(node_id='167f7888-b259-4fea-8a3e-283a80c9805a', node_type=<ObjectType.TEXT: '1'>, metadata={}, hash='83599406db775ba7f6f895080ae021997f4073ff61b0dedc661cca6a43f9cc1e')]}, hash='f9f999db612a6cff3a1a7152d3c9d74981f40c0a9d80d45d1ad2af2d2375a7ad', text='Oracle® Database\\nOracle Database New Features\\nRelease 23c\\nF48428-15\\nOctober 2023\\n\\n\\nOracle Database Oracle Database New Features, Release 23c\\nF48428-15\\nCopyright © 2022, 2023, Oracle and/or its affiliates.\\nThis software and related documentation are provided under a license agreement containing restrictions on\\nuse and disclosure and are protected by intellectual property laws. Except as expressly permitted in your\\nlicense agreement or allowed by law, you may not use, copy, reproduce, translate, broadcast, modify, license,\\ntransmit, distribute, exhibit, perform, publish, or display any part, in any form, or by any means. Reverse\\nengineering, disassembly, or decompilation of this software, unless required by law for interoperability, is\\nprohibited.\\nThe information contained herein is subject to change without notice and is not warranted to be error-free. If\\nyou find any errors, please report them to us in writing.\\nIf this is software, software documentation, data (as defined in the Federal Acquisition Regulation), or related\\ndocumentation that is delivered to the U.S. Government or anyone licensing it on behalf of the U.S.\\nGovernment, then the following notice is applicable:\\nU.S. GOVERNMENT END USERS: Oracle programs (including any operating system, integrated software,\\nany programs embedded, installed, or activated on delivered hardware, and modifications of such programs)\\nand Oracle computer documentation or other Oracle data delivered to or accessed by U.S. Government end\\nusers are \"commercial computer software,\" \"commercial computer software documentation,\" or \"limited rights\\ndata\" pursuant to the applicable Federal Acquisition Regulation and agency-specific supplemental\\nregulations. As such, the use, reproduction, duplication, release, display, disclosure, modification, preparation\\nof derivative works, and/or adaptation of i) Oracle programs (including any operating system, integrated\\nsoftware, any programs embedded, installed, or activated on delivered hardware, and modifications of such\\nprograms), ii) Oracle computer documentation and/or iii) other Oracle data, is subject to the rights and\\nlimitations specified in the license contained in the applicable contract. The terms governing the U.S.\\nGovernment\\'s use of Oracle cloud services are defined by the applicable contract for such services. No other\\nrights are granted to the U.S. Government.\\nThis software or hardware is developed for general use in a variety of information management applications.\\nIt is not developed or intended for use in any inherently dangerous applications, including applications that\\nmay create a risk of personal injury. If you use this software or hardware in dangerous applications, then you\\nshall be responsible to take all appropriate fail-safe, backup, redundancy, and other measures to ensure its\\nsafe use. Oracle Corporation and its affiliates disclaim any liability for any damages caused by use of this\\nsoftware or hardware in dangerous applications.\\nOracle®, Java, and MySQL are registered trademarks of Oracle and/or its affiliates. Other names may be\\ntrademarks of their respective owners.\\nIntel and Intel Inside are trademarks or registered trademarks of Intel Corporation. All SPARC trademarks are\\nused under license and are trademarks or registered trademarks of SPARC International, Inc. AMD, Epyc,\\nand the AMD logo are trademarks or registered trademarks of Advanced Micro Devices. UNIX is a registered\\ntrademark of The Open Group.\\nThis software or hardware and documentation may provide access to or information about content, products,\\nand services from third parties. Oracle Corporation and its affiliates are not responsible for and expressly\\ndisclaim all warranties of any kind with respect to third-party content, products, and services unless otherwise\\nset forth in an applicable agreement between you and Oracle. Oracle Corporation and its affiliates will not be\\nresponsible for any loss, costs, or damages incurred due to your access to or use of third-party content,\\nproducts, or services, except as set forth in an applicable agreement between you and Oracle.\\n\\nContents\\n1   Introduction\\n2   Application Development\\nJSON 2-1\\nJSON-Relational Duality 2-1\\nJSON Schema 2-1\\nXML and JSON Search Index Enhancements 2-1\\nChanges for JSON Search Index and Data Guide 2-2\\nDBMS_AQ Support for JSON Arrays 2-2\\nEnhancement to JSON_TRANSFORM 2-2\\nJSON Type Support for External Tables 2-3\\nJSON/JSON_VALUE will Convert PL/SQL Aggregate Type to/from JSON 2-3\\nJSON_ARRAY Constructor by Query 2-3\\nJSON_EXPRESSION_CHECK Parameter 2-3\\nNew JSON Data Dictionary Views 2-4\\nORDERED in JSON_SERIALIZE 2-4\\nPrecheckable Constraints using JSON SCHEMA 2-4\\nPredicates for JSON_VALUE and JSON_QUERY 2-4\\nTools to Migrate JSON Text Storage to JSON Type Storages 2-5\\nSQL 2-5\\nApplication Usage Annotations 2-5\\nDirect Joins for UPDATE and DELETE Statements 2-5\\nIF [NOT] EXISTS Syntax Support 2-5\\nNew Database Role for Application Developers 2-6\\nAggregation over INTERVAL Data Types 2-6\\nApplication Usage Domains 2-6\\nAutomatic PL/SQL to SQL Transpiler 2-6\\nClient Describe Call Support for Tag Options 2-7\\nDEFAULT ON NULL for UPDATE Statements 2-7\\nDESCRIBE Now Supports Column Annotations 2-7\\nError Improvement 2-7\\nExtended CASE Controls 2-8\\niii\\n\\nGROUP BY Column Alias or Position 2-8\\nImproved TNS Error Messages 2-8\\nODP.NET: Annotations 2-8\\nODP.NET: SQL Domain Name and Schema 2-9\\nOracle C++ Call Interface (OCCI) Support for SQL BOOLEAN Data Type 2-9\\nOracle Client Driver Support for SQL BOOLEAN Data Type 2-9\\nSELECT Without FROM Clause 2-9\\nSQL BOOLEAN Data Type 2-9\\nSQL Domain Metadata Support in OCCI 2-10\\nSQL UPDATE RETURN Clause Enhancements 2-10\\nSQL*Plus Support for SQL BOOLEAN Data Type 2-10\\nTable Value Constructor 2-10\\nUnicode 15.0 Support 2-11\\nGraph 2-11\\nNative Representation of Graphs in Oracle Database 2-11\\nSupport for the ISO/IEC SQL Property Graph Queries (SQL/PGQ) Standard 2-11\\nProperty Graph: Native Representation of Graphs in Oracle Database 2-12\\nProperty Graph: Support for the ISO/IEC SQL Property Graph Queries (SQL/PGQ)\\nStandard 2-12\\nProperty Graph: Use JSON Collections as a Graph Data Source 2-12\\nProperty Graph: Use Native Representation of Graphs in Oracle Database with Graph\\nTools 2-12\\nMicroservices 2-13\\nKafka APIs for TxEventQ 2-13\\nODP.NET: Advanced Queuing and Transactional Event Queues 2-13\\nPrometheus/Grafana for Oracle 2-13\\nPython and REST Drivers for Transactional Event Queues (TxEventQ) 2-14\\nSaga APIs using Oracle Saga Framework 2-14\\nTransactional Event Queues (TxEventQ) Propagation 2-14\\nGeneral 2-15\\nEfficient Table DDL Change Notification 2-15\\nEnhanced Inter-Session Communication with DBMS_PIPE 2-15\\nGB18030-2022 Support 2-15\\nJDBC RSI Support for Data Load Mode 2-15\\nODP.NET: Asynchronous Programming 2-16\\nOracle Call Interface (OCI) Support for String Indexed PL/SQL Associative Arrays 2-16\\nSession Exit on Invalidation 2-16\\nSQL*Plus ARGUMENT Command 2-16\\nSQL*Plus OERR Command and Improved HELP Syntax 2-17\\nSQL*Plus PING Command and Command Line Option 2-17\\nSQL*Plus SET ERRORDETAILS Command 2-17\\nUnicode IVS (Ideographic Variation Sequence) Support 2-17\\niv\\n\\nJava 2-18\\nJava in the Database: JDK 11 Support Including Modules 2-18\\nJava in the Database: Web Services Callout Enhancement 2-18\\nJava in the Database: HTTP and TCP Access While Disabling Other OS Calls 2-18\\nJavaScript 2-18\\nMultilingual Engine JavaScript Modules and Environments 2-18\\nMultilingual Engine Module Calls 2-19\\nMultilingual Engine Post-Execution Debugging 2-19\\nMultilingual Engine JavaScript SODA API 2-19\\nMultilingual Engine JavaScript Support for JSON Data Type 2-19\\nApplication Connectivity 2-20\\nReset Database Session State 2-20\\nImplicit Connection Pooling for Database Resident Connection Pooling (DRCP) 2-20\\nImplicit Connection Pooling for Oracle Connection Manager in Traffic Director Mode\\n(CMAN-TDM) 2-20\\nImproved Oracle Connection Manager in Traffic Director Mode (CMAN-TDM) Pool\\nConfiguration Settings for Autonomous Database 2-21\\nJDBC Enhancements to Transparent Application Continuity 2-21\\nJDBC Extensions for Apps Configuration Providers 2-21\\nJDBC Support for Kerberos Authentication using JAAS Configuration 2-21\\nJDBC Support for Kerberos Authentication using User and Password Properties 2-22\\nJDBC Support for OAuth 2.0 Including OCI IAM and Azure AD 2-22\\nMultiple Named Pools for Database Resident Connection Pooling (DRCP) 2-22\\nODP.NET: Application Continuity 2-23\\nODP.NET: OpenTelemetry 2-23\\nODP.NET: Pipelining 2-23\\nODP.', start_char_idx=0, end_char_idx=8469, text_template='{metadata_str}\\n\\n{content}', metadata_template='{key}: {value}', metadata_seperator='\\n')"
      ]
     },
     "execution_count": 7,
     "metadata": {},
     "output_type": "execute_result"
    }
   ],
   "source": [
    "nodes[0]"
   ]
  },
  {
   "cell_type": "code",
   "execution_count": 13,
   "id": "19796abb-b9e9-433f-ac6e-8133dd95bfac",
   "metadata": {},
   "outputs": [
    {
     "name": "stdout",
     "output_type": "stream",
     "text": [
      "Oracle® Database\n",
      "Oracle Database New Features\n",
      "Release 23c\n",
      "F48428-15\n",
      "October 2023\n",
      "\n",
      "\n",
      "Oracle Database Oracle Database New Features, Release 23c\n",
      "F48428-15\n",
      "Copyright © 2022, 2023, Oracle and/or its affiliates.\n",
      "This software and related documentation are provided under a license agreement containing restrictions on\n",
      "use and disclosure and are protected by intellectual property laws. Except as expressly permitted in your\n",
      "license agreement or allowed by law, you may not use, copy, reproduce, translate, broadcast, modify, license,\n",
      "transmit, distribute, exhibit, perform, publish, or display any part, in any form, or by any means. Reverse\n",
      "engineering, disassembly, or decompilation of this software, unless required by law for interoperability, is\n",
      "prohibited.\n",
      "The information contained herein is subject to change without notice and is not warranted to be error-free. If\n",
      "you find any errors, please report them to us in writing.\n",
      "If this is software, software documentation, data (as defined in the Federal Acquisition Regulation), or related\n",
      "documentation that is delivered to the U.S. Government or anyone licensing it on behalf of the U.S.\n",
      "Government, then the following notice is applicable:\n",
      "U.S. GOVERNMENT END USERS: Oracle programs (including any operating system, integrated software,\n",
      "any programs embedded, installed, or activated on delivered hardware, and modifications of such programs)\n",
      "and Oracle computer documentation or other Oracle data delivered to or accessed by U.S. Government end\n",
      "users are \"commercial computer software,\" \"commercial computer software documentation,\" or \"limited rights\n",
      "data\" pursuant to the applicable Federal Acquisition Regulation and agency-specific supplemental\n",
      "regulations. As such, the use, reproduction, duplication, release, display, disclosure, modification, preparation\n",
      "of derivative works, and/or adaptation of i) Oracle programs (including any operating system, integrated\n",
      "software, any programs embedded, installed, or activated on delivered hardware, and modifications of such\n",
      "programs), ii) Oracle computer documentation and/or iii) other Oracle data, is subject to the rights and\n",
      "limitations specified in the license contained in the applicable contract. The terms governing the U.S.\n",
      "Government's use of Oracle cloud services are defined by the applicable contract for such services. No other\n",
      "rights are granted to the U.S. Government.\n",
      "This software or hardware is developed for general use in a variety of information management applications.\n"
     ]
    }
   ],
   "source": [
    "for node in nodes:\n",
    "    if node.id_ == \"3aafc0d1-7d04-41ff-bab1-9ebf674d385f\":\n",
    "        print(node.text)"
   ]
  },
  {
   "cell_type": "code",
   "execution_count": 16,
   "id": "6a62754a-acf8-4d15-a96a-e63f4b812f6f",
   "metadata": {},
   "outputs": [],
   "source": [
    "leaf_nodes = get_leaf_nodes(nodes)"
   ]
  },
  {
   "cell_type": "code",
   "execution_count": 15,
   "id": "cd5f9a20-415e-490a-b7da-69c8212d4ba5",
   "metadata": {},
   "outputs": [
    {
     "name": "stdout",
     "output_type": "stream",
     "text": [
      "Oracle® Database\n",
      "Oracle Database New Features\n",
      "Release 23c\n",
      "F48428-15\n",
      "October 2023\n",
      "\n",
      "\n",
      "Oracle Database Oracle Database New Features, Release 23c\n",
      "F48428-15\n",
      "Copyright © 2022, 2023, Oracle and/or its affiliates.\n",
      "This software and related documentation are provided under a license agreement containing restrictions on\n",
      "use and disclosure and are protected by intellectual property laws. Except as expressly permitted in your\n",
      "license agreement or allowed by law, you may not use, copy, reproduce, translate, broadcast, modify, license,\n",
      "transmit, distribute, exhibit, perform, publish, or display any part, in any form, or by any means. Reverse\n",
      "engineering, disassembly, or decompilation of this software, unless required by law for interoperability, is\n",
      "prohibited.\n",
      "The information contained herein is subject to change without notice and is not warranted to be error-free. If\n",
      "you find any errors, please report them to us in writing.\n",
      "If this is software, software documentation, data (as defined in the Federal Acquisition Regulation), or related\n",
      "documentation that is delivered to the U.S. Government or anyone licensing it on behalf of the U.S.\n"
     ]
    }
   ],
   "source": [
    "print(leaf_nodes[0].text)"
   ]
  },
  {
   "cell_type": "code",
   "execution_count": 36,
   "id": "6b8f6030-1a70-40a1-9ab9-aeee0ac15e59",
   "metadata": {},
   "outputs": [
    {
     "data": {
      "text/plain": [
       "'3aafc0d1-7d04-41ff-bab1-9ebf674d385f'"
      ]
     },
     "execution_count": 36,
     "metadata": {},
     "output_type": "execute_result"
    }
   ],
   "source": [
    "leaf_nodes[0].relationships[NodeRelationship.PARENT].node_id"
   ]
  },
  {
   "cell_type": "code",
   "execution_count": 11,
   "id": "2287ddf6-afda-4b7b-b267-61fa459e7a50",
   "metadata": {},
   "outputs": [
    {
     "data": {
      "text/plain": [
       "'1916bc4b-aee6-4576-a867-59b43ea26b8c'"
      ]
     },
     "execution_count": 11,
     "metadata": {},
     "output_type": "execute_result"
    }
   ],
   "source": [
    "leaf_nodes[0].id_"
   ]
  },
  {
   "cell_type": "code",
   "execution_count": null,
   "id": "b4d040be-818f-4276-bfc9-cb58a255f108",
   "metadata": {},
   "outputs": [],
   "source": [
    "leaf_nodes[0].node_id"
   ]
  },
  {
   "cell_type": "code",
   "execution_count": null,
   "id": "e8638990-00d2-49c6-9554-49f5c48cbd3b",
   "metadata": {},
   "outputs": [],
   "source": [
    "type(leaf_nodes[0])"
   ]
  },
  {
   "cell_type": "code",
   "execution_count": null,
   "id": "47275ae6-8393-4039-a05e-3fb199a0bfc5",
   "metadata": {},
   "outputs": [],
   "source": [
    "v_store = OracleVectorStore(verbose=True)"
   ]
  },
  {
   "cell_type": "code",
   "execution_count": null,
   "id": "954d3073-0895-4408-8520-eebd8b48e4e0",
   "metadata": {},
   "outputs": [],
   "source": [
    "llm_oci = GenerativeAI(\n",
    "    compartment_id=COMPARTMENT_OCID,\n",
    "    max_tokens=1024,\n",
    "    # Optionally you can specify keyword arguments for the OCI client, e.g. service_endpoint.\n",
    "    client_kwargs={\"service_endpoint\": ENDPOINT},\n",
    ")"
   ]
  },
  {
   "cell_type": "code",
   "execution_count": null,
   "id": "a2b384fc-0568-4f78-8321-3b7cef3af9f6",
   "metadata": {},
   "outputs": [],
   "source": [
    "service_context = ServiceContext.from_defaults(llm=llm_oci, embed_model=embed_model)\n",
    "storage_context = StorageContext.from_defaults(vector_store=v_store)\n",
    "storage_context.docstore.add_documents(nodes)"
   ]
  },
  {
   "cell_type": "code",
   "execution_count": null,
   "id": "978ffd09-9fdc-4f4a-afa9-d42e551eb7c7",
   "metadata": {},
   "outputs": [],
   "source": [
    "base_index = VectorStoreIndex(\n",
    "    leaf_nodes,\n",
    "    storage_context=storage_context,\n",
    "    service_context=service_context,\n",
    "    show_progress=True,\n",
    ")"
   ]
  },
  {
   "cell_type": "code",
   "execution_count": null,
   "id": "05e58fcd-6ac3-48d8-9854-4c3ce93ac064",
   "metadata": {},
   "outputs": [],
   "source": [
    "base_index.vector_store.node_dict[\"a3fea70b-e3dc-4512-a29f-4bb3a08e3214\"].relationships"
   ]
  },
  {
   "cell_type": "code",
   "execution_count": null,
   "id": "008798bc-da79-4473-8c74-dcd60d29fbd0",
   "metadata": {},
   "outputs": [],
   "source": [
    "base_index.vector_store.node_dict[\"77618c99-c93b-4734-b980-227b44647df7\"]"
   ]
  },
  {
   "cell_type": "code",
   "execution_count": null,
   "id": "84df1697-047a-4365-a0f6-ebd29a0b5c24",
   "metadata": {},
   "outputs": [],
   "source": [
    "# before query, we need this\n",
    "base_index.vector_store.persist()"
   ]
  },
  {
   "cell_type": "code",
   "execution_count": null,
   "id": "9b483ec9-3e97-461f-90c6-5623e679eba3",
   "metadata": {},
   "outputs": [],
   "source": [
    "base_retriever = base_index.as_retriever(similarity_top_k=10, verbose=True)\n",
    "\n",
    "retriever = AutoMergingRetriever(base_retriever, storage_context, verbose=True)"
   ]
  },
  {
   "cell_type": "code",
   "execution_count": null,
   "id": "49cfb564-6453-4a97-a07e-ada3cb62fd38",
   "metadata": {},
   "outputs": [],
   "source": [
    "query_engine = RetrieverQueryEngine.from_args(\n",
    "    retriever, service_context=service_context\n",
    ")"
   ]
  },
  {
   "cell_type": "code",
   "execution_count": null,
   "id": "43e30a23-b91d-46e2-9162-f78afaded820",
   "metadata": {},
   "outputs": [],
   "source": [
    "%%time\n",
    "\n",
    "question = \"Write an email where you highlight advantage coming from the adoption of Data Guard for Disaster Recovery?\"\n",
    "\n",
    "response = query_engine.query(question)\n",
    "\n",
    "print(f\"Question: {question}\")\n",
    "print(response.response)\n",
    "print(\"\")"
   ]
  },
  {
   "cell_type": "code",
   "execution_count": null,
   "id": "4bc78a1e-fc40-4543-8064-c98a58dc1038",
   "metadata": {},
   "outputs": [],
   "source": [
    "nodes = retriever.retrieve(question)"
   ]
  },
  {
   "cell_type": "code",
   "execution_count": null,
   "id": "7c6b0335-40ab-439c-8e32-40255e8c5bb3",
   "metadata": {},
   "outputs": [],
   "source": [
    "for node in nodes:\n",
    "    display_source_node(node, source_length=1000)"
   ]
  },
  {
   "cell_type": "code",
   "execution_count": null,
   "id": "cf85350f-8455-4ac3-8873-f8c4d4d5fbc6",
   "metadata": {},
   "outputs": [],
   "source": [
    "base_nodes = base_retriever.retrieve(question)"
   ]
  },
  {
   "cell_type": "code",
   "execution_count": null,
   "id": "e68df773-773e-44b7-8487-1b6d577f6eeb",
   "metadata": {},
   "outputs": [],
   "source": [
    "for node in base_nodes:\n",
    "    display_source_node(node, source_length=10000)"
   ]
  },
  {
   "cell_type": "code",
   "execution_count": 37,
   "id": "15822002-7f7f-4ad9-9fcd-ef62af505c53",
   "metadata": {},
   "outputs": [
    {
     "name": "stdout",
     "output_type": "stream",
     "text": [
      "Help on class NodeRelationship in module llama_index.schema:\n",
      "\n",
      "class NodeRelationship(builtins.str, enum.Enum)\n",
      " |  NodeRelationship(value, names=None, *, module=None, qualname=None, type=None, start=1)\n",
      " |  \n",
      " |  Node relationships used in `BaseNode` class.\n",
      " |  \n",
      " |  Attributes:\n",
      " |      SOURCE: The node is the source document.\n",
      " |      PREVIOUS: The node is the previous node in the document.\n",
      " |      NEXT: The node is the next node in the document.\n",
      " |      PARENT: The node is the parent node in the document.\n",
      " |      CHILD: The node is a child node in the document.\n",
      " |  \n",
      " |  Method resolution order:\n",
      " |      NodeRelationship\n",
      " |      builtins.str\n",
      " |      enum.Enum\n",
      " |      builtins.object\n",
      " |  \n",
      " |  Data and other attributes defined here:\n",
      " |  \n",
      " |  CHILD = <NodeRelationship.CHILD: '5'>\n",
      " |  \n",
      " |  NEXT = <NodeRelationship.NEXT: '3'>\n",
      " |  \n",
      " |  PARENT = <NodeRelationship.PARENT: '4'>\n",
      " |  \n",
      " |  PREVIOUS = <NodeRelationship.PREVIOUS: '2'>\n",
      " |  \n",
      " |  SOURCE = <NodeRelationship.SOURCE: '1'>\n",
      " |  \n",
      " |  ----------------------------------------------------------------------\n",
      " |  Data descriptors inherited from enum.Enum:\n",
      " |  \n",
      " |  name\n",
      " |      The name of the Enum member.\n",
      " |  \n",
      " |  value\n",
      " |      The value of the Enum member.\n",
      " |  \n",
      " |  ----------------------------------------------------------------------\n",
      " |  Readonly properties inherited from enum.EnumMeta:\n",
      " |  \n",
      " |  __members__\n",
      " |      Returns a mapping of member name->value.\n",
      " |      \n",
      " |      This mapping lists all enum members, including aliases. Note that this\n",
      " |      is a read-only view of the internal mapping.\n",
      "\n"
     ]
    }
   ],
   "source": [
    "help(NodeRelationship)"
   ]
  },
  {
   "cell_type": "code",
   "execution_count": null,
   "id": "1b61e2ae-43e2-44b1-9452-0a4a6d931dc7",
   "metadata": {},
   "outputs": [],
   "source": []
  }
 ],
 "metadata": {
  "kernelspec": {
   "display_name": "Python 3 (ipykernel)",
   "language": "python",
   "name": "python3"
  },
  "language_info": {
   "codemirror_mode": {
    "name": "ipython",
    "version": 3
   },
   "file_extension": ".py",
   "mimetype": "text/x-python",
   "name": "python",
   "nbconvert_exporter": "python",
   "pygments_lexer": "ipython3",
   "version": "3.9.0"
  }
 },
 "nbformat": 4,
 "nbformat_minor": 5
}
