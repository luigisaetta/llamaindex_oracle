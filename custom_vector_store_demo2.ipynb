{
 "cells": [
  {
   "cell_type": "markdown",
   "id": "9c0e01ec-9c28-49df-b0c5-7e90bf6abe0e",
   "metadata": {},
   "source": [
    "### Oracle Vector DB wrapped as a llama-index custom Vector Store\n",
    "\n",
    "* ispired by: https://docs.llamaindex.ai/en/stable/examples/low_level/vector_store.html\n",
    "* Demo on **Medicine Book**\n",
    "* Demo on Python book"
   ]
  },
  {
   "cell_type": "code",
   "execution_count": 1,
   "id": "885d648a-548b-4f1e-930f-2d102f7d8f16",
   "metadata": {},
   "outputs": [],
   "source": [
    "import logging\n",
    "import sys\n",
    "\n",
    "from typing import List, Any, Optional, Dict, Tuple\n",
    "from llama_index.vector_stores.types import (\n",
    "    VectorStore,\n",
    "    VectorStoreQuery,\n",
    "    VectorStoreQueryResult,\n",
    ")\n",
    "from llama_index import StorageContext, VectorStoreIndex, ServiceContext\n",
    "from llama_index.schema import TextNode, BaseNode, Document\n",
    "\n",
    "import oci\n",
    "import ads\n",
    "# only \n",
    "import oracledb\n",
    "from oci_utils import load_oci_config\n",
    "from ads.llm import GenerativeAIEmbeddings, GenerativeAI\n",
    "from oracle_vector_db import OracleVectorStore\n",
    "\n",
    "from config_private import COMPARTMENT_OCID, ENDPOINT"
   ]
  },
  {
   "cell_type": "code",
   "execution_count": 2,
   "id": "3504c89a-fe91-40bd-b453-29d9ab2ed2ef",
   "metadata": {},
   "outputs": [
    {
     "name": "stdout",
     "output_type": "stream",
     "text": [
      "oracledb version: 2.0.0.dev20231121\n",
      "oci version: 2.112.1+preview.1.1649\n"
     ]
    }
   ],
   "source": [
    "# version I'm using\n",
    "print(f\"oracledb version: {oracledb.__version__}\")\n",
    "print(f\"oci version: {oci.__version__}\")"
   ]
  },
  {
   "cell_type": "code",
   "execution_count": 3,
   "id": "3cf2241f-f99c-4ce0-b3f5-cb176858840f",
   "metadata": {},
   "outputs": [],
   "source": [
    "# for debugging\n",
    "# logging.basicConfig(stream=sys.stdout, level=logging.DEBUG)\n",
    "# logging.getLogger().addHandler(logging.StreamHandler(stream=sys.stdout))"
   ]
  },
  {
   "cell_type": "code",
   "execution_count": 4,
   "id": "77816119-932c-4e18-8011-1e3b02503120",
   "metadata": {},
   "outputs": [],
   "source": [
    "# setup\n",
    "oci_config = load_oci_config()\n",
    "\n",
    "# need to do this way\n",
    "api_keys_config = ads.auth.api_keys(oci_config)\n",
    "\n",
    "# english, or for other language use: multilingual\n",
    "MODEL_NAME = \"cohere.embed-english-v3.0\"\n",
    "\n",
    "embed_model = GenerativeAIEmbeddings(\n",
    "    compartment_id=COMPARTMENT_OCID,\n",
    "    model=MODEL_NAME,\n",
    "    auth=ads.auth.api_keys(oci_config),\n",
    "    # Optionally you can specify keyword arguments for the OCI client, e.g. service_endpoint.\n",
    "    client_kwargs={\n",
    "        \"service_endpoint\": ENDPOINT\n",
    "    },\n",
    ")"
   ]
  },
  {
   "cell_type": "code",
   "execution_count": 5,
   "id": "de838d89-9c3c-4e93-8712-5219aac1d22c",
   "metadata": {},
   "outputs": [],
   "source": [
    "llm_oci = GenerativeAI(\n",
    "    compartment_id=COMPARTMENT_OCID,\n",
    "    max_tokens=1024,\n",
    "    # Optionally you can specify keyword arguments for the OCI client, e.g. service_endpoint.\n",
    "    client_kwargs={\n",
    "        \"service_endpoint\": ENDPOINT\n",
    "    },\n",
    ")"
   ]
  },
  {
   "cell_type": "code",
   "execution_count": 6,
   "id": "674633ec-639c-424d-b8f6-c9f42d4335d4",
   "metadata": {},
   "outputs": [],
   "source": [
    "v_store = OracleVectorStore(verbose=False)"
   ]
  },
  {
   "cell_type": "code",
   "execution_count": 7,
   "id": "55530b62-3421-4e88-9115-229e7a2775cf",
   "metadata": {},
   "outputs": [],
   "source": [
    "service_context = ServiceContext.from_defaults(llm=llm_oci, embed_model=embed_model)"
   ]
  },
  {
   "cell_type": "code",
   "execution_count": 8,
   "id": "9df12098-ac7c-457a-8671-2a274c721cad",
   "metadata": {},
   "outputs": [],
   "source": [
    "index = VectorStoreIndex.from_vector_store(vector_store=v_store,\n",
    "    service_context=service_context\n",
    ")"
   ]
  },
  {
   "cell_type": "code",
   "execution_count": 9,
   "id": "56669eda-fd5f-45f7-9791-5e5d55e5b038",
   "metadata": {},
   "outputs": [],
   "source": [
    "query_engine = index.as_query_engine(similarity_top_k=5)"
   ]
  },
  {
   "cell_type": "markdown",
   "id": "98531d22-fc7d-4575-965a-8b6685bdc7f2",
   "metadata": {},
   "source": [
    "#### Using the wrapper for the DB Vector Store"
   ]
  },
  {
   "cell_type": "code",
   "execution_count": 25,
   "id": "a113f279-17d2-48f4-b8b5-22cf383908fd",
   "metadata": {},
   "outputs": [],
   "source": [
    "question = \"How would you write a Python code snippet that uses regular expressions to find all email addresses in a given string?\""
   ]
  },
  {
   "cell_type": "code",
   "execution_count": 26,
   "id": "47efc350-857f-42dd-b5ee-8a1ccfbfff4c",
   "metadata": {},
   "outputs": [],
   "source": [
    "# embed the query using OCI GenAI\n",
    "query_embedding = embed_model.embed_documents([question])[0]\n",
    "\n",
    "#  wrap in llama-index\n",
    "query_obj = VectorStoreQuery(\n",
    "    query_embedding=query_embedding, similarity_top_k=6\n",
    ")"
   ]
  },
  {
   "cell_type": "markdown",
   "id": "48309d0a-c4cc-404c-802f-0ee66f9df319",
   "metadata": {},
   "source": [
    "#### Use our Vector Store DB"
   ]
  },
  {
   "cell_type": "code",
   "execution_count": 27,
   "id": "dddc851e-3f74-4ad2-8c41-78a1aa2e8781",
   "metadata": {},
   "outputs": [
    {
     "name": "stdout",
     "output_type": "stream",
     "text": [
      "CPU times: user 20.8 ms, sys: 4.14 ms, total: 24.9 ms\n",
      "Wall time: 475 ms\n"
     ]
    }
   ],
   "source": [
    "%%time\n",
    "\n",
    "q_result = v_store.query(query_obj)"
   ]
  },
  {
   "cell_type": "code",
   "execution_count": 28,
   "id": "7331d22c-0555-4a51-ac01-a2b595a15c5a",
   "metadata": {},
   "outputs": [
    {
     "name": "stdout",
     "output_type": "stream",
     "text": [
      "Dod. id: 51f98b82b12b8929b1c25baf68e163a4419903c6fee13bb96788ba813bad1103\n",
      "Similarity: 0.54\n",
      "130 CHAPTER 11. REGULAR EXPRESSIONS From stephen.marquard@uct.ac.za Sat Jan 5 09:14:16 2008 Return-Path: <postmaster@collab.sakaiproject.org> for <source@collab.sakaiproject.org>; Received: (from apache@localhost) Author: stephen.marquard@uct.ac.za We don’t want to write code for each of the types of lines, splitting and slici ng diﬀerently for each line. This following program uses findall() to ﬁnd the lines with email addresses in them and extract one or more addresses from each of those lines. import re s=/quotesingle.ts1A message from csev@umich.edu to cwen@iupui.edu about mee ting @2PM/quotesingle.ts1 lst =re.findall( /quotesingle.ts1\\S+@\\S+/quotesingle.ts1 , s) print(lst) # Code: http://www.py4e.com/code3/re05.py Thefindall() method searches the string in the second argument and returns a list of all of the strings that look like email addresses. We are using a tw o-character sequence that matches a non-whitespace character ( \\S). The output of the program would be: [/quotesingle.ts1csev@umich.edu/quotesingle.ts1, /quotesingle.ts1cwen@iupui.edu/quotesingle.ts1] Translating the regular expression, we are looking for substrings that have a t least one non-whitespace character, followed by an at-sign, followed by at least one m ore non-whitespace character. The \\S+matches as many non-whitespace characters as possible. The regular expression would match twice (csev@umich.edu and cwen@iupui.edu), but it would not match the string “@2PM” because there are no non-blank characters before the at-sign. We can use this regular expression in a program to read all the lines in a ﬁle and print out anything that looks like an email address as follows: # Search for lines that have an at sign between characters import re hand =open( /quotesingle.ts1mbox-short.txt/quotesingle.ts1 ) for line inhand: line =line.rstrip() x=re.findall( /quotesingle.ts1\\S+@\\S+/quotesingle.ts1 , line) iflen(x) >0: print(x) # Code: http://www.py4e.com/code3/re06.py We read each line and then extract all the substrings that match our regular expression. Since findall() returns a list, we simply check if the number of\n",
      "\n",
      "Dod. id: 24b75e5f7167833dec9102106e49ffd3fde41bc008c763ba22fc6e0ac3492708\n",
      "Similarity: 0.538\n",
      "11.2. EXTRACTING DATA USING REGULAR EXPRESSIONS 131 elements in our returned list is more than zero to print only lines where we found at least one substring that looks like an email address. If we run the program on mbox.txt we get the following output: [/quotesingle.ts1wagnermr@iupui.edu/quotesingle.ts1] [/quotesingle.ts1cwen@iupui.edu/quotesingle.ts1] [/quotesingle.ts1<postmaster@collab.sakaiproject.org>/quotesingle.ts1] [/quotesingle.ts1<200801032122.m03LMFo4005148@nakamura.uits.iupui.edu>/quotesingle.ts1] [/quotesingle.ts1<source@collab.sakaiproject.org>;/quotesingle.ts1] [/quotesingle.ts1<source@collab.sakaiproject.org>;/quotesingle.ts1] [/quotesingle.ts1<source@collab.sakaiproject.org>;/quotesingle.ts1] [/quotesingle.ts1apache@localhost)/quotesingle.ts1] [/quotesingle.ts1source@collab.sakaiproject.org;/quotesingle.ts1] Some of our email addresses have incorrect characters like “<” or “;” at the beginning or end. Let’s declare that we are only interested in the portion of the string that starts and ends with a letter or a number. To do this, we use another feature of regular expressions. Square brackets are used to indicate a set of multiple acceptable characters we are willing to consider matc hing. In a sense, the \\Sis asking to match the set of “non-whitespace characters”. Now we will be a little more explicit in terms of the characters we will m atch. Here is our new regular expression: [a-zA-Z0-9]\\S*@\\S*[a-zA-Z] This is getting a little complicated and you can begin to see why regular express ions are their own little language unto themselves. Translating this regular expres sion, we are looking for substrings that start with a single lowercase letter, uppercase letter, or number “[a-zA-Z0-9]”, followed by zero or more non-blank characters (\\S*), followed by an at-sign, followed by zero or more non-blank characters ( \\S*), followed by an uppercase or lowercase letter. Note that we switched from +to* to indicate zero or more non-blank characters since [a-zA-Z0-9] is already one non-blank character. Remember that the *or+applies to the single character immediately to the left of the plus or asterisk. If we use this expression in our program, our data is much cleaner: # Search for lines that have an at sign between characters # The characters must be a letter or number import re hand =open( /quotesingle.ts1mbox-short.txt/quotesingle.ts1 ) for line inhand: line =line.rstrip() x=re.findall( /quotesingle.ts1[a-zA-Z0-9]\\S+@\\S+[a-zA-Z]/quotesingle.ts1 , line) iflen(x) >0: print(x) # Code: http://www.py4e.com/code3/re07.py\n",
      "\n",
      "Dod. id: df98ac627066b43ffca0cffee1c4b78894e96686ca11a6e1ac25ed0eb70193b4\n",
      "Similarity: 0.52\n",
      "Chapter 11 Regular expressions So far we have been reading through ﬁles, looking for patterns and extracting various bits of lines that we ﬁnd interesting. We have been using string methods like split andfind and using lists and string slicing to extract portions of the lines. This task of searching and extracting is so common that Python has a very power ful library called regular expressions that handles many of these tasks quite elegantly. The reason we have not introduced regular expressions earlier in the book is because while they are very powerful, they are a little complicated and their syntax ta kes some getting used to. Regular expressions are almost their own little programming language for searching and parsing strings. As a matter of fact, entire books have been written on the topic of regular expressions. In this chapter, we will only cover the basics of reg ular expressions. For more detail on regular expressions, see: https://en.wikipedia.org/wiki/Regular_expression https://docs.python.org/library/re.html The regular expression library remust be imported into your program before you can use it. The simplest use of the regular expression library is the search() function. The following program demonstrates a trivial use of the search functi on. # Search for lines that contain /quotesingle.ts1From/quotesingle.ts1 import re hand =open( /quotesingle.ts1mbox-short.txt/quotesingle.ts1 ) for line inhand: line =line.rstrip() ifre.search( /quotesingle.ts1From:/quotesingle.ts1 , line): print(line) # Code: http://www.py4e.com/code3/re01.py We open the ﬁle, loop through each line, and use the regular expression search() to only print out lines that contain the string “From:”. This program does not 127\n",
      "\n",
      "Dod. id: 6710ee60f1faa460a53fd8ea6c571575eb94d31e6bf68809c3b542326d2ac9f7\n",
      "Similarity: 0.491\n",
      "11.2. EXTRACTING DATA USING REGULAR EXPRESSIONS 129 This is particularly powerful when combined with the ability to indicate that a character can be repeated any number of times using the *or+characters in your regular expression. These special characters mean that instead of matching a singl e character in the search string, they match zero-or-more characters (in the case of the asterisk) or one-or-more of the characters (in the case of the plus sign). We can further narrow down the lines that we match using a repeated wild card character in the following example: # Search for lines that start with From and have an at sign import re hand =open( /quotesingle.ts1mbox-short.txt/quotesingle.ts1 ) for line inhand: line =line.rstrip() ifre.search( /quotesingle.ts1^From:.+@/quotesingle.ts1 , line): print(line) # Code: http://www.py4e.com/code3/re04.py The search string ˆFrom:.+@ will successfully match lines that start with “From:”, followed by one or more characters ( .+), followed by an at-sign. So this will match the following line: From: stephen.marquard@uct.ac.za You can think of the .+wildcard as expanding to match all the characters between the colon character and the at-sign. From:.+@ It is good to think of the plus and asterisk characters as “pushy”. For example, the following string would match the last at-sign in the string as the .+pushes outwards, as shown below: From: stephen.marquard@uct.ac.za, csev@umich.edu, and cwen @iupui.edu It is possible to tell an asterisk or plus sign not to be so “greedy” by adding another character. See the detailed documentation for information on turning oﬀ the greedy behavior. 11.2 Extracting data using regular expressions If we want to extract data from a string in Python we can use the findall() method to extract all of the substrings which match a regular expression. Let’s use the example of wanting to extract anything that looks like an email address f rom any line regardless of format. For example, we want to pull the email addresses from each of the following lines:\n",
      "\n",
      "Dod. id: 8c3ad57d0ec69ceef4d99252327b68258ae38bfe6864aae1b789908cd81f69ad\n",
      "Similarity: 0.471\n",
      "128 CHAPTER 11. REGULAR EXPRESSIONS use the real power of regular expressions, since we could have just as easily used line.find() to accomplish the same result. The power of the regular expressions comes when we add special characters to the search string that allow us to more precisely control which lines match t he string. Adding these special characters to our regular expression allow us to do sophisticated matching and extraction while writing very little code. For example, the caret character is used in regular expressions to match “the beginning” of a line. We could change our program to only match lines where “From:” was at the beginning of the line as follows: # Search for lines that start with /quotesingle.ts1From/quotesingle.ts1 import re hand =open( /quotesingle.ts1mbox-short.txt/quotesingle.ts1 ) for line inhand: line =line.rstrip() ifre.search( /quotesingle.ts1^From:/quotesingle.ts1 , line): print(line) # Code: http://www.py4e.com/code3/re02.py Now we will only match lines that start with the string “From:”. This is still a very simple example that we could have done equivalently with the startswith() method from the string library. But it serves to introduce the notion that regul ar expressions contain special action characters that give us more control as t o what will match the regular expression. 11.1 Character matching in regular expressions There are a number of other special characters that let us build even more powerful regular expressions. The most commonly used special character is the period or full stop, which matches any character. In the following example, the regular expression F..m: would match any of the strings “From:”, “Fxxm:”, “F12m:”, or “F!@m:” since the period char acters in the regular expression match any character. # Search for lines that start with /quotesingle.ts1F/quotesingle.ts1, followed by # 2 characters, followed by /quotesingle.ts1m:/quotesingle.ts1 import re hand =open( /quotesingle.ts1mbox-short.txt/quotesingle.ts1 ) for line inhand: line =line.rstrip() ifre.search( /quotesingle.ts1^F..m:/quotesingle.ts1 , line): print(line) # Code: http://www.py4e.com/code3/re03.py\n",
      "\n",
      "Dod. id: cb3a1e5fb6b8b104db11854dcffa065c352a9de185999b5ae3502efc6246dfe1\n",
      "Similarity: 0.467\n",
      "11.9. EXERCISES 139 regular expression A language for expressing more complex search strings. A regular expression may contain special characters that indicate that a search only matches at the beginning or end of a line or many other similar capabilities. wild card A special character that matches any character. In regular expressions the wild-card character is the period. 11.9 Exercises Exercise 1: Write a simple program to simulate the operation of the grep command on Unix. Ask the user to enter a regular expression and count the number of lines that matched the regular expression: $ python grep.py Enter a regular expression: ^Author mbox.txt had 1798 lines that matched ^Author $ python grep.py Enter a regular expression: ^Xmbox.txt had 14368 lines that matched ^X$ python grep.py Enter a regular expression: java$ mbox.txt had 4175 lines that matched java$ Exercise 2: Write a program to look for lines of the form: New Revision: 39772 Extract the number from each of the lines using a regular expressi on and the findall() method. Compute the average of the numbers and print out the average as an integer. Enter file:mbox.txt 38549 Enter file:mbox-short.txt 39756\n",
      "\n"
     ]
    }
   ],
   "source": [
    "for n, id, sim in zip(q_result.nodes, q_result.ids, q_result.similarities):\n",
    "    print(f\"Dod. id: {id}\")\n",
    "    print(f\"Similarity: {-sim}\")\n",
    "    print(n.text)\n",
    "    print(\"\")"
   ]
  },
  {
   "cell_type": "markdown",
   "id": "e811a520-bef5-4070-acaa-f5e4cf45d989",
   "metadata": {},
   "source": [
    "#### Integrate in the bigger RAG picture"
   ]
  },
  {
   "cell_type": "code",
   "execution_count": 29,
   "id": "bab5a533-2d39-4b9a-9347-e23823a8925b",
   "metadata": {},
   "outputs": [
    {
     "name": "stdout",
     "output_type": "stream",
     "text": [
      "Question: How would you write a Python code snippet that uses regular expressions to find all email addresses in a given string?\n",
      "To find all email addresses in a given string using Python regular expressions, you can use the `re.findall()` function. Here's a code snippet to accomplish this:\n",
      "```python\n",
      "import re\n",
      "\n",
      "email_pattern = r'\\b[A-Za-z0-9._%+-]+@[A-Za-z0-9.-]+\\.[A-Z|a-z]{2,7}\\b'\n",
      "\n",
      "def find_emails(input_string):\n",
      "    return re.findall(email_pattern, input_string)\n",
      "\n",
      "input_string = \"Contact us at john.doe@example.com or jane.smith@example.org for more information.\"\n",
      "\n",
      "emails = find_emails(input_string)\n",
      "print(emails)\n",
      "```\n",
      "\n",
      "In this code, we define a regular expression pattern `r'\\b[A-Za-z0-9._%+-]+@[A-Za-z0-9.-]+\\.[A-Z|a-z]{2,7}\\b'` that matches common email address formats. The `\\b` boundary anchors ensure that we match whole email addresses.\n",
      "\n",
      "The `find_emails()` function takes an input string, uses `re.findall()` with the defined pattern to find all email addresses, and returns them as a list.\n",
      "\n",
      "Finally, we call `find_emails()` with an input string that contains email addresses, and print the list of email addresses found in the string.\n",
      "\n",
      "When you run this code, it will output:\n",
      "```\n",
      "['john.doe@example.com', 'jane.smith@example.org']\n",
      "```\n",
      "\n",
      "Please note that this is a basic email address pattern and might not cover all possible valid email formats, but it should work for many common cases. For more complex email address validation, you might consider using specialized libraries or extending the regular expression pattern.\n",
      "\n",
      "CPU times: user 86.3 ms, sys: 8.41 ms, total: 94.7 ms\n",
      "Wall time: 19.9 s\n"
     ]
    }
   ],
   "source": [
    "%%time\n",
    "\n",
    "response = query_engine.query(question)\n",
    "\n",
    "print(f\"Question: {question}\") \n",
    "print(response.response)\n",
    "print(\"\")"
   ]
  },
  {
   "cell_type": "code",
   "execution_count": null,
   "id": "0472406f-5479-4691-8bbc-a5d488cdb8c1",
   "metadata": {},
   "outputs": [],
   "source": []
  }
 ],
 "metadata": {
  "kernelspec": {
   "display_name": "Python 3 (ipykernel)",
   "language": "python",
   "name": "python3"
  },
  "language_info": {
   "codemirror_mode": {
    "name": "ipython",
    "version": 3
   },
   "file_extension": ".py",
   "mimetype": "text/x-python",
   "name": "python",
   "nbconvert_exporter": "python",
   "pygments_lexer": "ipython3",
   "version": "3.9.0"
  }
 },
 "nbformat": 4,
 "nbformat_minor": 5
}
