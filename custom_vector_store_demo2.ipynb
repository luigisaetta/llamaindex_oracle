{
 "cells": [
  {
   "cell_type": "markdown",
   "id": "9c0e01ec-9c28-49df-b0c5-7e90bf6abe0e",
   "metadata": {},
   "source": [
    "### Oracle Vector DB wrapped as a llama-index custom Vector Store\n",
    "\n",
    "* ispired by: https://docs.llamaindex.ai/en/stable/examples/low_level/vector_store.html\n",
    "* Demo on **Medicine Book**\n",
    "* Demo on Python book"
   ]
  },
  {
   "cell_type": "code",
   "execution_count": 1,
   "id": "885d648a-548b-4f1e-930f-2d102f7d8f16",
   "metadata": {},
   "outputs": [],
   "source": [
    "import logging\n",
    "import sys\n",
    "\n",
    "from typing import List, Any, Optional, Dict, Tuple\n",
    "from llama_index.vector_stores.types import (\n",
    "    VectorStore,\n",
    "    VectorStoreQuery,\n",
    "    VectorStoreQueryResult,\n",
    ")\n",
    "from llama_index import StorageContext, VectorStoreIndex, ServiceContext\n",
    "from llama_index.schema import TextNode, BaseNode, Document\n",
    "\n",
    "import oci\n",
    "import ads\n",
    "\n",
    "# only\n",
    "import oracledb\n",
    "from oci_utils import load_oci_config\n",
    "from ads.llm import GenerativeAIEmbeddings, GenerativeAI\n",
    "from oracle_vector_db import OracleVectorStore\n",
    "\n",
    "from config import EMBED_MODEL\n",
    "from config_private import COMPARTMENT_OCID, ENDPOINT"
   ]
  },
  {
   "cell_type": "code",
   "execution_count": 2,
   "id": "3504c89a-fe91-40bd-b453-29d9ab2ed2ef",
   "metadata": {},
   "outputs": [
    {
     "name": "stdout",
     "output_type": "stream",
     "text": [
      "oracledb version: 2.0.0.dev20231121\n",
      "oci version: 2.112.1+preview.1.1649\n"
     ]
    }
   ],
   "source": [
    "# version I'm using\n",
    "print(f\"oracledb version: {oracledb.__version__}\")\n",
    "print(f\"oci version: {oci.__version__}\")"
   ]
  },
  {
   "cell_type": "code",
   "execution_count": 3,
   "id": "3cf2241f-f99c-4ce0-b3f5-cb176858840f",
   "metadata": {},
   "outputs": [],
   "source": [
    "# for debugging\n",
    "# logging.basicConfig(stream=sys.stdout, level=logging.DEBUG)\n",
    "# logging.getLogger().addHandler(logging.StreamHandler(stream=sys.stdout))"
   ]
  },
  {
   "cell_type": "code",
   "execution_count": 4,
   "id": "77816119-932c-4e18-8011-1e3b02503120",
   "metadata": {},
   "outputs": [],
   "source": [
    "# setup\n",
    "oci_config = load_oci_config()\n",
    "\n",
    "# need to do this way\n",
    "api_keys_config = ads.auth.api_keys(oci_config)\n",
    "\n",
    "# english, or for other language use: multilingual\n",
    "\n",
    "embed_model = GenerativeAIEmbeddings(\n",
    "    compartment_id=COMPARTMENT_OCID,\n",
    "    model=EMBED_MODEL,\n",
    "    auth=ads.auth.api_keys(oci_config),\n",
    "    # Optionally you can specify keyword arguments for the OCI client, e.g. service_endpoint.\n",
    "    client_kwargs={\"service_endpoint\": ENDPOINT},\n",
    ")"
   ]
  },
  {
   "cell_type": "code",
   "execution_count": 5,
   "id": "de838d89-9c3c-4e93-8712-5219aac1d22c",
   "metadata": {},
   "outputs": [],
   "source": [
    "llm_oci = GenerativeAI(\n",
    "    compartment_id=COMPARTMENT_OCID,\n",
    "    max_tokens=1024,\n",
    "    # Optionally you can specify keyword arguments for the OCI client, e.g. service_endpoint.\n",
    "    client_kwargs={\"service_endpoint\": ENDPOINT},\n",
    ")"
   ]
  },
  {
   "cell_type": "code",
   "execution_count": 6,
   "id": "674633ec-639c-424d-b8f6-c9f42d4335d4",
   "metadata": {},
   "outputs": [],
   "source": [
    "v_store = OracleVectorStore(verbose=False)"
   ]
  },
  {
   "cell_type": "code",
   "execution_count": 7,
   "id": "55530b62-3421-4e88-9115-229e7a2775cf",
   "metadata": {},
   "outputs": [],
   "source": [
    "service_context = ServiceContext.from_defaults(llm=llm_oci, embed_model=embed_model)"
   ]
  },
  {
   "cell_type": "code",
   "execution_count": 8,
   "id": "9df12098-ac7c-457a-8671-2a274c721cad",
   "metadata": {},
   "outputs": [],
   "source": [
    "index = VectorStoreIndex.from_vector_store(\n",
    "    vector_store=v_store, service_context=service_context\n",
    ")"
   ]
  },
  {
   "cell_type": "code",
   "execution_count": 9,
   "id": "56669eda-fd5f-45f7-9791-5e5d55e5b038",
   "metadata": {},
   "outputs": [],
   "source": [
    "query_engine = index.as_query_engine(similarity_top_k=5)"
   ]
  },
  {
   "cell_type": "markdown",
   "id": "98531d22-fc7d-4575-965a-8b6685bdc7f2",
   "metadata": {},
   "source": [
    "#### Using the wrapper for the DB Vector Store"
   ]
  },
  {
   "cell_type": "code",
   "execution_count": 10,
   "id": "a113f279-17d2-48f4-b8b5-22cf383908fd",
   "metadata": {},
   "outputs": [],
   "source": [
    "question = \"Which level of glucose in the bllod are early indication of diabetes?\""
   ]
  },
  {
   "cell_type": "code",
   "execution_count": 11,
   "id": "47efc350-857f-42dd-b5ee-8a1ccfbfff4c",
   "metadata": {},
   "outputs": [],
   "source": [
    "# embed the query using OCI GenAI\n",
    "query_embedding = embed_model.embed_documents([question])[0]\n",
    "\n",
    "#  wrap in llama-index\n",
    "query_obj = VectorStoreQuery(query_embedding=query_embedding, similarity_top_k=6)"
   ]
  },
  {
   "cell_type": "markdown",
   "id": "48309d0a-c4cc-404c-802f-0ee66f9df319",
   "metadata": {},
   "source": [
    "#### Use our Vector Store DB"
   ]
  },
  {
   "cell_type": "code",
   "execution_count": 12,
   "id": "dddc851e-3f74-4ad2-8c41-78a1aa2e8781",
   "metadata": {},
   "outputs": [
    {
     "name": "stdout",
     "output_type": "stream",
     "text": [
      "CPU times: user 23 ms, sys: 5.35 ms, total: 28.4 ms\n",
      "Wall time: 697 ms\n"
     ]
    }
   ],
   "source": [
    "%%time\n",
    "\n",
    "q_result = v_store.query(query_obj)"
   ]
  },
  {
   "cell_type": "code",
   "execution_count": 13,
   "id": "7331d22c-0555-4a51-ac01-a2b595a15c5a",
   "metadata": {},
   "outputs": [
    {
     "name": "stdout",
     "output_type": "stream",
     "text": [
      "Dod. id: fc1775ef17b774a25a76ab562c8b33f2ba2b59826c13ce78f2b7dbc7872f42f7\n",
      "Similarity: 0.617\n",
      "200 Current Essentials of Medicine 7Type 1 Diabetes Mellitus ■Essentials of Diagnosis •Crisp onset, no family history •Polyuria, polydipsia, weight loss •Fasting plasma glucose ≥126 mg/dL; random plasma glucose ≥200 mg/dL with symptoms; glycosuria •Associated with ketosis in untreated state; may present as med-ical emergency (diabetic ketoacidosis) •Long-term risks include retinopathy, nephropathy, neuropathy,and cardiovascular disease ■Differential Diagnosis •Nondiabetic glycosuria (eg, Fanconi’s syndrome) •Diabetes insipidus •Acromegaly •Cushing’s disease or syndrome •Pheochromocytoma •Medications (eg, glucocorticoids, niacin) ■Treatment •Insulin treatment is required •Patient education is crucial, emphasizing dietary management,intensive insulin therapy, self-monitoring of blood glucose, hypo-glycemia awareness, foot and eye care ■Pearl The autoimmune nature of this condition was signaled by a Europeanstudy years ago showing improvement with immunosuppressives whentype 1 diabetes appeared abruptly. ReferenceIsermann B, Ritzel R, Zorn M, Schilling T, Nawroth PP. Autoantibodies in diabetes mellitus: current utility and perspectives. Exp Clin Endocrinol Diabetes2007;115:483. [PMID: 17853330]\n",
      "\n",
      "Dod. id: ff3d11ce15804103da7400bc9a8abfd944d4ca3e3d84d89e70176fd008423e1b\n",
      "Similarity: 0.593\n",
      "Chapter 7 Endocrine Disorders 181 7Diabetic Ketoacidosis ■Essentials of Diagnosis •Polyuria and polydipsia, marked fatigue, nausea and vomiting,abdominal pain •Fruity breath, Kussmaul’s respirations; dehydration, hypotension,if severe volume depletion occurs; coma •Hyperglycemia > 250 mg/dL, ketonemia, anion gap metabolicacidosis with blood pH < 7.3 and serum bicarbonate typically< 15 mEq/L; glycosuria and ketonuria; total body potassiumdepleted despite elevation in serum potassium •Due to insulin deﬁciency or increased insulin requirements in apatient with type 1 diabetes (eg, in association with myocardialischemia, surgery, infection, gastroenteritis, intra-abdominal dis-ease, or medical noncompliance) ■Differential Diagnosis •Alcoholic ketoacidosis •Uremia •Lactic acidosis •Sepsis ■Treatment •Intravenous regular insulin replacement with careful laboratorymonitoring •Aggressive volume resuscitation with saline; dextrose should beadded to intravenous ﬂuids once glucose reaches 250–300 mg/dL •Potassium, magnesium, and phosphate replacement •Identify and treat precipitating cause ■Pearl Take the low pH and hyperkalemia seriously, but remember that hyper-osmolality is a worse prognostic sign. ReferenceSolá E, Garzón S, García-Torres S, Cubells P, Morillas C, Hernández-Mijares A. Management of diabetic ketoacidosis in a teaching hospital. Acta Diabetol2006;43:127. [PMID: 17211563]\n",
      "\n",
      "Dod. id: 5ef1a549c9d573a0baab6c532f99a825d457dc87646ffcd65a6feebf5d9adbb4\n",
      "Similarity: 0.591\n",
      "Chapter 7 Endocrine Disorders 201 7Type 2 Diabetes Mellitus ■Essentials of Diagnosis •Most patients are older and tend to be obese •Gradual onset of polyuria, polydipsia; often asymptomatic •Candidal vaginitis in women, chronic skin infection, blurred vision •Fasting plasma glucose ≥ 126 mg/dL; random plasma glucose ≥200 mg/dL with symptoms; glycosuria; elevated glycosylated hemoglobin (A1c); ketosis rare •Family history often present; frequently associated with hypertension,hyperlipidemia, and atherosclerosis •May present as a medical emergency (especially in the elderly)as nonketotic hyperosmolar coma •Long-term risks include retinopathy, nephropathy, neuropathy,and cardiovascular disease ■Differential Diagnosis •Nondiabetic glycosuria (eg, Fanconi’s syndrome) •Diabetes insipidus •Acromegaly •Cushing’s disease or syndrome •Pheochromocytoma •Medications (eg, glucocorticoids, niacin) •Severe insulin resistance syndromes •Altered mental status due to other cause ■Treatment •Patient education is important, emphasizing dietary management,exercise, weight loss, self-monitoring of blood glucose, hypo-glycemia awareness, foot and eye care •Mild cases may be controlled initially with diet, exercise, andweight loss •Metformin or alternative oral agents if diet is ineffective; insulinmay be required if combination oral agents fail ■Pearl When untreated, the weight loss in this condition may seem desirable for some patients, but runs the risk of resulting in hyperosmolar nonketotic coma. ReferenceRodbard HW, Jellinger PS, Davidson JA, et al. Statement by an American Association of Clinical Endocrinologists/American College of Endocrinologyconsensus panel on type 2 diabetes mellitus: an algorithm for glycemic con-trol. Endocr Pract 2009;15:540. [PMID: 19858063]\n",
      "\n",
      "Dod. id: 555717f3aeb5133e7b95877e4bd2c377083d052b07f9d59136f35f7a3e984b2a\n",
      "Similarity: 0.57\n",
      "Chapter 7 Endocrine Disorders 185 7Hyperosmotic Nonketotic Diabetic Coma ■Essentials of Diagnosis •Gradual onset of polyuria, polydipsia, dehydration, and weakness;in severe cases, may progress to obtundation and coma •Occurs in patients with type 2 diabetes, typically in elderly patientswith reduced ﬂuid intake or precipitating factors •Profound hyperglycemia (> 600 mg/dL), hyperosmolality (> 310mOsm/kg); pH > 7.3, serum bicarbonate > 15 mEq/L; ketosisand acidosis are usually absent ■Differential Diagnosis •Cerebrovascular accident or head trauma •Diabetes insipidus •Hypoglycemia •Hyperglycemia ■Treatment •Aggressive volume resuscitation with normal saline until patientis euvolemic, then with hypotonic saline •Initial intravenous regular insulin followed by subcutaneousinsulin •Careful monitoring of serum sodium, osmolality, and glucose •Dextrose-containing ﬂuids when glucose is 250–300 mg/dL •Potassium and phosphate replacement as needed ■Pearl As in diabetic ketoacidosis, osmolality is the best predictor of outcome;the prognosis is worse than that of ketoacidosis, as patients seek med-ical care early because of the hyperventilation of acidemia. ReferenceScott A. Hyperosmolar hyperglycaemic syndrome. Diabet Med 2006;23(suppl):22. [PMID: 16805880]\n",
      "\n",
      "Dod. id: 647d6c8bae2992cf468e81e2888b07e0743700bcd86b80df6f6d1d2fea5e96fb\n",
      "Similarity: 0.562\n",
      "338 Current Essentials of Medicine 11Diabetic Nephropathy ■Essentials of Diagnosis •20–30% of diabetics have microalbuminuria approximately 15years after diabetes mellitus ﬁrst diagnosed •Diabetic retinopathy often present •GFR increases initially, returns to normal as further renal damageoccurs, then continues to fall •Proteinuria > 1 g/d, often nephrotic range •Normal to enlarged kidneys on ultrasound •Biopsy can show mesangial matrix expansion, diffuse glomeru-losclerosis, and nodular intercapillary glomerulosclerosis, the latterpathognomonic ■Differential Diagnosis •Nephrotic syndrome due to other cause, especially amyloidosis •Glomerulonephritis with nephrotic features such as that seen insystemic lupus erythematosus, membranous glomerulonephritis,or IgA nephropathy ■Treatment •ACE inhibition or angiotensin II receptor blockade reduce hyper-ﬁltration, proteinuria, and progression •Strict glycemic and blood pressure control •Supportive care for progression of chronic kidney disease—includes treatment of anemia, acidosis, and elevated phosphorus •Transplantation an alternative to dialysis at end stage, but comor-bid vasculopathy can be daunting; may have signiﬁcant survivalbeneﬁt with preemptive (before end-stage renal disease) trans-plantation ■Pearl One of medicine’s few causes of massive albuminuria even at severereduction of glomerular ﬁltration rate. ReferenceKeane WF, Lyle PA. Recent advances in management of type 2 diabetes and nephropathy: lessons from the RENAAL study. Am J Kidney Dis2003;41(suppl 1):S22. [PMID: 12612946]\n",
      "\n",
      "Dod. id: 158680f2d6c577e240f2f0cb411480e9dbfeb7613abe58e8666a3f5f60d04f2f\n",
      "Similarity: 0.558\n",
      "188 Current Essentials of Medicine 7Hypoglycemia in the Adult ■Essentials of Diagnosis •Blurred vision, diplopia, headache, slurred speech, weakness,sweating, palpitations, tremulousness, altered mentation; focalneurologic signs common •Plasma glucose < 40 mg/dL •Causes include alcoholism, postprandial hypoglycemia (eg, post-gastrectomy), insulinoma, medications (insulin, sulfonylureas,pentamidine), adrenal insufﬁciency ■Differential Diagnosis •Central nervous system disease •Hypoxia •Psychoneurosis •Pheochromocytoma ■Treatment •Intravenous glucose (oral glucose for patients who are consciousand able to swallow) •Intramuscular glucagon if no intravenous access available •Diagnosis and treatment of underlying disease (eg, insulinoma)or removal of offending agent (eg, alcohol, sulfonylureas) •For patients with postprandial (reactive) hypoglycemia, eatingsmall frequent meals with reduced proportion of carbohydratesmay help ■Pearl In alcoholic hypoglycemia, blood glucose determinations as low as 6have been reported; symptoms are atypical, because rate of glucose fallis slower than that produced by insulin. ReferenceMurad MH, Coto-Yglesias F, Wang AT, et al. Clinical review: drug-induced hypoglycemia: a systematic review. J Clin Endocrinol Metab 2009;94:741.[PMID: 19088166]\n",
      "\n"
     ]
    }
   ],
   "source": [
    "for n, id, sim in zip(q_result.nodes, q_result.ids, q_result.similarities):\n",
    "    print(f\"Dod. id: {id}\")\n",
    "    print(f\"Similarity: {-sim}\")\n",
    "    print(n.text)\n",
    "    print(\"\")"
   ]
  },
  {
   "cell_type": "markdown",
   "id": "e811a520-bef5-4070-acaa-f5e4cf45d989",
   "metadata": {},
   "source": [
    "#### Integrate in the bigger RAG picture"
   ]
  },
  {
   "cell_type": "code",
   "execution_count": 14,
   "id": "bab5a533-2d39-4b9a-9347-e23823a8925b",
   "metadata": {},
   "outputs": [
    {
     "name": "stdout",
     "output_type": "stream",
     "text": [
      "Question: Which level of glucose in the bllod are early indication of diabetes?\n",
      "Fasting plasma glucose ≥ 126 mg/dL; random plasma glucose ≥200 mg/dL with symptoms; glycosuria; elevated glycosylated hemoglobin (A1c); ketosis rare\n",
      "\n",
      "CPU times: user 94.7 ms, sys: 9.49 ms, total: 104 ms\n",
      "Wall time: 5.07 s\n"
     ]
    }
   ],
   "source": [
    "%%time\n",
    "\n",
    "response = query_engine.query(question)\n",
    "\n",
    "print(f\"Question: {question}\")\n",
    "print(response.response)\n",
    "print(\"\")"
   ]
  },
  {
   "cell_type": "code",
   "execution_count": null,
   "id": "0472406f-5479-4691-8bbc-a5d488cdb8c1",
   "metadata": {},
   "outputs": [],
   "source": []
  }
 ],
 "metadata": {
  "kernelspec": {
   "display_name": "Python 3 (ipykernel)",
   "language": "python",
   "name": "python3"
  },
  "language_info": {
   "codemirror_mode": {
    "name": "ipython",
    "version": 3
   },
   "file_extension": ".py",
   "mimetype": "text/x-python",
   "name": "python",
   "nbconvert_exporter": "python",
   "pygments_lexer": "ipython3",
   "version": "3.9.0"
  }
 },
 "nbformat": 4,
 "nbformat_minor": 5
}
