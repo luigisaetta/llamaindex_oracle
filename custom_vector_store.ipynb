{
 "cells": [
  {
   "cell_type": "markdown",
   "id": "9c0e01ec-9c28-49df-b0c5-7e90bf6abe0e",
   "metadata": {},
   "source": [
    "### Oracle Vector DB wrapped as a llama-index custom Vector Store\n",
    "\n",
    "* ispired by: https://docs.llamaindex.ai/en/stable/examples/low_level/vector_store.html"
   ]
  },
  {
   "cell_type": "code",
   "execution_count": 1,
   "id": "885d648a-548b-4f1e-930f-2d102f7d8f16",
   "metadata": {},
   "outputs": [],
   "source": [
    "import logging\n",
    "import sys\n",
    "\n",
    "from typing import List, Any, Optional, Dict, Tuple\n",
    "from llama_index.vector_stores.types import (\n",
    "    VectorStore,\n",
    "    VectorStoreQuery,\n",
    "    VectorStoreQueryResult,\n",
    ")\n",
    "from llama_index import StorageContext, VectorStoreIndex, ServiceContext\n",
    "from llama_index.schema import TextNode, BaseNode, Document\n",
    "\n",
    "import oci\n",
    "import ads\n",
    "from ads.llm import GenerativeAIEmbeddings, GenerativeAI\n",
    "import oracledb\n",
    "\n",
    "from config_private import COMPARTMENT_OCID, ENDPOINT\n",
    "\n",
    "from oracle_vector_db import OracleVectorStore"
   ]
  },
  {
   "cell_type": "code",
   "execution_count": 2,
   "id": "3cf2241f-f99c-4ce0-b3f5-cb176858840f",
   "metadata": {},
   "outputs": [],
   "source": [
    "# for debugging\n",
    "# logging.basicConfig(stream=sys.stdout, level=logging.DEBUG)\n",
    "# logging.getLogger().addHandler(logging.StreamHandler(stream=sys.stdout))"
   ]
  },
  {
   "cell_type": "code",
   "execution_count": 3,
   "id": "7fafa8b6-58b2-4b6b-8faa-a6508ddb2467",
   "metadata": {},
   "outputs": [],
   "source": [
    "def load_oci_config():\n",
    "    # read OCI config to connect to OCI with API key\n",
    "\n",
    "    # are you using default profile?\n",
    "    oci_config = oci.config.from_file(\"~/.oci/config\", \"DEFAULT\")\n",
    "\n",
    "    return oci_config"
   ]
  },
  {
   "cell_type": "code",
   "execution_count": 4,
   "id": "77816119-932c-4e18-8011-1e3b02503120",
   "metadata": {},
   "outputs": [],
   "source": [
    "# setup\n",
    "oci_config = load_oci_config()\n",
    "\n",
    "# need to do this way\n",
    "api_keys_config = ads.auth.api_keys(oci_config)\n",
    "\n",
    "# english, or for other language use: multilingual\n",
    "MODEL_NAME = \"cohere.embed-english-v3.0\"\n",
    "\n",
    "embed_model = GenerativeAIEmbeddings(\n",
    "    compartment_id=COMPARTMENT_OCID,\n",
    "    model=MODEL_NAME,\n",
    "    auth=ads.auth.api_keys(oci_config),\n",
    "    # Optionally you can specify keyword arguments for the OCI client, e.g. service_endpoint.\n",
    "    client_kwargs={\n",
    "        \"service_endpoint\": ENDPOINT\n",
    "    },\n",
    ")"
   ]
  },
  {
   "cell_type": "markdown",
   "id": "98531d22-fc7d-4575-965a-8b6685bdc7f2",
   "metadata": {},
   "source": [
    "#### Using the wrapper for the DB Vector Store"
   ]
  },
  {
   "cell_type": "code",
   "execution_count": 5,
   "id": "d0ce2a88-8950-4c7a-ab67-6bca8d1ac431",
   "metadata": {},
   "outputs": [],
   "source": [
    "v_store = OracleVectorStore(verbose=False)"
   ]
  },
  {
   "cell_type": "code",
   "execution_count": 6,
   "id": "a113f279-17d2-48f4-b8b5-22cf383908fd",
   "metadata": {},
   "outputs": [],
   "source": [
    "query = \"What is JSON Relational Duality?\""
   ]
  },
  {
   "cell_type": "code",
   "execution_count": 7,
   "id": "47efc350-857f-42dd-b5ee-8a1ccfbfff4c",
   "metadata": {},
   "outputs": [],
   "source": [
    "# embed the query using OCI GenAI\n",
    "query_embedding = embed_model.embed_documents([query])[0]\n",
    "\n",
    "#  wrap in llama-index\n",
    "query_obj = VectorStoreQuery(\n",
    "    query_embedding=query_embedding, similarity_top_k=5\n",
    ")"
   ]
  },
  {
   "cell_type": "markdown",
   "id": "48309d0a-c4cc-404c-802f-0ee66f9df319",
   "metadata": {},
   "source": [
    "#### Use our Vector Store DB"
   ]
  },
  {
   "cell_type": "code",
   "execution_count": 8,
   "id": "dddc851e-3f74-4ad2-8c41-78a1aa2e8781",
   "metadata": {},
   "outputs": [
    {
     "name": "stdout",
     "output_type": "stream",
     "text": [
      "CPU times: user 19.3 ms, sys: 5.29 ms, total: 24.6 ms\n",
      "Wall time: 491 ms\n"
     ]
    }
   ],
   "source": [
    "%%time\n",
    "\n",
    "q_result = v_store.query(query_obj)"
   ]
  },
  {
   "cell_type": "code",
   "execution_count": 9,
   "id": "7331d22c-0555-4a51-ac01-a2b595a15c5a",
   "metadata": {},
   "outputs": [
    {
     "name": "stdout",
     "output_type": "stream",
     "text": [
      "Dod. id: 1c0e1d15-c6ba-4d1d-89f9-11a497fe7bd0\n",
      "Similarity: 0.605\n",
      "2 Application Development JSON JSON-Relational Duality JSON Relational Duality Views are fully updatable JSON views over relational data. Data is still stored in relational tables in a highly efficient normalized format but can be accessed by applications in the form of JSON documents. Duality views provide you with game-changing flexibility and simplicity by overcoming the historical challenges developers have faced when building applications using relational or document models. Related Resources View Documentation JSON Schema JSON Schema-based validation is allowed with the SQL condition IS JSON and with a PL/SQL utility function. A JSON schema is a JSON document that specifies allowed properties (field names) and the corresponding allowed data types, and whether they are optional or mandatory. By default, JSON data is schemaless, providing flexibility. However, you may want to ensure that your JSON data contains particular mandatory fixed structures and typing, besides other optional and flexible components, which can be done via JSON Schema validation. Related Resources View Documentation XML and JSON Search Index Enhancements The Oracle Text XML search index syntax and JSON search index syntax are now consistent. Additionally, the performance of JSON and XML search indexes has been improved. Using the same syntax for XML or JSON search indexes and better performance increase productivity. Related Resources View Documentation 2-1\n",
      "\n",
      "Dod. id: b61ea99c-d473-495f-b2fa-1a9641eec4d1\n",
      "Similarity: 0.461\n",
      "learn and to use. The following table describes further differences between JSON and XML. Table 22-2 Differences Between JSON and XML Feature JSON XML Useful for simple, structured data Yes Yes, but also supports semistructured data and complex structured data Useful for mixed content No Yes Lacks attributes, namespaces, inheritance, and substitutionYes No Places importance on ordering No Yes Primarily intended for documents rather than data No Yes Includes a date data type No Yes Note: Oracle Database JSON Developer’s Guide for a more comprehensive comparison of XML and JSON Native Database Support for JSON JSON is widely stored in noSQL databases that lack relational database features. In contrast, Oracle Database supports JSON natively with features such as transactions, indexing, declarative querying, and views. You can access JSON data stored in the database the same way you access other database data, including using OCI, .NET, and JDBC. The preferred way to store JSON data is using the JSON data type, which is a proprietary binary format optimized for query and DML processing. You can use the JSON data type in most places where a SQL data type is allowed, including a column type or parameter type for a PL/SQL program unit. By using Oracle SQL, you can perform the operations such as the following on JSON data: •Join JSON data with non-JSON relational data. •Generate JSON document from relational data using SQL functions json_object and json_array . •Project JSON data into a relational format by using the SQL function json_table . •Create a check constraint with is_json to enforce JSON data in a column. The database uses the check constraint to confirm that the column is JSON for JSON-specific operations such as simplified syntax. •Manipulate JSON documents as PL/SQL objects. •Use SQL functions json_query and json_value to accept an Oracle JSON path expression as an argument and match it against the target JSON data. •Index JSON data. •Query JSON data stored in an external table. •Replicate tables with columns containing JSON data using Oracle GoldenGate.Chapter 22 Topics for Database Developers 22-19\n",
      "\n",
      "Dod. id: 7415e3b8-fd22-4e3e-b731-48710723abb5\n",
      "Similarity: 0.456\n",
      "JSON Type Support for External Tables Support for access and direct-loading of JSON-type columns is provided for external tables. JSON data type is supported as a column type in the external table definition. Newlinedelimited and JSON-array file options are supported, which facilitates importing JSON data from an external table. This feature makes it easier to load data into a JSON-type columns. Related Resources View Documentation JSON/JSON_VALUE will Convert PL/SQL Aggregate Type to/from JSON The PL/SQL JSON constructor is enhanced to accept an instance of a corresponding PL/SQL aggregate type, returning a JSON object or array type populated with the aggregate type data. The PL/SQL JSON_VALUE operator is enhanced so that its returning clause can accept a type name that defines the type of the instance that the operator is to return. JSON constructor support for aggregate data types streamlines data interchange between PL/SQL applications and languages that support JSON. Related Resources View Documentation JSON_ARRAY Constructor by Query A subquery can be used as an argument to SQL/JSON function JSON_ARRAY to define the array elements. This functionality is part of the SQL/JSON standard. This feature increases your developer productivity and higher interoperability with other SQL/ JSON standard-compliant solutions. Related Resources View Documentation JSON_EXPRESSION_CHECK Parameter A new parameter JSON_EXPRESSION_CHECK allows to enable/disable a JSON query check. The values are on and off. The default is off. For now, this parameter is limited to JSONrelational duality views. An error is raised if a JSON path expression on a duality view does not match to an underlying column, for example if the path expression has a typo. The error is raised during query compilations. This simplifies working with JSON-relational duality views, as incorrect JSON path expressions do not need to be debugged at runtime but instead are flagged at query compilation time (by raising an error). Related Resources View DocumentationChapter 2 JSON 2-3\n",
      "\n",
      "Dod. id: fee9882c-96e5-49e9-b31f-7898b6d6683a\n",
      "Similarity: 0.422\n",
      "See Also: •Oracle XML DB Developer’s Guide •Oracle XML Developer's Kit Programmer's Guide Overview of JSON in Oracle Database Oracle Database provides native support for JavaScript Object Notation (JSON) data, including querying and indexing. This section contains the following topics: •What Is JSON? •JSON and XML •Native Database Support for JSON •What Is JSON? JavaScript Object Notation (JSON) is a language-independent, text-based data format that can represent objects, arrays, and scalar data. A variety of programming languages can parse and generate JSON data. •JSON and XML Both JSON and XML are commonly used as data-interchange languages. Unlike relational data, both JSON data and XML data can be stored, indexed, and queried in the database without any schema that defines the data. •Native Database Support for JSON JSON is widely stored in noSQL databases that lack relational database features. In contrast, Oracle Database supports JSON natively with features such as transactions, indexing, declarative querying, and views. What Is JSON? JavaScript Object Notation (JSON) is a language-independent, text-based data format that can represent objects, arrays, and scalar data. A variety of programming languages can parse and generate JSON data. JSON commonly serves as a data-interchange language. It is often used for serializing structured data and exchanging it over a network, typically between a server and web applications. JSON is the dominant data format in web browsers that run applications written in HTML-embedded JavaScript. A JavaScript object is an associative array of zero or more pairs of property names and associated JSON values. A JSON object is a JavaScript object literal, which is written as a property list enclosed in braces, with name-value pairs separated by commas, and with the name and value of each pair separated by a colon. An object property is sometimes called a key. An object property name-value pair is sometimes called an object member .Chapter 22 Topics for Database Developers 22-17\n",
      "\n",
      "Dod. id: c08e255c-8727-4c8e-86e4-907399a5111e\n",
      "Similarity: 0.418\n",
      "JavaScript object An associative array of zero or more pairs of property names and associated JavaScript Object Notation (JSON) values. JavaScript Object Notation (JSON) A language-independent, text-based data format that can represent objects, arrays, and scalar data. job queue process An optional background process that runs user jobs, often in batch mode. A job is a userdefined task scheduled to run one or more times. join A statement that retrieves data from multiple tables specified in the FROM clause. Join types include inner joins, outer joins, and Cartesian joins. join attribute clustering In an attribute-clustered table , clustering that is based on joined columns. join condition A condition that compares two columns, each from a different table, in a join. The database combines pairs of rows, each containing one row from each table, for which the join condition evaluates to TRUE. join view A view whose definition includes multiple tables or views in the FROM clause. JSON object A JavaScript object literal written as a property listed enclosed in braces. See also JavaScript Object Notation (JSON) . JVM A virtual processor that runs compiled Java code. key Column or set of columns included in the definition of certain types of integrity constraints.Glossary Glossary-35\n",
      "\n"
     ]
    }
   ],
   "source": [
    "for n, id, sim in zip(q_result.nodes, q_result.ids, q_result.similarities):\n",
    "    print(f\"Dod. id: {id}\")\n",
    "    print(f\"Similarity: {-sim}\")\n",
    "    print(n.text)\n",
    "    print(\"\")"
   ]
  },
  {
   "cell_type": "markdown",
   "id": "e811a520-bef5-4070-acaa-f5e4cf45d989",
   "metadata": {},
   "source": [
    "#### Integrate in the bigger RAG picture"
   ]
  },
  {
   "cell_type": "code",
   "execution_count": 10,
   "id": "bf6b6e81-aaaa-4449-9108-60dae04986d2",
   "metadata": {},
   "outputs": [],
   "source": [
    "llm_oci = GenerativeAI(\n",
    "    compartment_id=COMPARTMENT_OCID,\n",
    "    max_tokens=1024,\n",
    "    # Optionally you can specify keyword arguments for the OCI client, e.g. service_endpoint.\n",
    "    client_kwargs={\n",
    "        \"service_endpoint\": ENDPOINT\n",
    "    },\n",
    ")"
   ]
  },
  {
   "cell_type": "code",
   "execution_count": 11,
   "id": "436f3ed2-5968-4ec5-ad97-c7ad3578e92a",
   "metadata": {},
   "outputs": [],
   "source": [
    "service_context = ServiceContext.from_defaults(llm=llm_oci, embed_model=embed_model)"
   ]
  },
  {
   "cell_type": "code",
   "execution_count": 12,
   "id": "32afd90b-67d7-417e-9d0a-d83e445a3d36",
   "metadata": {},
   "outputs": [],
   "source": [
    "index = VectorStoreIndex.from_vector_store(vector_store=v_store,\n",
    "    service_context=service_context\n",
    ")"
   ]
  },
  {
   "cell_type": "code",
   "execution_count": 13,
   "id": "88375ce0-16b1-44b6-80ee-3ca17c2a5332",
   "metadata": {},
   "outputs": [],
   "source": [
    "query_engine = index.as_query_engine(similarity_top_k=5)"
   ]
  },
  {
   "cell_type": "code",
   "execution_count": 15,
   "id": "bab5a533-2d39-4b9a-9347-e23823a8925b",
   "metadata": {},
   "outputs": [
    {
     "name": "stdout",
     "output_type": "stream",
     "text": [
      "Question: What is JSON Relational Duality?\n",
      "JSON Relational Duality is a concept that allows for flexible and simple application development by using relational or document models. It provides a way to store data in a highly efficient, normalized format while still having the ability to access it through applications in the form of JSON documents. This is done by creating duality views, which are fully updatable JSON views over relational data. This allows for the joining of JSON data with non-JSON relational data, the generation of JSON documents from relational data, and the projection of JSON data into a relational format. It also provides JSON schema-based validation to ensure data contains mandatory fixed structures and typing along with other optional flexible components. \n",
      "\n",
      "Would you like to know more about any of the aforementioned concepts? \n",
      "\n",
      "CPU times: user 60 ms, sys: 7.36 ms, total: 67.3 ms\n",
      "Wall time: 6.56 s\n"
     ]
    }
   ],
   "source": [
    "%%time\n",
    "\n",
    "response = query_engine.query(query)\n",
    "\n",
    "print(f\"Question: {query}\") \n",
    "print(response.response)\n",
    "print(\"\")"
   ]
  },
  {
   "cell_type": "code",
   "execution_count": null,
   "id": "4861025c-ec24-4f13-b10f-2ec6e54d3e38",
   "metadata": {},
   "outputs": [],
   "source": []
  }
 ],
 "metadata": {
  "kernelspec": {
   "display_name": "Python 3 (ipykernel)",
   "language": "python",
   "name": "python3"
  },
  "language_info": {
   "codemirror_mode": {
    "name": "ipython",
    "version": 3
   },
   "file_extension": ".py",
   "mimetype": "text/x-python",
   "name": "python",
   "nbconvert_exporter": "python",
   "pygments_lexer": "ipython3",
   "version": "3.9.0"
  }
 },
 "nbformat": 4,
 "nbformat_minor": 5
}
