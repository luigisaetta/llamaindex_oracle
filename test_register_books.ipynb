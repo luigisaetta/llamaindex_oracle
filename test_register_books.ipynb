{
 "cells": [
  {
   "cell_type": "code",
   "execution_count": 1,
   "id": "b6e51a9d-e614-47ec-bd4c-e783133a2829",
   "metadata": {},
   "outputs": [],
   "source": [
    "import oracledb"
   ]
  },
  {
   "cell_type": "code",
   "execution_count": 2,
   "id": "64bb7ded-1c3a-4599-acdc-42d5208a2313",
   "metadata": {},
   "outputs": [],
   "source": [
    "DB_USER = \"vector\"\n",
    "DB_PWD = \"lilli1999\"\n",
    "DB_HOST_IP = \"130.162.46.152\"\n",
    "DB_SERVICE = \"freepdb1\""
   ]
  },
  {
   "cell_type": "code",
   "execution_count": 3,
   "id": "b043ed06-3c24-40e6-ac32-3160e02d97a6",
   "metadata": {},
   "outputs": [],
   "source": [
    "DSN = DB_HOST_IP + \"/\" + DB_SERVICE"
   ]
  },
  {
   "cell_type": "code",
   "execution_count": 10,
   "id": "847a5039-44d9-4d5c-9cd9-b545d2c6b9fd",
   "metadata": {},
   "outputs": [],
   "source": [
    "def register_book(book_name, connection):\n",
    "    with connection.cursor() as cursor:\n",
    "        # get the new key\n",
    "        query = \"SELECT MAX(ID) FROM BOOKS\"\n",
    "\n",
    "        cursor.execute(query)\n",
    "\n",
    "        # Fetch the result\n",
    "        row = cursor.fetchone()\n",
    "\n",
    "        if row[0] is not None:\n",
    "            new_key = row[0] + 1\n",
    "        else:\n",
    "            new_key = 1\n",
    "\n",
    "    # insert the record for the book\n",
    "    with connection.cursor() as cursor:\n",
    "        query = \"INSERT INTO BOOKS (ID, NAME) VALUES (:1, :2)\"\n",
    "\n",
    "        # Execute the query with your values\n",
    "        cursor.execute(query, [new_key, book_name])\n",
    "\n",
    "    return new_key"
   ]
  },
  {
   "cell_type": "code",
   "execution_count": 11,
   "id": "c3b702bc-6939-43f6-a351-5c27312ea3ff",
   "metadata": {},
   "outputs": [],
   "source": [
    "with oracledb.connect(user=DB_USER, password=DB_PWD, dsn=DSN) as connection:\n",
    "    register_book(\"prova\", connection)\n",
    "    connection.commit()"
   ]
  },
  {
   "cell_type": "code",
   "execution_count": 6,
   "id": "faa5b0bf-23d5-4f71-b333-25734163258c",
   "metadata": {},
   "outputs": [],
   "source": [
    "with oracledb.connect(user=DB_USER, password=DB_PWD, dsn=DSN) as connection:\n",
    "    with connection.cursor() as cursor:\n",
    "        # get the new key\n",
    "        query = \"SELECT MAX(ID) FROM BOOKS\"\n",
    "\n",
    "        cursor.execute(query)\n",
    "\n",
    "        # Fetch the result\n",
    "        row = cursor.fetchone()"
   ]
  },
  {
   "cell_type": "code",
   "execution_count": 9,
   "id": "48be35f8-b810-4abb-8f37-84c890b13779",
   "metadata": {},
   "outputs": [],
   "source": [
    "row[0]"
   ]
  },
  {
   "cell_type": "code",
   "execution_count": null,
   "id": "13bca72a-3323-4092-a23a-2b189f3dccb0",
   "metadata": {},
   "outputs": [],
   "source": []
  }
 ],
 "metadata": {
  "kernelspec": {
   "display_name": "Python 3 (ipykernel)",
   "language": "python",
   "name": "python3"
  },
  "language_info": {
   "codemirror_mode": {
    "name": "ipython",
    "version": 3
   },
   "file_extension": ".py",
   "mimetype": "text/x-python",
   "name": "python",
   "nbconvert_exporter": "python",
   "pygments_lexer": "ipython3",
   "version": "3.9.0"
  }
 },
 "nbformat": 4,
 "nbformat_minor": 5
}
