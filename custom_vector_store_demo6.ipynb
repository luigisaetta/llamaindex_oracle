{
 "cells": [
  {
   "cell_type": "markdown",
   "id": "9c0e01ec-9c28-49df-b0c5-7e90bf6abe0e",
   "metadata": {},
   "source": [
    "### Oracle Vector DB wrapped as a llama-index custom Vector Store\n",
    "\n",
    "* inspired by: https://docs.llamaindex.ai/en/stable/examples/low_level/vector_store.html\n",
    "* updated after **OCI GenAI GA**\n",
    "\n",
    "In this **sixth demo** we show:\n",
    "* how to embed a Text using OCI GenAI Embeddings (Cohere V3)\n",
    "* How to query the Oracle AI Vector Store\n",
    "* How to create a simplified QA retriever using LlamaIndex\n",
    "* We have added phoenix traces"
   ]
  },
  {
   "cell_type": "code",
   "execution_count": 1,
   "id": "885d648a-548b-4f1e-930f-2d102f7d8f16",
   "metadata": {},
   "outputs": [
    {
     "name": "stderr",
     "output_type": "stream",
     "text": [
      "2024-03-02 18:32:53,998 - INFO - Dataset: phoenix_dataset_32b4ed11-5303-43c0-b83e-7cdd6d7fe9ca initialized\n"
     ]
    }
   ],
   "source": [
    "import os\n",
    "import logging\n",
    "import sys\n",
    "import numpy as np\n",
    "\n",
    "from typing import List, Any, Optional, Dict, Tuple\n",
    "import llama_index\n",
    "from llama_index.vector_stores.types import (\n",
    "    VectorStore,\n",
    "    VectorStoreQuery,\n",
    "    VectorStoreQueryResult,\n",
    ")\n",
    "from llama_index import StorageContext, VectorStoreIndex, ServiceContext\n",
    "from llama_index.schema import TextNode, BaseNode, Document\n",
    "\n",
    "import oci\n",
    "import ads\n",
    "\n",
    "# only\n",
    "import oracledb\n",
    "from oci_utils import load_oci_config\n",
    "from ads.llm import GenerativeAIEmbeddings, GenerativeAI\n",
    "from oracle_vector_db import OracleVectorStore\n",
    "\n",
    "# for observability\n",
    "import phoenix as px\n",
    "\n",
    "from config import EMBED_MODEL, PHX_PORT\n",
    "from config_private import COMPARTMENT_OCID"
   ]
  },
  {
   "cell_type": "code",
   "execution_count": 2,
   "id": "fdbe7189-f610-4e1d-9de4-4e327b939b8f",
   "metadata": {},
   "outputs": [],
   "source": [
    "# this is the endpoint after GA, for now Chicago Region\n",
    "ENDPOINT = \"https://inference.generativeai.us-chicago-1.oci.oraclecloud.com\""
   ]
  },
  {
   "cell_type": "code",
   "execution_count": 3,
   "id": "3504c89a-fe91-40bd-b453-29d9ab2ed2ef",
   "metadata": {},
   "outputs": [
    {
     "name": "stdout",
     "output_type": "stream",
     "text": [
      "oracledb version: 2.0.0.dev20231121\n",
      "oci version: 2.119.1\n"
     ]
    }
   ],
   "source": [
    "# version I'm using\n",
    "print(f\"oracledb version: {oracledb.__version__}\")\n",
    "print(f\"oci version: {oci.__version__}\")"
   ]
  },
  {
   "cell_type": "code",
   "execution_count": 4,
   "id": "647be132-9019-4f7e-9e82-8da3aa9ac47e",
   "metadata": {},
   "outputs": [
    {
     "name": "stderr",
     "output_type": "stream",
     "text": [
      "2024-03-02 18:32:56,227 - WARNING - OpenInferenceTraceCallbackHandler() no longer takes any arguments. The arguments provided has been ignored. For a migration guide, see https://github.com/Arize-ai/phoenix/blob/main/MIGRATION.md\n"
     ]
    },
    {
     "name": "stdout",
     "output_type": "stream",
     "text": [
      "🌍 To view the Phoenix app in your browser, visit http://localhost:7777/\n",
      "📺 To view the Phoenix app in a notebook, run `px.active_session().view()`\n",
      "📖 For more information on how to use Phoenix, check out https://docs.arize.com/phoenix\n"
     ]
    }
   ],
   "source": [
    "# phoenix traces\n",
    "os.environ[\"PHOENIX_PORT\"] = PHX_PORT\n",
    "px.launch_app()\n",
    "llama_index.set_global_handler(\"arize_phoenix\")"
   ]
  },
  {
   "cell_type": "code",
   "execution_count": 5,
   "id": "3cf2241f-f99c-4ce0-b3f5-cb176858840f",
   "metadata": {},
   "outputs": [],
   "source": [
    "# for debugging\n",
    "# logging.basicConfig(stream=sys.stdout, level=logging.DEBUG)\n",
    "# logging.getLogger().addHandler(logging.StreamHandler(stream=sys.stdout))"
   ]
  },
  {
   "cell_type": "code",
   "execution_count": 6,
   "id": "77816119-932c-4e18-8011-1e3b02503120",
   "metadata": {},
   "outputs": [],
   "source": [
    "# setup\n",
    "oci_config = load_oci_config()\n",
    "\n",
    "# need to do this way\n",
    "api_keys_config = ads.auth.api_keys(oci_config)\n",
    "\n",
    "# english, or for other language use: multilingual\n",
    "\n",
    "embed_model = GenerativeAIEmbeddings(\n",
    "    compartment_id=COMPARTMENT_OCID,\n",
    "    model=EMBED_MODEL,\n",
    "    auth=api_keys_config,\n",
    "    # Optionally you can specify keyword arguments for the OCI client, e.g. service_endpoint.\n",
    "    client_kwargs={\"service_endpoint\": ENDPOINT},\n",
    ")"
   ]
  },
  {
   "cell_type": "markdown",
   "id": "98531d22-fc7d-4575-965a-8b6685bdc7f2",
   "metadata": {},
   "source": [
    "#### Using the wrapper for the DB Vector Store"
   ]
  },
  {
   "cell_type": "code",
   "execution_count": 7,
   "id": "d0ce2a88-8950-4c7a-ab67-6bca8d1ac431",
   "metadata": {},
   "outputs": [],
   "source": [
    "v_store = OracleVectorStore(verbose=True)"
   ]
  },
  {
   "cell_type": "code",
   "execution_count": 8,
   "id": "a113f279-17d2-48f4-b8b5-22cf383908fd",
   "metadata": {},
   "outputs": [],
   "source": [
    "question = (\n",
    "    \"What is JSON Relational Duality in Oracle Database 23c? Explain with details\"\n",
    "    # \"What is Oracle Data Guard? Can it be used for Disaster recovery\"\n",
    ")"
   ]
  },
  {
   "cell_type": "code",
   "execution_count": 9,
   "id": "47efc350-857f-42dd-b5ee-8a1ccfbfff4c",
   "metadata": {},
   "outputs": [],
   "source": [
    "# embed the query using OCI GenAI\n",
    "\n",
    "query_embedding = embed_model.embed_documents([question])[0]\n",
    "\n",
    "#  wrap in llama-index\n",
    "query_obj = VectorStoreQuery(query_embedding=query_embedding, similarity_top_k=6)"
   ]
  },
  {
   "cell_type": "code",
   "execution_count": 10,
   "id": "6c917d46-463c-4df2-98d7-a57ce3af63f1",
   "metadata": {},
   "outputs": [
    {
     "data": {
      "text/plain": [
       "array([-0.0206604 , -0.01618958, -0.02804565, ...,  0.00656509,\n",
       "        0.05667114, -0.00270271])"
      ]
     },
     "execution_count": 10,
     "metadata": {},
     "output_type": "execute_result"
    }
   ],
   "source": [
    "np.array(query_embedding)"
   ]
  },
  {
   "cell_type": "markdown",
   "id": "48309d0a-c4cc-404c-802f-0ee66f9df319",
   "metadata": {},
   "source": [
    "#### Use our Vector Store DB"
   ]
  },
  {
   "cell_type": "code",
   "execution_count": 11,
   "id": "dddc851e-3f74-4ad2-8c41-78a1aa2e8781",
   "metadata": {},
   "outputs": [
    {
     "name": "stderr",
     "output_type": "stream",
     "text": [
      "2024-03-02 18:32:58,980 - INFO - ---> Calling query on DB\n",
      "2024-03-02 18:32:59,223 - INFO - SQL Query: select V.id, C.CHUNK, C.PAGE_NUM, \n",
      "                            ROUND(VECTOR_DISTANCE(V.VEC, :1, DOT), 3) as d,\n",
      "                            B.NAME \n",
      "                            from VECTORS V, CHUNKS C, BOOKS B\n",
      "                            where C.ID = V.ID and\n",
      "                            C.BOOK_ID = B.ID\n",
      "                            order by d\n",
      "                            FETCH FIRST 6 ROWS ONLY\n",
      "2024-03-02 18:32:59,533 - INFO - Query duration: 0.5 sec.\n"
     ]
    },
    {
     "name": "stdout",
     "output_type": "stream",
     "text": [
      "CPU times: user 49.4 ms, sys: 13.2 ms, total: 62.6 ms\n",
      "Wall time: 570 ms\n"
     ]
    }
   ],
   "source": [
    "%%time\n",
    "\n",
    "q_result = v_store.query(query_obj)"
   ]
  },
  {
   "cell_type": "markdown",
   "id": "adb96bce-08b7-4688-af5c-247e45ee040f",
   "metadata": {},
   "source": [
    "#### Displays results"
   ]
  },
  {
   "cell_type": "code",
   "execution_count": null,
   "id": "7331d22c-0555-4a51-ac01-a2b595a15c5a",
   "metadata": {},
   "outputs": [],
   "source": [
    "for n, id, sim in zip(q_result.nodes, q_result.ids, q_result.similarities):\n",
    "    print(f\"Doc. id: {id}\")\n",
    "    print(f\"Similarity: {-sim}\")\n",
    "    print(n.text)\n",
    "    print(n.metadata)\n",
    "    print(\"\")"
   ]
  },
  {
   "cell_type": "markdown",
   "id": "e811a520-bef5-4070-acaa-f5e4cf45d989",
   "metadata": {},
   "source": [
    "#### Integrate in the RAG picture"
   ]
  },
  {
   "cell_type": "code",
   "execution_count": 12,
   "id": "bf6b6e81-aaaa-4449-9108-60dae04986d2",
   "metadata": {},
   "outputs": [],
   "source": [
    "# instantiate the client for the LLM\n",
    "llm_oci = GenerativeAI(\n",
    "    compartment_id=COMPARTMENT_OCID,\n",
    "    max_tokens=1024,\n",
    "    # Optionally you can specify keyword arguments for the OCI client, e.g. service_endpoint.\n",
    "    client_kwargs={\"service_endpoint\": ENDPOINT},\n",
    ")"
   ]
  },
  {
   "cell_type": "code",
   "execution_count": 13,
   "id": "436f3ed2-5968-4ec5-ad97-c7ad3578e92a",
   "metadata": {},
   "outputs": [],
   "source": [
    "service_context = ServiceContext.from_defaults(llm=llm_oci, embed_model=embed_model)"
   ]
  },
  {
   "cell_type": "code",
   "execution_count": 14,
   "id": "32afd90b-67d7-417e-9d0a-d83e445a3d36",
   "metadata": {},
   "outputs": [],
   "source": [
    "index = VectorStoreIndex.from_vector_store(\n",
    "    vector_store=v_store, service_context=service_context\n",
    ")"
   ]
  },
  {
   "cell_type": "code",
   "execution_count": 15,
   "id": "88375ce0-16b1-44b6-80ee-3ca17c2a5332",
   "metadata": {},
   "outputs": [],
   "source": [
    "query_engine = index.as_query_engine(similarity_top_k=5)"
   ]
  },
  {
   "cell_type": "code",
   "execution_count": 16,
   "id": "bab5a533-2d39-4b9a-9347-e23823a8925b",
   "metadata": {},
   "outputs": [
    {
     "name": "stderr",
     "output_type": "stream",
     "text": [
      "2024-03-02 18:33:20,873 - INFO - ---> Calling query on DB\n",
      "2024-03-02 18:33:21,045 - INFO - SQL Query: select V.id, C.CHUNK, C.PAGE_NUM, \n",
      "                            ROUND(VECTOR_DISTANCE(V.VEC, :1, DOT), 3) as d,\n",
      "                            B.NAME \n",
      "                            from VECTORS V, CHUNKS C, BOOKS B\n",
      "                            where C.ID = V.ID and\n",
      "                            C.BOOK_ID = B.ID\n",
      "                            order by d\n",
      "                            FETCH FIRST 5 ROWS ONLY\n",
      "2024-03-02 18:33:21,324 - INFO - Query duration: 0.4 sec.\n",
      "2024-03-02 18:33:21,636 - WARNING - /Users/lsaetta/miniforge3/envs/rag_env01/lib/python3.9/site-packages/langchain_core/_api/deprecation.py:117: LangChainDeprecationWarning: The function `predict` was deprecated in LangChain 0.1.7 and will be removed in 0.2.0. Use invoke instead.\n",
      "  warn_deprecated(\n",
      "\n"
     ]
    },
    {
     "name": "stdout",
     "output_type": "stream",
     "text": [
      "Question: What is JSON Relational Duality in Oracle Database 23c? Explain with details\n",
      "\n",
      "JSON Relational Duality is a feature in Oracle Database 23c that allows developers to access data stored in relational tables in the form of JSON documents. This is done by creating duality views, which are fully updatable JSON views over relational data. \n",
      "\n",
      "With JSON Relational Duality, developers can take advantage of the best features of both the relational and document models. The relational model is simple and powerful, while the document model offers flexibility and simplicity. \n",
      "\n",
      "This feature is particularly useful for building applications using relational or document models as it can help overcome the challenges that come with using these models separately. It also allows for JSON Schema-based validation, which ensures that JSON data contains mandatory fixed structures and typing. \n",
      "\n",
      "Would you like to know more about JSON Schema-validation or anything else regarding Oracle Database 23c features? \n",
      "\n",
      "CPU times: user 347 ms, sys: 113 ms, total: 460 ms\n",
      "Wall time: 9.03 s\n"
     ]
    }
   ],
   "source": [
    "%%time\n",
    "\n",
    "response = query_engine.query(question)\n",
    "\n",
    "print(f\"Question: {question}\")\n",
    "print(\"\")\n",
    "print(response.response)\n",
    "print(\"\")"
   ]
  },
  {
   "cell_type": "code",
   "execution_count": null,
   "id": "0472406f-5479-4691-8bbc-a5d488cdb8c1",
   "metadata": {},
   "outputs": [],
   "source": []
  },
  {
   "cell_type": "code",
   "execution_count": null,
   "id": "7d76ad8d-df5a-4011-ad06-9f22787cdc49",
   "metadata": {},
   "outputs": [],
   "source": []
  }
 ],
 "metadata": {
  "kernelspec": {
   "display_name": "Python 3 (ipykernel)",
   "language": "python",
   "name": "python3"
  },
  "language_info": {
   "codemirror_mode": {
    "name": "ipython",
    "version": 3
   },
   "file_extension": ".py",
   "mimetype": "text/x-python",
   "name": "python",
   "nbconvert_exporter": "python",
   "pygments_lexer": "ipython3",
   "version": "3.9.18"
  }
 },
 "nbformat": 4,
 "nbformat_minor": 5
}
