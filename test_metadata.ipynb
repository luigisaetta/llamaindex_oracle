{
 "cells": [
  {
   "cell_type": "code",
   "execution_count": 3,
   "id": "60d65954-2124-48db-9356-cda7ae4fe030",
   "metadata": {},
   "outputs": [],
   "source": [
    "import logging\n",
    "import sys\n",
    "\n",
    "from typing import List, Any, Optional, Dict, Tuple\n",
    "from llama_index.vector_stores.types import (\n",
    "    VectorStore,\n",
    "    VectorStoreQuery,\n",
    "    VectorStoreQueryResult,\n",
    ")\n",
    "from llama_index import StorageContext, VectorStoreIndex, ServiceContext\n",
    "from llama_index.schema import TextNode, BaseNode, Document\n",
    "from llama_index import SimpleDirectoryReader\n",
    "\n",
    "import oci\n",
    "import ads\n",
    "\n",
    "# only\n",
    "import oracledb\n",
    "from oci_utils import load_oci_config\n",
    "from ads.llm import GenerativeAIEmbeddings, GenerativeAI\n",
    "from oracle_vector_db import OracleVectorStore\n",
    "\n",
    "from config_private import COMPARTMENT_OCID, ENDPOINT"
   ]
  },
  {
   "cell_type": "code",
   "execution_count": 4,
   "id": "2dff7695-667c-4b53-a94e-1f0d2f07f294",
   "metadata": {},
   "outputs": [],
   "source": [
    "INPUT_FILES = [\n",
    "    \"database-concepts.pdf\",\n",
    "]"
   ]
  },
  {
   "cell_type": "code",
   "execution_count": 5,
   "id": "71d5f9b6-460c-4a64-8c62-dca09a9ca0a9",
   "metadata": {},
   "outputs": [],
   "source": [
    "pages = SimpleDirectoryReader(input_files=INPUT_FILES).load_data()"
   ]
  },
  {
   "cell_type": "code",
   "execution_count": 6,
   "id": "398b4fe1-3b43-45b5-955b-30a508359556",
   "metadata": {},
   "outputs": [],
   "source": [
    "pages_num = [doc.metadata[\"page_label\"] for doc in pages]"
   ]
  },
  {
   "cell_type": "code",
   "execution_count": 7,
   "id": "ae4bf683-a8b5-4169-8265-51df516ba665",
   "metadata": {},
   "outputs": [
    {
     "data": {
      "text/plain": [
       "['1-7', '1-8', '1-9', '1-10', '1-11', '1-12', '1-13', '1-14', '1-15', '1-16']"
      ]
     },
     "execution_count": 7,
     "metadata": {},
     "output_type": "execute_result"
    }
   ],
   "source": [
    "pages_num[30:40]"
   ]
  },
  {
   "cell_type": "code",
   "execution_count": 8,
   "id": "44e28336-a036-47b0-99cf-1325afd21688",
   "metadata": {},
   "outputs": [
    {
     "data": {
      "text/plain": [
       "llama_index.schema.Document"
      ]
     },
     "execution_count": 8,
     "metadata": {},
     "output_type": "execute_result"
    }
   ],
   "source": [
    "type(pages[0])"
   ]
  },
  {
   "cell_type": "code",
   "execution_count": 11,
   "id": "316cb332-ce47-495c-affd-a38736867851",
   "metadata": {},
   "outputs": [],
   "source": [
    "node = TextNode(id_=\"1\", text=\"prova\", metadata={\"page_label\": \"10\"})"
   ]
  },
  {
   "cell_type": "code",
   "execution_count": 13,
   "id": "8d2df98f-1fbb-4dda-9cd2-fe036acff793",
   "metadata": {},
   "outputs": [
    {
     "data": {
      "text/plain": [
       "'10'"
      ]
     },
     "execution_count": 13,
     "metadata": {},
     "output_type": "execute_result"
    }
   ],
   "source": [
    "node.metadata[\"page_label\"]"
   ]
  },
  {
   "cell_type": "code",
   "execution_count": null,
   "id": "97209c6c-2c15-4422-953f-d6d69f7c3778",
   "metadata": {},
   "outputs": [],
   "source": []
  }
 ],
 "metadata": {
  "kernelspec": {
   "display_name": "Python 3 (ipykernel)",
   "language": "python",
   "name": "python3"
  },
  "language_info": {
   "codemirror_mode": {
    "name": "ipython",
    "version": 3
   },
   "file_extension": ".py",
   "mimetype": "text/x-python",
   "name": "python",
   "nbconvert_exporter": "python",
   "pygments_lexer": "ipython3",
   "version": "3.9.0"
  }
 },
 "nbformat": 4,
 "nbformat_minor": 5
}
