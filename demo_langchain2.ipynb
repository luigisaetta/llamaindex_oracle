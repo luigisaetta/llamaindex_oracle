{
 "cells": [
  {
   "cell_type": "markdown",
   "id": "5ec48e5e-0c98-44d4-b6a2-4428f86b7f0f",
   "metadata": {},
   "source": [
    "### Demo RAG with: Oracle AI Vector Store, OCI GenAI Embeddings, OCI GenAI Llama2 and LangChain"
   ]
  },
  {
   "cell_type": "code",
   "execution_count": 1,
   "id": "0fbd1a53-0057-4005-8d3b-f2d81f2b7f05",
   "metadata": {},
   "outputs": [],
   "source": [
    "import logging\n",
    "\n",
    "import oci\n",
    "import ads\n",
    "import oracledb\n",
    "\n",
    "from langchain import hub\n",
    "from langchain_core.output_parsers import StrOutputParser\n",
    "from langchain_core.runnables import RunnablePassthrough\n",
    "\n",
    "from oci_utils import load_oci_config, pretty_print_docs, format_docs\n",
    "from ads.llm import GenerativeAIEmbeddings, GenerativeAI\n",
    "\n",
    "# regarding sdk we have two dependencies here:\n",
    "# oracledb for the Vector Store\n",
    "# oci sdk for supporting ads that gives the GenerativeAIEmbeddings\n",
    "# eventually, the embedding model can be changed\n",
    "\n",
    "# my OracleVectorStore for LangChain\n",
    "from oracle_vector_db_lc import OracleVectorStore\n",
    "\n",
    "# EMBED_MODEL = \"cohere.embed-multilingual-v3.0\"\n",
    "from config import EMBED_MODEL\n",
    "\n",
    "# you need to have a config_private.py file where you specify COMPARTMENT_OCID, ENDPOINT\n",
    "# ENDPOINT = \"https://inference.generativeai.us-chicago-1.oci.oraclecloud.com\"\n",
    "from config_private import COMPARTMENT_OCID, ENDPOINT"
   ]
  },
  {
   "cell_type": "markdown",
   "id": "a17b6823-84fd-425c-a9eb-c64337bb771f",
   "metadata": {},
   "source": [
    "#### Setup\n",
    "* security\n",
    "* clients (Embeddings, LLM, Vector Store)"
   ]
  },
  {
   "cell_type": "code",
   "execution_count": 2,
   "id": "02e98a42-dc4f-422e-9061-a93b918661b3",
   "metadata": {},
   "outputs": [],
   "source": [
    "# num. of documents retrieved from the Vector Store\n",
    "\n",
    "TOP_K = 4\n",
    "\n",
    "# security (pass the api keys)\n",
    "oci_config = load_oci_config()\n",
    "\n",
    "api_keys_config = ads.auth.api_keys(oci_config)\n",
    "\n",
    "# the default prompt we're using\n",
    "prompt = hub.pull(\"rlm/rag-prompt\")\n",
    "\n",
    "#\n",
    "# clients to the Embeddings and LLM models\n",
    "#\n",
    "embed_model = GenerativeAIEmbeddings(\n",
    "    compartment_id=COMPARTMENT_OCID,\n",
    "    model=EMBED_MODEL,\n",
    "    auth=api_keys_config,\n",
    "    # here we specify the endpoint for GenAI\n",
    "    client_kwargs={\"service_endpoint\": ENDPOINT},\n",
    ")\n",
    "\n",
    "#\n",
    "# Choice of the LLM for response generation\n",
    "#\n",
    "GEN_MODEL = \"LLAMA2\"\n",
    "\n",
    "if GEN_MODEL == \"COHERE\":\n",
    "    llm = GenerativeAI(\n",
    "        auth=api_keys_config,\n",
    "        compartment_id=COMPARTMENT_OCID,\n",
    "        max_tokens=1024,\n",
    "        temperature=0.1,\n",
    "        verbose=False,\n",
    "        client_kwargs={\"service_endpoint\": ENDPOINT},\n",
    "    )\n",
    "\n",
    "if GEN_MODEL == \"LLAMA2\":\n",
    "    llm = GenerativeAI(\n",
    "        auth=api_keys_config,\n",
    "        compartment_id=COMPARTMENT_OCID,\n",
    "        model=\"meta.llama-2-70b-chat\",\n",
    "        max_tokens=1024,\n",
    "        temperature=0.1,\n",
    "        verbose=False,\n",
    "        client_kwargs={\"service_endpoint\": ENDPOINT},\n",
    "    )"
   ]
  },
  {
   "cell_type": "code",
   "execution_count": 3,
   "id": "8859d5ea-9364-4794-9371-5cfb1966c1b3",
   "metadata": {},
   "outputs": [],
   "source": [
    "# Initialising in this way we link with the embeddings model\n",
    "# we have used OCI GenAI based on Cohere but you could plug any other model\n",
    "# need to pass only the embedding functions\n",
    "\n",
    "v_store = OracleVectorStore(embedding_function=embed_model.embed_query, verbose=True)"
   ]
  },
  {
   "cell_type": "markdown",
   "id": "76487d9a-15d7-43a9-8041-ac1dc2d170bc",
   "metadata": {},
   "source": [
    "#### Similarity Search on Vector Store"
   ]
  },
  {
   "cell_type": "code",
   "execution_count": 4,
   "id": "1925902e-682c-44fe-aa63-873133e4b6ad",
   "metadata": {},
   "outputs": [],
   "source": [
    "question = \"What is JSON Relational Duality?\"\n",
    "# question = \"What are the symptoms of long covid fro adults? provide details.\""
   ]
  },
  {
   "cell_type": "code",
   "execution_count": 5,
   "id": "8be75281-ff3c-49c1-ae4f-56fb4a8535ab",
   "metadata": {},
   "outputs": [
    {
     "name": "stderr",
     "output_type": "stream",
     "text": [
      "2024-01-20 12:32:33,993 - INFO - top_k: 4\n",
      "2024-01-20 12:32:33,993 - INFO - \n",
      "2024-01-20 12:32:35,162 - INFO - select: select V.id, C.CHUNK, C.PAGE_NUM, \n",
      "                            ROUND(VECTOR_DISTANCE(V.VEC, :1, DOT), 3) as d,\n",
      "                            B.NAME \n",
      "                            from VECTORS V, CHUNKS C, BOOKS B\n",
      "                            where C.ID = V.ID and\n",
      "                            C.BOOK_ID = B.ID\n",
      "                            order by d\n",
      "                            FETCH FIRST 4 ROWS ONLY\n",
      "2024-01-20 12:32:35,433 - INFO - Query duration: 0.5 sec.\n"
     ]
    },
    {
     "name": "stdout",
     "output_type": "stream",
     "text": [
      "Document 1:\n",
      "\n",
      "2 Application Development JSON JSON-Relational Duality JSON Relational Duality Views are fully updatable JSON views over relational data. Data is still stored in relational tables in a highly efficient normalized format but can be accessed by applications in the form of JSON documents. Duality views provide you with game-changing flexibility and simplicity by overcoming the historical challenges developers have faced when building applications using relational or document models. Related Resources View Documentation JSON Schema JSON Schema-based validation is allowed with the SQL condition IS JSON and with a PL/SQL utility function. A JSON schema is a JSON document that specifies allowed properties (field names) and the corresponding allowed data types, and whether they are optional or mandatory. By default, JSON data is schemaless, providing flexibility. However, you may want to ensure that your JSON data contains particular mandatory fixed structures and typing, besides other optional and flexible components, which can be done via JSON Schema validation. Related Resources View Documentation XML and JSON Search Index Enhancements The Oracle Text XML search index syntax and JSON search index syntax are now consistent. Additionally, the performance of JSON and XML search indexes has been improved. Using the same syntax for XML or JSON search indexes and better performance increase productivity. Related Resources View Documentation 2-1\n",
      "----------------------------------------------------------------------------------------------------\n",
      "Document 2:\n",
      "\n",
      "Contents 1 Introduction 2 Application Development JSON 2-1 JSON-Relational Duality 2-1 JSON Schema 2-1 XML and JSON Search Index Enhancements 2-1 Changes for JSON Search Index and Data Guide 2-2 DBMS_AQ Support for JSON Arrays 2-2 Enhancement to JSON_TRANSFORM 2-2 JSON Type Support for External Tables 2-3 JSON/JSON_VALUE will Convert PL/SQL Aggregate Type to/from JSON 2-3 JSON_ARRAY Constructor by Query 2-3 JSON_EXPRESSION_CHECK Parameter 2-3 New JSON Data Dictionary Views 2-4 ORDERED in JSON_SERIALIZE 2-4 Precheckable Constraints using JSON SCHEMA 2-4 Predicates for JSON_VALUE and JSON_QUERY 2-4 Tools to Migrate JSON Text Storage to JSON Type Storages 2-5 SQL 2-5 Application Usage Annotations 2-5 Direct Joins for UPDATE and DELETE Statements 2-5 IF [NOT] EXISTS Syntax Support 2-5 New Database Role for Application Developers 2-6 Aggregation over INTERVAL Data Types 2-6 Application Usage Domains 2-6 Automatic PL/SQL to SQL Transpiler 2-6 Client Describe Call Support for Tag Options 2-7 DEFAULT ON NULL for UPDATE Statements 2-7 DESCRIBE Now Supports Column Annotations 2-7 Error Improvement 2-7 Extended CASE Controls 2-8 iii\n",
      "----------------------------------------------------------------------------------------------------\n",
      "Document 3:\n",
      "\n",
      "See Also: •Oracle XML DB Developer’s Guide •Oracle XML Developer's Kit Programmer's Guide Overview of JSON in Oracle Database Oracle Database provides native support for JavaScript Object Notation (JSON) data, including querying and indexing. This section contains the following topics: •What Is JSON? •JSON and XML •Native Database Support for JSON •What Is JSON? JavaScript Object Notation (JSON) is a language-independent, text-based data format that can represent objects, arrays, and scalar data. A variety of programming languages can parse and generate JSON data. •JSON and XML Both JSON and XML are commonly used as data-interchange languages. Unlike relational data, both JSON data and XML data can be stored, indexed, and queried in the database without any schema that defines the data. •Native Database Support for JSON JSON is widely stored in noSQL databases that lack relational database features. In contrast, Oracle Database supports JSON natively with features such as transactions, indexing, declarative querying, and views. What Is JSON? JavaScript Object Notation (JSON) is a language-independent, text-based data format that can represent objects, arrays, and scalar data. A variety of programming languages can parse and generate JSON data. JSON commonly serves as a data-interchange language. It is often used for serializing structured data and exchanging it over a network, typically between a server and web applications. JSON is the dominant data format in web browsers that run applications written in HTML-embedded JavaScript. A JavaScript object is an associative array of zero or more pairs of property names and associated JSON values. A JSON object is a JavaScript object literal, which is written as a property list enclosed in braces, with name-value pairs separated by commas, and with the name and value of each pair separated by a colon. An object property is sometimes called a key. An object property name-value pair is sometimes called an object member .Chapter 22 Topics for Database Developers 22-17\n",
      "----------------------------------------------------------------------------------------------------\n",
      "Document 4:\n",
      "\n",
      "13.5. PARSING JSON 159 }, \"email\" : { \"hide\" :\"yes\" } } You will notice some diﬀerences. First, in XML, we can add attributes like “i ntl” to the “phone” tag. In JSON, we simply have key-value pairs. Also the XML “person” tag is gone, replaced by a set of outer curly braces. In general, JSON structures are simpler than XML because JSON has fewer capabilities than XML. But JSON has the advantage that it maps directly to some combination of dictionaries and lists. And since nearly all programming langua ges have something equivalent to Python’s dictionaries and lists, JSON is a very natural format to have two cooperating programs exchange data. JSON is quickly becoming the format of choice for nearly all data exchange between applications because of its relative simplicity compared to XML. 13.5 Parsing JSON We construct our JSON by nesting dictionaries and lists as needed. In this example, we represent a list of users where each user is a set of key-value pairs (i.e., a dictionary). So we have a list of dictionaries. In the following program, we use the built-in json library to parse the JSON and read through the data. Compare this closely to the equivalent XML data and code above. The JSON has less detail, so we must know in advance that we are getting a list and that the list is of users and each user is a set of key-value pairs. The JSON is more succinct (an advantage) but also is less self-describing (a disadvantage). import json data =/quotesingle.ts1/quotesingle.ts1/quotesingle.ts1 [ { \"id\" : \"001\", \"x\" : \"2\", \"name\" : \"Chuck\" } , { \"id\" : \"009\", \"x\" : \"7\", \"name\" : \"Brent\" } ]/quotesingle.ts1/quotesingle.ts1/quotesingle.ts1 info =json.loads(data) print( /quotesingle.ts1User count:/quotesingle.ts1 , len(info)) for item ininfo: print( /quotesingle.ts1Name/quotesingle.ts1 , item[ /quotesingle.ts1name/quotesingle.ts1 ])\n"
     ]
    }
   ],
   "source": [
    "docs = v_store.similarity_search(query=question, k=TOP_K)\n",
    "\n",
    "pretty_print_docs(docs)"
   ]
  },
  {
   "cell_type": "markdown",
   "id": "62823cc9-c22e-4b68-b720-94f93858da8c",
   "metadata": {},
   "source": [
    "#### The same search using a Retriever\n",
    "* in a retriever you could plug post processing; for example: reranking"
   ]
  },
  {
   "cell_type": "code",
   "execution_count": 6,
   "id": "dbe656c1-0975-4896-9d59-02a8414519e2",
   "metadata": {},
   "outputs": [],
   "source": [
    "# This is the way to specify top_k\n",
    "retriever = v_store.as_retriever(search_kwargs={\"k\": TOP_K})"
   ]
  },
  {
   "cell_type": "code",
   "execution_count": 7,
   "id": "c6140212-d0a7-439f-9c7f-c0d8554aa102",
   "metadata": {},
   "outputs": [
    {
     "name": "stderr",
     "output_type": "stream",
     "text": [
      "2024-01-20 12:32:35,463 - INFO - top_k: 4\n",
      "2024-01-20 12:32:35,464 - INFO - \n",
      "2024-01-20 12:32:35,917 - INFO - select: select V.id, C.CHUNK, C.PAGE_NUM, \n",
      "                            ROUND(VECTOR_DISTANCE(V.VEC, :1, DOT), 3) as d,\n",
      "                            B.NAME \n",
      "                            from VECTORS V, CHUNKS C, BOOKS B\n",
      "                            where C.ID = V.ID and\n",
      "                            C.BOOK_ID = B.ID\n",
      "                            order by d\n",
      "                            FETCH FIRST 4 ROWS ONLY\n",
      "2024-01-20 12:32:36,188 - INFO - Query duration: 0.4 sec.\n"
     ]
    }
   ],
   "source": [
    "docs = retriever.get_relevant_documents(question)"
   ]
  },
  {
   "cell_type": "code",
   "execution_count": 8,
   "id": "c1658a1c-52f4-4622-a54b-6af6f3d189e8",
   "metadata": {
    "jupyter": {
     "source_hidden": true
    }
   },
   "outputs": [
    {
     "name": "stdout",
     "output_type": "stream",
     "text": [
      "Document 1:\n",
      "\n",
      "2 Application Development JSON JSON-Relational Duality JSON Relational Duality Views are fully updatable JSON views over relational data. Data is still stored in relational tables in a highly efficient normalized format but can be accessed by applications in the form of JSON documents. Duality views provide you with game-changing flexibility and simplicity by overcoming the historical challenges developers have faced when building applications using relational or document models. Related Resources View Documentation JSON Schema JSON Schema-based validation is allowed with the SQL condition IS JSON and with a PL/SQL utility function. A JSON schema is a JSON document that specifies allowed properties (field names) and the corresponding allowed data types, and whether they are optional or mandatory. By default, JSON data is schemaless, providing flexibility. However, you may want to ensure that your JSON data contains particular mandatory fixed structures and typing, besides other optional and flexible components, which can be done via JSON Schema validation. Related Resources View Documentation XML and JSON Search Index Enhancements The Oracle Text XML search index syntax and JSON search index syntax are now consistent. Additionally, the performance of JSON and XML search indexes has been improved. Using the same syntax for XML or JSON search indexes and better performance increase productivity. Related Resources View Documentation 2-1\n",
      "----------------------------------------------------------------------------------------------------\n",
      "Document 2:\n",
      "\n",
      "Contents 1 Introduction 2 Application Development JSON 2-1 JSON-Relational Duality 2-1 JSON Schema 2-1 XML and JSON Search Index Enhancements 2-1 Changes for JSON Search Index and Data Guide 2-2 DBMS_AQ Support for JSON Arrays 2-2 Enhancement to JSON_TRANSFORM 2-2 JSON Type Support for External Tables 2-3 JSON/JSON_VALUE will Convert PL/SQL Aggregate Type to/from JSON 2-3 JSON_ARRAY Constructor by Query 2-3 JSON_EXPRESSION_CHECK Parameter 2-3 New JSON Data Dictionary Views 2-4 ORDERED in JSON_SERIALIZE 2-4 Precheckable Constraints using JSON SCHEMA 2-4 Predicates for JSON_VALUE and JSON_QUERY 2-4 Tools to Migrate JSON Text Storage to JSON Type Storages 2-5 SQL 2-5 Application Usage Annotations 2-5 Direct Joins for UPDATE and DELETE Statements 2-5 IF [NOT] EXISTS Syntax Support 2-5 New Database Role for Application Developers 2-6 Aggregation over INTERVAL Data Types 2-6 Application Usage Domains 2-6 Automatic PL/SQL to SQL Transpiler 2-6 Client Describe Call Support for Tag Options 2-7 DEFAULT ON NULL for UPDATE Statements 2-7 DESCRIBE Now Supports Column Annotations 2-7 Error Improvement 2-7 Extended CASE Controls 2-8 iii\n",
      "----------------------------------------------------------------------------------------------------\n",
      "Document 3:\n",
      "\n",
      "See Also: •Oracle XML DB Developer’s Guide •Oracle XML Developer's Kit Programmer's Guide Overview of JSON in Oracle Database Oracle Database provides native support for JavaScript Object Notation (JSON) data, including querying and indexing. This section contains the following topics: •What Is JSON? •JSON and XML •Native Database Support for JSON •What Is JSON? JavaScript Object Notation (JSON) is a language-independent, text-based data format that can represent objects, arrays, and scalar data. A variety of programming languages can parse and generate JSON data. •JSON and XML Both JSON and XML are commonly used as data-interchange languages. Unlike relational data, both JSON data and XML data can be stored, indexed, and queried in the database without any schema that defines the data. •Native Database Support for JSON JSON is widely stored in noSQL databases that lack relational database features. In contrast, Oracle Database supports JSON natively with features such as transactions, indexing, declarative querying, and views. What Is JSON? JavaScript Object Notation (JSON) is a language-independent, text-based data format that can represent objects, arrays, and scalar data. A variety of programming languages can parse and generate JSON data. JSON commonly serves as a data-interchange language. It is often used for serializing structured data and exchanging it over a network, typically between a server and web applications. JSON is the dominant data format in web browsers that run applications written in HTML-embedded JavaScript. A JavaScript object is an associative array of zero or more pairs of property names and associated JSON values. A JSON object is a JavaScript object literal, which is written as a property list enclosed in braces, with name-value pairs separated by commas, and with the name and value of each pair separated by a colon. An object property is sometimes called a key. An object property name-value pair is sometimes called an object member .Chapter 22 Topics for Database Developers 22-17\n",
      "----------------------------------------------------------------------------------------------------\n",
      "Document 4:\n",
      "\n",
      "13.5. PARSING JSON 159 }, \"email\" : { \"hide\" :\"yes\" } } You will notice some diﬀerences. First, in XML, we can add attributes like “i ntl” to the “phone” tag. In JSON, we simply have key-value pairs. Also the XML “person” tag is gone, replaced by a set of outer curly braces. In general, JSON structures are simpler than XML because JSON has fewer capabilities than XML. But JSON has the advantage that it maps directly to some combination of dictionaries and lists. And since nearly all programming langua ges have something equivalent to Python’s dictionaries and lists, JSON is a very natural format to have two cooperating programs exchange data. JSON is quickly becoming the format of choice for nearly all data exchange between applications because of its relative simplicity compared to XML. 13.5 Parsing JSON We construct our JSON by nesting dictionaries and lists as needed. In this example, we represent a list of users where each user is a set of key-value pairs (i.e., a dictionary). So we have a list of dictionaries. In the following program, we use the built-in json library to parse the JSON and read through the data. Compare this closely to the equivalent XML data and code above. The JSON has less detail, so we must know in advance that we are getting a list and that the list is of users and each user is a set of key-value pairs. The JSON is more succinct (an advantage) but also is less self-describing (a disadvantage). import json data =/quotesingle.ts1/quotesingle.ts1/quotesingle.ts1 [ { \"id\" : \"001\", \"x\" : \"2\", \"name\" : \"Chuck\" } , { \"id\" : \"009\", \"x\" : \"7\", \"name\" : \"Brent\" } ]/quotesingle.ts1/quotesingle.ts1/quotesingle.ts1 info =json.loads(data) print( /quotesingle.ts1User count:/quotesingle.ts1 , len(info)) for item ininfo: print( /quotesingle.ts1Name/quotesingle.ts1 , item[ /quotesingle.ts1name/quotesingle.ts1 ])\n"
     ]
    }
   ],
   "source": [
    "pretty_print_docs(docs)"
   ]
  },
  {
   "cell_type": "markdown",
   "id": "1b8d2c3d-4fbc-4fc7-98c7-95ddbab9bff6",
   "metadata": {},
   "source": [
    "#### Build an entire RAG chain and answer to the question using a LLM"
   ]
  },
  {
   "cell_type": "code",
   "execution_count": 9,
   "id": "b439e7fe-b4ca-4c38-87b5-9d814a5e1d9a",
   "metadata": {},
   "outputs": [],
   "source": [
    "# using LangChain LCEL language\n",
    "rag_chain = (\n",
    "    {\"context\": retriever | format_docs, \"question\": RunnablePassthrough()}\n",
    "    | prompt\n",
    "    | llm\n",
    "    | StrOutputParser()\n",
    ")"
   ]
  },
  {
   "cell_type": "markdown",
   "id": "add26f9e-b8c2-43bb-973e-dfb4229ffa61",
   "metadata": {},
   "source": [
    "##### Answer to the question"
   ]
  },
  {
   "cell_type": "code",
   "execution_count": 11,
   "id": "3bcee297-8343-4a0d-ba34-f563608444b9",
   "metadata": {},
   "outputs": [
    {
     "name": "stderr",
     "output_type": "stream",
     "text": [
      "2024-01-20 12:35:17,379 - INFO - top_k: 4\n",
      "2024-01-20 12:35:17,383 - INFO - \n",
      "2024-01-20 12:35:17,912 - INFO - select: select V.id, C.CHUNK, C.PAGE_NUM, \n",
      "                            ROUND(VECTOR_DISTANCE(V.VEC, :1, DOT), 3) as d,\n",
      "                            B.NAME \n",
      "                            from VECTORS V, CHUNKS C, BOOKS B\n",
      "                            where C.ID = V.ID and\n",
      "                            C.BOOK_ID = B.ID\n",
      "                            order by d\n",
      "                            FETCH FIRST 4 ROWS ONLY\n",
      "2024-01-20 12:35:18,175 - INFO - Query duration: 0.4 sec.\n"
     ]
    },
    {
     "name": "stdout",
     "output_type": "stream",
     "text": [
      "Question: What is JSON Relational Duality?\n",
      "\n",
      " Here are 5 new features for JSON in Oracle Database 23c:\n",
      "\n",
      "1. JSON-Relational Duality: Developers can access and update JSON data as either JSON documents or relational tables, benefiting from the strengths of both.\n",
      "2. Operational Property Graphs in SQL: Developers can build real-time graph analysis applications against operational data directly in the Oracle Database, utilizing its industry-leading security, high availability, and performance capabilities.\n",
      "3. Microservice Support: Oracle Database 23c provides simplified cross-service transactions, making it easier to implement microservices.\n",
      "4. Lock-Free Column Value Reservations: Applications can reserve part of a value in a column without locking the row, allowing for more efficient operations on bank accounts, inventory, and other data.\n",
      "5. Native Database Support for JSON: Oracle Database supports JSON natively with features such as transactions, indexing, declarative querying, and views, making it easier to work with JSON data in a relational database.\n",
      "\n",
      "CPU times: user 61.9 ms, sys: 9.26 ms, total: 71.1 ms\n",
      "Wall time: 13.7 s\n"
     ]
    }
   ],
   "source": [
    "%%time\n",
    "answer = rag_chain.invoke(question)\n",
    "\n",
    "print(f\"Question: {question}\")\n",
    "print(\"\")\n",
    "print(answer)\n",
    "print(\"\")"
   ]
  },
  {
   "cell_type": "code",
   "execution_count": null,
   "id": "8f314e15-e71d-408e-a753-cc77e5c893b1",
   "metadata": {},
   "outputs": [],
   "source": []
  }
 ],
 "metadata": {
  "kernelspec": {
   "display_name": "Python 3 (ipykernel)",
   "language": "python",
   "name": "python3"
  },
  "language_info": {
   "codemirror_mode": {
    "name": "ipython",
    "version": 3
   },
   "file_extension": ".py",
   "mimetype": "text/x-python",
   "name": "python",
   "nbconvert_exporter": "python",
   "pygments_lexer": "ipython3",
   "version": "3.9.0"
  }
 },
 "nbformat": 4,
 "nbformat_minor": 5
}
