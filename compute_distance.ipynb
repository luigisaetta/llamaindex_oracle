{
 "cells": [
  {
   "cell_type": "code",
   "execution_count": 7,
   "id": "5fba2271-9069-4a0d-b1a6-d6cb78c2e93d",
   "metadata": {},
   "outputs": [],
   "source": [
    "import numpy as np\n",
    "import oci\n",
    "import ads\n",
    "\n",
    "# only\n",
    "from oci_utils import load_oci_config\n",
    "from ads.llm import GenerativeAIEmbeddings"
   ]
  },
  {
   "cell_type": "code",
   "execution_count": 4,
   "id": "c04760e9-450b-489a-9dac-60cc29d5d3ae",
   "metadata": {},
   "outputs": [],
   "source": [
    "from config import EMBED_MODEL\n",
    "from config_private import COMPARTMENT_OCID, ENDPOINT"
   ]
  },
  {
   "cell_type": "code",
   "execution_count": 24,
   "id": "19ff9376-c810-47c4-b2e7-dde03dc65c9f",
   "metadata": {},
   "outputs": [],
   "source": [
    "text1 = \"Fai un elenco degli algoritmi più moderni per l’ordinamento di un vettore?\"\n",
    "text2 = \"Gli algoritmi moderni per l’ordinamento di un vettore.\"\n",
    "text3 = \"Gli algorimi di sort sono: QuickSort, HeapSort, TimoSort\""
   ]
  },
  {
   "cell_type": "code",
   "execution_count": 19,
   "id": "dbff76e2-d439-452e-840a-8a97f1ba241b",
   "metadata": {},
   "outputs": [],
   "source": [
    "# setup\n",
    "oci_config = load_oci_config()\n",
    "\n",
    "# need to do this way\n",
    "api_keys_config = ads.auth.api_keys(oci_config)\n",
    "\n",
    "# english, or for other language use: multilingual\n",
    "\n",
    "embed_model = GenerativeAIEmbeddings(\n",
    "    compartment_id=COMPARTMENT_OCID,\n",
    "    model=EMBED_MODEL,\n",
    "    auth=ads.auth.api_keys(oci_config),\n",
    "    # Optionally you can specify keyword arguments for the OCI client, e.g. service_endpoint.\n",
    "    client_kwargs={\"service_endpoint\": ENDPOINT},\n",
    ")"
   ]
  },
  {
   "cell_type": "code",
   "execution_count": 25,
   "id": "26e1b397-0172-4b6e-8456-19e83959f010",
   "metadata": {},
   "outputs": [],
   "source": [
    "docs = [text1, text2, text3]\n",
    "\n",
    "np_vets = np.array(embed_model.embed_documents(docs))"
   ]
  },
  {
   "cell_type": "code",
   "execution_count": 26,
   "id": "3aa99290-dd8a-41f2-91f4-9a85742796ce",
   "metadata": {},
   "outputs": [
    {
     "data": {
      "text/plain": [
       "(3, 1024)"
      ]
     },
     "execution_count": 26,
     "metadata": {},
     "output_type": "execute_result"
    }
   ],
   "source": [
    "np_vets.shape"
   ]
  },
  {
   "cell_type": "code",
   "execution_count": 27,
   "id": "a2f8f26a-708d-4ac2-a4ad-363ee6a39a1a",
   "metadata": {},
   "outputs": [
    {
     "data": {
      "text/plain": [
       "0.9135836985749394"
      ]
     },
     "execution_count": 27,
     "metadata": {},
     "output_type": "execute_result"
    }
   ],
   "source": [
    "distance12 = np.dot(np_vets[0], np_vets[1].T)\n",
    "\n",
    "distance12"
   ]
  },
  {
   "cell_type": "code",
   "execution_count": 28,
   "id": "4d11e371-3b96-484b-b330-19e83e971b91",
   "metadata": {},
   "outputs": [
    {
     "data": {
      "text/plain": [
       "0.6478466719705018"
      ]
     },
     "execution_count": 28,
     "metadata": {},
     "output_type": "execute_result"
    }
   ],
   "source": [
    "distance13 = np.dot(np_vets[0], np_vets[2].T)\n",
    "\n",
    "distance13"
   ]
  },
  {
   "cell_type": "code",
   "execution_count": null,
   "id": "6c17299f-971b-4b16-bedd-efdc63a7ea2f",
   "metadata": {},
   "outputs": [],
   "source": []
  }
 ],
 "metadata": {
  "kernelspec": {
   "display_name": "Python 3 (ipykernel)",
   "language": "python",
   "name": "python3"
  },
  "language_info": {
   "codemirror_mode": {
    "name": "ipython",
    "version": 3
   },
   "file_extension": ".py",
   "mimetype": "text/x-python",
   "name": "python",
   "nbconvert_exporter": "python",
   "pygments_lexer": "ipython3",
   "version": "3.9.0"
  }
 },
 "nbformat": 4,
 "nbformat_minor": 5
}
