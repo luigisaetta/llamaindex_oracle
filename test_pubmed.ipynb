{
 "cells": [
  {
   "cell_type": "markdown",
   "id": "5cbcb767-0dc1-492c-9825-b0eff269f6ad",
   "metadata": {},
   "source": [
    "### Test with PubMed"
   ]
  },
  {
   "cell_type": "code",
   "execution_count": 5,
   "id": "426b55e4-8f92-4537-8893-59b296ae8b42",
   "metadata": {},
   "outputs": [],
   "source": [
    "from llama_index import download_loader\n",
    "from llama_index.node_parser import SimpleNodeParser"
   ]
  },
  {
   "cell_type": "code",
   "execution_count": 2,
   "id": "47fe9691-2d81-4581-bc65-9df5ef94e167",
   "metadata": {},
   "outputs": [],
   "source": [
    "PubmedReader = download_loader(\"PubmedReader\")"
   ]
  },
  {
   "cell_type": "code",
   "execution_count": 35,
   "id": "31be1428-2343-47ea-ad1a-aa5fdbb63e58",
   "metadata": {},
   "outputs": [
    {
     "name": "stdout",
     "output_type": "stream",
     "text": [
      "https://eutils.ncbi.nlm.nih.gov/entrez/eutils/efetch.fcgi?id=10758328&db=pmc\n",
      "https://eutils.ncbi.nlm.nih.gov/entrez/eutils/efetch.fcgi?id=10758322&db=pmc\n",
      "https://eutils.ncbi.nlm.nih.gov/entrez/eutils/efetch.fcgi?id=10758305&db=pmc\n",
      "https://eutils.ncbi.nlm.nih.gov/entrez/eutils/efetch.fcgi?id=10758208&db=pmc\n",
      "https://eutils.ncbi.nlm.nih.gov/entrez/eutils/efetch.fcgi?id=10758186&db=pmc\n",
      "https://eutils.ncbi.nlm.nih.gov/entrez/eutils/efetch.fcgi?id=10758180&db=pmc\n",
      "https://eutils.ncbi.nlm.nih.gov/entrez/eutils/efetch.fcgi?id=10758165&db=pmc\n",
      "https://eutils.ncbi.nlm.nih.gov/entrez/eutils/efetch.fcgi?id=10758154&db=pmc\n",
      "https://eutils.ncbi.nlm.nih.gov/entrez/eutils/efetch.fcgi?id=10758146&db=pmc\n",
      "https://eutils.ncbi.nlm.nih.gov/entrez/eutils/efetch.fcgi?id=10758133&db=pmc\n",
      "https://eutils.ncbi.nlm.nih.gov/entrez/eutils/efetch.fcgi?id=10758106&db=pmc\n",
      "https://eutils.ncbi.nlm.nih.gov/entrez/eutils/efetch.fcgi?id=10758075&db=pmc\n",
      "https://eutils.ncbi.nlm.nih.gov/entrez/eutils/efetch.fcgi?id=10758064&db=pmc\n",
      "https://eutils.ncbi.nlm.nih.gov/entrez/eutils/efetch.fcgi?id=10758058&db=pmc\n",
      "https://eutils.ncbi.nlm.nih.gov/entrez/eutils/efetch.fcgi?id=10758054&db=pmc\n"
     ]
    }
   ],
   "source": [
    "loader = PubmedReader()\n",
    "documents = loader.load_data(search_query=\"covid\", max_results=15)"
   ]
  },
  {
   "cell_type": "code",
   "execution_count": 36,
   "id": "73417fd8-a67f-487d-a342-192cfd9ac7f3",
   "metadata": {},
   "outputs": [],
   "source": [
    "node_parser = SimpleNodeParser.from_defaults(chunk_size=256)\n",
    "nodes = node_parser.get_nodes_from_documents(documents)"
   ]
  },
  {
   "cell_type": "code",
   "execution_count": 37,
   "id": "0dd22f51-d119-4ada-9e6d-e1a282ac6643",
   "metadata": {},
   "outputs": [
    {
     "data": {
      "text/plain": [
       "20524"
      ]
     },
     "execution_count": 37,
     "metadata": {},
     "output_type": "execute_result"
    }
   ],
   "source": [
    "len(nodes)"
   ]
  },
  {
   "cell_type": "code",
   "execution_count": 38,
   "id": "5443ba1c-1475-4eed-8f7c-174845a0ee06",
   "metadata": {},
   "outputs": [
    {
     "data": {
      "text/plain": [
       "TextNode(id_='f157e2f6-df70-4874-a210-56b975100254', embedding=None, metadata={'Title of this paper': 'Sleep, pain catastrophizing, and central sensitization in knee osteoarthritis patients with and without insomnia', 'Journal it was published in:': 'Psychiatry Investigation', 'URL': 'https://www.ncbi.nlm.nih.gov/pmc/articles/PMC10758328/'}, excluded_embed_metadata_keys=[], excluded_llm_metadata_keys=[], relationships={<NodeRelationship.SOURCE: '1'>: RelatedNodeInfo(node_id='7e1b9c1a-f9d9-434d-81d3-8812fc787f47', node_type=<ObjectType.DOCUMENT: '4'>, metadata={'Title of this paper': 'Sleep, pain catastrophizing, and central sensitization in knee osteoarthritis patients with and without insomnia', 'Journal it was published in:': 'Psychiatry Investigation', 'URL': 'https://www.ncbi.nlm.nih.gov/pmc/articles/PMC10758328/'}, hash='fcbc71cf14ed2980e575d45d9d65ef5e9740c71a4f69c4cc6be5f547dde47e2f'), <NodeRelationship.PREVIOUS: '2'>: RelatedNodeInfo(node_id='3dd93498-dd42-4ddf-9a6e-8cb1b0dbf692', node_type=<ObjectType.TEXT: '1'>, metadata={'Title of this paper': 'Sleep, pain catastrophizing, and central sensitization in knee osteoarthritis patients with and without insomnia', 'Journal it was published in:': 'Psychiatry Investigation', 'URL': 'https://www.ncbi.nlm.nih.gov/pmc/articles/PMC10758328/'}, hash='74a9456ccf5ec8492b61a5eceb8dffaf55cd68c617cddbb889d3c3476b3facdf'), <NodeRelationship.NEXT: '3'>: RelatedNodeInfo(node_id='a60395e0-c947-4a69-8454-03c042f41c07', node_type=<ObjectType.TEXT: '1'>, metadata={}, hash='c647f725a7620f80325a32da6fc4aab10fb64bd06f3077bfc9a4ef876fa32a0e')}, hash='2683f38b99b4787c7555efb36c024fdf0b3df162ffb1f4962438010a9e7ed814', text='of life in cancer survivors Support Care Cancer 2019 27 933 941 30088138  12   Lee J Youn S Kim C Yeo S Chung S The influence of sleep disturbance and cognitive emotion regulation strategies on depressive symptoms in breast cancer patients Sleep Med Res 2019 10 36 42  13  Budimir S Probst T Pieh C Coping strategies and mental health during COVID-19 lockdown J Ment Health 2021 30 156 163 33502917  14   Vintila M Tudorel OI Stefanut A Ivanoff A Bucur V Emotional distress and coping strategies in COVID-19 anxiety Curr Psychol 2023 42 17503 17512  15   Brehl A Schene A Kohn N Fernández G Schene A Kohn N Maladaptive emotion regulation strategies in a vulnerable population predict increased anxiety during the Covid-19 pandemic: a pseudo-prospective', start_char_idx=15663, end_char_idx=16415, text_template='{metadata_str}\\n\\n{content}', metadata_template='{key}: {value}', metadata_seperator='\\n')"
      ]
     },
     "execution_count": 38,
     "metadata": {},
     "output_type": "execute_result"
    }
   ],
   "source": [
    "nodes[200]"
   ]
  },
  {
   "cell_type": "code",
   "execution_count": null,
   "id": "023c83f1-7e25-4fb4-967d-18fa317ee5b5",
   "metadata": {},
   "outputs": [],
   "source": []
  }
 ],
 "metadata": {
  "kernelspec": {
   "display_name": "Python 3 (ipykernel)",
   "language": "python",
   "name": "python3"
  },
  "language_info": {
   "codemirror_mode": {
    "name": "ipython",
    "version": 3
   },
   "file_extension": ".py",
   "mimetype": "text/x-python",
   "name": "python",
   "nbconvert_exporter": "python",
   "pygments_lexer": "ipython3",
   "version": "3.9.0"
  }
 },
 "nbformat": 4,
 "nbformat_minor": 5
}
