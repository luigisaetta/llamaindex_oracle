{
 "cells": [
  {
   "cell_type": "markdown",
   "id": "9c0e01ec-9c28-49df-b0c5-7e90bf6abe0e",
   "metadata": {},
   "source": [
    "### Oracle Vector DB wrapped as a llama-index custom Vector Store\n",
    "\n",
    "* ispired by: https://docs.llamaindex.ai/en/stable/examples/low_level/vector_store.html"
   ]
  },
  {
   "cell_type": "code",
   "execution_count": 1,
   "id": "885d648a-548b-4f1e-930f-2d102f7d8f16",
   "metadata": {},
   "outputs": [],
   "source": [
    "import logging\n",
    "import sys\n",
    "\n",
    "from typing import List, Any, Optional, Dict, Tuple\n",
    "from llama_index.vector_stores.types import (\n",
    "    VectorStore,\n",
    "    VectorStoreQuery,\n",
    "    VectorStoreQueryResult,\n",
    ")\n",
    "from llama_index import StorageContext, VectorStoreIndex, ServiceContext\n",
    "from llama_index.schema import TextNode, BaseNode, Document\n",
    "\n",
    "import oci\n",
    "import ads\n",
    "\n",
    "# only\n",
    "import oracledb\n",
    "from oci_utils import load_oci_config\n",
    "from ads.llm import GenerativeAIEmbeddings, GenerativeAI\n",
    "from oracle_vector_db import OracleVectorStore\n",
    "\n",
    "from config import EMBED_MODEL\n",
    "from config_private import COMPARTMENT_OCID, ENDPOINT"
   ]
  },
  {
   "cell_type": "code",
   "execution_count": 2,
   "id": "3504c89a-fe91-40bd-b453-29d9ab2ed2ef",
   "metadata": {},
   "outputs": [
    {
     "name": "stdout",
     "output_type": "stream",
     "text": [
      "oracledb version: 2.0.0.dev20231121\n",
      "oci version: 2.112.1+preview.1.1649\n"
     ]
    }
   ],
   "source": [
    "# version I'm using\n",
    "print(f\"oracledb version: {oracledb.__version__}\")\n",
    "print(f\"oci version: {oci.__version__}\")"
   ]
  },
  {
   "cell_type": "code",
   "execution_count": 3,
   "id": "3cf2241f-f99c-4ce0-b3f5-cb176858840f",
   "metadata": {},
   "outputs": [],
   "source": [
    "# for debugging\n",
    "# logging.basicConfig(stream=sys.stdout, level=logging.DEBUG)\n",
    "# logging.getLogger().addHandler(logging.StreamHandler(stream=sys.stdout))"
   ]
  },
  {
   "cell_type": "code",
   "execution_count": 4,
   "id": "77816119-932c-4e18-8011-1e3b02503120",
   "metadata": {},
   "outputs": [],
   "source": [
    "# setup\n",
    "oci_config = load_oci_config()\n",
    "\n",
    "# need to do this way\n",
    "api_keys_config = ads.auth.api_keys(oci_config)\n",
    "\n",
    "# english, or for other language use: multilingual\n",
    "\n",
    "embed_model = GenerativeAIEmbeddings(\n",
    "    compartment_id=COMPARTMENT_OCID,\n",
    "    model=EMBED_MODEL,\n",
    "    auth=ads.auth.api_keys(oci_config),\n",
    "    # Optionally you can specify keyword arguments for the OCI client, e.g. service_endpoint.\n",
    "    client_kwargs={\"service_endpoint\": ENDPOINT},\n",
    ")"
   ]
  },
  {
   "cell_type": "markdown",
   "id": "98531d22-fc7d-4575-965a-8b6685bdc7f2",
   "metadata": {},
   "source": [
    "#### Using the wrapper for the DB Vector Store"
   ]
  },
  {
   "cell_type": "code",
   "execution_count": 5,
   "id": "d0ce2a88-8950-4c7a-ab67-6bca8d1ac431",
   "metadata": {},
   "outputs": [],
   "source": [
    "v_store = OracleVectorStore(verbose=True)"
   ]
  },
  {
   "cell_type": "code",
   "execution_count": 6,
   "id": "a113f279-17d2-48f4-b8b5-22cf383908fd",
   "metadata": {},
   "outputs": [],
   "source": [
    "question = (\n",
    "    \"What is JSON Relational Duality in Oracle Database 23c? Explain with details\"\n",
    ")"
   ]
  },
  {
   "cell_type": "code",
   "execution_count": 7,
   "id": "47efc350-857f-42dd-b5ee-8a1ccfbfff4c",
   "metadata": {},
   "outputs": [],
   "source": [
    "# embed the query using OCI GenAI\n",
    "query_embedding = embed_model.embed_documents([question])[0]\n",
    "\n",
    "#  wrap in llama-index\n",
    "query_obj = VectorStoreQuery(query_embedding=query_embedding, similarity_top_k=6)"
   ]
  },
  {
   "cell_type": "markdown",
   "id": "48309d0a-c4cc-404c-802f-0ee66f9df319",
   "metadata": {},
   "source": [
    "#### Use our Vector Store DB"
   ]
  },
  {
   "cell_type": "code",
   "execution_count": 8,
   "id": "dddc851e-3f74-4ad2-8c41-78a1aa2e8781",
   "metadata": {},
   "outputs": [
    {
     "name": "stderr",
     "output_type": "stream",
     "text": [
      "2023-12-23 12:54:18,955 - INFO - ---> Calling query on DB\n",
      "2023-12-23 12:54:19,182 - INFO - select: select V.id, C.CHUNK, C.PAGE_NUM, \n",
      "                            ROUND(VECTOR_DISTANCE(V.VEC, :1, DOT), 3) as d \n",
      "                            from VECTORS V, CHUNKS C\n",
      "                            where C.ID = V.ID\n",
      "                            order by d\n",
      "                            FETCH FIRST 6 ROWS ONLY\n",
      "2023-12-23 12:54:19,482 - INFO - Query duration: 0.5 sec.\n"
     ]
    },
    {
     "name": "stdout",
     "output_type": "stream",
     "text": [
      "CPU times: user 22.2 ms, sys: 6.52 ms, total: 28.7 ms\n",
      "Wall time: 529 ms\n"
     ]
    }
   ],
   "source": [
    "%%time\n",
    "\n",
    "q_result = v_store.query(query_obj)"
   ]
  },
  {
   "cell_type": "code",
   "execution_count": 9,
   "id": "7331d22c-0555-4a51-ac01-a2b595a15c5a",
   "metadata": {},
   "outputs": [
    {
     "name": "stdout",
     "output_type": "stream",
     "text": [
      "Dod. id: abc7952c8991ff8be803eb97c2b1d5ba29e07996592b4fb31ebaa1bbdcf81e0f\n",
      "Similarity: 0.557\n",
      "Oracle® Database Oracle Database New Features Release 23c F48428-15 October 2023 \n",
      "\n",
      "Dod. id: fe036f82288fa16221c21ba603e60ad35ae556abfa3d35bed5fe1d360ee4786d\n",
      "Similarity: 0.547\n",
      "Contents Preface Audience xxiii Documentation Accessibility xxiii Related Documentation xxiv Conventions xxiv 1 Introduction to Oracle Database About Relational Databases 1-1 Database Management System (DBMS) 1-2 Relational Model 1-2 Relational Database Management System (RDBMS) 1-3 Brief History of Oracle Database 1-3 Schema Objects 1-5 Tables 1-5 Indexes 1-6 Data Access 1-6 Structured Query Language (SQL) 1-6 PL/SQL, Java, and JavaScript 1-7 Transaction Management 1-8 Transactions 1-8 Data Concurrency 1-8 Data Consistency 1-9 Oracle Database Architecture 1-9 Database and Instance 1-10 Multitenant Architecture 1-10 Sharding Architecture 1-14 Database Storage Structures 1-15 Physical Storage Structures 1-15 Logical Storage Structures 1-16 Database Instance Structures 1-17 Oracle Database Processes 1-17 Instance Memory Structures 1-18 iii\n",
      "\n",
      "Dod. id: 73907407cf501508e11ebda8d4c2c18258567b57a2954ae4111beb7c440ddea4\n",
      "Similarity: 0.53\n",
      "learn and to use. The following table describes further differences between JSON and XML. Table 22-2 Differences Between JSON and XML Feature JSON XML Useful for simple, structured data Yes Yes, but also supports semistructured data and complex structured data Useful for mixed content No Yes Lacks attributes, namespaces, inheritance, and substitutionYes No Places importance on ordering No Yes Primarily intended for documents rather than data No Yes Includes a date data type No Yes Note: Oracle Database JSON Developer’s Guide for a more comprehensive comparison of XML and JSON Native Database Support for JSON JSON is widely stored in noSQL databases that lack relational database features. In contrast, Oracle Database supports JSON natively with features such as transactions, indexing, declarative querying, and views. You can access JSON data stored in the database the same way you access other database data, including using OCI, .NET, and JDBC. The preferred way to store JSON data is using the JSON data type, which is a proprietary binary format optimized for query and DML processing. You can use the JSON data type in most places where a SQL data type is allowed, including a column type or parameter type for a PL/SQL program unit. By using Oracle SQL, you can perform the operations such as the following on JSON data: •Join JSON data with non-JSON relational data. •Generate JSON document from relational data using SQL functions json_object and json_array . •Project JSON data into a relational format by using the SQL function json_table . •Create a check constraint with is_json to enforce JSON data in a column. The database uses the check constraint to confirm that the column is JSON for JSON-specific operations such as simplified syntax. •Manipulate JSON documents as PL/SQL objects. •Use SQL functions json_query and json_value to accept an Oracle JSON path expression as an argument and match it against the target JSON data. •Index JSON data. •Query JSON data stored in an external table. •Replicate tables with columns containing JSON data using Oracle GoldenGate.Chapter 22 Topics for Database Developers 22-19\n",
      "\n",
      "Dod. id: bfbaa15634643a2aac6e77b85a4f8a335eba697d741aaaa3646bdfb07fa3ba22\n",
      "Similarity: 0.526\n",
      "2 Application Development JSON JSON-Relational Duality JSON Relational Duality Views are fully updatable JSON views over relational data. Data is still stored in relational tables in a highly efficient normalized format but can be accessed by applications in the form of JSON documents. Duality views provide you with game-changing flexibility and simplicity by overcoming the historical challenges developers have faced when building applications using relational or document models. Related Resources View Documentation JSON Schema JSON Schema-based validation is allowed with the SQL condition IS JSON and with a PL/SQL utility function. A JSON schema is a JSON document that specifies allowed properties (field names) and the corresponding allowed data types, and whether they are optional or mandatory. By default, JSON data is schemaless, providing flexibility. However, you may want to ensure that your JSON data contains particular mandatory fixed structures and typing, besides other optional and flexible components, which can be done via JSON Schema validation. Related Resources View Documentation XML and JSON Search Index Enhancements The Oracle Text XML search index syntax and JSON search index syntax are now consistent. Additionally, the performance of JSON and XML search indexes has been improved. Using the same syntax for XML or JSON search indexes and better performance increase productivity. Related Resources View Documentation 2-1\n",
      "\n",
      "Dod. id: f2484fd0eb62c923ac9afcacc5569521edaf8a9127de9e2cdc4a7cafca9aa9d1\n",
      "Similarity: 0.5\n",
      "22 Concepts for Database Developers Duties of Database Developers 22-1 Tools for Database Developers 22-2 SQL Developer 22-2 Oracle Application Express 22-3 Oracle JDeveloper 22-3 Oracle Developer Tools for Visual Studio .NET 22-4 Topics for Database Developers 22-4 Principles of Application Design and Tuning 22-4 Client-Side Database Programming 22-6 Embedded SQL 22-6 Client-Side APIs 22-9 Globalization Support 22-11 Globalization Support Environment 22-12 Oracle Globalization Development Kit 22-15 Unstructured Data 22-15 Overview of XML in Oracle Database 22-16 Overview of JSON in Oracle Database 22-17 Overview of LOBs 22-20 Overview of Oracle Text 22-22 Overview of Oracle Spatial and Graph 22-23 Overview of SQL Property Graphs 22-23 Glossary Index xxii\n",
      "\n",
      "Dod. id: e5f3d3e2edab09990f486ec61b391522d0c5f5796db4b24d4ae81ddf1301b57c\n",
      "Similarity: 0.481\n",
      "Part V Oracle Database Storage Structures This part describes the basic structural architecture of the Oracle database, including logical and physical storage structures. •Physical Storage Structures The physical database structures of an Oracle database are viewable at the operating system level. •Logical Storage Structures This chapter describes the nature of and relationships among logical storage structures. These structures are created and recognized by Oracle Database and are not known to the operating system. \n",
      "\n"
     ]
    }
   ],
   "source": [
    "for n, id, sim in zip(q_result.nodes, q_result.ids, q_result.similarities):\n",
    "    print(f\"Dod. id: {id}\")\n",
    "    print(f\"Similarity: {-sim}\")\n",
    "    print(n.text)\n",
    "    print(\"\")"
   ]
  },
  {
   "cell_type": "markdown",
   "id": "e811a520-bef5-4070-acaa-f5e4cf45d989",
   "metadata": {},
   "source": [
    "#### Integrate in the bigger RAG picture"
   ]
  },
  {
   "cell_type": "code",
   "execution_count": 10,
   "id": "bf6b6e81-aaaa-4449-9108-60dae04986d2",
   "metadata": {},
   "outputs": [],
   "source": [
    "llm_oci = GenerativeAI(\n",
    "    compartment_id=COMPARTMENT_OCID,\n",
    "    max_tokens=1024,\n",
    "    # Optionally you can specify keyword arguments for the OCI client, e.g. service_endpoint.\n",
    "    client_kwargs={\"service_endpoint\": ENDPOINT},\n",
    ")"
   ]
  },
  {
   "cell_type": "code",
   "execution_count": 11,
   "id": "436f3ed2-5968-4ec5-ad97-c7ad3578e92a",
   "metadata": {},
   "outputs": [],
   "source": [
    "service_context = ServiceContext.from_defaults(llm=llm_oci, embed_model=embed_model)"
   ]
  },
  {
   "cell_type": "code",
   "execution_count": 12,
   "id": "32afd90b-67d7-417e-9d0a-d83e445a3d36",
   "metadata": {},
   "outputs": [],
   "source": [
    "index = VectorStoreIndex.from_vector_store(\n",
    "    vector_store=v_store, service_context=service_context\n",
    ")"
   ]
  },
  {
   "cell_type": "code",
   "execution_count": 13,
   "id": "88375ce0-16b1-44b6-80ee-3ca17c2a5332",
   "metadata": {},
   "outputs": [],
   "source": [
    "query_engine = index.as_query_engine(similarity_top_k=5)"
   ]
  },
  {
   "cell_type": "code",
   "execution_count": 14,
   "id": "bab5a533-2d39-4b9a-9347-e23823a8925b",
   "metadata": {},
   "outputs": [
    {
     "name": "stderr",
     "output_type": "stream",
     "text": [
      "2023-12-23 12:54:20,817 - INFO - ---> Calling query on DB\n",
      "2023-12-23 12:54:20,989 - INFO - select: select V.id, C.CHUNK, C.PAGE_NUM, \n",
      "                            ROUND(VECTOR_DISTANCE(V.VEC, :1, DOT), 3) as d \n",
      "                            from VECTORS V, CHUNKS C\n",
      "                            where C.ID = V.ID\n",
      "                            order by d\n",
      "                            FETCH FIRST 5 ROWS ONLY\n",
      "2023-12-23 12:54:21,260 - INFO - Query duration: 0.4 sec.\n"
     ]
    },
    {
     "name": "stdout",
     "output_type": "stream",
     "text": [
      "Question: What is JSON Relational Duality in Oracle Database 23c? Explain with details\n",
      "JSON Relational Duality is a feature of the Oracle Database 23c that allows you to store data in a normalized relational format while providing flexible and simple access to applications in the form of JSON documents. Here's a detailed explanation:\n",
      "\n",
      "Traditional relational databases store data in tables with rows and columns, following a structured and normalized format. While this approach excels at handling structured data, it can pose challenges when dealing with semi-structured or unstructured data like JSON.\n",
      "\n",
      "JSON Relational Duality in Oracle Database 23c offers a solution by allowing you to create \"Duality Views.\" These views present relational data stored in tables as JSON documents, providing a document-oriented interface to applications. The key advantage is that you get the best of both worlds: the efficient storage and querying capabilities of a relational database, along with the flexibility and ease of use of JSON documents.\n",
      "\n",
      "Here's a step-by-step explanation of how JSON Relational Duality works:\n",
      "\n",
      "1. **Data Storage**: Data is still stored in highly efficient, normalized relational tables within the database. These tables can be queried and manipulated using standard relational SQL operations, ensuring data integrity and performance.\n",
      "\n",
      "2. **JSON Duality Views**: You create Duality Views over the relational data, which present the data in a JSON format. These views are fully updatable, meaning any changes made to the underlying relational data are immediately reflected in the JSON documents presented by the view.\n",
      "\n",
      "3. **JSON Querying**: Applications can interact with the JSON documents in the Duality Views using JSON querying syntax. This allows developers to work with JSON data using a document-oriented approach, leveraging features like nested data and ease of data manipulation in JSON.\n",
      "\n",
      "4. **JSON Schema Validation**: If desired, you can enforce a JSON schema on the Duality Views, ensuring that the presented JSON data adheres to a specific structure and data types. This can be useful when working with JSON data that has a fixed structure.\n",
      "\n",
      "5. **Performance Optimization**: The Oracle Database 23c is optimized for JSON processing, allowing for efficient storage, querying, and indexing of JSON data. This means that you can work with JSON documents at scale without sacrificing performance.\n",
      "\n",
      "Here are some additional details and tips for working with JSON Relational Duality:\n",
      "\n",
      "- **JSON Data Types**: Oracle Database 23c introduces specific data types for JSON, such as JSONObject and JSONArray, which allow you to work with JSON data in a more structured manner.\n",
      "\n",
      "- **JSON Functions**: The database provides a set of functions for working with JSON, including JSON querying functions, JSON validation functions, and functions to convert between JSON and relational formats.\n",
      "\n",
      "- **Indexing**: You can create indexes on JSON data in Duality Views to improve query performance, allowing for efficient retrieval of JSON documents based on specific criteria.\n",
      "\n",
      "- **Transaction Support**: JSON data in Duality Views benefits from the underlying relational database's transaction support, ensuring data consistency and integrity.\n",
      "\n",
      "In summary, JSON Relational Duality in Oracle Database 23c offers a powerful way to bridge the gap between relational and document-oriented databases, providing flexibility and simplicity in application development while maintaining the benefits of a structured, relational database foundation. \n",
      "\n",
      "Would you like me to provide more details or explain any of the steps in further depth? \n",
      "\n",
      "CPU times: user 78.2 ms, sys: 8.85 ms, total: 87 ms\n",
      "Wall time: 24.2 s\n"
     ]
    }
   ],
   "source": [
    "%%time\n",
    "\n",
    "response = query_engine.query(question)\n",
    "\n",
    "print(f\"Question: {question}\")\n",
    "print(response.response)\n",
    "print(\"\")"
   ]
  },
  {
   "cell_type": "markdown",
   "id": "bc61dbc5-49c4-4aa5-9e8a-c402134c9854",
   "metadata": {},
   "source": [
    "#### Additional tests"
   ]
  },
  {
   "cell_type": "code",
   "execution_count": null,
   "id": "0472406f-5479-4691-8bbc-a5d488cdb8c1",
   "metadata": {},
   "outputs": [],
   "source": []
  }
 ],
 "metadata": {
  "kernelspec": {
   "display_name": "Python 3 (ipykernel)",
   "language": "python",
   "name": "python3"
  },
  "language_info": {
   "codemirror_mode": {
    "name": "ipython",
    "version": 3
   },
   "file_extension": ".py",
   "mimetype": "text/x-python",
   "name": "python",
   "nbconvert_exporter": "python",
   "pygments_lexer": "ipython3",
   "version": "3.9.0"
  }
 },
 "nbformat": 4,
 "nbformat_minor": 5
}
