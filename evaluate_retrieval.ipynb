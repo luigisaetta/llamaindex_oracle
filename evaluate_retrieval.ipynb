{
 "cells": [
  {
   "cell_type": "markdown",
   "id": "840266dc-0ddc-47b8-99a7-74b04ef0acc5",
   "metadata": {},
   "source": [
    "### Evaluate Retrieval\n",
    "* modified using **OCI Data Science Model Deployment**\n",
    "* inspired by: https://docs.llamaindex.ai/en/stable/examples/evaluation/retrieval/retriever_eval.html\n",
    "* https://blog.llamaindex.ai/boosting-rag-picking-the-best-embedding-reranker-models-42d079022e83"
   ]
  },
  {
   "cell_type": "code",
   "execution_count": 1,
   "id": "d824c1f5-6ead-4934-a75e-d2697fac0d97",
   "metadata": {},
   "outputs": [],
   "source": [
    "from typing import Any\n",
    "\n",
    "from llama_index import VectorStoreIndex, SimpleDirectoryReader, ServiceContext\n",
    "from llama_index.node_parser import SimpleNodeParser\n",
    "\n",
    "# LLM\n",
    "from llama_index.llms import MistralAI\n",
    "\n",
    "\n",
    "# Retrievers\n",
    "from llama_index.retrievers import (\n",
    "    BaseRetriever,\n",
    "    VectorIndexRetriever,\n",
    ")\n",
    "\n",
    "from llama_index.indices.query.schema import QueryBundle, QueryType\n",
    "from llama_index.schema import NodeWithScore\n",
    "\n",
    "# Evaluator\n",
    "from llama_index.evaluation import (\n",
    "    generate_question_context_pairs,\n",
    "    EmbeddingQAFinetuneDataset,\n",
    ")\n",
    "from llama_index.evaluation import RetrieverEvaluator\n",
    "\n",
    "import ads\n",
    "\n",
    "from oci_utils import load_oci_config\n",
    "\n",
    "# rerankers\n",
    "from llama_index.postprocessor.cohere_rerank import CohereRerank\n",
    "from oci_baai_reranker import OCIBAAIReranker\n",
    "from oci_llama_reranker import OCILLamaReranker\n",
    "\n",
    "# Embeddings\n",
    "from ads.llm import GenerativeAIEmbeddings, GenerativeAI\n",
    "\n",
    "from typing import List\n",
    "import pandas as pd"
   ]
  },
  {
   "cell_type": "code",
   "execution_count": 2,
   "id": "c6fe379b-0479-4c4f-8197-00c34eca899b",
   "metadata": {},
   "outputs": [],
   "source": [
    "from config_private import COHERE_API_KEY, MISTRAL_API_KEY, COMPARTMENT_OCID, ENDPOINT\n",
    "from config import EMBED_MODEL, RERANKER_ID"
   ]
  },
  {
   "cell_type": "code",
   "execution_count": 3,
   "id": "2b52233a-6e3d-4c15-a431-e2baa2c74695",
   "metadata": {},
   "outputs": [],
   "source": [
    "documents = SimpleDirectoryReader(input_files=[\"database-concepts.pdf\"]).load_data()"
   ]
  },
  {
   "cell_type": "code",
   "execution_count": 4,
   "id": "a4ce5015-1dbe-4de1-8b07-c18133b5ce5d",
   "metadata": {},
   "outputs": [],
   "source": [
    "# with this doc should be max 35\n",
    "N_PAGES = 100\n",
    "OFFSET = 30\n",
    "\n",
    "node_parser = SimpleNodeParser.from_defaults(chunk_size=512)\n",
    "nodes = node_parser.get_nodes_from_documents(documents[OFFSET : N_PAGES + OFFSET])"
   ]
  },
  {
   "cell_type": "code",
   "execution_count": 5,
   "id": "11ef98f1-1317-409f-aa3d-4e67e6e1547a",
   "metadata": {},
   "outputs": [],
   "source": [
    "# Prompt to generate questions\n",
    "qa_generate_prompt_tmpl = \"\"\"\\\n",
    "Context information is below.\n",
    "\n",
    "---------------------\n",
    "{context_str}\n",
    "---------------------\n",
    "\n",
    "Given the context information and not prior knowledge.\n",
    "generate only questions based on the below query.\n",
    "\n",
    "You are a Professor. Your task is to setup \\\n",
    "{num_questions_per_chunk} questions for an upcoming \\\n",
    "quiz/examination. The questions should be diverse in nature \\\n",
    "across the document. The questions should not contain options, not start with Q1/ Q2. \\\n",
    "Restrict the questions to the context information provided.\\\n",
    "\"\"\""
   ]
  },
  {
   "cell_type": "code",
   "execution_count": 6,
   "id": "2396bd12-c667-4140-9767-62b8f4c5d2f5",
   "metadata": {},
   "outputs": [],
   "source": [
    "# function to clean the dataset\n",
    "def filter_qa_dataset(qa_dataset):\n",
    "    \"\"\"\n",
    "    Filters out queries from the qa_dataset that contain certain phrases and the corresponding\n",
    "    entries in the relevant_docs, and creates a new EmbeddingQAFinetuneDataset object with\n",
    "    the filtered data.\n",
    "\n",
    "    :param qa_dataset: An object that has 'queries', 'corpus', and 'relevant_docs' attributes.\n",
    "    :return: An EmbeddingQAFinetuneDataset object with the filtered queries, corpus and relevant_docs.\n",
    "    \"\"\"\n",
    "\n",
    "    # Extract keys from queries and relevant_docs that need to be removed\n",
    "    queries_relevant_docs_keys_to_remove = {\n",
    "        k\n",
    "        for k, v in qa_dataset.queries.items()\n",
    "        if \"Here are 2\" in v or \"Here are two\" in v\n",
    "    }\n",
    "\n",
    "    # Filter queries and relevant_docs using dictionary comprehensions\n",
    "    filtered_queries = {\n",
    "        k: v\n",
    "        for k, v in qa_dataset.queries.items()\n",
    "        if k not in queries_relevant_docs_keys_to_remove\n",
    "    }\n",
    "    filtered_relevant_docs = {\n",
    "        k: v\n",
    "        for k, v in qa_dataset.relevant_docs.items()\n",
    "        if k not in queries_relevant_docs_keys_to_remove\n",
    "    }\n",
    "\n",
    "    # Create a new instance of EmbeddingQAFinetuneDataset with the filtered data\n",
    "    return EmbeddingQAFinetuneDataset(\n",
    "        queries=filtered_queries,\n",
    "        corpus=qa_dataset.corpus,\n",
    "        relevant_docs=filtered_relevant_docs,\n",
    "    )"
   ]
  },
  {
   "cell_type": "code",
   "execution_count": 7,
   "id": "18d16d0c-0ed6-457b-8015-30d0dc8551de",
   "metadata": {},
   "outputs": [
    {
     "name": "stderr",
     "output_type": "stream",
     "text": [
      "100%|████████████████████████████████████████████████████████████████████| 133/133 [04:40<00:00,  2.11s/it]\n"
     ]
    }
   ],
   "source": [
    "#\n",
    "# This LLM is used to generare qa dataset\n",
    "#\n",
    "llm = MistralAI(\n",
    "    api_key=MISTRAL_API_KEY,\n",
    "    model=\"mistral-small\",\n",
    "    temperature=0.2,\n",
    "    max_tokens=1024,\n",
    ")\n",
    "\n",
    "qa_dataset = generate_question_context_pairs(\n",
    "    nodes,\n",
    "    llm=llm,\n",
    "    num_questions_per_chunk=2,\n",
    "    qa_generate_prompt_tmpl=qa_generate_prompt_tmpl,\n",
    ")"
   ]
  },
  {
   "cell_type": "code",
   "execution_count": 8,
   "id": "af359200-fbc7-4ed9-a875-cc38725a8273",
   "metadata": {},
   "outputs": [],
   "source": [
    "# filter out pairs with phrases `Here are 2 questions based on provided context`\n",
    "qa_dataset = filter_qa_dataset(qa_dataset)"
   ]
  },
  {
   "cell_type": "code",
   "execution_count": 9,
   "id": "e7ba282e-ab98-482d-9013-e6102b7d7f3a",
   "metadata": {},
   "outputs": [],
   "source": [
    "qa_dataset.save_json(\"qa_dataset.json\")"
   ]
  },
  {
   "cell_type": "code",
   "execution_count": 10,
   "id": "959aa63e-bf53-4c0e-a544-0f13e90c7674",
   "metadata": {},
   "outputs": [],
   "source": [
    "# reload dataset\n",
    "qa_dataset = EmbeddingQAFinetuneDataset.from_json(\"qa_dataset.json\")"
   ]
  },
  {
   "cell_type": "code",
   "execution_count": 11,
   "id": "4a99cd51-4dc5-4298-905d-278ce5d19eaa",
   "metadata": {},
   "outputs": [
    {
     "data": {
      "text/plain": [
       "266"
      ]
     },
     "execution_count": 11,
     "metadata": {},
     "output_type": "execute_result"
    }
   ],
   "source": [
    "# how many queries\n",
    "queries = qa_dataset.queries.values()\n",
    "\n",
    "len(queries)"
   ]
  },
  {
   "cell_type": "code",
   "execution_count": 12,
   "id": "f6a1ad22-6e43-45cc-91ea-ca4d6d4ca739",
   "metadata": {},
   "outputs": [
    {
     "name": "stdout",
     "output_type": "stream",
     "text": [
      "Explain the concept of an Oracle database and its components, including the difference between a database and a database instance.\n"
     ]
    }
   ],
   "source": [
    "print(list(queries)[10])"
   ]
  },
  {
   "cell_type": "code",
   "execution_count": 13,
   "id": "26722cb2-5f5d-4a4b-9d3b-75f4ec74d235",
   "metadata": {},
   "outputs": [
    {
     "name": "stderr",
     "output_type": "stream",
     "text": [
      "2024-01-04 10:09:26,686 - INFO - Created OCI reranker client...\n",
      "2024-01-04 10:09:26,686 - INFO - Region: eu-frankfurt-1...\n",
      "2024-01-04 10:09:26,687 - INFO - Deployment id: ocid1.datasciencemodeldeployment.oc1.eu-frankfurt-1.amaaaaaangencdyaulxbosgii6yajt2jdsrrvfbequkxt3mepz675uk3ui3q...\n",
      "2024-01-04 10:09:26,687 - INFO - \n"
     ]
    }
   ],
   "source": [
    "# to add OCI\n",
    "# this is the ID of the Model deployment\n",
    "ID = RERANKER_ID\n",
    "\n",
    "oci_config = load_oci_config()\n",
    "\n",
    "# need to do this way\n",
    "api_keys_config = ads.auth.api_keys(oci_config, client_kwargs={\"timeout\": 6000})\n",
    "\n",
    "baai_reranker = OCIBAAIReranker(\n",
    "    auth=api_keys_config, deployment_id=ID, region=\"eu-frankfurt-1\"\n",
    ")"
   ]
  },
  {
   "cell_type": "code",
   "execution_count": 14,
   "id": "fb777354-bba7-4ca7-9520-dec8b54e39ba",
   "metadata": {},
   "outputs": [],
   "source": [
    "TOP_N = 4\n",
    "TOP_K = 6\n",
    "\n",
    "EMBEDDINGS = {\n",
    "    \"OCICohereV3\": GenerativeAIEmbeddings(\n",
    "        compartment_id=COMPARTMENT_OCID,\n",
    "        model=EMBED_MODEL,\n",
    "        auth=api_keys_config,\n",
    "        # Optionally you can specify keyword arguments for the OCI client\n",
    "        # e.g. service_endpoint.\n",
    "        client_kwargs={\"service_endpoint\": ENDPOINT},\n",
    "    )\n",
    "}\n",
    "\n",
    "RERANKERS = {\n",
    "    \"NO Reranker\": \"None\",\n",
    "    \"CohereRerank\": CohereRerank(api_key=COHERE_API_KEY, top_n=TOP_N),\n",
    "    \"OCIBAAReranker\": OCILLamaReranker(oci_reranker=baai_reranker, top_n=TOP_N),\n",
    "}"
   ]
  },
  {
   "cell_type": "code",
   "execution_count": 15,
   "id": "bf1065cb-6019-4451-b889-1203fe7d6c1c",
   "metadata": {},
   "outputs": [],
   "source": [
    "# taken from: https://docs.llamaindex.ai/en/stable/examples/evaluation/retrieval/retriever_eval.html\n",
    "\n",
    "\n",
    "def display_results(embedding_name, reranker_name, eval_results):\n",
    "    \"\"\"Display results from evaluate.\"\"\"\n",
    "\n",
    "    metric_dicts = []\n",
    "    for eval_result in eval_results:\n",
    "        metric_dict = eval_result.metric_vals_dict\n",
    "        metric_dicts.append(metric_dict)\n",
    "\n",
    "    full_df = pd.DataFrame(metric_dicts)\n",
    "\n",
    "    hit_rate = full_df[\"hit_rate\"].mean()\n",
    "    mrr = full_df[\"mrr\"].mean()\n",
    "\n",
    "    metric_df = pd.DataFrame(\n",
    "        {\n",
    "            \"Embedding\": [embedding_name],\n",
    "            \"Reranker\": [reranker_name],\n",
    "            \"hit_rate\": [hit_rate],\n",
    "            \"mrr\": [mrr],\n",
    "        }\n",
    "    )\n",
    "\n",
    "    return metric_df"
   ]
  },
  {
   "cell_type": "code",
   "execution_count": 16,
   "id": "366bfd60-c9b2-4ce2-8d9a-eb59b1d10d1e",
   "metadata": {},
   "outputs": [],
   "source": [
    "class CustomRetriever(BaseRetriever):\n",
    "    \"\"\"Custom retriever that adds a reranker\"\"\"\n",
    "\n",
    "    def __init__(self, vector_retriever: VectorIndexRetriever, reranker=None) -> None:\n",
    "        \"\"\"Init params.\"\"\"\n",
    "\n",
    "        self._vector_retriever = vector_retriever\n",
    "        self.reranker = reranker\n",
    "\n",
    "    def _retrieve(self, query_bundle: QueryBundle) -> List[NodeWithScore]:\n",
    "        \"\"\"Retrieve nodes given query.\"\"\"\n",
    "\n",
    "        retrieved_nodes = self._vector_retriever.retrieve(query_bundle)\n",
    "\n",
    "        if reranker != \"None\":\n",
    "            retrieved_nodes = self.reranker.postprocess_nodes(\n",
    "                retrieved_nodes, query_bundle\n",
    "            )\n",
    "        else:\n",
    "            retrieved_nodes = retrieved_nodes[:TOP_N]\n",
    "\n",
    "        return retrieved_nodes\n",
    "\n",
    "    async def _aretrieve(self, query_bundle: QueryBundle) -> List[NodeWithScore]:\n",
    "        \"\"\"Asynchronously retrieve nodes given query.\n",
    "\n",
    "        Implemented by the user.\n",
    "\n",
    "        \"\"\"\n",
    "        return self._retrieve(query_bundle)\n",
    "\n",
    "    async def aretrieve(self, str_or_query_bundle: QueryType) -> List[NodeWithScore]:\n",
    "        if isinstance(str_or_query_bundle, str):\n",
    "            str_or_query_bundle = QueryBundle(str_or_query_bundle)\n",
    "        return await self._aretrieve(str_or_query_bundle)"
   ]
  },
  {
   "cell_type": "code",
   "execution_count": 17,
   "id": "0f7afb66-a84c-4f01-ba22-8dc9094910df",
   "metadata": {},
   "outputs": [
    {
     "name": "stdout",
     "output_type": "stream",
     "text": [
      "LLM is explicitly disabled. Using MockLLM.\n",
      "Running Evaluation for Embedding Model: OCICohereV3 and Reranker: NO Reranker\n"
     ]
    },
    {
     "name": "stderr",
     "output_type": "stream",
     "text": [
      "100%|████████████████████████████████████████████████████████████████████| 266/266 [00:45<00:00,  5.88it/s]\n"
     ]
    },
    {
     "name": "stdout",
     "output_type": "stream",
     "text": [
      "Running Evaluation for Embedding Model: OCICohereV3 and Reranker: CohereRerank\n"
     ]
    },
    {
     "name": "stderr",
     "output_type": "stream",
     "text": [
      "100%|████████████████████████████████████████████████████████████████████| 266/266 [02:26<00:00,  1.81it/s]\n"
     ]
    },
    {
     "name": "stdout",
     "output_type": "stream",
     "text": [
      "Running Evaluation for Embedding Model: OCICohereV3 and Reranker: OCIBAAReranker\n"
     ]
    },
    {
     "name": "stderr",
     "output_type": "stream",
     "text": [
      "100%|████████████████████████████████████████████████████████████████████| 266/266 [02:13<00:00,  2.00it/s]\n"
     ]
    }
   ],
   "source": [
    "results_df = pd.DataFrame()\n",
    "\n",
    "# Loop over embeddings\n",
    "for embed_name, embed_model in EMBEDDINGS.items():\n",
    "    service_context = ServiceContext.from_defaults(llm=None, embed_model=embed_model)\n",
    "\n",
    "    # base vector index to which we will add reranking\n",
    "    vector_index = VectorStoreIndex(nodes, service_context=service_context)\n",
    "    vector_retriever = VectorIndexRetriever(\n",
    "        index=vector_index, similarity_top_k=TOP_K, service_context=service_context\n",
    "    )\n",
    "\n",
    "    # Loop over rerankers\n",
    "    for rerank_name, reranker in RERANKERS.items():\n",
    "        print(\n",
    "            f\"Running Evaluation for Embedding Model: {embed_name} and Reranker: {rerank_name}\"\n",
    "        )\n",
    "\n",
    "        # Define Retriever\n",
    "        custom_retriever = CustomRetriever(vector_retriever, reranker)\n",
    "\n",
    "        metrics = [\"mrr\", \"hit_rate\"]\n",
    "\n",
    "        retriever_evaluator = RetrieverEvaluator.from_metric_names(\n",
    "            metrics, retriever=custom_retriever\n",
    "        )\n",
    "        # here we do the evaluation on the dataset\n",
    "        eval_results = await retriever_evaluator.aevaluate_dataset(\n",
    "            qa_dataset, show_progress=True\n",
    "        )\n",
    "\n",
    "        current_df = display_results(embed_name, rerank_name, eval_results)\n",
    "        # concat to overall\n",
    "        results_df = pd.concat([results_df, current_df], ignore_index=True)"
   ]
  },
  {
   "cell_type": "code",
   "execution_count": 18,
   "id": "a25ce9ac-1e87-4b03-9ca5-daeb50e03d19",
   "metadata": {},
   "outputs": [
    {
     "data": {
      "text/html": [
       "<div>\n",
       "<style scoped>\n",
       "    .dataframe tbody tr th:only-of-type {\n",
       "        vertical-align: middle;\n",
       "    }\n",
       "\n",
       "    .dataframe tbody tr th {\n",
       "        vertical-align: top;\n",
       "    }\n",
       "\n",
       "    .dataframe thead th {\n",
       "        text-align: right;\n",
       "    }\n",
       "</style>\n",
       "<table border=\"1\" class=\"dataframe\">\n",
       "  <thead>\n",
       "    <tr style=\"text-align: right;\">\n",
       "      <th></th>\n",
       "      <th>Embedding</th>\n",
       "      <th>Reranker</th>\n",
       "      <th>hit_rate</th>\n",
       "      <th>mrr</th>\n",
       "    </tr>\n",
       "  </thead>\n",
       "  <tbody>\n",
       "    <tr>\n",
       "      <th>0</th>\n",
       "      <td>OCICohereV3</td>\n",
       "      <td>NO Reranker</td>\n",
       "      <td>0.860902</td>\n",
       "      <td>0.685150</td>\n",
       "    </tr>\n",
       "    <tr>\n",
       "      <th>1</th>\n",
       "      <td>OCICohereV3</td>\n",
       "      <td>CohereRerank</td>\n",
       "      <td>0.921053</td>\n",
       "      <td>0.800439</td>\n",
       "    </tr>\n",
       "    <tr>\n",
       "      <th>2</th>\n",
       "      <td>OCICohereV3</td>\n",
       "      <td>OCIBAAReranker</td>\n",
       "      <td>0.917293</td>\n",
       "      <td>0.784148</td>\n",
       "    </tr>\n",
       "  </tbody>\n",
       "</table>\n",
       "</div>"
      ],
      "text/plain": [
       "     Embedding        Reranker  hit_rate       mrr\n",
       "0  OCICohereV3     NO Reranker  0.860902  0.685150\n",
       "1  OCICohereV3    CohereRerank  0.921053  0.800439\n",
       "2  OCICohereV3  OCIBAAReranker  0.917293  0.784148"
      ]
     },
     "execution_count": 18,
     "metadata": {},
     "output_type": "execute_result"
    }
   ],
   "source": [
    "results_df"
   ]
  },
  {
   "cell_type": "code",
   "execution_count": 19,
   "id": "7172dd05-5ea1-47f0-a526-c8565fc61bc9",
   "metadata": {},
   "outputs": [],
   "source": [
    "results_df.to_csv(\"evaluate_reranker.csv\")"
   ]
  },
  {
   "cell_type": "code",
   "execution_count": null,
   "id": "7e7084a4-fcc6-4ea3-ac1c-a73f57e1ac62",
   "metadata": {},
   "outputs": [],
   "source": []
  }
 ],
 "metadata": {
  "kernelspec": {
   "display_name": "Python 3 (ipykernel)",
   "language": "python",
   "name": "python3"
  },
  "language_info": {
   "codemirror_mode": {
    "name": "ipython",
    "version": 3
   },
   "file_extension": ".py",
   "mimetype": "text/x-python",
   "name": "python",
   "nbconvert_exporter": "python",
   "pygments_lexer": "ipython3",
   "version": "3.9.0"
  }
 },
 "nbformat": 4,
 "nbformat_minor": 5
}
