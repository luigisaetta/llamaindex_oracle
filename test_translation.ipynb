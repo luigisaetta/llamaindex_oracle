{
 "cells": [
  {
   "cell_type": "code",
   "execution_count": 1,
   "id": "e5df2f9b-c635-4b37-a3fa-5229629d395d",
   "metadata": {},
   "outputs": [],
   "source": [
    "import oci"
   ]
  },
  {
   "cell_type": "code",
   "execution_count": 6,
   "id": "b446c88b-4358-4883-a87e-6268e3dd560f",
   "metadata": {},
   "outputs": [],
   "source": [
    "from config_private import COMPARTMENT_OCID"
   ]
  },
  {
   "cell_type": "code",
   "execution_count": 7,
   "id": "a0a37454-12ee-41b0-91f0-5f57b8da1019",
   "metadata": {},
   "outputs": [],
   "source": [
    "def load_oci_config():\n",
    "    # read OCI config to connect to OCI with API key\n",
    "\n",
    "    # are you using default profile?\n",
    "    oci_config = oci.config.from_file(\"~/.oci/config\", \"DEFAULT\")\n",
    "\n",
    "    return oci_config"
   ]
  },
  {
   "cell_type": "code",
   "execution_count": 8,
   "id": "27b740f0-f9a9-4d72-9e2f-c4ca2478cc87",
   "metadata": {},
   "outputs": [],
   "source": [
    "oci_config = load_oci_config()"
   ]
  },
  {
   "cell_type": "code",
   "execution_count": 9,
   "id": "99bcc7f8-d22e-4ece-a51e-808574a49159",
   "metadata": {},
   "outputs": [],
   "source": [
    "ai_client = oci.ai_language.AIServiceLanguageClient(oci_config)"
   ]
  },
  {
   "cell_type": "code",
   "execution_count": 10,
   "id": "94724959-2b9b-4a0a-aeb1-d7d03ec1613b",
   "metadata": {},
   "outputs": [
    {
     "name": "stdout",
     "output_type": "stream",
     "text": [
      "{\n",
      "  \"documents\": [\n",
      "    {\n",
      "      \"key\": \"doc1\",\n",
      "      \"source_language_code\": \"en\",\n",
      "      \"target_language_code\": \"it\",\n",
      "      \"translated_text\": \"Indy Autonomous Challenge \\u00e8 la prima gara autonoma ad alta velocit\\u00e0 al mondo che si svolge all'Indianapolis Motor Speedway\"\n",
      "    },\n",
      "    {\n",
      "      \"key\": \"doc2\",\n",
      "      \"source_language_code\": \"en\",\n",
      "      \"target_language_code\": \"it\",\n",
      "      \"translated_text\": \"OCI sar\\u00e0 il motore cloud per i modelli di intelligenza artificiale che guidano le auto Driverless del MIT.\"\n",
      "    }\n",
      "  ],\n",
      "  \"errors\": []\n",
      "}\n"
     ]
    }
   ],
   "source": [
    "key1 = \"doc1\"\n",
    "key2 = \"doc2\"\n",
    "text1 = \"The Indy Autonomous Challenge is the worlds first head-to-head, high speed autonomous race taking place at the Indianapolis Motor Speedway\"\n",
    "text2 = \"OCI will be the cloud engine for the artificial intelligence models that drive the MIT Driverless cars.\"\n",
    "target_language = \"it\"  # TODO specify the target language\n",
    "compartment_id = COMPARTMENT_OCID\n",
    "\n",
    "doc1 = oci.ai_language.models.TextDocument(key=key1, text=text1, language_code=\"en\")\n",
    "doc2 = oci.ai_language.models.TextDocument(key=key2, text=text2, language_code=\"en\")\n",
    "documents = [doc1, doc2]\n",
    "\n",
    "\n",
    "batch_language_translation_details = (\n",
    "    oci.ai_language.models.BatchLanguageTranslationDetails(\n",
    "        documents=documents,\n",
    "        compartment_id=compartment_id,\n",
    "        target_language_code=target_language,\n",
    "    )\n",
    ")\n",
    "output = ai_client.batch_language_translation(batch_language_translation_details)\n",
    "print(output.data)"
   ]
  },
  {
   "cell_type": "code",
   "execution_count": null,
   "id": "7b2dfba2-09c8-48a4-9f83-8c965337b683",
   "metadata": {},
   "outputs": [],
   "source": []
  }
 ],
 "metadata": {
  "kernelspec": {
   "display_name": "Python 3 (ipykernel)",
   "language": "python",
   "name": "python3"
  },
  "language_info": {
   "codemirror_mode": {
    "name": "ipython",
    "version": 3
   },
   "file_extension": ".py",
   "mimetype": "text/x-python",
   "name": "python",
   "nbconvert_exporter": "python",
   "pygments_lexer": "ipython3",
   "version": "3.9.0"
  }
 },
 "nbformat": 4,
 "nbformat_minor": 5
}
