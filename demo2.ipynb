{
 "cells": [
  {
   "cell_type": "code",
   "execution_count": 1,
   "id": "e038a38d-a638-49ff-8648-20033259762e",
   "metadata": {},
   "outputs": [],
   "source": [
    "import logging\n",
    "import sys\n",
    "\n",
    "from typing import List, Any, Optional, Dict, Tuple\n",
    "from llama_index.vector_stores.types import (\n",
    "    VectorStore,\n",
    "    VectorStoreQuery,\n",
    "    VectorStoreQueryResult,\n",
    ")\n",
    "from llama_index import StorageContext, VectorStoreIndex, ServiceContext\n",
    "from llama_index.schema import TextNode, BaseNode, Document\n",
    "from llama_index import SimpleDirectoryReader\n",
    "\n",
    "import oci\n",
    "import ads\n",
    "from ads.llm import GenerativeAIEmbeddings, GenerativeAI\n",
    "import oracledb\n",
    "\n",
    "from config import INPUT_FILES\n",
    "from config_private import COMPARTMENT_OCID, ENDPOINT\n",
    "\n",
    "from oci_utils import load_oci_config\n",
    "\n",
    "#this is the class realized for the integration with Llama-index\n",
    "from oracle_vector_db import OracleVectorStore"
   ]
  },
  {
   "cell_type": "code",
   "execution_count": 2,
   "id": "2b097ece-da4e-400f-87c4-91aaa90472ae",
   "metadata": {},
   "outputs": [],
   "source": [
    "# setup\n",
    "oci_config = load_oci_config()\n",
    "\n",
    "# need to do this way\n",
    "api_keys_config = ads.auth.api_keys(oci_config)\n",
    "\n",
    "# english, or for other language use: multilingual\n",
    "MODEL_NAME = \"cohere.embed-english-v3.0\"\n",
    "\n",
    "embed_model = GenerativeAIEmbeddings(\n",
    "    compartment_id=COMPARTMENT_OCID,\n",
    "    model=MODEL_NAME,\n",
    "    auth=ads.auth.api_keys(oci_config),\n",
    "    # Optionally you can specify keyword arguments for the OCI client, e.g. service_endpoint.\n",
    "    client_kwargs={\n",
    "        \"service_endpoint\": ENDPOINT\n",
    "    },\n",
    ")"
   ]
  },
  {
   "cell_type": "code",
   "execution_count": 3,
   "id": "e08baa41-eb9a-4c1d-a464-52a1baec2f97",
   "metadata": {},
   "outputs": [],
   "source": [
    "pages = SimpleDirectoryReader(input_files=INPUT_FILES).load_data()"
   ]
  },
  {
   "cell_type": "code",
   "execution_count": 4,
   "id": "56bf5ae6-428a-4aa9-a001-55509a8d5da2",
   "metadata": {},
   "outputs": [
    {
     "data": {
      "text/plain": [
       "890"
      ]
     },
     "execution_count": 4,
     "metadata": {},
     "output_type": "execute_result"
    }
   ],
   "source": [
    "len(pages)"
   ]
  },
  {
   "cell_type": "code",
   "execution_count": 5,
   "id": "47275ae6-8393-4039-a05e-3fb199a0bfc5",
   "metadata": {},
   "outputs": [],
   "source": [
    "v_store = OracleVectorStore(verbose=False)"
   ]
  },
  {
   "cell_type": "code",
   "execution_count": 6,
   "id": "954d3073-0895-4408-8520-eebd8b48e4e0",
   "metadata": {},
   "outputs": [],
   "source": [
    "llm_oci = GenerativeAI(\n",
    "    compartment_id=COMPARTMENT_OCID,\n",
    "    max_tokens=1024,\n",
    "    # Optionally you can specify keyword arguments for the OCI client, e.g. service_endpoint.\n",
    "    client_kwargs={\n",
    "        \"service_endpoint\": ENDPOINT\n",
    "    },\n",
    ")"
   ]
  },
  {
   "cell_type": "code",
   "execution_count": 7,
   "id": "a2b384fc-0568-4f78-8321-3b7cef3af9f6",
   "metadata": {},
   "outputs": [],
   "source": [
    "service_context = ServiceContext.from_defaults(llm=llm_oci, embed_model=embed_model)\n",
    "storage_context = StorageContext.from_defaults(vector_store=v_store)"
   ]
  },
  {
   "cell_type": "code",
   "execution_count": 8,
   "id": "978ffd09-9fdc-4f4a-afa9-d42e551eb7c7",
   "metadata": {},
   "outputs": [
    {
     "data": {
      "application/vnd.jupyter.widget-view+json": {
       "model_id": "d1589088343745bcb8ee1b11621f052b",
       "version_major": 2,
       "version_minor": 0
      },
      "text/plain": [
       "Parsing nodes:   0%|          | 0/890 [00:00<?, ?it/s]"
      ]
     },
     "metadata": {},
     "output_type": "display_data"
    },
    {
     "data": {
      "application/vnd.jupyter.widget-view+json": {
       "model_id": "ab78b546d7544703b7263902e87821c9",
       "version_major": 2,
       "version_minor": 0
      },
      "text/plain": [
       "Generating embeddings:   0%|          | 0/894 [00:00<?, ?it/s]"
      ]
     },
     "metadata": {},
     "output_type": "display_data"
    }
   ],
   "source": [
    "index = VectorStoreIndex.from_documents(pages,\n",
    "    storage_context=storage_context,\n",
    "    service_context=service_context,\n",
    "    show_progress=True\n",
    ")"
   ]
  },
  {
   "cell_type": "code",
   "execution_count": null,
   "id": "84df1697-047a-4365-a0f6-ebd29a0b5c24",
   "metadata": {},
   "outputs": [],
   "source": [
    "# before query, we need this\n",
    "index.vector_store.persist()"
   ]
  },
  {
   "cell_type": "code",
   "execution_count": 9,
   "id": "9b483ec9-3e97-461f-90c6-5623e679eba3",
   "metadata": {},
   "outputs": [],
   "source": [
    "query_engine = index.as_query_engine(similarity_top_k=5)"
   ]
  },
  {
   "cell_type": "code",
   "execution_count": null,
   "id": "43e30a23-b91d-46e2-9162-f78afaded820",
   "metadata": {},
   "outputs": [],
   "source": [
    "%%time\n",
    "\n",
    "question = \"Write an email where you list new feature in Oracle Database 23c regarding JSON\"\n",
    "\n",
    "response = query_engine.query(question)\n",
    "\n",
    "print(f\"Question: {question}\") \n",
    "print(response.response)\n",
    "print(\"\")"
   ]
  },
  {
   "cell_type": "code",
   "execution_count": null,
   "id": "4bc78a1e-fc40-4543-8064-c98a58dc1038",
   "metadata": {},
   "outputs": [],
   "source": []
  }
 ],
 "metadata": {
  "kernelspec": {
   "display_name": "Python 3 (ipykernel)",
   "language": "python",
   "name": "python3"
  },
  "language_info": {
   "codemirror_mode": {
    "name": "ipython",
    "version": 3
   },
   "file_extension": ".py",
   "mimetype": "text/x-python",
   "name": "python",
   "nbconvert_exporter": "python",
   "pygments_lexer": "ipython3",
   "version": "3.9.0"
  }
 },
 "nbformat": 4,
 "nbformat_minor": 5
}
